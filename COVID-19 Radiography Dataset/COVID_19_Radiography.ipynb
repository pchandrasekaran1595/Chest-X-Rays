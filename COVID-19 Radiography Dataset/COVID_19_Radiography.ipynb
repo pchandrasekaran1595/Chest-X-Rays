{
  "nbformat": 4,
  "nbformat_minor": 0,
  "metadata": {
    "colab": {
      "name": "COVID-19 Radiography",
      "provenance": [],
      "collapsed_sections": [],
      "authorship_tag": "ABX9TyOlbrkasAtQCQZdFuZw2LQa",
      "include_colab_link": true
    },
    "kernelspec": {
      "name": "python3",
      "display_name": "Python 3"
    },
    "accelerator": "GPU"
  },
  "cells": [
    {
      "cell_type": "markdown",
      "metadata": {
        "id": "view-in-github",
        "colab_type": "text"
      },
      "source": [
        "<a href=\"https://colab.research.google.com/github/pchandrasekaran1595/Kaggles/blob/main/COVID_19_Radiography.ipynb\" target=\"_parent\"><img src=\"https://colab.research.google.com/assets/colab-badge.svg\" alt=\"Open In Colab\"/></a>"
      ]
    },
    {
      "cell_type": "markdown",
      "metadata": {
        "id": "RKkhq-x778Sb"
      },
      "source": [
        "# Setup"
      ]
    },
    {
      "cell_type": "code",
      "metadata": {
        "colab": {
          "resources": {
            "http://localhost:8080/nbextensions/google.colab/files.js": {
              "data": "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",
              "ok": true,
              "headers": [
                [
                  "content-type",
                  "application/javascript"
                ]
              ],
              "status": 200,
              "status_text": ""
            }
          },
          "base_uri": "https://localhost:8080/",
          "height": 143
        },
        "id": "GL1icv6mtnBq",
        "outputId": "c3ee9e2f-05dd-49fb-e896-473e9d644b19"
      },
      "source": [
        "from google.colab import files\r\n",
        "files.upload()\r\n",
        "\r\n",
        "!pip install -q kaggle\r\n",
        "!mkdir -p ~/.kaggle\r\n",
        "!cp kaggle.json ~/.kaggle/\r\n",
        "!ls ~/.kaggle\r\n",
        "!chmod 600 /root/.kaggle/kaggle.json\r\n",
        "\r\n",
        "!kaggle datasets download -d tawsifurrahman/covid19-radiography-database\r\n",
        "\r\n",
        "!mkdir ~/.data\r\n",
        "!unzip -q covid19-radiography-database.zip -d /.data"
      ],
      "execution_count": null,
      "outputs": [
        {
          "output_type": "display_data",
          "data": {
            "text/html": [
              "\n",
              "     <input type=\"file\" id=\"files-220cb478-e419-486c-a1f9-29f3f8d183ca\" name=\"files[]\" multiple disabled\n",
              "        style=\"border:none\" />\n",
              "     <output id=\"result-220cb478-e419-486c-a1f9-29f3f8d183ca\">\n",
              "      Upload widget is only available when the cell has been executed in the\n",
              "      current browser session. Please rerun this cell to enable.\n",
              "      </output>\n",
              "      <script src=\"/nbextensions/google.colab/files.js\"></script> "
            ],
            "text/plain": [
              "<IPython.core.display.HTML object>"
            ]
          },
          "metadata": {
            "tags": []
          }
        },
        {
          "output_type": "stream",
          "text": [
            "Saving kaggle.json to kaggle.json\n",
            "kaggle.json\n",
            "Downloading covid19-radiography-database.zip to /content\n",
            "100% 1.14G/1.14G [00:11<00:00, 118MB/s] \n",
            "100% 1.14G/1.14G [00:11<00:00, 107MB/s]\n"
          ],
          "name": "stdout"
        }
      ]
    },
    {
      "cell_type": "code",
      "metadata": {
        "id": "cZKk-L-oxGLX"
      },
      "source": [
        "import os\r\n",
        "\r\n",
        "root_dir = \"/.data/COVID-19 Radiography Database\"\r\n",
        "\r\n",
        "normal_dir = os.path.join(root_dir, \"NORMAL\")\r\n",
        "covid_dir  = os.path.join(root_dir, \"COVID\")\r\n",
        "pnemon_dir = os.path.join(root_dir, \"Viral Pneumonia\")  "
      ],
      "execution_count": null,
      "outputs": []
    },
    {
      "cell_type": "code",
      "metadata": {
        "id": "c7VooQADxPeB"
      },
      "source": [
        "import pandas as pd\r\n",
        "import numpy as np\r\n",
        "import cv2\r\n",
        "import matplotlib.pyplot as plt\r\n",
        "\r\n",
        "import torch, torchvision\r\n",
        "from torch import nn, optim\r\n",
        "from torchvision import models, transforms\r\n",
        "from torch.utils.data import DataLoader as DL\r\n",
        "from torch.utils.data import Dataset\r\n",
        "from torch.nn.utils import weight_norm as WN\r\n",
        "import torch.nn.functional as F\r\n",
        "\r\n",
        "from sklearn.model_selection import train_test_split\r\n",
        "from sklearn.metrics import accuracy_score\r\n",
        "\r\n",
        "from time import time\r\n",
        "import random as r\r\n",
        "import gc\r\n",
        "\r\n",
        "seed = 42"
      ],
      "execution_count": null,
      "outputs": []
    },
    {
      "cell_type": "code",
      "metadata": {
        "id": "4nPaoSlvygBo"
      },
      "source": [
        "def breaker():\r\n",
        "    print(\"\\n\" + 50*\"-\" + \"\\n\")\r\n",
        "\r\n",
        "def head(x=None, no_of_ele=5):\r\n",
        "    print(x[:no_of_ele])\r\n",
        "\r\n",
        "def getFileNames(path):\r\n",
        "    f_names = []\r\n",
        "    for _, _, filenames in os.walk(path):\r\n",
        "        for filename in filenames:\r\n",
        "            f_names.append(filename)\r\n",
        "    return f_names\r\n",
        "\r\n",
        "def getImages(path=None, filenames=None, size=None, color=False):\r\n",
        "    images = []\r\n",
        "    for name in filenames:\r\n",
        "        try:\r\n",
        "            if not color:\r\n",
        "                image = cv2.imread(os.path.join(path, name), cv2.IMREAD_GRAYSCALE)\r\n",
        "            else:\r\n",
        "                image = cv2.imread(os.path.join(path, name), cv2.IMREAD_COLOR)\r\n",
        "        except e:\r\n",
        "            print(e)\r\n",
        "\r\n",
        "        if size:\r\n",
        "            image = cv2.resize(src=image, dsize=(size, size), interpolation=cv2.INTER_LANCZOS4)\r\n",
        "        \r\n",
        "        if not color:\r\n",
        "            images.append(image.reshape(size, size, 1))\r\n",
        "        else:\r\n",
        "            images.append(image)\r\n",
        "        \r\n",
        "    return np.array(images)"
      ],
      "execution_count": null,
      "outputs": []
    },
    {
      "cell_type": "markdown",
      "metadata": {
        "id": "amES0Xye8BQG"
      },
      "source": [
        "# Data Processing"
      ]
    },
    {
      "cell_type": "markdown",
      "metadata": {
        "id": "Hjka5ZfL8G8-"
      },
      "source": [
        "**Data Input**"
      ]
    },
    {
      "cell_type": "code",
      "metadata": {
        "colab": {
          "base_uri": "https://localhost:8080/"
        },
        "id": "tP4ayepczqPP",
        "outputId": "2a4d9109-a068-42c6-af70-7954838d8c7f"
      },
      "source": [
        "start_time = time()\r\n",
        "\r\n",
        "cov_filenames = getFileNames(covid_dir)\r\n",
        "nor_filenames = getFileNames(normal_dir)\r\n",
        "pne_filenames = getFileNames(pnemon_dir)\r\n",
        "\r\n",
        "size = 256\r\n",
        "\r\n",
        "cov_images = getImages(path=covid_dir, filenames=cov_filenames, size=size, color=False)\r\n",
        "nor_images = getImages(path=normal_dir, filenames=nor_filenames, size=size, color=False)\r\n",
        "pne_images = getImages(path=pnemon_dir, filenames=pne_filenames, size=size, color=False)\r\n",
        "\r\n",
        "images = np.concatenate((cov_images, nor_images, pne_images), axis=0)\r\n",
        "labels = np.concatenate((np.ones((cov_images.shape[0], 1)) * 0, \r\n",
        "                         np.ones((nor_images.shape[0], 1)) * 1, \r\n",
        "                         np.ones((pne_images.shape[0], 1)) * 2), axis=0)\r\n",
        "labels = labels.astype(\"int\")\r\n",
        "\r\n",
        "breaker()\r\n",
        "print(\"Time Taken to process Data : {:.2f} seconds\".format(time() - start_time))\r\n",
        "\r\n",
        "del cov_filenames, nor_filenames, pne_filenames, cov_images, nor_images, pne_images, start_time\r\n",
        "\r\n",
        "breaker()\r\n",
        "print(\"Garbage Collected : {}\".format(gc.collect()))\r\n",
        "breaker()\r\n",
        "\r\n",
        "tr_images, va_images, tr_labels, va_labels = train_test_split(images, labels, \r\n",
        "                                                              test_size=0.2, shuffle=True, random_state=seed, \r\n",
        "                                                              stratify=labels)"
      ],
      "execution_count": null,
      "outputs": [
        {
          "output_type": "stream",
          "text": [
            "\n",
            "--------------------------------------------------\n",
            "\n",
            "Time Taken to process Data : 33.30 seconds\n",
            "\n",
            "--------------------------------------------------\n",
            "\n",
            "Garbage Collected : 0\n",
            "\n",
            "--------------------------------------------------\n",
            "\n"
          ],
          "name": "stdout"
        }
      ]
    },
    {
      "cell_type": "markdown",
      "metadata": {
        "id": "RgVod_gZ8Dka"
      },
      "source": [
        "**Dataset Template**"
      ]
    },
    {
      "cell_type": "code",
      "metadata": {
        "id": "CkS_Z6rN3HhW"
      },
      "source": [
        "class DS(Dataset):\r\n",
        "    def __init__(this, X=None, y=None, transform=None, mode=\"train\"):\r\n",
        "        this.transform = transform\r\n",
        "        this.mode = mode\r\n",
        "        this.X = X\r\n",
        "        if mode == \"train\" or mode == \"valid\":\r\n",
        "            this.y = y\r\n",
        "\r\n",
        "    def __len__(this):\r\n",
        "        return this.X.shape[0]\r\n",
        "\r\n",
        "    def __getitem__(this, idx):\r\n",
        "        img = this.transform(this.X[idx])\r\n",
        "        if this.mode == \"train\" or this.mode == \"valid\":\r\n",
        "            return img, torch.LongTensor(this.y[idx])\r\n",
        "        else:\r\n",
        "            return img"
      ],
      "execution_count": null,
      "outputs": []
    },
    {
      "cell_type": "markdown",
      "metadata": {
        "id": "bB8msb_L8JM2"
      },
      "source": [
        "# CNN Configuration and Setup"
      ]
    },
    {
      "cell_type": "markdown",
      "metadata": {
        "id": "OY9EgeVO8Odp"
      },
      "source": [
        "**Config**"
      ]
    },
    {
      "cell_type": "code",
      "metadata": {
        "id": "IRz-hCsV4xWr"
      },
      "source": [
        "class CFG():\r\n",
        "    tr_batch_size = 64\r\n",
        "    ts_batch_size = 64\r\n",
        "\r\n",
        "    device = torch.device(\"cuda\" if torch.cuda.is_available() else \"cpu\")\r\n",
        "\r\n",
        "    OL = 3\r\n",
        "\r\n",
        "    def __init__(this, in_channels=None, filter_sizes=None, HL=None, AP_size=None, epochs=None, n_folds=None):\r\n",
        "        this.in_channels = in_channels\r\n",
        "        this.filter_sizes = filter_sizes\r\n",
        "        this.HL = HL\r\n",
        "        this.AP_size = AP_size\r\n",
        "        this.epochs = epochs\r\n",
        "        this.n_folds = n_folds"
      ],
      "execution_count": null,
      "outputs": []
    },
    {
      "cell_type": "markdown",
      "metadata": {
        "id": "OKevwQZu8Q9a"
      },
      "source": [
        "**Setup**"
      ]
    },
    {
      "cell_type": "code",
      "metadata": {
        "id": "S_TUP5_r5Qe8"
      },
      "source": [
        "class CNN_8BN(nn.Module):\r\n",
        "    def __init__(this, in_channels=None, filter_sizes=None, HL=None, OL=None, AP_size=None, DP=0.5):\r\n",
        "\r\n",
        "        super(CNN_8BN, this).__init__()\r\n",
        "\r\n",
        "        this.DP_ = nn.Dropout(p=DP)\r\n",
        "        this.AP_ = nn.AdaptiveAvgPool2d(output_size=AP_size)\r\n",
        "        this.MP_ = nn.MaxPool2d(kernel_size=2)\r\n",
        "\r\n",
        "        this.CN1 = nn.Conv2d(in_channels=in_channels, out_channels=filter_sizes[0], kernel_size=3, stride=1, padding=1)\r\n",
        "        this.BN1 = nn.BatchNorm2d(num_features=filter_sizes[0], eps=1e-5)\r\n",
        "\r\n",
        "        this.CN2 = nn.Conv2d(in_channels=filter_sizes[0], out_channels=filter_sizes[1], kernel_size=3, stride=1, padding=1)\r\n",
        "        this.BN2 = nn.BatchNorm2d(num_features=filter_sizes[1], eps=1e-5)\r\n",
        "\r\n",
        "        this.CN3 = nn.Conv2d(in_channels=filter_sizes[1], out_channels=filter_sizes[2], kernel_size=3, stride=1, padding=1)\r\n",
        "        this.BN3 = nn.BatchNorm2d(num_features=filter_sizes[2], eps=1e-5)\r\n",
        "\r\n",
        "        this.CN4 = nn.Conv2d(in_channels=filter_sizes[2], out_channels=filter_sizes[3], kernel_size=3, stride=1, padding=1)\r\n",
        "        this.BN4 = nn.BatchNorm2d(num_features=filter_sizes[3], eps=1e-5)\r\n",
        "\r\n",
        "        this.CN5 = nn.Conv2d(in_channels=filter_sizes[3], out_channels=filter_sizes[3], kernel_size=3, stride=1, padding=1)\r\n",
        "        this.BN5 = nn.BatchNorm2d(num_features=filter_sizes[3], eps=1e-5)\r\n",
        "\r\n",
        "        this.FC1 = nn.Linear(in_features=filter_sizes[3] * (AP_size**2), out_features=HL[0])\r\n",
        "        this.FC2 = nn.Linear(in_features=HL[0], out_features=HL[1])\r\n",
        "        this.FC3 = nn.Linear(in_features=HL[1], out_features=OL)\r\n",
        "    \r\n",
        "    def getOptimizer(this, A_S=True, lr=1e-3, wd=0):\r\n",
        "        if A_S:\r\n",
        "            return optim.Adam(this.parameters(), lr=lr, weight_decay=wd)\r\n",
        "        else:\r\n",
        "            return optim.SGD(this.parameters(), lr=lr, momentum=0.9, weight_decay=wd)\r\n",
        "    \r\n",
        "    def getMultiStepLR(this, optimizer=None, milestones=None, gamma=0.1):\r\n",
        "        return optim.lr_scheduler.MultiStepLR(optimizer=optimizer, milestones=milestones, gamma=gamma)\r\n",
        "\r\n",
        "    def getPlateauLR(this, optimizer=None, patience=5, eps=1e-8):\r\n",
        "        return optim.lr_scheduler.ReduceLROnPlateau(optimizer=optimizer, patience=patience, eps=eps, verbose=True)\r\n",
        "\r\n",
        "    def forward(this, x):\r\n",
        "        x = F.relu(this.MP_(this.BN1(this.CN1(x))))\r\n",
        "        x = F.relu(this.MP_(this.BN2(this.CN2(x))))\r\n",
        "        x = F.relu(this.MP_(this.BN3(this.CN3(x))))\r\n",
        "        x = F.relu(this.MP_(this.BN4(this.CN4(x))))\r\n",
        "        x = F.relu(this.MP_(this.BN5(this.CN5(x))))\r\n",
        "\r\n",
        "        x = this.AP_(x)\r\n",
        "        x = x.view(x.shape[0], -1)\r\n",
        "\r\n",
        "        x = F.relu(this.DP_(this.FC1(x)))\r\n",
        "        x = F.relu(this.DP_(this.FC2(x)))\r\n",
        "        x = F.log_softmax(this.FC3(x), dim=1)\r\n",
        "\r\n",
        "        return x\r\n",
        "\r\n",
        "#########################################################################################################\r\n",
        "\r\n",
        "class CNN_11BN(nn.Module):\r\n",
        "    def __init__(this, in_channels=None, filter_sizes=None, HL=None, OL=None, AP_size=None, DP=0.5):\r\n",
        "\r\n",
        "        super(CNN_11BN, this).__init__()\r\n",
        "\r\n",
        "        this.DP_ = nn.Dropout(p=DP)\r\n",
        "        this.AP_ = nn.AdaptiveAvgPool2d(output_size=AP_size)\r\n",
        "        this.MP_ = nn.MaxPool2d(kernel_size=2)\r\n",
        "\r\n",
        "        this.CN1 = nn.Conv2d(in_channels=in_channels, out_channels=filter_sizes[0], kernel_size=3, stride=1, padding=1)\r\n",
        "        this.BN1 = nn.BatchNorm2d(num_features=filter_sizes[0], eps=1e-5)\r\n",
        "\r\n",
        "        this.CN2 = nn.Conv2d(in_channels=filter_sizes[0], out_channels=filter_sizes[1], kernel_size=3, stride=1, padding=1)\r\n",
        "        this.BN2 = nn.BatchNorm2d(num_features=filter_sizes[1], eps=1e-5)\r\n",
        "\r\n",
        "        this.CN3_1 = nn.Conv2d(in_channels=filter_sizes[1], out_channels=filter_sizes[2], kernel_size=3, stride=1, padding=1)\r\n",
        "        this.BN3_1 = nn.BatchNorm2d(num_features=filter_sizes[2], eps=1e-5)\r\n",
        "        this.CN3_2 = nn.Conv2d(in_channels=filter_sizes[2], out_channels=filter_sizes[2], kernel_size=3, stride=1, padding=1)\r\n",
        "        this.BN3_2 = nn.BatchNorm2d(num_features=filter_sizes[2], eps=1e-5)\r\n",
        "\r\n",
        "        this.CN4_1 = nn.Conv2d(in_channels=filter_sizes[2], out_channels=filter_sizes[3], kernel_size=3, stride=1, padding=1)\r\n",
        "        this.BN4_1 = nn.BatchNorm2d(num_features=filter_sizes[3], eps=1e-5)\r\n",
        "        this.CN4_2 = nn.Conv2d(in_channels=filter_sizes[3], out_channels=filter_sizes[3], kernel_size=3, stride=1, padding=1)\r\n",
        "        this.BN4_2 = nn.BatchNorm2d(num_features=filter_sizes[3], eps=1e-5)\r\n",
        "\r\n",
        "        this.CN5_1 = nn.Conv2d(in_channels=filter_sizes[3], out_channels=filter_sizes[3], kernel_size=3, stride=1, padding=1)\r\n",
        "        this.BN5_1 = nn.BatchNorm2d(num_features=filter_sizes[3], eps=1e-5)\r\n",
        "        this.CN5_2 = nn.Conv2d(in_channels=filter_sizes[3], out_channels=filter_sizes[3], kernel_size=3, stride=1, padding=1)\r\n",
        "        this.BN5_2 = nn.BatchNorm2d(num_features=filter_sizes[3], eps=1e-5)\r\n",
        "\r\n",
        "        this.FC1 = nn.Linear(in_features=filter_sizes[3] * (AP_size**2), out_features=HL[0])\r\n",
        "        this.FC2 = nn.Linear(in_features=HL[0], out_features=HL[1])\r\n",
        "        this.FC3 = nn.Linear(in_features=HL[1], out_features=OL)\r\n",
        "    \r\n",
        "    def getOptimizer(this, A_S=True, lr=1e-3, wd=0):\r\n",
        "        if A_S:\r\n",
        "            return optim.Adam(this.parameters(), lr=lr, weight_decay=wd)\r\n",
        "        else:\r\n",
        "            return optim.SGD(this.parameters(), lr=lr, momentum=0.9, weight_decay=wd)\r\n",
        "    \r\n",
        "    def getMultiStepLR(this, optimizer=None, milestones=None, gamma=0.1):\r\n",
        "        return optim.lr_scheduler.MultiStepLR(optimizer=optimizer, milestones=milestones, gamma=gamma)\r\n",
        "\r\n",
        "    def getPlateauLR(this, optimizer=None, patience=5, eps=1e-8):\r\n",
        "        return optim.lr_scheduler.ReduceLROnPlateau(optimizer=optimizer, patience=patience, eps=eps, verbose=True)\r\n",
        "\r\n",
        "    def forward(this, x):\r\n",
        "        x = F.relu(this.MP_(this.BN1(this.CN1(x))))\r\n",
        "        x = F.relu(this.MP_(this.BN2(this.CN2(x))))\r\n",
        "        x = F.relu(this.MP_(this.BN3_2(this.CN3_2(F.relu(this.BN3_1(this.CN3_1(x)))))))\r\n",
        "        x = F.relu(this.MP_(this.BN4_2(this.CN4_2(F.relu(this.BN4_1(this.CN4_1(x)))))))\r\n",
        "        x = F.relu(this.MP_(this.BN5_2(this.CN5_2(F.relu(this.BN5_1(this.CN5_1(x)))))))\r\n",
        "\r\n",
        "        x = this.AP_(x)\r\n",
        "        x = x.view(x.shape[0], -1)\r\n",
        "\r\n",
        "        x = F.relu(this.DP_(this.FC1(x)))\r\n",
        "        x = F.relu(this.DP_(this.FC2(x)))\r\n",
        "        x = F.log_softmax(this.FC3(x), dim=1)\r\n",
        "\r\n",
        "        return x\r\n",
        "\r\n",
        "#########################################################################################################\r\n",
        "\r\n",
        "class CNN_13BN(nn.Module):\r\n",
        "    def __init__(this, in_channels=None, filter_sizes=None, HL=None, OL=None, AP_size=None, DP=0.5):\r\n",
        "\r\n",
        "        super(CNN_13BN, this).__init__()\r\n",
        "\r\n",
        "        this.DP_ = nn.Dropout(p=DP)\r\n",
        "        this.AP_ = nn.AdaptiveAvgPool2d(output_size=AP_size)\r\n",
        "        this.MP_ = nn.MaxPool2d(kernel_size=2)\r\n",
        "\r\n",
        "        this.CN1_1 = nn.Conv2d(in_channels=in_channels, out_channels=filter_sizes[0], kernel_size=3, stride=1, padding=1)\r\n",
        "        this.BN1_1 = nn.BatchNorm2d(num_features=filter_sizes[0], eps=1e-5)\r\n",
        "        this.CN1_2 = nn.Conv2d(in_channels=filter_sizes[0], out_channels=filter_sizes[0], kernel_size=3, stride=1, padding=1)\r\n",
        "        this.BN1_2 = nn.BatchNorm2d(num_features=filter_sizes[0], eps=1e-5)\r\n",
        "\r\n",
        "        this.CN2_1 = nn.Conv2d(in_channels=filter_sizes[0], out_channels=filter_sizes[1], kernel_size=3, stride=1, padding=1)\r\n",
        "        this.BN2_1 = nn.BatchNorm2d(num_features=filter_sizes[1], eps=1e-5)\r\n",
        "        this.CN2_2 = nn.Conv2d(in_channels=filter_sizes[1], out_channels=filter_sizes[1], kernel_size=3, stride=1, padding=1)\r\n",
        "        this.BN2_2 = nn.BatchNorm2d(num_features=filter_sizes[1], eps=1e-5)\r\n",
        "\r\n",
        "        this.CN3_1 = nn.Conv2d(in_channels=filter_sizes[1], out_channels=filter_sizes[2], kernel_size=3, stride=1, padding=1)\r\n",
        "        this.BN3_1 = nn.BatchNorm2d(num_features=filter_sizes[2], eps=1e-5)\r\n",
        "        this.CN3_2 = nn.Conv2d(in_channels=filter_sizes[2], out_channels=filter_sizes[2], kernel_size=3, stride=1, padding=1)\r\n",
        "        this.BN3_2 = nn.BatchNorm2d(num_features=filter_sizes[2], eps=1e-5)\r\n",
        "\r\n",
        "        this.CN4_1 = nn.Conv2d(in_channels=filter_sizes[2], out_channels=filter_sizes[3], kernel_size=3, stride=1, padding=1)\r\n",
        "        this.BN4_1 = nn.BatchNorm2d(num_features=filter_sizes[3], eps=1e-5)\r\n",
        "        this.CN4_2 = nn.Conv2d(in_channels=filter_sizes[3], out_channels=filter_sizes[3], kernel_size=3, stride=1, padding=1)\r\n",
        "        this.BN4_2 = nn.BatchNorm2d(num_features=filter_sizes[3], eps=1e-5)\r\n",
        "\r\n",
        "        this.CN5_1 = nn.Conv2d(in_channels=filter_sizes[3], out_channels=filter_sizes[3], kernel_size=3, stride=1, padding=1)\r\n",
        "        this.BN5_1 = nn.BatchNorm2d(num_features=filter_sizes[3], eps=1e-5)\r\n",
        "        this.CN5_2 = nn.Conv2d(in_channels=filter_sizes[3], out_channels=filter_sizes[3], kernel_size=3, stride=1, padding=1)\r\n",
        "        this.BN5_2 = nn.BatchNorm2d(num_features=filter_sizes[3], eps=1e-5)\r\n",
        "\r\n",
        "        this.FC1 = nn.Linear(in_features=filter_sizes[3] * (AP_size**2), out_features=HL[0])\r\n",
        "        this.FC2 = nn.Linear(in_features=HL[0], out_features=HL[1])\r\n",
        "        this.FC3 = nn.Linear(in_features=HL[1], out_features=OL)\r\n",
        "    \r\n",
        "    def getOptimizer(this, A_S=True, lr=1e-3, wd=0):\r\n",
        "        if A_S:\r\n",
        "            return optim.Adam(this.parameters(), lr=lr, weight_decay=wd)\r\n",
        "        else:\r\n",
        "            return optim.SGD(this.parameters(), lr=lr, momentum=0.9, weight_decay=wd)\r\n",
        "    \r\n",
        "    def getMultiStepLR(this, optimizer=None, milestones=None, gamma=0.1):\r\n",
        "        return optim.lr_scheduler.MultiStepLR(optimizer=optimizer, milestones=milestones, gamma=gamma)\r\n",
        "\r\n",
        "    def getPlateauLR(this, optimizer=None, patience=5, eps=1e-8):\r\n",
        "        return optim.lr_scheduler.ReduceLROnPlateau(optimizer=optimizer, patience=patience, eps=eps, verbose=True)\r\n",
        "\r\n",
        "    def forward(this, x):\r\n",
        "        x = F.relu(this.MP_(this.BN1_2(this.CN1_2(F.relu(this.BN1_1(this.CN1_1(x)))))))\r\n",
        "        x = F.relu(this.MP_(this.BN2_2(this.CN2_2(F.relu(this.BN2_1(this.CN2_1(x)))))))\r\n",
        "        x = F.relu(this.MP_(this.BN3_2(this.CN3_2(F.relu(this.BN3_1(this.CN3_1(x)))))))\r\n",
        "        x = F.relu(this.MP_(this.BN4_2(this.CN4_2(F.relu(this.BN4_1(this.CN4_1(x)))))))\r\n",
        "        x = F.relu(this.MP_(this.BN5_2(this.CN5_2(F.relu(this.BN5_1(this.CN5_1(x)))))))\r\n",
        "\r\n",
        "        x = this.AP_(x)\r\n",
        "        x = x.view(x.shape[0], -1)\r\n",
        "\r\n",
        "        x = F.relu(this.DP_(this.FC1(x)))\r\n",
        "        x = F.relu(this.DP_(this.FC2(x)))\r\n",
        "        x = F.log_softmax(this.FC3(x), dim=1)\r\n",
        "\r\n",
        "        return x"
      ],
      "execution_count": null,
      "outputs": []
    },
    {
      "cell_type": "markdown",
      "metadata": {
        "id": "dU7Sz5Mq8TeL"
      },
      "source": [
        "**CNN Helpers**"
      ]
    },
    {
      "cell_type": "code",
      "metadata": {
        "id": "Mvrg-XRn74vN"
      },
      "source": [
        "def fit_(model=None, optimizer=None, scheduler=None, epochs=None, early_stopping_patience=None, \r\n",
        "         trainloader=None, validloader=None, criterion=None, device=None, verbose=False, path=None):\r\n",
        "    \r\n",
        "    breaker()\r\n",
        "    print(\"Training ...\")\r\n",
        "    breaker()\r\n",
        "\r\n",
        "    if device:\r\n",
        "        model.to(device)\r\n",
        "\r\n",
        "    Losses = []\r\n",
        "    Accuracies = []\r\n",
        "\r\n",
        "    DLS = {\"train\" : trainloader, \"valid\" : validloader}\r\n",
        "    bestLoss = {\"train\" : np.inf, \"valid\" : np.inf}\r\n",
        "    bestAccs = {\"train\" : 0.0, \"valid\" : 0.0}\r\n",
        "\r\n",
        "    start_time = time()\r\n",
        "    for e in range(epochs):\r\n",
        "        e_st = time()\r\n",
        "\r\n",
        "        epochLoss = {\"train\" : 0.0, \"valid\" : 0.0}\r\n",
        "        epochAccs = {\"train\" : 0.0, \"valid\" : 0.0}\r\n",
        "\r\n",
        "        for phase in [\"train\", \"valid\"]:\r\n",
        "            if phase == \"train\":\r\n",
        "                model.train()\r\n",
        "            else:\r\n",
        "                model.eval()\r\n",
        "\r\n",
        "            lossPerPass = []\r\n",
        "            accsPerPass = []\r\n",
        "\r\n",
        "            for X, y in DLS[phase]:\r\n",
        "                X, y = X.to(device), y.to(device).view(-1)\r\n",
        "\r\n",
        "                optimizer.zero_grad()\r\n",
        "                with torch.set_grad_enabled(phase == \"train\"):\r\n",
        "                    output = model(X)\r\n",
        "                    loss = criterion(output, y)\r\n",
        "                    if phase == \"train\":\r\n",
        "                        loss.backward()\r\n",
        "                        optimizer.step()\r\n",
        "                lossPerPass.append(loss.item())\r\n",
        "                accsPerPass.append(accuracy_score(torch.argmax(torch.exp(output), dim=1).detach().cpu().numpy(), y.detach().cpu().numpy()))\r\n",
        "            epochLoss[phase] = np.mean(np.array(lossPerPass))\r\n",
        "            epochAccs[phase] = np.mean(np.array(accsPerPass))\r\n",
        "        Losses.append(epochLoss)\r\n",
        "        Accuracies.append(epochAccs)\r\n",
        "\r\n",
        "        \"\"\"if early_stopping_patience:\r\n",
        "            if epochLoss[\"valid\"] < bestLoss[\"valid\"]: # or epochAccs[\"valid\"] > bestAccs[\"valid\"]:\r\n",
        "                bestLoss = epochLoss\r\n",
        "                early_stopping_step = 0\r\n",
        "                bestEpoch = e+1\r\n",
        "            else:\r\n",
        "                early_stopping_step += 1\r\n",
        "                if early_stopping_step > early_stopping_patience:\r\n",
        "                    print(\"Early Stopping at Epoch {}\".format(bestEpoch))\"\"\"\r\n",
        "\r\n",
        "        torch.save({\"model_state_dict\" : model.state_dict(),\r\n",
        "                    \"optim_state_dict\" : optimizer.state_dict()},\r\n",
        "                   \"./Epoch_{}.pt\".format(e+1))\r\n",
        "        \r\n",
        "        if epochLoss[\"valid\"] < bestLoss[\"valid\"]:\r\n",
        "            bestLoss = epochLoss\r\n",
        "            bestLossEpoch = e+1\r\n",
        "        \r\n",
        "        if epochAccs[\"valid\"] > bestAccs[\"valid\"]:\r\n",
        "            bestAccs = epochAccs\r\n",
        "            bestAccsEpoch = e+1\r\n",
        "\r\n",
        "        if scheduler:\r\n",
        "            # scheduler.step()\r\n",
        "            scheduler.step(epochLoss[\"valid\"])\r\n",
        "        \r\n",
        "        if verbose:\r\n",
        "            print(\"Epoch: {} | Train Loss: {:.5f} | Valid Loss: {:.5f} | \\\r\n",
        "Train Accuracy: {:.5f} | Valid Accuracy: {:.5f} | Time: {:.2f} seconds\".format(e+1, epochLoss[\"train\"], epochLoss[\"valid\"], \r\n",
        "                                                                               epochAccs[\"train\"], epochAccs[\"valid\"], time()-e_st))\r\n",
        "            \r\n",
        "\r\n",
        "    breaker()\r\n",
        "    print(\"-----> Best Validation Loss at Epoch {}\".format(bestLossEpoch))\r\n",
        "    breaker()\r\n",
        "    print(\"-----> Best Validation Accs at Epoch {}\".format(bestAccsEpoch))\r\n",
        "    breaker()\r\n",
        "    print(\"Time Taken [{} Epochs] : {:.2f} minutes\".format(epochs, (time()-start_time)/60))\r\n",
        "    breaker()\r\n",
        "    print(\"Training Complete\")\r\n",
        "    breaker()\r\n",
        "\r\n",
        "    return Losses, Accuracies, bestLossEpoch, bestAccsEpoch\r\n",
        "\r\n",
        "\r\n",
        "def predict_(model=None, dataloader=None, device=None, path=None):\r\n",
        "    if path:\r\n",
        "        model.load_state_dict(torch.load(path)[\"model_state_dict\"])\r\n",
        "    \r\n",
        "    model.to(device)\r\n",
        "    model.eval()\r\n",
        "\r\n",
        "    y_pred = torch.zeros(1, 1).to(device)\r\n",
        "\r\n",
        "    for X, y in dataloader:\r\n",
        "        X = X.to(device)\r\n",
        "        with torch.no_grad():\r\n",
        "            output = torch.argmax(torch.exp(model(X)), dim=1)\r\n",
        "        y_pred = torch.cat((y_pred, output), dim=0)\r\n",
        "    \r\n",
        "    return y_pred[1:].detach().cpu().numpy().astype(int)"
      ],
      "execution_count": null,
      "outputs": []
    },
    {
      "cell_type": "markdown",
      "metadata": {
        "id": "0yNAV5aA8X6Q"
      },
      "source": [
        "# Training and Evaluation"
      ]
    },
    {
      "cell_type": "code",
      "metadata": {
        "id": "o2d1lFkoO_ww"
      },
      "source": [
        "cfg = CFG(in_channels=1, filter_sizes=[64, 128, 256, 512], HL=[4096, 4096], AP_size=3, epochs=25, n_folds=None)\r\n",
        "\r\n",
        "tr_transform = transforms.Compose([transforms.ToTensor(), ])\r\n",
        "va_transform = transforms.Compose([transforms.ToTensor(), ])\r\n",
        "\r\n",
        "tr_data_setup = DS(X=tr_images, y=tr_labels, transform=tr_transform, mode=\"train\")\r\n",
        "va_data_setup = DS(X=va_images, y=va_labels, transform=va_transform, mode=\"valid\")\r\n",
        "\r\n",
        "tr_data = DL(tr_data_setup, batch_size=cfg.tr_batch_size, shuffle=True, generator=torch.manual_seed(seed))\r\n",
        "va_data = DL(va_data_setup, batch_size=cfg.tr_batch_size, shuffle=False)"
      ],
      "execution_count": null,
      "outputs": []
    },
    {
      "cell_type": "markdown",
      "metadata": {
        "id": "x66zm1Lw8b_l"
      },
      "source": [
        "**Training CNN_8**"
      ]
    },
    {
      "cell_type": "code",
      "metadata": {
        "id": "akPiaXk-SflW",
        "colab": {
          "base_uri": "https://localhost:8080/",
          "height": 1000
        },
        "outputId": "44f96587-4015-438c-ec7b-fe497efb5c67"
      },
      "source": [
        "torch.manual_seed(seed)\r\n",
        "model = CNN_8BN(in_channels=cfg.in_channels, \r\n",
        "                filter_sizes=cfg.filter_sizes, \r\n",
        "                HL=cfg.HL, OL=cfg.OL, \r\n",
        "                AP_size=cfg.AP_size, DP=0.5)\r\n",
        "optimizer = model.getOptimizer(A_S=True, lr=1e-3, wd=0)\r\n",
        "scheduler = model.getPlateauLR(optimizer=optimizer, patience=5, eps=1e-8)\r\n",
        "\r\n",
        "Losses, Accuracies, bestLossEpoch, bestAccsEpoch = fit_(model=model, optimizer=optimizer, scheduler=None, epochs=cfg.epochs,\r\n",
        "                                                        trainloader=tr_data, validloader=va_data,\r\n",
        "                                                        criterion=nn.NLLLoss(), device=cfg.device,\r\n",
        "                                                        verbose=True)\r\n",
        "\r\n",
        "LT = []\r\n",
        "LV = []\r\n",
        "AT = []\r\n",
        "AV = []\r\n",
        "\r\n",
        "for i in range(len(Losses)):\r\n",
        "    LT.append(Losses[i][\"train\"])\r\n",
        "    LV.append(Losses[i][\"valid\"])\r\n",
        "    AT.append(Accuracies[i][\"train\"])\r\n",
        "    AV.append(Accuracies[i][\"valid\"])\r\n",
        "\r\n",
        "plt.figure(figsize=(8, 6))\r\n",
        "plt.plot([i+1 for i in range(len(LT))], LT, \"r\", label=\"Training Loss\")\r\n",
        "plt.plot([i+1 for i in range(len(LV))], LV, \"b--\", label=\"Validation Loss\")\r\n",
        "plt.xlabel(\"Epochs\")\r\n",
        "plt.ylabel(\"Loss\")\r\n",
        "plt.legend()\r\n",
        "plt.grid()\r\n",
        "plt.show()\r\n",
        "\r\n",
        "plt.figure(figsize=(8, 6))\r\n",
        "plt.plot([i+1 for i in range(len(AT))], AT, \"r\", label=\"Training Accuracy\")\r\n",
        "plt.plot([i+1 for i in range(len(AV))], AV, \"b--\", label=\"Validation Accuracy\")\r\n",
        "plt.xlabel(\"Epochs\")\r\n",
        "plt.ylabel(\"Accuracy\")\r\n",
        "plt.legend()\r\n",
        "plt.grid()\r\n",
        "plt.show()\r\n",
        "\r\n",
        "del model\r\n",
        "torch.cuda.empty_cache()\r\n",
        "breaker()\r\n",
        "print(\"Garbage Collected : {}\".format(gc.collect()))\r\n",
        "breaker()"
      ],
      "execution_count": null,
      "outputs": [
        {
          "output_type": "stream",
          "text": [
            "\n",
            "--------------------------------------------------\n",
            "\n",
            "Training ...\n",
            "\n",
            "--------------------------------------------------\n",
            "\n",
            "Epoch: 1 | Train Loss: 1.59143 | Valid Loss: 3.30373 | Train Accuracy: 0.69873 | Valid Accuracy: 0.41538 | Time: 21.81 seconds\n",
            "Epoch: 2 | Train Loss: 0.32635 | Valid Loss: 0.53969 | Train Accuracy: 0.89746 | Valid Accuracy: 0.74183 | Time: 21.65 seconds\n",
            "Epoch: 3 | Train Loss: 0.27601 | Valid Loss: 0.25993 | Train Accuracy: 0.90955 | Valid Accuracy: 0.89760 | Time: 21.90 seconds\n",
            "Epoch: 4 | Train Loss: 0.27791 | Valid Loss: 0.22848 | Train Accuracy: 0.90398 | Valid Accuracy: 0.92139 | Time: 22.45 seconds\n",
            "Epoch: 5 | Train Loss: 0.22516 | Valid Loss: 0.80980 | Train Accuracy: 0.92439 | Valid Accuracy: 0.71370 | Time: 22.53 seconds\n",
            "Epoch: 6 | Train Loss: 0.21124 | Valid Loss: 0.13928 | Train Accuracy: 0.93165 | Valid Accuracy: 0.95072 | Time: 22.71 seconds\n",
            "Epoch: 7 | Train Loss: 0.17615 | Valid Loss: 0.15017 | Train Accuracy: 0.93651 | Valid Accuracy: 0.95433 | Time: 22.70 seconds\n",
            "Epoch: 8 | Train Loss: 0.16946 | Valid Loss: 0.25838 | Train Accuracy: 0.93917 | Valid Accuracy: 0.86466 | Time: 22.68 seconds\n",
            "Epoch: 9 | Train Loss: 0.16117 | Valid Loss: 0.34744 | Train Accuracy: 0.94235 | Valid Accuracy: 0.81947 | Time: 22.83 seconds\n",
            "Epoch: 10 | Train Loss: 0.14164 | Valid Loss: 0.14993 | Train Accuracy: 0.95295 | Valid Accuracy: 0.92620 | Time: 22.96 seconds\n",
            "Epoch: 11 | Train Loss: 0.12487 | Valid Loss: 0.16149 | Train Accuracy: 0.95716 | Valid Accuracy: 0.95793 | Time: 22.98 seconds\n",
            "Epoch: 12 | Train Loss: 0.09583 | Valid Loss: 0.13151 | Train Accuracy: 0.96499 | Valid Accuracy: 0.95096 | Time: 23.05 seconds\n",
            "Epoch: 13 | Train Loss: 0.11743 | Valid Loss: 0.15763 | Train Accuracy: 0.95964 | Valid Accuracy: 0.93462 | Time: 23.22 seconds\n",
            "Epoch: 14 | Train Loss: 0.08864 | Valid Loss: 0.11865 | Train Accuracy: 0.97042 | Valid Accuracy: 0.96394 | Time: 23.33 seconds\n",
            "Epoch: 15 | Train Loss: 0.09710 | Valid Loss: 0.57928 | Train Accuracy: 0.96716 | Valid Accuracy: 0.76010 | Time: 23.25 seconds\n",
            "Epoch: 16 | Train Loss: 0.09709 | Valid Loss: 0.67721 | Train Accuracy: 0.96755 | Valid Accuracy: 0.81707 | Time: 23.36 seconds\n",
            "Epoch: 17 | Train Loss: 0.10625 | Valid Loss: 0.27518 | Train Accuracy: 0.96468 | Valid Accuracy: 0.90529 | Time: 23.50 seconds\n",
            "Epoch: 18 | Train Loss: 0.09108 | Valid Loss: 0.23899 | Train Accuracy: 0.97240 | Valid Accuracy: 0.91250 | Time: 23.21 seconds\n",
            "Epoch: 19 | Train Loss: 0.08071 | Valid Loss: 0.12867 | Train Accuracy: 0.97272 | Valid Accuracy: 0.95264 | Time: 23.26 seconds\n",
            "Epoch: 20 | Train Loss: 0.07956 | Valid Loss: 0.12205 | Train Accuracy: 0.97360 | Valid Accuracy: 0.96394 | Time: 23.37 seconds\n",
            "Epoch: 21 | Train Loss: 0.04646 | Valid Loss: 0.15377 | Train Accuracy: 0.98158 | Valid Accuracy: 0.95913 | Time: 23.32 seconds\n",
            "Epoch: 22 | Train Loss: 0.04672 | Valid Loss: 0.10035 | Train Accuracy: 0.98572 | Valid Accuracy: 0.95144 | Time: 23.43 seconds\n",
            "Epoch: 23 | Train Loss: 0.06911 | Valid Loss: 0.10546 | Train Accuracy: 0.97686 | Valid Accuracy: 0.95865 | Time: 23.61 seconds\n",
            "Epoch: 24 | Train Loss: 0.08284 | Valid Loss: 0.10402 | Train Accuracy: 0.97208 | Valid Accuracy: 0.95505 | Time: 23.31 seconds\n",
            "Epoch: 25 | Train Loss: 0.04911 | Valid Loss: 0.10672 | Train Accuracy: 0.98331 | Valid Accuracy: 0.96707 | Time: 23.35 seconds\n",
            "\n",
            "--------------------------------------------------\n",
            "\n",
            "-----> Best Validation Loss at Epoch 22\n",
            "\n",
            "--------------------------------------------------\n",
            "\n",
            "-----> Best Validation Accs at Epoch 25\n",
            "\n",
            "--------------------------------------------------\n",
            "\n",
            "Time Taken [25 Epochs] : 9.56 minutes\n",
            "\n",
            "--------------------------------------------------\n",
            "\n",
            "Training Complete\n",
            "\n",
            "--------------------------------------------------\n",
            "\n"
          ],
          "name": "stdout"
        },
        {
          "output_type": "display_data",
          "data": {
            "image/png": "[encoded data removed]",
            "text/plain": [
              "<Figure size 576x432 with 1 Axes>"
            ]
          },
          "metadata": {
            "tags": [],
            "needs_background": "light"
          }
        },
        {
          "output_type": "display_data",
          "data": {
            "image/png": "[encoded data removed]",
            "text/plain": [
              "<Figure size 576x432 with 1 Axes>"
            ]
          },
          "metadata": {
            "tags": [],
            "needs_background": "light"
          }
        },
        {
          "output_type": "stream",
          "text": [
            "Garbage Collected : 5768\n",
            "\n",
            "--------------------------------------------------\n",
            "\n"
          ],
          "name": "stdout"
        }
      ]
    },
    {
      "cell_type": "markdown",
      "metadata": {
        "id": "L6DhftoOOhPv"
      },
      "source": [
        "**Training CNN_11**"
      ]
    },
    {
      "cell_type": "code",
      "metadata": {
        "colab": {
          "base_uri": "https://localhost:8080/",
          "height": 1000
        },
        "id": "dV7zz0hIOgIh",
        "outputId": "259e009f-5377-43f5-a433-6fc0bac24155"
      },
      "source": [
        "torch.manual_seed(seed)\r\n",
        "model = CNN_11BN(in_channels=cfg.in_channels, \r\n",
        "                filter_sizes=cfg.filter_sizes, \r\n",
        "                HL=cfg.HL, OL=cfg.OL, \r\n",
        "                AP_size=cfg.AP_size, DP=0.5)\r\n",
        "optimizer = model.getOptimizer(A_S=True, lr=1e-3, wd=0)\r\n",
        "scheduler = model.getPlateauLR(optimizer=optimizer, patience=5, eps=1e-8)\r\n",
        "\r\n",
        "Losses, Accuracies, bestLossEpoch, bestAccsEpoch = fit_(model=model, optimizer=optimizer, scheduler=None, epochs=cfg.epochs,\r\n",
        "                                                        trainloader=tr_data, validloader=va_data,\r\n",
        "                                                        criterion=nn.NLLLoss(), device=cfg.device,\r\n",
        "                                                        verbose=True)\r\n",
        "\r\n",
        "LT = []\r\n",
        "LV = []\r\n",
        "AT = []\r\n",
        "AV = []\r\n",
        "\r\n",
        "for i in range(len(Losses)):\r\n",
        "    LT.append(Losses[i][\"train\"])\r\n",
        "    LV.append(Losses[i][\"valid\"])\r\n",
        "    AT.append(Accuracies[i][\"train\"])\r\n",
        "    AV.append(Accuracies[i][\"valid\"])\r\n",
        "\r\n",
        "plt.figure(figsize=(8, 6))\r\n",
        "plt.plot([i+1 for i in range(len(LT))], LT, \"r\", label=\"Training Loss\")\r\n",
        "plt.plot([i+1 for i in range(len(LV))], LV, \"b--\", label=\"Validation Loss\")\r\n",
        "plt.xlabel(\"Epochs\")\r\n",
        "plt.ylabel(\"Loss\")\r\n",
        "plt.legend()\r\n",
        "plt.grid()\r\n",
        "plt.show()\r\n",
        "\r\n",
        "plt.figure(figsize=(8, 6))\r\n",
        "plt.plot([i+1 for i in range(len(AT))], AT, \"r\", label=\"Training Accuracy\")\r\n",
        "plt.plot([i+1 for i in range(len(AV))], AV, \"b--\", label=\"Validation Accuracy\")\r\n",
        "plt.xlabel(\"Epochs\")\r\n",
        "plt.ylabel(\"Accuracy\")\r\n",
        "plt.legend()\r\n",
        "plt.grid()\r\n",
        "plt.show()\r\n",
        "\r\n",
        "del model\r\n",
        "torch.cuda.empty_cache()\r\n",
        "breaker()\r\n",
        "print(\"Garbage Collected : {}\".format(gc.collect()))\r\n",
        "breaker()"
      ],
      "execution_count": null,
      "outputs": [
        {
          "output_type": "stream",
          "text": [
            "\n",
            "--------------------------------------------------\n",
            "\n",
            "Training ...\n",
            "\n",
            "--------------------------------------------------\n",
            "\n",
            "Epoch: 1 | Train Loss: 1.48763 | Valid Loss: 3.20077 | Train Accuracy: 0.63365 | Valid Accuracy: 0.30793 | Time: 34.17 seconds\n",
            "Epoch: 2 | Train Loss: 0.42896 | Valid Loss: 0.30552 | Train Accuracy: 0.84839 | Valid Accuracy: 0.88942 | Time: 34.23 seconds\n",
            "Epoch: 3 | Train Loss: 0.31244 | Valid Loss: 0.57803 | Train Accuracy: 0.88783 | Valid Accuracy: 0.76298 | Time: 34.02 seconds\n",
            "Epoch: 4 | Train Loss: 0.24705 | Valid Loss: 0.16361 | Train Accuracy: 0.91412 | Valid Accuracy: 0.93389 | Time: 34.06 seconds\n",
            "Epoch: 5 | Train Loss: 0.22961 | Valid Loss: 0.15092 | Train Accuracy: 0.92074 | Valid Accuracy: 0.93822 | Time: 34.20 seconds\n",
            "Epoch: 6 | Train Loss: 0.21055 | Valid Loss: 0.28281 | Train Accuracy: 0.92758 | Valid Accuracy: 0.87476 | Time: 34.16 seconds\n",
            "Epoch: 7 | Train Loss: 0.20167 | Valid Loss: 0.44494 | Train Accuracy: 0.92584 | Valid Accuracy: 0.82548 | Time: 34.34 seconds\n",
            "Epoch: 8 | Train Loss: 0.18642 | Valid Loss: 0.44097 | Train Accuracy: 0.93300 | Valid Accuracy: 0.81322 | Time: 34.06 seconds\n",
            "Epoch: 9 | Train Loss: 0.18521 | Valid Loss: 0.15622 | Train Accuracy: 0.94161 | Valid Accuracy: 0.95312 | Time: 34.22 seconds\n",
            "Epoch: 10 | Train Loss: 0.16355 | Valid Loss: 0.17000 | Train Accuracy: 0.94537 | Valid Accuracy: 0.93462 | Time: 34.38 seconds\n",
            "Epoch: 11 | Train Loss: 0.13482 | Valid Loss: 0.17378 | Train Accuracy: 0.95192 | Valid Accuracy: 0.93894 | Time: 34.07 seconds\n",
            "Epoch: 12 | Train Loss: 0.14479 | Valid Loss: 0.29597 | Train Accuracy: 0.94721 | Valid Accuracy: 0.88726 | Time: 34.26 seconds\n",
            "Epoch: 13 | Train Loss: 0.14888 | Valid Loss: 0.15774 | Train Accuracy: 0.94675 | Valid Accuracy: 0.95024 | Time: 34.24 seconds\n",
            "Epoch: 14 | Train Loss: 0.12166 | Valid Loss: 0.35169 | Train Accuracy: 0.95915 | Valid Accuracy: 0.87212 | Time: 34.26 seconds\n",
            "Epoch: 15 | Train Loss: 0.07880 | Valid Loss: 0.16185 | Train Accuracy: 0.97297 | Valid Accuracy: 0.95024 | Time: 34.33 seconds\n",
            "Epoch: 16 | Train Loss: 0.11284 | Valid Loss: 0.28408 | Train Accuracy: 0.95957 | Valid Accuracy: 0.89014 | Time: 34.34 seconds\n",
            "Epoch: 17 | Train Loss: 0.08950 | Valid Loss: 0.58635 | Train Accuracy: 0.96507 | Valid Accuracy: 0.85168 | Time: 34.07 seconds\n",
            "Epoch: 18 | Train Loss: 0.12208 | Valid Loss: 0.18248 | Train Accuracy: 0.95741 | Valid Accuracy: 0.93341 | Time: 34.21 seconds\n",
            "Epoch: 19 | Train Loss: 0.09493 | Valid Loss: 0.12587 | Train Accuracy: 0.96634 | Valid Accuracy: 0.95745 | Time: 34.38 seconds\n",
            "Epoch: 20 | Train Loss: 0.09211 | Valid Loss: 0.23829 | Train Accuracy: 0.97098 | Valid Accuracy: 0.91947 | Time: 34.07 seconds\n",
            "Epoch: 21 | Train Loss: 0.14382 | Valid Loss: 0.11901 | Train Accuracy: 0.95582 | Valid Accuracy: 0.95793 | Time: 33.99 seconds\n",
            "Epoch: 22 | Train Loss: 0.07245 | Valid Loss: 0.36923 | Train Accuracy: 0.97584 | Valid Accuracy: 0.89207 | Time: 34.17 seconds\n",
            "Epoch: 23 | Train Loss: 0.08162 | Valid Loss: 0.26158 | Train Accuracy: 0.97290 | Valid Accuracy: 0.88846 | Time: 34.15 seconds\n",
            "Epoch: 24 | Train Loss: 0.05296 | Valid Loss: 0.13550 | Train Accuracy: 0.97902 | Valid Accuracy: 0.96514 | Time: 34.17 seconds\n",
            "Epoch: 25 | Train Loss: 0.04969 | Valid Loss: 0.17690 | Train Accuracy: 0.98445 | Valid Accuracy: 0.95745 | Time: 34.15 seconds\n",
            "\n",
            "--------------------------------------------------\n",
            "\n",
            "-----> Best Validation Loss at Epoch 21\n",
            "\n",
            "--------------------------------------------------\n",
            "\n",
            "-----> Best Validation Accs at Epoch 24\n",
            "\n",
            "--------------------------------------------------\n",
            "\n",
            "Time Taken [25 Epochs] : 14.24 minutes\n",
            "\n",
            "--------------------------------------------------\n",
            "\n",
            "Training Complete\n",
            "\n",
            "--------------------------------------------------\n",
            "\n"
          ],
          "name": "stdout"
        },
        {
          "output_type": "display_data",
          "data": {
            "image/png": "[encoded data removed]",
            "text/plain": [
              "<Figure size 576x432 with 1 Axes>"
            ]
          },
          "metadata": {
            "tags": [],
            "needs_background": "light"
          }
        },
        {
          "output_type": "display_data",
          "data": {
            "image/png": "[encoded data removed]",
            "text/plain": [
              "<Figure size 576x432 with 1 Axes>"
            ]
          },
          "metadata": {
            "tags": [],
            "needs_background": "light"
          }
        },
        {
          "output_type": "stream",
          "text": [
            "Garbage Collected : 5813\n",
            "\n",
            "--------------------------------------------------\n",
            "\n"
          ],
          "name": "stdout"
        }
      ]
    },
    {
      "cell_type": "markdown",
      "metadata": {
        "id": "eWFMB3crOlp5"
      },
      "source": [
        "**Training CNN_13**"
      ]
    },
    {
      "cell_type": "code",
      "metadata": {
        "colab": {
          "base_uri": "https://localhost:8080/",
          "height": 1000
        },
        "id": "PkU80u-uOncF",
        "outputId": "40f6c9c3-1b7e-41dc-d7eb-65cebae61f36"
      },
      "source": [
        "torch.manual_seed(seed)\r\n",
        "model = CNN_13BN(in_channels=cfg.in_channels, \r\n",
        "                filter_sizes=cfg.filter_sizes, \r\n",
        "                HL=cfg.HL, OL=cfg.OL, \r\n",
        "                AP_size=cfg.AP_size, DP=0.5)\r\n",
        "optimizer = model.getOptimizer(A_S=True, lr=1e-3, wd=0)\r\n",
        "scheduler = model.getPlateauLR(optimizer=optimizer, patience=5, eps=1e-8)\r\n",
        "\r\n",
        "Losses, Accuracies, bestLossEpoch, bestAccsEpoch = fit_(model=model, optimizer=optimizer, scheduler=None, epochs=cfg.epochs,\r\n",
        "                                                        trainloader=tr_data, validloader=va_data,\r\n",
        "                                                        criterion=nn.NLLLoss(), device=cfg.device,\r\n",
        "                                                        verbose=True)\r\n",
        "\r\n",
        "LT = []\r\n",
        "LV = []\r\n",
        "AT = []\r\n",
        "AV = []\r\n",
        "\r\n",
        "for i in range(len(Losses)):\r\n",
        "    LT.append(Losses[i][\"train\"])\r\n",
        "    LV.append(Losses[i][\"valid\"])\r\n",
        "    AT.append(Accuracies[i][\"train\"])\r\n",
        "    AV.append(Accuracies[i][\"valid\"])\r\n",
        "\r\n",
        "plt.figure(figsize=(8, 6))\r\n",
        "plt.plot([i+1 for i in range(len(LT))], LT, \"r\", label=\"Training Loss\")\r\n",
        "plt.plot([i+1 for i in range(len(LV))], LV, \"b--\", label=\"Validation Loss\")\r\n",
        "plt.xlabel(\"Epochs\")\r\n",
        "plt.ylabel(\"Loss\")\r\n",
        "plt.legend()\r\n",
        "plt.grid()\r\n",
        "plt.show()\r\n",
        "\r\n",
        "plt.figure(figsize=(8, 6))\r\n",
        "plt.plot([i+1 for i in range(len(AT))], AT, \"r\", label=\"Training Accuracy\")\r\n",
        "plt.plot([i+1 for i in range(len(AV))], AV, \"b--\", label=\"Validation Accuracy\")\r\n",
        "plt.xlabel(\"Epochs\")\r\n",
        "plt.ylabel(\"Accuracy\")\r\n",
        "plt.legend()\r\n",
        "plt.grid()\r\n",
        "plt.show()\r\n",
        "\r\n",
        "del model\r\n",
        "torch.cuda.empty_cache()\r\n",
        "breaker()\r\n",
        "print(\"Garbage Collected : {}\".format(gc.collect()))\r\n",
        "breaker()"
      ],
      "execution_count": null,
      "outputs": [
        {
          "output_type": "stream",
          "text": [
            "\n",
            "--------------------------------------------------\n",
            "\n",
            "Training ...\n",
            "\n",
            "--------------------------------------------------\n",
            "\n",
            "Epoch: 1 | Train Loss: 1.26187 | Valid Loss: 3.07536 | Train Accuracy: 0.69352 | Valid Accuracy: 0.30793 | Time: 57.51 seconds\n",
            "Epoch: 2 | Train Loss: 0.41109 | Valid Loss: 0.30770 | Train Accuracy: 0.85686 | Valid Accuracy: 0.90385 | Time: 57.25 seconds\n",
            "Epoch: 3 | Train Loss: 0.28180 | Valid Loss: 0.31097 | Train Accuracy: 0.90575 | Valid Accuracy: 0.88221 | Time: 57.25 seconds\n",
            "Epoch: 4 | Train Loss: 0.22257 | Valid Loss: 0.23266 | Train Accuracy: 0.92418 | Valid Accuracy: 0.93101 | Time: 57.60 seconds\n",
            "Epoch: 5 | Train Loss: 0.24553 | Valid Loss: 0.21462 | Train Accuracy: 0.92025 | Valid Accuracy: 0.92260 | Time: 57.43 seconds\n",
            "Epoch: 6 | Train Loss: 0.26446 | Valid Loss: 0.53331 | Train Accuracy: 0.91302 | Valid Accuracy: 0.78029 | Time: 57.49 seconds\n",
            "Epoch: 7 | Train Loss: 0.17522 | Valid Loss: 0.20623 | Train Accuracy: 0.94816 | Valid Accuracy: 0.93510 | Time: 57.49 seconds\n",
            "Epoch: 8 | Train Loss: 0.15990 | Valid Loss: 0.26056 | Train Accuracy: 0.94746 | Valid Accuracy: 0.91827 | Time: 57.61 seconds\n",
            "Epoch: 9 | Train Loss: 0.15198 | Valid Loss: 0.83426 | Train Accuracy: 0.95040 | Valid Accuracy: 0.73413 | Time: 57.42 seconds\n",
            "Epoch: 10 | Train Loss: 0.14422 | Valid Loss: 0.58689 | Train Accuracy: 0.94873 | Valid Accuracy: 0.77788 | Time: 57.44 seconds\n",
            "Epoch: 11 | Train Loss: 0.14933 | Valid Loss: 0.15741 | Train Accuracy: 0.95302 | Valid Accuracy: 0.94543 | Time: 57.55 seconds\n",
            "Epoch: 12 | Train Loss: 0.14515 | Valid Loss: 0.42397 | Train Accuracy: 0.95511 | Valid Accuracy: 0.85649 | Time: 57.57 seconds\n",
            "Epoch: 13 | Train Loss: 0.14502 | Valid Loss: 0.14280 | Train Accuracy: 0.95224 | Valid Accuracy: 0.95913 | Time: 57.56 seconds\n",
            "Epoch: 14 | Train Loss: 0.17168 | Valid Loss: 0.45898 | Train Accuracy: 0.94235 | Valid Accuracy: 0.89087 | Time: 57.59 seconds\n",
            "Epoch: 15 | Train Loss: 0.13077 | Valid Loss: 0.29374 | Train Accuracy: 0.96053 | Valid Accuracy: 0.94063 | Time: 57.52 seconds\n",
            "Epoch: 16 | Train Loss: 0.12921 | Valid Loss: 0.14482 | Train Accuracy: 0.95607 | Valid Accuracy: 0.94423 | Time: 57.42 seconds\n",
            "Epoch: 17 | Train Loss: 0.11178 | Valid Loss: 0.82452 | Train Accuracy: 0.96276 | Valid Accuracy: 0.73101 | Time: 57.45 seconds\n",
            "Epoch: 18 | Train Loss: 0.10041 | Valid Loss: 0.24469 | Train Accuracy: 0.96889 | Valid Accuracy: 0.92861 | Time: 57.44 seconds\n",
            "Epoch: 19 | Train Loss: 0.08344 | Valid Loss: 0.20173 | Train Accuracy: 0.96971 | Valid Accuracy: 0.95505 | Time: 57.54 seconds\n",
            "Epoch: 20 | Train Loss: 0.07053 | Valid Loss: 0.24430 | Train Accuracy: 0.97360 | Valid Accuracy: 0.93750 | Time: 57.75 seconds\n",
            "Epoch: 21 | Train Loss: 0.09941 | Valid Loss: 0.15681 | Train Accuracy: 0.96673 | Valid Accuracy: 0.95865 | Time: 57.50 seconds\n",
            "Epoch: 22 | Train Loss: 0.06603 | Valid Loss: 1.23655 | Train Accuracy: 0.97449 | Valid Accuracy: 0.78510 | Time: 57.65 seconds\n",
            "Epoch: 23 | Train Loss: 0.07101 | Valid Loss: 0.45033 | Train Accuracy: 0.97360 | Valid Accuracy: 0.89014 | Time: 57.37 seconds\n",
            "Epoch: 24 | Train Loss: 0.05311 | Valid Loss: 0.53335 | Train Accuracy: 0.98214 | Valid Accuracy: 0.87091 | Time: 57.57 seconds\n",
            "Epoch: 25 | Train Loss: 0.07840 | Valid Loss: 0.34387 | Train Accuracy: 0.97545 | Valid Accuracy: 0.88774 | Time: 57.44 seconds\n",
            "\n",
            "--------------------------------------------------\n",
            "\n",
            "-----> Best Validation Loss at Epoch 13\n",
            "\n",
            "--------------------------------------------------\n",
            "\n",
            "-----> Best Validation Accs at Epoch 13\n",
            "\n",
            "--------------------------------------------------\n",
            "\n",
            "Time Taken [25 Epochs] : 23.96 minutes\n",
            "\n",
            "--------------------------------------------------\n",
            "\n",
            "Training Complete\n",
            "\n",
            "--------------------------------------------------\n",
            "\n"
          ],
          "name": "stdout"
        },
        {
          "output_type": "display_data",
          "data": {
            "image/png": "[encoded data removed]",
            "text/plain": [
              "<Figure size 576x432 with 1 Axes>"
            ]
          },
          "metadata": {
            "tags": [],
            "needs_background": "light"
          }
        },
        {
          "output_type": "display_data",
          "data": {
            "image/png": "[encoded data removed]",
            "text/plain": [
              "<Figure size 576x432 with 1 Axes>"
            ]
          },
          "metadata": {
            "tags": [],
            "needs_background": "light"
          }
        },
        {
          "output_type": "stream",
          "text": [
            "Garbage Collected : 5813\n",
            "\n",
            "--------------------------------------------------\n",
            "\n"
          ],
          "name": "stdout"
        }
      ]
    },
    {
      "cell_type": "code",
      "metadata": {
        "id": "I5dlNS1OPeiC"
      },
      "source": [
        ""
      ],
      "execution_count": null,
      "outputs": []
    }
  ]
}
