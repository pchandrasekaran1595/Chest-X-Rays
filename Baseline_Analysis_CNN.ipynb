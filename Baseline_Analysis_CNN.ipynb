{
 "cells": [
  {
   "cell_type": "code",
   "execution_count": 1,
   "metadata": {
    "_cell_guid": "b1076dfc-b9ad-4769-8c92-a6c4dae69d19",
    "_uuid": "8f2839f25d086af736a60e9eeb907d3b93b6e0e5",
    "execution": {
     "iopub.execute_input": "2020-10-22T10:41:24.633853Z",
     "iopub.status.busy": "2020-10-22T10:41:24.632041Z",
     "iopub.status.idle": "2020-10-22T10:41:24.634684Z",
     "shell.execute_reply": "2020-10-22T10:41:24.635272Z"
    },
    "papermill": {
     "duration": 0.03564,
     "end_time": "2020-10-22T10:41:24.635461",
     "exception": false,
     "start_time": "2020-10-22T10:41:24.599821",
     "status": "completed"
    },
    "tags": []
   },
   "outputs": [],
   "source": [
    "from time import time\n",
    "\n",
    "notebook_start_time = time()\n",
    "\n",
    "#Only Uncomment When Committing"
   ]
  },
  {
   "cell_type": "markdown",
   "metadata": {
    "papermill": {
     "duration": 0.024133,
     "end_time": "2020-10-22T10:41:24.686441",
     "exception": false,
     "start_time": "2020-10-22T10:41:24.662308",
     "status": "completed"
    },
    "tags": []
   },
   "source": [
    "# Directory Setup"
   ]
  },
  {
   "cell_type": "code",
   "execution_count": 2,
   "metadata": {
    "_cell_guid": "79c7e3d0-c299-4dcb-8224-4455121ee9b0",
    "_uuid": "d629ff2d2480ee46fbb7e2d37f6b5fab8052498a",
    "execution": {
     "iopub.execute_input": "2020-10-22T10:41:24.745049Z",
     "iopub.status.busy": "2020-10-22T10:41:24.743627Z",
     "iopub.status.idle": "2020-10-22T10:41:24.746517Z",
     "shell.execute_reply": "2020-10-22T10:41:24.745906Z"
    },
    "papermill": {
     "duration": 0.034486,
     "end_time": "2020-10-22T10:41:24.746644",
     "exception": false,
     "start_time": "2020-10-22T10:41:24.712158",
     "status": "completed"
    },
    "tags": []
   },
   "outputs": [],
   "source": [
    "tr_dir_base = \"/kaggle/input/labeled-chest-xray-images/chest_xray/train/\"\n",
    "ts_dir_base = \"/kaggle/input/labeled-chest-xray-images/chest_xray/test/\"\n",
    "\n",
    "tr_dir_normal = tr_dir_base + \"NORMAL/\"\n",
    "ts_dir_normal = ts_dir_base + \"NORMAL/\"\n",
    "\n",
    "tr_dir_pnemon = tr_dir_base + \"PNEUMONIA/\"\n",
    "ts_dir_pnemon = ts_dir_base + \"PNEUMONIA/\""
   ]
  },
  {
   "cell_type": "markdown",
   "metadata": {
    "papermill": {
     "duration": 0.024109,
     "end_time": "2020-10-22T10:41:24.795047",
     "exception": false,
     "start_time": "2020-10-22T10:41:24.770938",
     "status": "completed"
    },
    "tags": []
   },
   "source": [
    "# Library Imports"
   ]
  },
  {
   "cell_type": "code",
   "execution_count": 3,
   "metadata": {
    "execution": {
     "iopub.execute_input": "2020-10-22T10:41:24.854021Z",
     "iopub.status.busy": "2020-10-22T10:41:24.852941Z",
     "iopub.status.idle": "2020-10-22T10:41:30.193901Z",
     "shell.execute_reply": "2020-10-22T10:41:30.192830Z"
    },
    "papermill": {
     "duration": 5.375504,
     "end_time": "2020-10-22T10:41:30.194075",
     "exception": false,
     "start_time": "2020-10-22T10:41:24.818571",
     "status": "completed"
    },
    "tags": []
   },
   "outputs": [],
   "source": [
    "import numpy as np\n",
    "import pandas as pd\n",
    "import matplotlib.pyplot as plt\n",
    "\n",
    "import matplotlib.image as img\n",
    "from PIL import Image\n",
    "import cv2\n",
    "\n",
    "import torch\n",
    "from torch import optim, nn\n",
    "from torch.utils.data import Dataset\n",
    "from torch.utils.data import DataLoader as DL\n",
    "from torch.nn.utils import weight_norm as WN\n",
    "import torch.optim.lr_scheduler as LR\n",
    "import torch.nn.functional as F\n",
    "\n",
    "from xgboost import XGBClassifier\n",
    "\n",
    "from sklearn.metrics import accuracy_score, log_loss, f1_score\n",
    "from sklearn.model_selection import KFold\n",
    "\n",
    "import random as r\n",
    "import os\n",
    "from time import time\n",
    "\n",
    "MAX_VALUE = 255"
   ]
  },
  {
   "cell_type": "markdown",
   "metadata": {
    "papermill": {
     "duration": 0.023239,
     "end_time": "2020-10-22T10:41:30.241032",
     "exception": false,
     "start_time": "2020-10-22T10:41:30.217793",
     "status": "completed"
    },
    "tags": []
   },
   "source": [
    "# Helper Functions"
   ]
  },
  {
   "cell_type": "code",
   "execution_count": 4,
   "metadata": {
    "execution": {
     "iopub.execute_input": "2020-10-22T10:41:30.308080Z",
     "iopub.status.busy": "2020-10-22T10:41:30.306099Z",
     "iopub.status.idle": "2020-10-22T10:41:30.308875Z",
     "shell.execute_reply": "2020-10-22T10:41:30.309455Z"
    },
    "papermill": {
     "duration": 0.045773,
     "end_time": "2020-10-22T10:41:30.309601",
     "exception": false,
     "start_time": "2020-10-22T10:41:30.263828",
     "status": "completed"
    },
    "tags": []
   },
   "outputs": [],
   "source": [
    "def breaker():\n",
    "    print(\"\\n\" + 30*\"-\" + \"\\n\")\n",
    "    \n",
    "def head(x, no_of_ele=5):\n",
    "    breaker()\n",
    "    print(x[:no_of_ele])\n",
    "    breaker()\n",
    "\n",
    "def getFileNames(root_dir=None):\n",
    "    f_name = []\n",
    "    for dirname, _, filenames in os.walk(root_dir):\n",
    "        for filename in filenames:\n",
    "            f_name.append(filename)\n",
    "    return f_name\n",
    "\n",
    "def removeChannelInfo(file_path=None, file_names=None, size=None):\n",
    "    sizes = []\n",
    "    images = []\n",
    "    for name in file_names:\n",
    "        image = cv2.imread(file_path+name)\n",
    "        if len(image.shape) > 2:\n",
    "            image = image[:, :, -1]\n",
    "        sizes.append(image.shape)\n",
    "        images.append(cv2.resize(image, dsize=(size, size), interpolation=cv2.INTER_LANCZOS4))\n",
    "    return images, sizes"
   ]
  },
  {
   "cell_type": "markdown",
   "metadata": {
    "papermill": {
     "duration": 0.023158,
     "end_time": "2020-10-22T10:41:30.356131",
     "exception": false,
     "start_time": "2020-10-22T10:41:30.332973",
     "status": "completed"
    },
    "tags": []
   },
   "source": [
    "# Data Processing"
   ]
  },
  {
   "cell_type": "markdown",
   "metadata": {
    "papermill": {
     "duration": 0.02285,
     "end_time": "2020-10-22T10:41:30.401819",
     "exception": false,
     "start_time": "2020-10-22T10:41:30.378969",
     "status": "completed"
    },
    "tags": []
   },
   "source": [
    "**File Name Handling**"
   ]
  },
  {
   "cell_type": "code",
   "execution_count": 5,
   "metadata": {
    "execution": {
     "iopub.execute_input": "2020-10-22T10:41:30.454441Z",
     "iopub.status.busy": "2020-10-22T10:41:30.453566Z",
     "iopub.status.idle": "2020-10-22T10:41:31.482685Z",
     "shell.execute_reply": "2020-10-22T10:41:31.483371Z"
    },
    "papermill": {
     "duration": 1.058485,
     "end_time": "2020-10-22T10:41:31.483538",
     "exception": false,
     "start_time": "2020-10-22T10:41:30.425053",
     "status": "completed"
    },
    "tags": []
   },
   "outputs": [],
   "source": [
    "tr_normal_file_names = getFileNames(tr_dir_normal)\n",
    "tr_pnemon_file_names = getFileNames(tr_dir_pnemon)\n",
    "ts_normal_file_names = getFileNames(ts_dir_normal)\n",
    "ts_pnemon_file_names = getFileNames(ts_dir_pnemon)"
   ]
  },
  {
   "cell_type": "markdown",
   "metadata": {
    "papermill": {
     "duration": 0.023237,
     "end_time": "2020-10-22T10:41:31.530810",
     "exception": false,
     "start_time": "2020-10-22T10:41:31.507573",
     "status": "completed"
    },
    "tags": []
   },
   "source": [
    "**Basic Info (Used to confirm correctness Pre-Dataset Numpy Arrays)**"
   ]
  },
  {
   "cell_type": "code",
   "execution_count": 6,
   "metadata": {
    "execution": {
     "iopub.execute_input": "2020-10-22T10:41:31.586537Z",
     "iopub.status.busy": "2020-10-22T10:41:31.585376Z",
     "iopub.status.idle": "2020-10-22T10:41:31.619898Z",
     "shell.execute_reply": "2020-10-22T10:41:31.608667Z"
    },
    "papermill": {
     "duration": 0.065175,
     "end_time": "2020-10-22T10:41:31.620065",
     "exception": false,
     "start_time": "2020-10-22T10:41:31.554890",
     "status": "completed"
    },
    "tags": []
   },
   "outputs": [
    {
     "name": "stdout",
     "output_type": "stream",
     "text": [
      "\n",
      "------------------------------\n",
      "\n",
      "Total Training Set Size        : 5232\n",
      "\n",
      "------------------------------\n",
      "\n",
      "Total Test Set Size            : 624\n",
      "\n",
      "------------------------------\n",
      "\n"
     ]
    }
   ],
   "source": [
    "breaker()\n",
    "print(\"Total Training Set Size        :\", repr(len(tr_normal_file_names) + len(tr_pnemon_file_names)))\n",
    "breaker()\n",
    "print(\"Total Test Set Size            :\", repr(len(ts_normal_file_names) + len(ts_pnemon_file_names)))\n",
    "breaker()"
   ]
  },
  {
   "cell_type": "markdown",
   "metadata": {
    "papermill": {
     "duration": 0.029987,
     "end_time": "2020-10-22T10:41:31.679933",
     "exception": false,
     "start_time": "2020-10-22T10:41:31.649946",
     "status": "completed"
    },
    "tags": []
   },
   "source": [
    "**Reading Image Data**"
   ]
  },
  {
   "cell_type": "code",
   "execution_count": 7,
   "metadata": {
    "execution": {
     "iopub.execute_input": "2020-10-22T10:41:31.747429Z",
     "iopub.status.busy": "2020-10-22T10:41:31.746492Z",
     "iopub.status.idle": "2020-10-22T10:43:34.644558Z",
     "shell.execute_reply": "2020-10-22T10:43:34.643812Z"
    },
    "papermill": {
     "duration": 122.934649,
     "end_time": "2020-10-22T10:43:34.644692",
     "exception": false,
     "start_time": "2020-10-22T10:41:31.710043",
     "status": "completed"
    },
    "tags": []
   },
   "outputs": [
    {
     "name": "stdout",
     "output_type": "stream",
     "text": [
      "Time Taken to process data : 2.05 minutes\n"
     ]
    }
   ],
   "source": [
    "start_time = time()\n",
    "\n",
    "n_size = 127\n",
    "trn_images, trn_sizes = removeChannelInfo(tr_dir_normal, tr_normal_file_names, n_size)\n",
    "trp_images, trp_sizes = removeChannelInfo(tr_dir_pnemon, tr_pnemon_file_names, n_size)\n",
    "\n",
    "tsn_images, tsn_sizes = removeChannelInfo(ts_dir_normal, ts_normal_file_names, n_size)\n",
    "tsp_images, tsp_sizes = removeChannelInfo(ts_dir_pnemon, ts_pnemon_file_names, n_size)\n",
    "\n",
    "print(\"Time Taken to process data : {:.2f} minutes\".format((time()-start_time)/60))"
   ]
  },
  {
   "cell_type": "markdown",
   "metadata": {
    "papermill": {
     "duration": 0.030185,
     "end_time": "2020-10-22T10:43:34.704657",
     "exception": false,
     "start_time": "2020-10-22T10:43:34.674472",
     "status": "completed"
    },
    "tags": []
   },
   "source": [
    "**Consolidating Train Images and creating Labels**"
   ]
  },
  {
   "cell_type": "code",
   "execution_count": 8,
   "metadata": {
    "execution": {
     "iopub.execute_input": "2020-10-22T10:43:34.774996Z",
     "iopub.status.busy": "2020-10-22T10:43:34.773290Z",
     "iopub.status.idle": "2020-10-22T10:43:35.070797Z",
     "shell.execute_reply": "2020-10-22T10:43:35.071578Z"
    },
    "papermill": {
     "duration": 0.336696,
     "end_time": "2020-10-22T10:43:35.071762",
     "exception": false,
     "start_time": "2020-10-22T10:43:34.735066",
     "status": "completed"
    },
    "tags": []
   },
   "outputs": [
    {
     "name": "stdout",
     "output_type": "stream",
     "text": [
      "(5232, 127, 127)\n",
      "(5232,)\n"
     ]
    }
   ],
   "source": [
    "tr_images = np.concatenate((trn_images, trp_images), axis=0)\n",
    "tr_images = np.divide(tr_images, MAX_VALUE)\n",
    "tr_labels = np.concatenate((np.zeros((len(trn_images))), np.ones((len(trp_images)))), axis=0)\n",
    "\n",
    "print(tr_images.shape)\n",
    "print(tr_labels.shape)"
   ]
  },
  {
   "cell_type": "markdown",
   "metadata": {
    "papermill": {
     "duration": 0.031402,
     "end_time": "2020-10-22T10:43:35.135240",
     "exception": false,
     "start_time": "2020-10-22T10:43:35.103838",
     "status": "completed"
    },
    "tags": []
   },
   "source": [
    "**Consolidating Test Images and creating Labels**"
   ]
  },
  {
   "cell_type": "code",
   "execution_count": 9,
   "metadata": {
    "execution": {
     "iopub.execute_input": "2020-10-22T10:43:35.209538Z",
     "iopub.status.busy": "2020-10-22T10:43:35.207674Z",
     "iopub.status.idle": "2020-10-22T10:43:35.253236Z",
     "shell.execute_reply": "2020-10-22T10:43:35.249473Z"
    },
    "papermill": {
     "duration": 0.086084,
     "end_time": "2020-10-22T10:43:35.253402",
     "exception": false,
     "start_time": "2020-10-22T10:43:35.167318",
     "status": "completed"
    },
    "tags": []
   },
   "outputs": [
    {
     "name": "stdout",
     "output_type": "stream",
     "text": [
      "(624, 127, 127)\n",
      "(624,)\n"
     ]
    }
   ],
   "source": [
    "ts_images = np.concatenate((tsn_images, tsp_images), axis=0)\n",
    "ts_images = np.divide(ts_images, MAX_VALUE)\n",
    "ts_labels = np.concatenate((np.zeros((len(tsn_images))), np.ones((len(tsp_images)))), axis=0)\n",
    "\n",
    "print(ts_images.shape)\n",
    "print(ts_labels.shape)\n",
    "\n",
    "num_obs_test = ts_labels.shape[0]"
   ]
  },
  {
   "cell_type": "markdown",
   "metadata": {
    "papermill": {
     "duration": 0.033088,
     "end_time": "2020-10-22T10:43:35.323738",
     "exception": false,
     "start_time": "2020-10-22T10:43:35.290650",
     "status": "completed"
    },
    "tags": []
   },
   "source": [
    "**Dataset Template**"
   ]
  },
  {
   "cell_type": "code",
   "execution_count": 10,
   "metadata": {
    "execution": {
     "iopub.execute_input": "2020-10-22T10:43:35.401713Z",
     "iopub.status.busy": "2020-10-22T10:43:35.400622Z",
     "iopub.status.idle": "2020-10-22T10:43:35.404082Z",
     "shell.execute_reply": "2020-10-22T10:43:35.403492Z"
    },
    "papermill": {
     "duration": 0.046864,
     "end_time": "2020-10-22T10:43:35.404209",
     "exception": false,
     "start_time": "2020-10-22T10:43:35.357345",
     "status": "completed"
    },
    "tags": []
   },
   "outputs": [],
   "source": [
    "class DS(Dataset):\n",
    "    def __init__(this, X=None, y=None, mode=\"train\"):\n",
    "        this.mode = mode\n",
    "        this.X = X\n",
    "        if mode == \"train\":\n",
    "            this.y = y\n",
    "        \n",
    "    def __len__(this):\n",
    "        return this.X.shape[0]\n",
    "    \n",
    "    def __getitem__(this, idx):\n",
    "        if this.mode == \"train\":\n",
    "            return torch.FloatTensor(this.X[idx]), torch.FloatTensor(this.y[idx])\n",
    "        else:\n",
    "            return torch.FloatTensor(this.X[idx])"
   ]
  },
  {
   "cell_type": "markdown",
   "metadata": {
    "papermill": {
     "duration": 0.033536,
     "end_time": "2020-10-22T10:43:35.471243",
     "exception": false,
     "start_time": "2020-10-22T10:43:35.437707",
     "status": "completed"
    },
    "tags": []
   },
   "source": [
    "# ANN"
   ]
  },
  {
   "cell_type": "markdown",
   "metadata": {
    "papermill": {
     "duration": 0.033508,
     "end_time": "2020-10-22T10:43:35.538641",
     "exception": false,
     "start_time": "2020-10-22T10:43:35.505133",
     "status": "completed"
    },
    "tags": []
   },
   "source": [
    "**Config**"
   ]
  },
  {
   "cell_type": "code",
   "execution_count": 11,
   "metadata": {
    "execution": {
     "iopub.execute_input": "2020-10-22T10:43:36.011585Z",
     "iopub.status.busy": "2020-10-22T10:43:36.008623Z",
     "iopub.status.idle": "2020-10-22T10:43:36.017878Z",
     "shell.execute_reply": "2020-10-22T10:43:36.016606Z"
    },
    "papermill": {
     "duration": 0.445898,
     "end_time": "2020-10-22T10:43:36.018045",
     "exception": false,
     "start_time": "2020-10-22T10:43:35.572147",
     "status": "completed"
    },
    "tags": []
   },
   "outputs": [],
   "source": [
    "class ANN_CFG():\n",
    "    tr_batch_size = 128\n",
    "    ts_batch_size = 128\n",
    "    \n",
    "    epochs = 25\n",
    "    \n",
    "    HL = [2048, 2048, 2048]\n",
    "    OL = 1\n",
    "    \n",
    "    device = torch.device(\"cuda:0\" if torch.cuda.is_available() else \"cpu\")\n",
    "    \n",
    "cfg = ANN_CFG()\n",
    "\n",
    "trds = DS(tr_images, tr_labels.reshape(-1,1))\n",
    "trd  = DL(trds, batch_size=cfg.tr_batch_size, shuffle=True, generator=torch.manual_seed(0))"
   ]
  },
  {
   "cell_type": "markdown",
   "metadata": {
    "papermill": {
     "duration": 0.033481,
     "end_time": "2020-10-22T10:43:36.085637",
     "exception": false,
     "start_time": "2020-10-22T10:43:36.052156",
     "status": "completed"
    },
    "tags": []
   },
   "source": [
    "**Setup**"
   ]
  },
  {
   "cell_type": "code",
   "execution_count": 12,
   "metadata": {
    "execution": {
     "iopub.execute_input": "2020-10-22T10:43:36.177746Z",
     "iopub.status.busy": "2020-10-22T10:43:36.162208Z",
     "iopub.status.idle": "2020-10-22T10:43:36.183765Z",
     "shell.execute_reply": "2020-10-22T10:43:36.183148Z"
    },
    "papermill": {
     "duration": 0.06434,
     "end_time": "2020-10-22T10:43:36.183883",
     "exception": false,
     "start_time": "2020-10-22T10:43:36.119543",
     "status": "completed"
    },
    "tags": []
   },
   "outputs": [],
   "source": [
    "class ANN(nn.Module):\n",
    "    def __init__(this, IL=None, HL=None, OL=None):\n",
    "    \n",
    "        super(ANN, this).__init__()\n",
    "        \n",
    "        this.MP  = nn.MaxPool2d(kernel_size=2)\n",
    "        this.DP  = nn.Dropout(p=0.3)\n",
    "    \n",
    "        this.BN1 = nn.BatchNorm2d(1)\n",
    "        this.CN1 = nn.Conv2d(in_channels=1, out_channels=64, kernel_size=3)\n",
    "        \n",
    "        this.BN2 = nn.BatchNorm2d(64)\n",
    "        this.CN2 = nn.Conv2d(in_channels=64, out_channels=64, kernel_size=3)\n",
    "        \n",
    "        this.BN3 = nn.BatchNorm2d(64)\n",
    "        this.CN3 = nn.Conv2d(in_channels=64, out_channels=128, kernel_size=3)\n",
    "        \n",
    "        this.BN4 = nn.BatchNorm2d(128)\n",
    "        this.CN4 = nn.Conv2d(in_channels=128, out_channels=128, kernel_size=3)\n",
    "        \n",
    "        this.BN5 = nn.BatchNorm2d(128)\n",
    "        this.CN5 = nn.Conv2d(in_channels=128, out_channels=128, kernel_size=3)\n",
    "        \n",
    "        this.FC1 = WN(nn.Linear(128*2*2, HL[0]))\n",
    "        this.FC2 = WN(nn.Linear(HL[0], HL[1]))\n",
    "        this.FC3 = WN(nn.Linear(HL[1], OL))\n",
    "        \n",
    "    def getOptimizer(this):\n",
    "        return optim.Adam(this.parameters(), lr=1e-3, weight_decay=0)\n",
    "    \n",
    "    def forward(this, x):\n",
    "        x = this.BN1(x)\n",
    "        x = this.CN1(x)\n",
    "        x = F.relu(this.MP(x))\n",
    "        \n",
    "        x = this.BN2(x)\n",
    "        x = this.CN2(x)\n",
    "        x = F.relu(this.MP(x))\n",
    "        \n",
    "        x = this.BN3(x)\n",
    "        x = this.CN3(x)\n",
    "        x = F.relu(this.MP(x))\n",
    "        \n",
    "        x = this.BN4(x)\n",
    "        x = this.CN4(x)\n",
    "        x = F.relu(this.MP(x))\n",
    "        \n",
    "        x = this.BN5(x)\n",
    "        x = this.CN5(x)\n",
    "        x = F.relu(this.MP(x))\n",
    "        \n",
    "        x = x.view(x.shape[0], -1)\n",
    "        \n",
    "        x = F.relu(this.FC1(x))\n",
    "        x = F.relu(this.FC2(x))\n",
    "        x = torch.sigmoid(this.FC3(x))\n",
    "        return x"
   ]
  },
  {
   "cell_type": "markdown",
   "metadata": {
    "papermill": {
     "duration": 0.033738,
     "end_time": "2020-10-22T10:43:36.251641",
     "exception": false,
     "start_time": "2020-10-22T10:43:36.217903",
     "status": "completed"
    },
    "tags": []
   },
   "source": [
    "**Debugging Sizes**"
   ]
  },
  {
   "cell_type": "code",
   "execution_count": 13,
   "metadata": {
    "execution": {
     "iopub.execute_input": "2020-10-22T10:43:36.324835Z",
     "iopub.status.busy": "2020-10-22T10:43:36.324084Z",
     "iopub.status.idle": "2020-10-22T10:43:36.329138Z",
     "shell.execute_reply": "2020-10-22T10:43:36.328503Z"
    },
    "papermill": {
     "duration": 0.043502,
     "end_time": "2020-10-22T10:43:36.329269",
     "exception": false,
     "start_time": "2020-10-22T10:43:36.285767",
     "status": "completed"
    },
    "tags": []
   },
   "outputs": [],
   "source": [
    "#net = ANN(IL=None, HL=cfg.HL, OL=cfg.OL)\n",
    "#net.to(cfg.device)\n",
    "#net.train()\n",
    "\n",
    "#trds = DS(tr_images, tr_labels.reshape(-1,1))\n",
    "#trd = DL(trds, batch_size=128, shuffle=False)\n",
    "\n",
    "#xxxx, yyyy = next(iter(trd))\n",
    "\n",
    "#op = net(xxxx.to(cfg.device).view(xxxx.shape[0], 1, n_size, n_size))\n",
    "#print(op.shape)\n",
    "\n",
    "#del trds, trd, xxxx, yyyy, op, net"
   ]
  },
  {
   "cell_type": "markdown",
   "metadata": {
    "papermill": {
     "duration": 0.035913,
     "end_time": "2020-10-22T10:43:36.400066",
     "exception": false,
     "start_time": "2020-10-22T10:43:36.364153",
     "status": "completed"
    },
    "tags": []
   },
   "source": [
    "**ANN Helpers**"
   ]
  },
  {
   "cell_type": "code",
   "execution_count": 14,
   "metadata": {
    "execution": {
     "iopub.execute_input": "2020-10-22T10:43:36.495098Z",
     "iopub.status.busy": "2020-10-22T10:43:36.482528Z",
     "iopub.status.idle": "2020-10-22T10:43:36.522967Z",
     "shell.execute_reply": "2020-10-22T10:43:36.522334Z"
    },
    "papermill": {
     "duration": 0.086303,
     "end_time": "2020-10-22T10:43:36.523108",
     "exception": false,
     "start_time": "2020-10-22T10:43:36.436805",
     "status": "completed"
    },
    "tags": []
   },
   "outputs": [],
   "source": [
    "def train_fn(X=None, y=None):\n",
    "    LP = []\n",
    "    name_getter = []\n",
    "    \n",
    "    bestLoss = {\"train\" : np.inf, \"valid\" : np.inf}\n",
    "    \n",
    "    n_folds = 4\n",
    "    fold = 0\n",
    "    \n",
    "    start_time = time()\n",
    "    for tr_idx, va_idx in KFold(n_splits=n_folds, shuffle=True, random_state=0).split(X, y):\n",
    "        breaker()\n",
    "        print(\"Fold {fold} processing...\".format(fold=fold+1))\n",
    "        \n",
    "        X_train, X_valid, y_train, y_valid = X[tr_idx], X[va_idx], y[tr_idx], y[va_idx]\n",
    "        \n",
    "        tr_data_setup = DS(X_train, y_train.reshape(-1,1))\n",
    "        va_data_setup = DS(X_valid, y_valid.reshape(-1,1))\n",
    "        \n",
    "        dataloaders = {\"train\" : DL(tr_data_setup, batch_size=cfg.tr_batch_size, shuffle=True, generator=torch.manual_seed(0)),\n",
    "                       \"valid\" : DL(va_data_setup, batch_size=cfg.tr_batch_size, shuffle=False)}\n",
    "        \n",
    "        model = ANN(IL=None, HL=cfg.HL, OL=cfg.OL)\n",
    "        model.to(cfg.device)\n",
    "        \n",
    "        optimizer = model.getOptimizer()\n",
    "        \n",
    "        for e in range(cfg.epochs):\n",
    "            epochLoss = {\"train\" : 0, \"valid\" : 0}\n",
    "            for phase in [\"train\", \"valid\"]:\n",
    "                if phase == \"train\":\n",
    "                    model.train()\n",
    "                else:\n",
    "                    model.eval()\n",
    "                lossPerPass = 0\n",
    "                \n",
    "                for feats, label in dataloaders[phase]:\n",
    "                    feats, label = feats.to(cfg.device).view(feats.shape[0], 1, n_size, n_size), label.to(cfg.device)\n",
    "                    \n",
    "                    optimizer.zero_grad()\n",
    "                    with torch.set_grad_enabled(phase == \"train\"):\n",
    "                        output = model(feats)\n",
    "                        loss = nn.BCELoss()(output, label)\n",
    "                    if phase == \"train\":\n",
    "                        loss.backward()\n",
    "                        optimizer.step()\n",
    "                    lossPerPass += (loss.item()/label.shape[0])\n",
    "                epochLoss[phase] = lossPerPass\n",
    "            LP.append(epochLoss)\n",
    "            \n",
    "            if epochLoss[\"valid\"] < bestLoss[\"valid\"]:\n",
    "                bestLoss = epochLoss\n",
    "                name = \"./Model_Fold_{fold}.pt\".format(fold=fold)\n",
    "                name_getter.append(name)\n",
    "                torch.save(model.state_dict(), name)\n",
    "        fold += 1\n",
    "    \n",
    "    breaker()\n",
    "    print(\"Time taken to train {fold} folds for {e} epochs : {:.2f} minutes\".format((time()-start_time)/60, fold=n_folds, e=cfg.epochs))\n",
    "    breaker()\n",
    "    print(\"Best Loss :\", repr(bestLoss))\n",
    "    breaker()\n",
    "    \n",
    "    return LP, name_getter, model\n",
    "\n",
    "def eval_fn(model=None, names=None, dataloader=None):\n",
    "    final_Pred = np.zeros((num_obs_test, 1))\n",
    "    \n",
    "    for name in names:\n",
    "        Pred = torch.zeros(cfg.ts_batch_size, 1).to(cfg.device)\n",
    "        model.load_state_dict(torch.load(name))\n",
    "        model.eval()\n",
    "        for X, y in dataloader:\n",
    "            X = X.to(cfg.device).view(X.shape[0], 1, n_size, n_size)\n",
    "            with torch.no_grad():\n",
    "                Prob = model(X)\n",
    "            Pred = torch.cat((Pred, Prob), dim=0)\n",
    "        Pred = Pred[cfg.ts_batch_size:]\n",
    "        Pred = Pred.cpu().numpy()\n",
    "        final_Pred = np.add(final_Pred, Pred)\n",
    "        \n",
    "    final_Pred = np.divide(final_Pred, len(names))\n",
    "    final_Pred[np.argwhere(final_Pred > 0.5)[:, 0]]  = int(1)\n",
    "    final_Pred[np.argwhere(final_Pred <= 0.5)[:, 0]] = int(0)\n",
    "    return final_Pred.reshape(-1)"
   ]
  },
  {
   "cell_type": "code",
   "execution_count": 15,
   "metadata": {
    "execution": {
     "iopub.execute_input": "2020-10-22T10:43:36.608417Z",
     "iopub.status.busy": "2020-10-22T10:43:36.604020Z",
     "iopub.status.idle": "2020-10-22T10:49:20.504981Z",
     "shell.execute_reply": "2020-10-22T10:49:20.491331Z"
    },
    "papermill": {
     "duration": 343.945582,
     "end_time": "2020-10-22T10:49:20.505135",
     "exception": false,
     "start_time": "2020-10-22T10:43:36.559553",
     "status": "completed"
    },
    "tags": []
   },
   "outputs": [
    {
     "name": "stdout",
     "output_type": "stream",
     "text": [
      "\n",
      "------------------------------\n",
      "\n",
      "Fold 1 processing...\n",
      "\n",
      "------------------------------\n",
      "\n",
      "Fold 2 processing...\n",
      "\n",
      "------------------------------\n",
      "\n",
      "Fold 3 processing...\n",
      "\n",
      "------------------------------\n",
      "\n",
      "Fold 4 processing...\n",
      "\n",
      "------------------------------\n",
      "\n",
      "Time taken to train 4 folds for 25 epochs : 5.73 minutes\n",
      "\n",
      "------------------------------\n",
      "\n",
      "Best Loss : {'train': 0.006634912028901107, 'valid': 0.0036180459498739636}\n",
      "\n",
      "------------------------------\n",
      "\n"
     ]
    }
   ],
   "source": [
    "LP, Names, Network = train_fn(X=tr_images, y=tr_labels)"
   ]
  },
  {
   "cell_type": "code",
   "execution_count": 16,
   "metadata": {
    "execution": {
     "iopub.execute_input": "2020-10-22T10:49:20.618240Z",
     "iopub.status.busy": "2020-10-22T10:49:20.605431Z",
     "iopub.status.idle": "2020-10-22T10:49:21.817289Z",
     "shell.execute_reply": "2020-10-22T10:49:21.816030Z"
    },
    "papermill": {
     "duration": 1.266681,
     "end_time": "2020-10-22T10:49:21.817512",
     "exception": false,
     "start_time": "2020-10-22T10:49:20.550831",
     "status": "completed"
    },
    "tags": []
   },
   "outputs": [
    {
     "data": {
      "image/png": "[encoded data removed]",
      "text/plain": [
       "<Figure size 1800x1800 with 4 Axes>"
      ]
     },
     "metadata": {
      "needs_background": "light"
     },
     "output_type": "display_data"
    }
   ],
   "source": [
    "LPV = []\n",
    "LPT = []\n",
    "for i in range(len(LP)):\n",
    "  LPT.append(LP[i][\"train\"])\n",
    "  LPV.append(LP[i][\"valid\"])\n",
    "\n",
    "xAxis = [i+1 for i in range(cfg.epochs)]\n",
    "\n",
    "plt.figure(figsize=(25, 25))\n",
    "plt.subplot(4, 1, 1)\n",
    "plt.plot(xAxis, LPT[:cfg.epochs], \"b\", label=\"Training Loss\")\n",
    "plt.plot(xAxis, LPV[:cfg.epochs], \"r--\", label=\"Validation Loss\")\n",
    "plt.legend()\n",
    "plt.xlabel(\"Epochs\")\n",
    "plt.ylabel(\"Loss\")\n",
    "plt.title(\"Fold 1\")\n",
    "plt.subplot(4, 1, 2)\n",
    "plt.plot(xAxis, LPT[1*cfg.epochs:2*cfg.epochs], \"b\", label=\"Training Loss\")\n",
    "plt.plot(xAxis, LPV[1*cfg.epochs:2*cfg.epochs], \"r--\", label=\"Validation Loss\")\n",
    "plt.legend()\n",
    "plt.xlabel(\"Epochs\")\n",
    "plt.ylabel(\"Loss\")\n",
    "plt.title(\"Fold 2\")\n",
    "plt.subplot(4, 1, 3)\n",
    "plt.plot(xAxis, LPT[2*cfg.epochs:3*cfg.epochs], \"b\", label=\"Training Loss\")\n",
    "plt.plot(xAxis, LPV[2*cfg.epochs:3*cfg.epochs], \"r--\", label=\"Validation Loss\")\n",
    "plt.legend()\n",
    "plt.xlabel(\"Epochs\")\n",
    "plt.ylabel(\"Loss\")\n",
    "plt.title(\"Fold 3\")\n",
    "plt.subplot(4, 1, 4)\n",
    "plt.plot(xAxis, LPT[3*cfg.epochs:4*cfg.epochs], \"b\", label=\"Training Loss\")\n",
    "plt.plot(xAxis, LPV[3*cfg.epochs:4*cfg.epochs], \"r--\", label=\"Validation Loss\")\n",
    "plt.legend()\n",
    "plt.xlabel(\"Epochs\")\n",
    "plt.ylabel(\"Loss\")\n",
    "plt.title(\"Fold 4\")\n",
    "plt.show()"
   ]
  },
  {
   "cell_type": "code",
   "execution_count": 17,
   "metadata": {
    "execution": {
     "iopub.execute_input": "2020-10-22T10:49:21.940174Z",
     "iopub.status.busy": "2020-10-22T10:49:21.939351Z",
     "iopub.status.idle": "2020-10-22T10:49:22.555803Z",
     "shell.execute_reply": "2020-10-22T10:49:22.554771Z"
    },
    "papermill": {
     "duration": 0.673101,
     "end_time": "2020-10-22T10:49:22.555969",
     "exception": false,
     "start_time": "2020-10-22T10:49:21.882868",
     "status": "completed"
    },
    "tags": []
   },
   "outputs": [
    {
     "name": "stdout",
     "output_type": "stream",
     "text": [
      "\n",
      "------------------------------\n",
      "\n",
      "ANN Model Accuracy  : 83.17308 %\n",
      "\n",
      "------------------------------\n",
      "\n"
     ]
    }
   ],
   "source": [
    "ts_data_setup = DS(ts_images, ts_labels.reshape(-1,1))\n",
    "ts_data = DL(ts_data_setup, batch_size=cfg.ts_batch_size, shuffle=False)\n",
    "\n",
    "y_pred = eval_fn(Network, Names, ts_data)\n",
    "\n",
    "breaker()\n",
    "print(\"ANN Model Accuracy  : {:.5f} %\".format(accuracy_score(ts_labels, y_pred) * 100))\n",
    "breaker()"
   ]
  },
  {
   "cell_type": "code",
   "execution_count": 18,
   "metadata": {
    "execution": {
     "iopub.execute_input": "2020-10-22T10:49:22.667824Z",
     "iopub.status.busy": "2020-10-22T10:49:22.666172Z",
     "iopub.status.idle": "2020-10-22T10:49:22.684722Z",
     "shell.execute_reply": "2020-10-22T10:49:22.678670Z"
    },
    "papermill": {
     "duration": 0.076312,
     "end_time": "2020-10-22T10:49:22.684913",
     "exception": false,
     "start_time": "2020-10-22T10:49:22.608601",
     "status": "completed"
    },
    "tags": []
   },
   "outputs": [
    {
     "name": "stdout",
     "output_type": "stream",
     "text": [
      "\n",
      "------------------------------\n",
      "\n",
      "Time taken to run Notebook : 7.97 minutes\n",
      "\n",
      "------------------------------\n",
      "\n"
     ]
    }
   ],
   "source": [
    "breaker()\n",
    "print(\"Time taken to run Notebook : {:.2f} minutes\".format((time()-notebook_start_time)/60))\n",
    "breaker()\n",
    "\n",
    "#Only Uncomment When Committing"
   ]
  }
 ],
 "metadata": {
  "kernelspec": {
   "display_name": "Python 3",
   "language": "python",
   "name": "python3"
  },
  "language_info": {
   "codemirror_mode": {
    "name": "ipython",
    "version": 3
   },
   "file_extension": ".py",
   "mimetype": "text/x-python",
   "name": "python",
   "nbconvert_exporter": "python",
   "pygments_lexer": "ipython3",
   "version": "3.7.6"
  },
  "papermill": {
   "duration": 484.194886,
   "end_time": "2020-10-22T10:49:23.809382",
   "environment_variables": {},
   "exception": null,
   "input_path": "__notebook__.ipynb",
   "output_path": "__notebook__.ipynb",
   "parameters": {},
   "start_time": "2020-10-22T10:41:19.614496",
   "version": "2.1.0"
  }
 },
 "nbformat": 4,
 "nbformat_minor": 4
}
