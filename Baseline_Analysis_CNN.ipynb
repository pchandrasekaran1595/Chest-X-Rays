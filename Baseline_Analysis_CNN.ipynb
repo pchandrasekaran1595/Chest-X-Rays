{
 "cells": [
  {
   "cell_type": "code",
   "execution_count": 1,
   "metadata": {
    "_cell_guid": "b1076dfc-b9ad-4769-8c92-a6c4dae69d19",
    "_uuid": "8f2839f25d086af736a60e9eeb907d3b93b6e0e5",
    "execution": {
     "iopub.execute_input": "2020-10-21T21:26:01.442481Z",
     "iopub.status.busy": "2020-10-21T21:26:01.441624Z",
     "iopub.status.idle": "2020-10-21T21:26:01.444550Z",
     "shell.execute_reply": "2020-10-21T21:26:01.444057Z"
    },
    "papermill": {
     "duration": 0.02638,
     "end_time": "2020-10-21T21:26:01.444650",
     "exception": false,
     "start_time": "2020-10-21T21:26:01.418270",
     "status": "completed"
    },
    "tags": []
   },
   "outputs": [],
   "source": [
    "from time import time\n",
    "\n",
    "notebook_start_time = time()\n",
    "\n",
    "#Only Uncomment When Committing"
   ]
  },
  {
   "cell_type": "markdown",
   "metadata": {
    "papermill": {
     "duration": 0.017686,
     "end_time": "2020-10-21T21:26:01.480277",
     "exception": false,
     "start_time": "2020-10-21T21:26:01.462591",
     "status": "completed"
    },
    "tags": []
   },
   "source": [
    "# Directory Setup"
   ]
  },
  {
   "cell_type": "code",
   "execution_count": 2,
   "metadata": {
    "_cell_guid": "79c7e3d0-c299-4dcb-8224-4455121ee9b0",
    "_uuid": "d629ff2d2480ee46fbb7e2d37f6b5fab8052498a",
    "execution": {
     "iopub.execute_input": "2020-10-21T21:26:01.522244Z",
     "iopub.status.busy": "2020-10-21T21:26:01.521475Z",
     "iopub.status.idle": "2020-10-21T21:26:01.524513Z",
     "shell.execute_reply": "2020-10-21T21:26:01.524049Z"
    },
    "papermill": {
     "duration": 0.025198,
     "end_time": "2020-10-21T21:26:01.524605",
     "exception": false,
     "start_time": "2020-10-21T21:26:01.499407",
     "status": "completed"
    },
    "tags": []
   },
   "outputs": [],
   "source": [
    "tr_dir_base = \"/kaggle/input/labeled-chest-xray-images/chest_xray/train/\"\n",
    "ts_dir_base = \"/kaggle/input/labeled-chest-xray-images/chest_xray/test/\"\n",
    "\n",
    "tr_dir_normal = tr_dir_base + \"NORMAL/\"\n",
    "ts_dir_normal = ts_dir_base + \"NORMAL/\"\n",
    "\n",
    "tr_dir_pnemon = tr_dir_base + \"PNEUMONIA/\"\n",
    "ts_dir_pnemon = ts_dir_base + \"PNEUMONIA/\""
   ]
  },
  {
   "cell_type": "markdown",
   "metadata": {
    "papermill": {
     "duration": 0.017687,
     "end_time": "2020-10-21T21:26:01.560067",
     "exception": false,
     "start_time": "2020-10-21T21:26:01.542380",
     "status": "completed"
    },
    "tags": []
   },
   "source": [
    "# Library Imports"
   ]
  },
  {
   "cell_type": "code",
   "execution_count": 3,
   "metadata": {
    "execution": {
     "iopub.execute_input": "2020-10-21T21:26:01.604294Z",
     "iopub.status.busy": "2020-10-21T21:26:01.603679Z",
     "iopub.status.idle": "2020-10-21T21:26:06.994887Z",
     "shell.execute_reply": "2020-10-21T21:26:06.993855Z"
    },
    "papermill": {
     "duration": 5.416969,
     "end_time": "2020-10-21T21:26:06.995014",
     "exception": false,
     "start_time": "2020-10-21T21:26:01.578045",
     "status": "completed"
    },
    "tags": []
   },
   "outputs": [],
   "source": [
    "import numpy as np\n",
    "import pandas as pd\n",
    "import matplotlib.pyplot as plt\n",
    "\n",
    "import matplotlib.image as img\n",
    "from PIL import Image\n",
    "import cv2\n",
    "\n",
    "import torch\n",
    "from torch import optim, nn\n",
    "from torch.utils.data import Dataset\n",
    "from torch.utils.data import DataLoader as DL\n",
    "from torch.nn.utils import weight_norm as WN\n",
    "import torch.optim.lr_scheduler as LR\n",
    "import torch.nn.functional as F\n",
    "\n",
    "from xgboost import XGBClassifier\n",
    "\n",
    "from sklearn.metrics import accuracy_score, log_loss, f1_score\n",
    "from sklearn.model_selection import KFold\n",
    "\n",
    "import random as r\n",
    "import os\n",
    "from time import time\n",
    "\n",
    "MAX_VALUE = 255"
   ]
  },
  {
   "cell_type": "markdown",
   "metadata": {
    "papermill": {
     "duration": 0.017948,
     "end_time": "2020-10-21T21:26:07.031940",
     "exception": false,
     "start_time": "2020-10-21T21:26:07.013992",
     "status": "completed"
    },
    "tags": []
   },
   "source": [
    "# Helper Functions"
   ]
  },
  {
   "cell_type": "code",
   "execution_count": 4,
   "metadata": {
    "execution": {
     "iopub.execute_input": "2020-10-21T21:26:07.088036Z",
     "iopub.status.busy": "2020-10-21T21:26:07.085908Z",
     "iopub.status.idle": "2020-10-21T21:26:07.088741Z",
     "shell.execute_reply": "2020-10-21T21:26:07.089234Z"
    },
    "papermill": {
     "duration": 0.039067,
     "end_time": "2020-10-21T21:26:07.089361",
     "exception": false,
     "start_time": "2020-10-21T21:26:07.050294",
     "status": "completed"
    },
    "tags": []
   },
   "outputs": [],
   "source": [
    "def breaker():\n",
    "    print(\"\\n\" + 30*\"-\" + \"\\n\")\n",
    "    \n",
    "def head(x, no_of_ele=5):\n",
    "    breaker()\n",
    "    print(x[:no_of_ele])\n",
    "    breaker()\n",
    "\n",
    "def getFileNames(root_dir=None):\n",
    "    f_name = []\n",
    "    for dirname, _, filenames in os.walk(root_dir):\n",
    "        for filename in filenames:\n",
    "            f_name.append(filename)\n",
    "    return f_name\n",
    "\n",
    "def removeChannelInfo(file_path=None, file_names=None, size=None):\n",
    "    sizes = []\n",
    "    images = []\n",
    "    for name in file_names:\n",
    "        image = cv2.imread(file_path+name)\n",
    "        if len(image.shape) > 2:\n",
    "            image = image[:, :, -1]\n",
    "        sizes.append(image.shape)\n",
    "        images.append(cv2.resize(image, dsize=(size, size), interpolation=cv2.INTER_LANCZOS4))\n",
    "    return images, sizes"
   ]
  },
  {
   "cell_type": "markdown",
   "metadata": {
    "papermill": {
     "duration": 0.018304,
     "end_time": "2020-10-21T21:26:07.126668",
     "exception": false,
     "start_time": "2020-10-21T21:26:07.108364",
     "status": "completed"
    },
    "tags": []
   },
   "source": [
    "# Data Processing"
   ]
  },
  {
   "cell_type": "markdown",
   "metadata": {
    "papermill": {
     "duration": 0.01811,
     "end_time": "2020-10-21T21:26:07.164471",
     "exception": false,
     "start_time": "2020-10-21T21:26:07.146361",
     "status": "completed"
    },
    "tags": []
   },
   "source": [
    "**File Name Handling**"
   ]
  },
  {
   "cell_type": "code",
   "execution_count": 5,
   "metadata": {
    "execution": {
     "iopub.execute_input": "2020-10-21T21:26:07.205465Z",
     "iopub.status.busy": "2020-10-21T21:26:07.204864Z",
     "iopub.status.idle": "2020-10-21T21:26:08.385049Z",
     "shell.execute_reply": "2020-10-21T21:26:08.384448Z"
    },
    "papermill": {
     "duration": 1.202202,
     "end_time": "2020-10-21T21:26:08.385169",
     "exception": false,
     "start_time": "2020-10-21T21:26:07.182967",
     "status": "completed"
    },
    "tags": []
   },
   "outputs": [],
   "source": [
    "tr_normal_file_names = getFileNames(tr_dir_normal)\n",
    "tr_pnemon_file_names = getFileNames(tr_dir_pnemon)\n",
    "ts_normal_file_names = getFileNames(ts_dir_normal)\n",
    "ts_pnemon_file_names = getFileNames(ts_dir_pnemon)"
   ]
  },
  {
   "cell_type": "markdown",
   "metadata": {
    "papermill": {
     "duration": 0.01836,
     "end_time": "2020-10-21T21:26:08.422576",
     "exception": false,
     "start_time": "2020-10-21T21:26:08.404216",
     "status": "completed"
    },
    "tags": []
   },
   "source": [
    "**Basic Info (Used to confirm correctness Pre-Dataset Numpy Arrays)**"
   ]
  },
  {
   "cell_type": "code",
   "execution_count": 6,
   "metadata": {
    "execution": {
     "iopub.execute_input": "2020-10-21T21:26:08.465568Z",
     "iopub.status.busy": "2020-10-21T21:26:08.464823Z",
     "iopub.status.idle": "2020-10-21T21:26:08.486718Z",
     "shell.execute_reply": "2020-10-21T21:26:08.485770Z"
    },
    "papermill": {
     "duration": 0.045684,
     "end_time": "2020-10-21T21:26:08.486877",
     "exception": false,
     "start_time": "2020-10-21T21:26:08.441193",
     "status": "completed"
    },
    "tags": []
   },
   "outputs": [
    {
     "name": "stdout",
     "output_type": "stream",
     "text": [
      "\n",
      "------------------------------\n",
      "\n",
      "Total Training Set Size        : 5232\n",
      "\n",
      "------------------------------\n",
      "\n",
      "Total Test Set Size            : 624\n",
      "\n",
      "------------------------------\n",
      "\n"
     ]
    }
   ],
   "source": [
    "breaker()\n",
    "print(\"Total Training Set Size        :\", repr(len(tr_normal_file_names) + len(tr_pnemon_file_names)))\n",
    "breaker()\n",
    "print(\"Total Test Set Size            :\", repr(len(ts_normal_file_names) + len(ts_pnemon_file_names)))\n",
    "breaker()"
   ]
  },
  {
   "cell_type": "markdown",
   "metadata": {
    "papermill": {
     "duration": 0.023308,
     "end_time": "2020-10-21T21:26:08.533993",
     "exception": false,
     "start_time": "2020-10-21T21:26:08.510685",
     "status": "completed"
    },
    "tags": []
   },
   "source": [
    "**Reading Image Data**"
   ]
  },
  {
   "cell_type": "code",
   "execution_count": 7,
   "metadata": {
    "execution": {
     "iopub.execute_input": "2020-10-21T21:26:08.587005Z",
     "iopub.status.busy": "2020-10-21T21:26:08.586341Z",
     "iopub.status.idle": "2020-10-21T21:27:59.362795Z",
     "shell.execute_reply": "2020-10-21T21:27:59.362069Z"
    },
    "papermill": {
     "duration": 110.805661,
     "end_time": "2020-10-21T21:27:59.362973",
     "exception": false,
     "start_time": "2020-10-21T21:26:08.557312",
     "status": "completed"
    },
    "tags": []
   },
   "outputs": [
    {
     "name": "stdout",
     "output_type": "stream",
     "text": [
      "Time Taken to process data : 1.85 minutes\n"
     ]
    }
   ],
   "source": [
    "start_time = time()\n",
    "\n",
    "n_size = 120\n",
    "trn_images, trn_sizes = removeChannelInfo(tr_dir_normal, tr_normal_file_names, n_size)\n",
    "trp_images, trp_sizes = removeChannelInfo(tr_dir_pnemon, tr_pnemon_file_names, n_size)\n",
    "\n",
    "tsn_images, tsn_sizes = removeChannelInfo(ts_dir_normal, ts_normal_file_names, n_size)\n",
    "tsp_images, tsp_sizes = removeChannelInfo(ts_dir_pnemon, ts_pnemon_file_names, n_size)\n",
    "\n",
    "print(\"Time Taken to process data : {:.2f} minutes\".format((time()-start_time)/60))"
   ]
  },
  {
   "cell_type": "markdown",
   "metadata": {
    "papermill": {
     "duration": 0.023991,
     "end_time": "2020-10-21T21:27:59.416975",
     "exception": false,
     "start_time": "2020-10-21T21:27:59.392984",
     "status": "completed"
    },
    "tags": []
   },
   "source": [
    "**Consolidating Train Images and creating Labels**"
   ]
  },
  {
   "cell_type": "code",
   "execution_count": 8,
   "metadata": {
    "execution": {
     "iopub.execute_input": "2020-10-21T21:27:59.473407Z",
     "iopub.status.busy": "2020-10-21T21:27:59.472051Z",
     "iopub.status.idle": "2020-10-21T21:27:59.717574Z",
     "shell.execute_reply": "2020-10-21T21:27:59.714007Z"
    },
    "papermill": {
     "duration": 0.276699,
     "end_time": "2020-10-21T21:27:59.717690",
     "exception": false,
     "start_time": "2020-10-21T21:27:59.440991",
     "status": "completed"
    },
    "tags": []
   },
   "outputs": [
    {
     "name": "stdout",
     "output_type": "stream",
     "text": [
      "(5232, 120, 120)\n",
      "(5232,)\n"
     ]
    }
   ],
   "source": [
    "tr_images = np.concatenate((trn_images, trp_images), axis=0)\n",
    "tr_images = np.divide(tr_images, MAX_VALUE)\n",
    "tr_labels = np.concatenate((np.zeros((len(trn_images))), np.ones((len(trp_images)))), axis=0)\n",
    "\n",
    "print(tr_images.shape)\n",
    "print(tr_labels.shape)"
   ]
  },
  {
   "cell_type": "markdown",
   "metadata": {
    "papermill": {
     "duration": 0.025355,
     "end_time": "2020-10-21T21:27:59.768818",
     "exception": false,
     "start_time": "2020-10-21T21:27:59.743463",
     "status": "completed"
    },
    "tags": []
   },
   "source": [
    "**Consolidating Test Images and creating Labels**"
   ]
  },
  {
   "cell_type": "code",
   "execution_count": 9,
   "metadata": {
    "execution": {
     "iopub.execute_input": "2020-10-21T21:27:59.827431Z",
     "iopub.status.busy": "2020-10-21T21:27:59.826046Z",
     "iopub.status.idle": "2020-10-21T21:27:59.864481Z",
     "shell.execute_reply": "2020-10-21T21:27:59.860766Z"
    },
    "papermill": {
     "duration": 0.070479,
     "end_time": "2020-10-21T21:27:59.864595",
     "exception": false,
     "start_time": "2020-10-21T21:27:59.794116",
     "status": "completed"
    },
    "tags": []
   },
   "outputs": [
    {
     "name": "stdout",
     "output_type": "stream",
     "text": [
      "(624, 120, 120)\n",
      "(624,)\n"
     ]
    }
   ],
   "source": [
    "ts_images = np.concatenate((tsn_images, tsp_images), axis=0)\n",
    "ts_images = np.divide(ts_images, MAX_VALUE)\n",
    "ts_labels = np.concatenate((np.zeros((len(tsn_images))), np.ones((len(tsp_images)))), axis=0)\n",
    "\n",
    "print(ts_images.shape)\n",
    "print(ts_labels.shape)\n",
    "\n",
    "num_obs_test = ts_labels.shape[0]"
   ]
  },
  {
   "cell_type": "markdown",
   "metadata": {
    "papermill": {
     "duration": 0.026831,
     "end_time": "2020-10-21T21:27:59.918411",
     "exception": false,
     "start_time": "2020-10-21T21:27:59.891580",
     "status": "completed"
    },
    "tags": []
   },
   "source": [
    "**Dataset Template**"
   ]
  },
  {
   "cell_type": "code",
   "execution_count": 10,
   "metadata": {
    "execution": {
     "iopub.execute_input": "2020-10-21T21:27:59.980694Z",
     "iopub.status.busy": "2020-10-21T21:27:59.980021Z",
     "iopub.status.idle": "2020-10-21T21:27:59.983012Z",
     "shell.execute_reply": "2020-10-21T21:27:59.983441Z"
    },
    "papermill": {
     "duration": 0.038289,
     "end_time": "2020-10-21T21:27:59.983564",
     "exception": false,
     "start_time": "2020-10-21T21:27:59.945275",
     "status": "completed"
    },
    "tags": []
   },
   "outputs": [],
   "source": [
    "class DS(Dataset):\n",
    "    def __init__(this, X=None, y=None, mode=\"train\"):\n",
    "        this.mode = mode\n",
    "        this.X = X\n",
    "        if mode == \"train\":\n",
    "            this.y = y\n",
    "        \n",
    "    def __len__(this):\n",
    "        return this.X.shape[0]\n",
    "    \n",
    "    def __getitem__(this, idx):\n",
    "        if this.mode == \"train\":\n",
    "            return torch.FloatTensor(this.X[idx]), torch.FloatTensor(this.y[idx])\n",
    "        else:\n",
    "            return torch.FloatTensor(this.X[idx])"
   ]
  },
  {
   "cell_type": "markdown",
   "metadata": {
    "papermill": {
     "duration": 0.02696,
     "end_time": "2020-10-21T21:28:00.037919",
     "exception": false,
     "start_time": "2020-10-21T21:28:00.010959",
     "status": "completed"
    },
    "tags": []
   },
   "source": [
    "# ANN"
   ]
  },
  {
   "cell_type": "markdown",
   "metadata": {
    "papermill": {
     "duration": 0.026867,
     "end_time": "2020-10-21T21:28:00.092166",
     "exception": false,
     "start_time": "2020-10-21T21:28:00.065299",
     "status": "completed"
    },
    "tags": []
   },
   "source": [
    "**Config**"
   ]
  },
  {
   "cell_type": "code",
   "execution_count": 11,
   "metadata": {
    "execution": {
     "iopub.execute_input": "2020-10-21T21:28:00.545964Z",
     "iopub.status.busy": "2020-10-21T21:28:00.544963Z",
     "iopub.status.idle": "2020-10-21T21:28:00.550751Z",
     "shell.execute_reply": "2020-10-21T21:28:00.549718Z"
    },
    "papermill": {
     "duration": 0.431622,
     "end_time": "2020-10-21T21:28:00.550882",
     "exception": false,
     "start_time": "2020-10-21T21:28:00.119260",
     "status": "completed"
    },
    "tags": []
   },
   "outputs": [],
   "source": [
    "class ANN_CFG():\n",
    "    tr_batch_size = 128\n",
    "    ts_batch_size = 128\n",
    "    \n",
    "    epochs = 25\n",
    "    \n",
    "    HL = [2048, 2048]\n",
    "    OL = 1\n",
    "    \n",
    "    device = torch.device(\"cuda:0\" if torch.cuda.is_available() else \"cpu\")\n",
    "    \n",
    "cfg = ANN_CFG()\n",
    "\n",
    "trds = DS(tr_images, tr_labels.reshape(-1,1))\n",
    "trd  = DL(trds, batch_size=cfg.tr_batch_size, shuffle=True, generator=torch.manual_seed(0))"
   ]
  },
  {
   "cell_type": "markdown",
   "metadata": {
    "papermill": {
     "duration": 0.027204,
     "end_time": "2020-10-21T21:28:00.605649",
     "exception": false,
     "start_time": "2020-10-21T21:28:00.578445",
     "status": "completed"
    },
    "tags": []
   },
   "source": [
    "**Setup**"
   ]
  },
  {
   "cell_type": "code",
   "execution_count": 12,
   "metadata": {
    "execution": {
     "iopub.execute_input": "2020-10-21T21:28:00.681904Z",
     "iopub.status.busy": "2020-10-21T21:28:00.680109Z",
     "iopub.status.idle": "2020-10-21T21:28:00.682542Z",
     "shell.execute_reply": "2020-10-21T21:28:00.683062Z"
    },
    "papermill": {
     "duration": 0.050085,
     "end_time": "2020-10-21T21:28:00.683199",
     "exception": false,
     "start_time": "2020-10-21T21:28:00.633114",
     "status": "completed"
    },
    "tags": []
   },
   "outputs": [],
   "source": [
    "class ANN(nn.Module):\n",
    "    def __init__(this, IL=None, HL=None, OL=None):\n",
    "    \n",
    "        super(ANN, this).__init__()\n",
    "        \n",
    "        this.MP  = nn.MaxPool2d(kernel_size=2)\n",
    "    \n",
    "        this.BN1 = nn.BatchNorm2d(1)\n",
    "        this.CN1 = nn.Conv2d(in_channels=1, out_channels=64, kernel_size=3)\n",
    "        \n",
    "        this.BN2 = nn.BatchNorm2d(64)\n",
    "        this.CN2 = nn.Conv2d(in_channels=64, out_channels=64, kernel_size=3)\n",
    "        \n",
    "        this.BN3 = nn.BatchNorm2d(64)\n",
    "        this.CN3 = nn.Conv2d(in_channels=64, out_channels=128, kernel_size=3)\n",
    "        \n",
    "        this.BN4 = nn.BatchNorm2d(128)\n",
    "        this.CN4 = nn.Conv2d(in_channels=128, out_channels=128, kernel_size=3)\n",
    "        \n",
    "        this.FC1 = WN(nn.Linear(128*5*5, HL[0]))\n",
    "        this.FC2 = WN(nn.Linear(HL[0], HL[1]))\n",
    "        this.FC3 = WN(nn.Linear(HL[1], OL))\n",
    "        \n",
    "    def getOptimizer(this):\n",
    "        return optim.Adam(this.parameters(), lr=1e-3, weight_decay=0)\n",
    "    \n",
    "    def forward(this, x):\n",
    "        x = this.BN1(x)\n",
    "        x = this.CN1(x)\n",
    "        x = F.relu(this.MP(x))\n",
    "        x = this.BN2(x)\n",
    "        x = this.CN2(x)\n",
    "        x = F.relu(this.MP(x))\n",
    "        x = this.BN3(x)\n",
    "        x = this.CN3(x)\n",
    "        x = F.relu(this.MP(x))\n",
    "        x = this.BN4(x)\n",
    "        x = this.CN4(x)\n",
    "        x = F.relu(this.MP(x))\n",
    "        x = x.view(x.shape[0], -1)\n",
    "        x = F.relu(this.FC1(x))\n",
    "        x = F.relu(this.FC2(x))\n",
    "        x = torch.sigmoid(this.FC3(x))\n",
    "        return x"
   ]
  },
  {
   "cell_type": "markdown",
   "metadata": {
    "papermill": {
     "duration": 0.027246,
     "end_time": "2020-10-21T21:28:00.737765",
     "exception": false,
     "start_time": "2020-10-21T21:28:00.710519",
     "status": "completed"
    },
    "tags": []
   },
   "source": [
    "**ANN Helpers**"
   ]
  },
  {
   "cell_type": "code",
   "execution_count": 13,
   "metadata": {
    "execution": {
     "iopub.execute_input": "2020-10-21T21:28:00.823545Z",
     "iopub.status.busy": "2020-10-21T21:28:00.810412Z",
     "iopub.status.idle": "2020-10-21T21:28:00.826010Z",
     "shell.execute_reply": "2020-10-21T21:28:00.825511Z"
    },
    "papermill": {
     "duration": 0.061064,
     "end_time": "2020-10-21T21:28:00.826110",
     "exception": false,
     "start_time": "2020-10-21T21:28:00.765046",
     "status": "completed"
    },
    "tags": []
   },
   "outputs": [],
   "source": [
    "def train_fn(X=None, y=None):\n",
    "    LP = []\n",
    "    name_getter = []\n",
    "    \n",
    "    bestLoss = {\"train\" : np.inf, \"valid\" : np.inf}\n",
    "    \n",
    "    n_folds = 4\n",
    "    fold = 0\n",
    "    \n",
    "    start_time = time()\n",
    "    for tr_idx, va_idx in KFold(n_splits=n_folds, shuffle=True, random_state=0).split(X, y):\n",
    "        breaker()\n",
    "        print(\"Fold {fold} processing...\".format(fold=fold+1))\n",
    "        \n",
    "        X_train, X_valid, y_train, y_valid = X[tr_idx], X[va_idx], y[tr_idx], y[va_idx]\n",
    "        \n",
    "        tr_data_setup = DS(X_train, y_train.reshape(-1,1))\n",
    "        va_data_setup = DS(X_valid, y_valid.reshape(-1,1))\n",
    "        \n",
    "        dataloaders = {\"train\" : DL(tr_data_setup, batch_size=cfg.tr_batch_size, shuffle=True, generator=torch.manual_seed(0)),\n",
    "                       \"valid\" : DL(va_data_setup, batch_size=cfg.tr_batch_size, shuffle=False)}\n",
    "        \n",
    "        model = ANN(IL=None, HL=cfg.HL, OL=cfg.OL)\n",
    "        model.to(cfg.device)\n",
    "        \n",
    "        optimizer = model.getOptimizer()\n",
    "        \n",
    "        for e in range(cfg.epochs):\n",
    "            epochLoss = {\"train\" : 0, \"valid\" : 0}\n",
    "            for phase in [\"train\", \"valid\"]:\n",
    "                if phase == \"train\":\n",
    "                    model.train()\n",
    "                else:\n",
    "                    model.eval()\n",
    "                lossPerPass = 0\n",
    "                \n",
    "                for feats, label in dataloaders[phase]:\n",
    "                    feats, label = feats.to(cfg.device).view(feats.shape[0], 1, n_size, n_size), label.to(cfg.device)\n",
    "                    \n",
    "                    optimizer.zero_grad()\n",
    "                    with torch.set_grad_enabled(phase == \"train\"):\n",
    "                        output = model(feats)\n",
    "                        loss = nn.BCELoss()(output, label)\n",
    "                    if phase == \"train\":\n",
    "                        loss.backward()\n",
    "                        optimizer.step()\n",
    "                    lossPerPass += (loss.item()/label.shape[0])\n",
    "                epochLoss[phase] = lossPerPass\n",
    "            LP.append(epochLoss)\n",
    "            \n",
    "            if epochLoss[\"valid\"] < bestLoss[\"valid\"]:\n",
    "                bestLoss = epochLoss\n",
    "                name = \"./Model_Fold_{fold}.pt\".format(fold=fold)\n",
    "                name_getter.append(name)\n",
    "                torch.save(model.state_dict(), name)\n",
    "        fold += 1\n",
    "    \n",
    "    breaker()\n",
    "    print(\"Time taken to train {fold} folds for {e} epochs : {:.2f} minutes\".format((time()-start_time)/60, fold=n_folds, e=cfg.epochs))\n",
    "    breaker()\n",
    "    print(\"Best Loss :\", repr(bestLoss))\n",
    "    breaker()\n",
    "    \n",
    "    return LP, name_getter, model\n",
    "\n",
    "def eval_fn(model=None, names=None, dataloader=None):\n",
    "    final_Pred = np.zeros((num_obs_test, 1))\n",
    "    \n",
    "    for name in names:\n",
    "        Pred = torch.zeros(cfg.ts_batch_size, 1).to(cfg.device)\n",
    "        model.load_state_dict(torch.load(name))\n",
    "        model.eval()\n",
    "        for X, y in dataloader:\n",
    "            X = X.to(cfg.device).view(X.shape[0], 1, n_size, n_size)\n",
    "            with torch.no_grad():\n",
    "                Prob = model(X)\n",
    "            Pred = torch.cat((Pred, Prob), dim=0)\n",
    "        Pred = Pred[cfg.ts_batch_size:]\n",
    "        Pred = Pred.cpu().numpy()\n",
    "        final_Pred = np.add(final_Pred, Pred)\n",
    "        \n",
    "    final_Pred = np.divide(final_Pred, len(names))\n",
    "    final_Pred[np.argwhere(final_Pred > 0.5)[:, 0]]  = int(1)\n",
    "    final_Pred[np.argwhere(final_Pred <= 0.5)[:, 0]] = int(0)\n",
    "    return final_Pred.reshape(-1)"
   ]
  },
  {
   "cell_type": "code",
   "execution_count": 14,
   "metadata": {
    "execution": {
     "iopub.execute_input": "2020-10-21T21:28:00.889050Z",
     "iopub.status.busy": "2020-10-21T21:28:00.888441Z",
     "iopub.status.idle": "2020-10-21T21:33:11.009294Z",
     "shell.execute_reply": "2020-10-21T21:33:10.996157Z"
    },
    "papermill": {
     "duration": 310.155928,
     "end_time": "2020-10-21T21:33:11.009412",
     "exception": false,
     "start_time": "2020-10-21T21:28:00.853484",
     "status": "completed"
    },
    "tags": []
   },
   "outputs": [
    {
     "name": "stdout",
     "output_type": "stream",
     "text": [
      "\n",
      "------------------------------\n",
      "\n",
      "Fold 1 processing...\n",
      "\n",
      "------------------------------\n",
      "\n",
      "Fold 2 processing...\n",
      "\n",
      "------------------------------\n",
      "\n",
      "Fold 3 processing...\n",
      "\n",
      "------------------------------\n",
      "\n",
      "Fold 4 processing...\n",
      "\n",
      "------------------------------\n",
      "\n",
      "Time taken to train 4 folds for 25 epochs : 5.17 minutes\n",
      "\n",
      "------------------------------\n",
      "\n",
      "Best Loss : {'train': 0.008547713469029293, 'valid': 0.004306486289611452}\n",
      "\n",
      "------------------------------\n",
      "\n"
     ]
    }
   ],
   "source": [
    "LP, Names, Network = train_fn(X=tr_images, y=tr_labels)"
   ]
  },
  {
   "cell_type": "code",
   "execution_count": 15,
   "metadata": {
    "execution": {
     "iopub.execute_input": "2020-10-21T21:33:11.103658Z",
     "iopub.status.busy": "2020-10-21T21:33:11.102964Z",
     "iopub.status.idle": "2020-10-21T21:33:11.767289Z",
     "shell.execute_reply": "2020-10-21T21:33:11.767795Z"
    },
    "papermill": {
     "duration": 0.72134,
     "end_time": "2020-10-21T21:33:11.767969",
     "exception": false,
     "start_time": "2020-10-21T21:33:11.046629",
     "status": "completed"
    },
    "tags": []
   },
   "outputs": [
    {
     "data": {
      "image/png": "[encoded data removed]",
      "text/plain": [
       "<Figure size 1440x1080 with 4 Axes>"
      ]
     },
     "metadata": {
      "needs_background": "light"
     },
     "output_type": "display_data"
    }
   ],
   "source": [
    "LPV = []\n",
    "LPT = []\n",
    "for i in range(len(LP)):\n",
    "  LPT.append(LP[i][\"train\"])\n",
    "  LPV.append(LP[i][\"valid\"])\n",
    "\n",
    "xAxis = [i+1 for i in range(cfg.epochs)]\n",
    "\n",
    "plt.figure(figsize=(20, 15))\n",
    "plt.subplot(4, 1, 1)\n",
    "plt.plot(xAxis, LPT[:cfg.epochs], \"b\", label=\"Training Loss\")\n",
    "plt.plot(xAxis, LPV[:cfg.epochs], \"r--\", label=\"Validation Loss\")\n",
    "plt.legend()\n",
    "plt.xlabel(\"Epochs\")\n",
    "plt.ylabel(\"Loss\")\n",
    "plt.title(\"Fold 1\")\n",
    "plt.subplot(4, 1, 2)\n",
    "plt.plot(xAxis, LPT[1*cfg.epochs:2*cfg.epochs], \"b\", label=\"Training Loss\")\n",
    "plt.plot(xAxis, LPV[1*cfg.epochs:2*cfg.epochs], \"r--\", label=\"Validation Loss\")\n",
    "plt.legend()\n",
    "plt.xlabel(\"Epochs\")\n",
    "plt.ylabel(\"Loss\")\n",
    "plt.title(\"Fold 2\")\n",
    "plt.subplot(4, 1, 3)\n",
    "plt.plot(xAxis, LPT[2*cfg.epochs:3*cfg.epochs], \"b\", label=\"Training Loss\")\n",
    "plt.plot(xAxis, LPV[2*cfg.epochs:3*cfg.epochs], \"r--\", label=\"Validation Loss\")\n",
    "plt.legend()\n",
    "plt.xlabel(\"Epochs\")\n",
    "plt.ylabel(\"Loss\")\n",
    "plt.title(\"Fold 3\")\n",
    "plt.subplot(4, 1, 4)\n",
    "plt.plot(xAxis, LPT[3*cfg.epochs:4*cfg.epochs], \"b\", label=\"Training Loss\")\n",
    "plt.plot(xAxis, LPV[3*cfg.epochs:4*cfg.epochs], \"r--\", label=\"Validation Loss\")\n",
    "plt.legend()\n",
    "plt.xlabel(\"Epochs\")\n",
    "plt.ylabel(\"Loss\")\n",
    "plt.title(\"Fold 4\")\n",
    "plt.show()"
   ]
  },
  {
   "cell_type": "code",
   "execution_count": 16,
   "metadata": {
    "execution": {
     "iopub.execute_input": "2020-10-21T21:33:11.854573Z",
     "iopub.status.busy": "2020-10-21T21:33:11.853792Z",
     "iopub.status.idle": "2020-10-21T21:33:13.029562Z",
     "shell.execute_reply": "2020-10-21T21:33:13.028805Z"
    },
    "papermill": {
     "duration": 1.221913,
     "end_time": "2020-10-21T21:33:13.029702",
     "exception": false,
     "start_time": "2020-10-21T21:33:11.807789",
     "status": "completed"
    },
    "tags": []
   },
   "outputs": [
    {
     "name": "stdout",
     "output_type": "stream",
     "text": [
      "\n",
      "------------------------------\n",
      "\n",
      "ANN Model Accuracy  : 85.25641 %\n",
      "\n",
      "------------------------------\n",
      "\n"
     ]
    }
   ],
   "source": [
    "ts_data_setup = DS(ts_images, ts_labels.reshape(-1,1))\n",
    "ts_data = DL(ts_data_setup, batch_size=cfg.ts_batch_size, shuffle=False)\n",
    "\n",
    "y_pred = eval_fn(Network, Names, ts_data)\n",
    "\n",
    "breaker()\n",
    "print(\"ANN Model Accuracy  : {:.5f} %\".format(accuracy_score(ts_labels, y_pred) * 100))\n",
    "breaker()"
   ]
  },
  {
   "cell_type": "code",
   "execution_count": 17,
   "metadata": {
    "execution": {
     "iopub.execute_input": "2020-10-21T21:33:13.120172Z",
     "iopub.status.busy": "2020-10-21T21:33:13.119099Z",
     "iopub.status.idle": "2020-10-21T21:33:13.133296Z",
     "shell.execute_reply": "2020-10-21T21:33:13.131141Z"
    },
    "papermill": {
     "duration": 0.061404,
     "end_time": "2020-10-21T21:33:13.133455",
     "exception": false,
     "start_time": "2020-10-21T21:33:13.072051",
     "status": "completed"
    },
    "tags": []
   },
   "outputs": [
    {
     "name": "stdout",
     "output_type": "stream",
     "text": [
      "\n",
      "------------------------------\n",
      "\n",
      "Time taken to run Notebook : 7.19 minutes\n",
      "\n",
      "------------------------------\n",
      "\n"
     ]
    }
   ],
   "source": [
    "breaker()\n",
    "print(\"Time taken to run Notebook : {:.2f} minutes\".format((time()-notebook_start_time)/60))\n",
    "breaker()\n",
    "\n",
    "#Only Uncomment When Committing"
   ]
  }
 ],
 "metadata": {
  "kernelspec": {
   "display_name": "Python 3",
   "language": "python",
   "name": "python3"
  },
  "language_info": {
   "codemirror_mode": {
    "name": "ipython",
    "version": 3
   },
   "file_extension": ".py",
   "mimetype": "text/x-python",
   "name": "python",
   "nbconvert_exporter": "python",
   "pygments_lexer": "ipython3",
   "version": "3.7.6"
  },
  "papermill": {
   "duration": 436.450378,
   "end_time": "2020-10-21T21:33:13.687404",
   "environment_variables": {},
   "exception": null,
   "input_path": "__notebook__.ipynb",
   "output_path": "__notebook__.ipynb",
   "parameters": {},
   "start_time": "2020-10-21T21:25:57.237026",
   "version": "2.1.0"
  }
 },
 "nbformat": 4,
 "nbformat_minor": 4
}
