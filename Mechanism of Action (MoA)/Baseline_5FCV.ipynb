{
 "cells": [
  {
   "cell_type": "markdown",
   "metadata": {
    "papermill": {
     "duration": 0.017493,
     "end_time": "2020-10-23T17:32:57.479225",
     "exception": false,
     "start_time": "2020-10-23T17:32:57.461732",
     "status": "completed"
    },
    "tags": []
   },
   "source": [
    "# Library Imports"
   ]
  },
  {
   "cell_type": "code",
   "execution_count": 1,
   "metadata": {
    "_cell_guid": "b1076dfc-b9ad-4769-8c92-a6c4dae69d19",
    "_uuid": "8f2839f25d086af736a60e9eeb907d3b93b6e0e5",
    "execution": {
     "iopub.execute_input": "2020-10-23T17:32:57.522453Z",
     "iopub.status.busy": "2020-10-23T17:32:57.521583Z",
     "iopub.status.idle": "2020-10-23T17:33:00.244806Z",
     "shell.execute_reply": "2020-10-23T17:33:00.244123Z"
    },
    "papermill": {
     "duration": 2.749265,
     "end_time": "2020-10-23T17:33:00.244929",
     "exception": false,
     "start_time": "2020-10-23T17:32:57.495664",
     "status": "completed"
    },
    "tags": []
   },
   "outputs": [],
   "source": [
    "import sys\n",
    "sys.path.append('../input/iterative-stratification/iterative-stratification-master')\n",
    "\n",
    "import numpy as np\n",
    "import pandas as pd\n",
    "import matplotlib.pyplot as plt\n",
    "\n",
    "from sklearn.metrics import log_loss\n",
    "from iterstrat.ml_stratifiers import MultilabelStratifiedKFold\n",
    "\n",
    "from time import time\n",
    "\n",
    "import torch\n",
    "from torch import nn, optim\n",
    "from torch.utils.data import DataLoader as DL\n",
    "from torch.utils.data import Dataset\n",
    "import torch.nn.utils.weight_norm as WN\n",
    "import torch.nn.functional as F\n",
    "\n",
    "import random as r\n",
    "\n",
    "import warnings\n",
    "warnings.filterwarnings(\"ignore\")\n",
    "\n",
    "torch.backends.cudnn.deterministic = True\n",
    "torch.backends.cudnn.benchmark = False"
   ]
  },
  {
   "cell_type": "markdown",
   "metadata": {
    "papermill": {
     "duration": 0.017566,
     "end_time": "2020-10-23T17:33:00.280671",
     "exception": false,
     "start_time": "2020-10-23T17:33:00.263105",
     "status": "completed"
    },
    "tags": []
   },
   "source": [
    "# Helper Functions"
   ]
  },
  {
   "cell_type": "code",
   "execution_count": 2,
   "metadata": {
    "_cell_guid": "79c7e3d0-c299-4dcb-8224-4455121ee9b0",
    "_uuid": "d629ff2d2480ee46fbb7e2d37f6b5fab8052498a",
    "execution": {
     "iopub.execute_input": "2020-10-23T17:33:00.325182Z",
     "iopub.status.busy": "2020-10-23T17:33:00.323185Z",
     "iopub.status.idle": "2020-10-23T17:33:00.326071Z",
     "shell.execute_reply": "2020-10-23T17:33:00.326653Z"
    },
    "papermill": {
     "duration": 0.030167,
     "end_time": "2020-10-23T17:33:00.326783",
     "exception": false,
     "start_time": "2020-10-23T17:33:00.296616",
     "status": "completed"
    },
    "tags": []
   },
   "outputs": [],
   "source": [
    "def breaker():\n",
    "  print(\"\\n\" + 30*\"-\" + \"\\n\")\n",
    "\n",
    "def head(x, no_of_ele=5):\n",
    "    breaker()\n",
    "    print(x[:no_of_ele])\n",
    "    breaker()\n",
    "\n",
    "def preprocess(x):\n",
    "  df = x.copy()\n",
    "  df.iloc[:, 1] = df.iloc[:, 1].map({\"trt_cp\" : 0, \"ctl_vehicle\" : 1})\n",
    "  df.iloc[:, 3] = df.iloc[:, 3].map({\"D1\" : 0, \"D2\" : 1})\n",
    "  return df\n",
    "\n",
    "def getCol(x):\n",
    "  return [col for col in x.columns]\n",
    "\n",
    "n_folds = 5"
   ]
  },
  {
   "cell_type": "markdown",
   "metadata": {
    "papermill": {
     "duration": 0.015789,
     "end_time": "2020-10-23T17:33:00.358459",
     "exception": false,
     "start_time": "2020-10-23T17:33:00.342670",
     "status": "completed"
    },
    "tags": []
   },
   "source": [
    "# Data Handling"
   ]
  },
  {
   "cell_type": "markdown",
   "metadata": {
    "papermill": {
     "duration": 0.015621,
     "end_time": "2020-10-23T17:33:00.389683",
     "exception": false,
     "start_time": "2020-10-23T17:33:00.374062",
     "status": "completed"
    },
    "tags": []
   },
   "source": [
    "**Inputs**"
   ]
  },
  {
   "cell_type": "code",
   "execution_count": 3,
   "metadata": {
    "execution": {
     "iopub.execute_input": "2020-10-23T17:33:00.432717Z",
     "iopub.status.busy": "2020-10-23T17:33:00.431501Z",
     "iopub.status.idle": "2020-10-23T17:33:06.810913Z",
     "shell.execute_reply": "2020-10-23T17:33:06.811698Z"
    },
    "papermill": {
     "duration": 6.405757,
     "end_time": "2020-10-23T17:33:06.811871",
     "exception": false,
     "start_time": "2020-10-23T17:33:00.406114",
     "status": "completed"
    },
    "tags": []
   },
   "outputs": [
    {
     "name": "stdout",
     "output_type": "stream",
     "text": [
      "\n",
      "------------------------------\n",
      "\n",
      "TRAINING FEATURES DATASET SHAPE : (23814, 876)\n",
      "\n",
      "------------------------------\n",
      "\n",
      "TRAINING LABELS DATASET SHAPE   : (23814, 207)\n",
      "\n",
      "------------------------------\n",
      "\n",
      "TEST FEATURES DATASET SHAPE     : (3982, 876)\n",
      "\n",
      "------------------------------\n",
      "\n"
     ]
    }
   ],
   "source": [
    "tr_feat = pd.read_csv('../input/lish-moa/train_features.csv')\n",
    "tr_lbls = pd.read_csv('../input/lish-moa/train_targets_scored.csv')\n",
    "ts_feat = pd.read_csv('../input/lish-moa/test_features.csv')\n",
    "\n",
    "breaker()\n",
    "print(\"TRAINING FEATURES DATASET SHAPE :\", repr(tr_feat.shape))\n",
    "breaker()\n",
    "print(\"TRAINING LABELS DATASET SHAPE   :\", repr(tr_lbls.shape))\n",
    "breaker()\n",
    "print(\"TEST FEATURES DATASET SHAPE     :\", repr(ts_feat.shape))\n",
    "breaker()\n",
    "\n",
    "X = tr_feat.copy()\n",
    "y = tr_lbls.copy()"
   ]
  },
  {
   "cell_type": "markdown",
   "metadata": {
    "papermill": {
     "duration": 0.016558,
     "end_time": "2020-10-23T17:33:06.845797",
     "exception": false,
     "start_time": "2020-10-23T17:33:06.829239",
     "status": "completed"
    },
    "tags": []
   },
   "source": [
    "**Top Features**"
   ]
  },
  {
   "cell_type": "code",
   "execution_count": 4,
   "metadata": {
    "execution": {
     "iopub.execute_input": "2020-10-23T17:33:06.911990Z",
     "iopub.status.busy": "2020-10-23T17:33:06.891259Z",
     "iopub.status.idle": "2020-10-23T17:33:06.947579Z",
     "shell.execute_reply": "2020-10-23T17:33:06.946954Z"
    },
    "papermill": {
     "duration": 0.085798,
     "end_time": "2020-10-23T17:33:06.947688",
     "exception": false,
     "start_time": "2020-10-23T17:33:06.861890",
     "status": "completed"
    },
    "tags": []
   },
   "outputs": [],
   "source": [
    "top_feats = [  1,   2,   3,   4,   5,   6,   7,   9,  11,  14,  15,  16,  17,\n",
    "              18,  19,  20,  21,  22,  23,  24,  25,  26,  27,  29,  30,  31,\n",
    "              32,  33,  35,  36,  37,  38,  39,  40,  41,  42,  43,  44,  46,\n",
    "              47,  48,  49,  50,  51,  52,  53,  54,  55,  56,  58,  59,  60,\n",
    "              61,  62,  63,  64,  65,  66,  67,  68,  69,  70,  71,  72,  73,\n",
    "              74,  75,  76,  78,  79,  80,  81,  82,  83,  84,  86,  87,  88,\n",
    "              89,  90,  91,  92,  93,  94,  95,  96,  97,  98,  99, 100, 101,\n",
    "              102, 103, 104, 105, 106, 107, 108, 109, 110, 111, 112, 113, 114,\n",
    "              115, 116, 117, 118, 120, 121, 122, 123, 124, 125, 126, 127, 128,\n",
    "              129, 130, 131, 132, 133, 136, 137, 138, 139, 140, 141, 142, 143,\n",
    "              144, 145, 146, 147, 149, 150, 151, 152, 153, 154, 155, 156, 157,\n",
    "              158, 159, 160, 161, 162, 163, 164, 165, 166, 167, 168, 169, 170,\n",
    "              171, 172, 173, 174, 175, 176, 177, 178, 179, 180, 181, 182, 183,\n",
    "              184, 185, 186, 187, 188, 189, 190, 191, 192, 193, 194, 195, 197,\n",
    "              198, 199, 200, 202, 203, 204, 205, 206, 208, 209, 210, 211, 212,\n",
    "              213, 214, 215, 216, 217, 218, 219, 220, 221, 223, 224, 225, 226,\n",
    "              227, 228, 229, 230, 231, 232, 233, 234, 235, 236, 237, 238, 239,\n",
    "              240, 242, 243, 244, 245, 246, 247, 248, 249, 250, 251, 252, 253,\n",
    "              254, 255, 256, 257, 258, 259, 260, 261, 262, 263, 264, 265, 266,\n",
    "              267, 268, 269, 271, 272, 273, 274, 275, 276, 277, 278, 279, 280,\n",
    "              281, 282, 283, 284, 285, 286, 287, 288, 289, 290, 291, 292, 294,\n",
    "              295, 296, 298, 300, 301, 302, 303, 304, 305, 306, 307, 308, 309,\n",
    "              310, 311, 312, 314, 315, 316, 317, 318, 319, 320, 321, 322, 323,\n",
    "              324, 325, 326, 327, 328, 329, 330, 331, 332, 333, 334, 335, 336,\n",
    "              337, 338, 339, 340, 341, 342, 343, 344, 345, 346, 347, 348, 349,\n",
    "              350, 351, 352, 353, 354, 355, 356, 357, 358, 359, 360, 361, 362,\n",
    "              363, 364, 365, 366, 367, 368, 369, 370, 371, 374, 375, 376, 377,\n",
    "              378, 379, 380, 381, 382, 383, 384, 385, 386, 387, 388, 390, 391,\n",
    "              392, 393, 394, 395, 396, 397, 398, 399, 400, 401, 402, 403, 404,\n",
    "              405, 406, 407, 408, 409, 411, 412, 413, 414, 415, 416, 417, 418,\n",
    "              419, 420, 421, 422, 423, 424, 425, 426, 427, 428, 429, 430, 431,\n",
    "              432, 434, 435, 436, 437, 438, 439, 440, 442, 443, 444, 445, 446,\n",
    "              447, 448, 449, 450, 453, 454, 456, 457, 458, 459, 460, 461, 462,\n",
    "              463, 464, 465, 466, 467, 468, 469, 470, 471, 472, 473, 474, 475,\n",
    "              476, 477, 478, 479, 481, 482, 483, 484, 485, 486, 487, 488, 489,\n",
    "              490, 491, 492, 493, 494, 495, 496, 498, 500, 501, 502, 503, 505,\n",
    "              506, 507, 509, 510, 511, 512, 513, 514, 515, 518, 519, 520, 521,\n",
    "              522, 523, 524, 525, 526, 527, 528, 530, 531, 532, 534, 535, 536,\n",
    "              538, 539, 540, 541, 542, 543, 544, 545, 546, 547, 549, 550, 551,\n",
    "              552, 554, 557, 559, 560, 561, 562, 565, 566, 567, 568, 569, 570,\n",
    "              571, 572, 573, 574, 575, 577, 578, 580, 581, 582, 583, 584, 585,\n",
    "              586, 587, 588, 589, 590, 591, 592, 593, 594, 595, 596, 597, 599,\n",
    "              600, 601, 602, 606, 607, 608, 609, 611, 612, 613, 615, 616, 617,\n",
    "              618, 619, 620, 621, 622, 623, 624, 625, 626, 627, 628, 629, 630,\n",
    "              631, 632, 633, 634, 635, 636, 637, 638, 639, 641, 642, 643, 644,\n",
    "              645, 646, 647, 648, 649, 650, 651, 652, 654, 655, 656, 658, 659,\n",
    "              660, 661, 662, 663, 664, 665, 666, 667, 668, 669, 670, 671, 672,\n",
    "              673, 674, 675, 676, 677, 678, 679, 680, 681, 682, 683, 684, 685,\n",
    "              686, 687, 688, 689, 691, 692, 693, 694, 695, 696, 697, 699, 700,\n",
    "              701, 702, 704, 705, 707, 708, 709, 710, 711, 713, 714, 716, 717,\n",
    "              718, 720, 721, 723, 724, 725, 726, 727, 728, 729, 730, 731, 732,\n",
    "              733, 734, 735, 737, 738, 739, 740, 742, 743, 744, 745, 746, 747,\n",
    "              748, 749, 750, 751, 752, 753, 754, 755, 756, 757, 759, 760, 761,\n",
    "              762, 763, 764, 765, 766, 767, 768, 769, 770, 771, 772, 773, 774,\n",
    "              775, 776, 777, 779, 780, 781, 782, 783, 784, 785, 786, 787, 788,\n",
    "              789, 790, 792, 793, 794, 795, 796, 797, 798, 800, 801, 802, 803,\n",
    "              804, 805, 806, 808, 809, 811, 813, 814, 815, 816, 817, 818, 819,\n",
    "              821, 822, 823, 825, 826, 827, 828, 829, 830, 831, 832, 834, 835,\n",
    "              837, 838, 839, 840, 841, 842, 845, 846, 847, 848, 850, 851, 852,\n",
    "              854, 855, 856, 858, 859, 860, 861, 862, 864, 866, 867, 868, 869,\n",
    "              870, 871, 872, 873, 874]\n",
    "\n",
    "num_features = len(top_feats)\n",
    "num_classes  = tr_lbls.shape[1] - 1\n",
    "num_obs_test = ts_feat.shape[0]\n",
    "columns      = getCol(tr_lbls)\n",
    "\n",
    "del tr_feat, tr_lbls"
   ]
  },
  {
   "cell_type": "markdown",
   "metadata": {
    "papermill": {
     "duration": 0.016903,
     "end_time": "2020-10-23T17:33:06.981128",
     "exception": false,
     "start_time": "2020-10-23T17:33:06.964225",
     "status": "completed"
    },
    "tags": []
   },
   "source": [
    "**Dataset Template**"
   ]
  },
  {
   "cell_type": "code",
   "execution_count": 5,
   "metadata": {
    "execution": {
     "iopub.execute_input": "2020-10-23T17:33:07.023813Z",
     "iopub.status.busy": "2020-10-23T17:33:07.023031Z",
     "iopub.status.idle": "2020-10-23T17:33:07.027561Z",
     "shell.execute_reply": "2020-10-23T17:33:07.026909Z"
    },
    "papermill": {
     "duration": 0.029686,
     "end_time": "2020-10-23T17:33:07.027668",
     "exception": false,
     "start_time": "2020-10-23T17:33:06.997982",
     "status": "completed"
    },
    "tags": []
   },
   "outputs": [],
   "source": [
    "class DS(Dataset):\n",
    "  def __init__(this, X=None, y=None, mode=\"train\"):\n",
    "    this.mode = mode\n",
    "    this.X = X\n",
    "    if mode == \"train\":\n",
    "      this.y = y\n",
    "\n",
    "  def __len__(this):\n",
    "    return this.X.shape[0]\n",
    "\n",
    "  def __getitem__(this, idx):\n",
    "    if this.mode == \"train\":\n",
    "      return torch.FloatTensor(this.X[idx]), torch.FloatTensor(this.y[idx])\n",
    "    else:\n",
    "      return torch.FloatTensor(this.X[idx])"
   ]
  },
  {
   "cell_type": "markdown",
   "metadata": {
    "papermill": {
     "duration": 0.016772,
     "end_time": "2020-10-23T17:33:07.061514",
     "exception": false,
     "start_time": "2020-10-23T17:33:07.044742",
     "status": "completed"
    },
    "tags": []
   },
   "source": [
    "# ANN"
   ]
  },
  {
   "cell_type": "markdown",
   "metadata": {
    "papermill": {
     "duration": 0.01638,
     "end_time": "2020-10-23T17:33:07.094840",
     "exception": false,
     "start_time": "2020-10-23T17:33:07.078460",
     "status": "completed"
    },
    "tags": []
   },
   "source": [
    "**Config**"
   ]
  },
  {
   "cell_type": "code",
   "execution_count": 6,
   "metadata": {
    "execution": {
     "iopub.execute_input": "2020-10-23T17:33:07.504620Z",
     "iopub.status.busy": "2020-10-23T17:33:07.503876Z",
     "iopub.status.idle": "2020-10-23T17:33:07.509116Z",
     "shell.execute_reply": "2020-10-23T17:33:07.508533Z"
    },
    "papermill": {
     "duration": 0.398107,
     "end_time": "2020-10-23T17:33:07.509232",
     "exception": false,
     "start_time": "2020-10-23T17:33:07.111125",
     "status": "completed"
    },
    "tags": []
   },
   "outputs": [],
   "source": [
    "class ANN_CFG():\n",
    "    tr_batch_size = 256\n",
    "    va_batch_size = 256\n",
    "    ts_batch_size = 256\n",
    "    \n",
    "    epochs = 50\n",
    "    \n",
    "    IL = num_features\n",
    "    HL = [512, 512, 512]\n",
    "    OL = num_classes\n",
    "    \n",
    "    device = torch.device(\"cuda:0\" if torch.cuda.is_available() else \"cpu\")\n",
    "    \n",
    "cfg = ANN_CFG()"
   ]
  },
  {
   "cell_type": "markdown",
   "metadata": {
    "papermill": {
     "duration": 0.017128,
     "end_time": "2020-10-23T17:33:07.542917",
     "exception": false,
     "start_time": "2020-10-23T17:33:07.525789",
     "status": "completed"
    },
    "tags": []
   },
   "source": [
    "**Setup**"
   ]
  },
  {
   "cell_type": "code",
   "execution_count": 7,
   "metadata": {
    "execution": {
     "iopub.execute_input": "2020-10-23T17:33:07.594071Z",
     "iopub.status.busy": "2020-10-23T17:33:07.589311Z",
     "iopub.status.idle": "2020-10-23T17:33:07.596632Z",
     "shell.execute_reply": "2020-10-23T17:33:07.597126Z"
    },
    "papermill": {
     "duration": 0.037663,
     "end_time": "2020-10-23T17:33:07.597259",
     "exception": false,
     "start_time": "2020-10-23T17:33:07.559596",
     "status": "completed"
    },
    "tags": []
   },
   "outputs": [],
   "source": [
    "class ANN(nn.Module):\n",
    "    def __init__(this, IL=None, HL=None, OL=None):\n",
    "        super(ANN, this).__init__()\n",
    "        \n",
    "        this.DP1 = nn.Dropout(p=0.2)\n",
    "        this.DP2 = nn.Dropout(p=0.5)\n",
    "        \n",
    "        this.BN1 = nn.BatchNorm1d(IL)\n",
    "        this.FC1 = WN(nn.Linear(IL, HL[0]))\n",
    "        \n",
    "        this.BN2 = nn.BatchNorm1d(HL[0])\n",
    "        this.FC2 = WN(nn.Linear(HL[0], HL[1]))\n",
    "        \n",
    "        this.BN3 = nn.BatchNorm1d(HL[1])\n",
    "        this.FC3 = WN(nn.Linear(HL[1], HL[2]))\n",
    "        \n",
    "        this.BN4 = nn.BatchNorm1d(HL[2])\n",
    "        this.FC4 = WN(nn.Linear(HL[2], OL))\n",
    "    \n",
    "    \n",
    "    def getOptimizer(this):\n",
    "        return optim.Adam(this.parameters(), lr=1e-3, weight_decay=1e-5)\n",
    "    \n",
    "    def forward(this, x):\n",
    "        x = this.BN1(x)\n",
    "        x = this.DP1(x)\n",
    "        x = F.relu(this.FC1(x))\n",
    "        \n",
    "        x = this.BN2(x)\n",
    "        x = this.DP2(x)\n",
    "        x = F.relu(this.FC2(x))\n",
    "        \n",
    "        x = this.BN3(x)\n",
    "        x = this.DP2(x)\n",
    "        x = F.relu(this.FC3(x))\n",
    "        \n",
    "        x = this.BN4(x)\n",
    "        x = this.DP2(x)\n",
    "        x = torch.sigmoid(this.FC4(x))\n",
    "        return x"
   ]
  },
  {
   "cell_type": "markdown",
   "metadata": {
    "papermill": {
     "duration": 0.016823,
     "end_time": "2020-10-23T17:33:07.631042",
     "exception": false,
     "start_time": "2020-10-23T17:33:07.614219",
     "status": "completed"
    },
    "tags": []
   },
   "source": [
    "**ANN Helpers**"
   ]
  },
  {
   "cell_type": "code",
   "execution_count": 8,
   "metadata": {
    "execution": {
     "iopub.execute_input": "2020-10-23T17:33:07.690202Z",
     "iopub.status.busy": "2020-10-23T17:33:07.679401Z",
     "iopub.status.idle": "2020-10-23T17:33:07.705743Z",
     "shell.execute_reply": "2020-10-23T17:33:07.705159Z"
    },
    "papermill": {
     "duration": 0.057468,
     "end_time": "2020-10-23T17:33:07.705844",
     "exception": false,
     "start_time": "2020-10-23T17:33:07.648376",
     "status": "completed"
    },
    "tags": []
   },
   "outputs": [],
   "source": [
    "def train_fn(X=None, y=None, n_folds=None):\n",
    "    breaker()\n",
    "    print(\"Training ...\")\n",
    "    bestLoss = {\"train\" : np.inf, \"valid\" : np.inf}\n",
    "    name_getter = []\n",
    "    LP = []\n",
    "    fold = 0\n",
    "    \n",
    "    X = preprocess(X)\n",
    "    \n",
    "    breaker()\n",
    "    start_time = time()\n",
    "    for tr_idx, va_idx in MultilabelStratifiedKFold(n_splits=n_folds, shuffle=True, random_state=0).split(X, y):\n",
    "        print(\"Processsing Fold {fold} ...\".format(fold=fold+1))\n",
    "        \n",
    "        X_train, X_valid, y_train, y_valid = X.iloc[tr_idx], X.iloc[va_idx], y.iloc[tr_idx], y.iloc[va_idx]\n",
    "        \n",
    "        y_train = y_train.loc[X_train[\"cp_type\"] == 0].reset_index(drop=True)\n",
    "        X_train = X_train.loc[X_train[\"cp_type\"] == 0].reset_index(drop=True)\n",
    "\n",
    "        y_valid = y_valid.loc[X_valid[\"cp_type\"] == 0].reset_index(drop=True)\n",
    "        X_valid = X_valid.loc[X_valid[\"cp_type\"] == 0].reset_index(drop=True)\n",
    "        \n",
    "        X_train = X_train.iloc[:, top_feats].values\n",
    "        y_train = y_train.iloc[:, 1:].values\n",
    "\n",
    "        X_valid = X_valid.iloc[:, top_feats].values\n",
    "        y_valid = y_valid.iloc[:, 1:].values\n",
    "        \n",
    "        torch.manual_seed(0)\n",
    "        Net = ANN(cfg.IL, cfg.HL, cfg.OL)\n",
    "        Net.to(cfg.device)\n",
    "        optimizer = Net.getOptimizer()\n",
    "        \n",
    "        tr_data_setup = DS(X_train, y_train)\n",
    "        va_data_setup = DS(X_valid, y_valid) \n",
    "\n",
    "        dataloaders = { \"train\" : DL(tr_data_setup, batch_size=cfg.tr_batch_size, shuffle=True, generator=torch.manual_seed(0)),\n",
    "                        \"valid\" : DL(va_data_setup, batch_size=cfg.va_batch_size, shuffle=False)\n",
    "                      }\n",
    "        \n",
    "        for e in range(cfg.epochs):\n",
    "            epochLoss = {\"train\" : 0, \"valid\" : 0}\n",
    "            for phase in [\"train\", \"valid\"]:\n",
    "                if phase == \"train\":\n",
    "                    Net.train()\n",
    "                else:\n",
    "                    Net.eval()\n",
    "                lossPerPass = 0\n",
    "                \n",
    "                for feats, label in dataloaders[phase]:\n",
    "                    feats, label = feats.to(cfg.device), label.to(cfg.device)\n",
    "                    \n",
    "                    optimizer.zero_grad()\n",
    "                    with torch.set_grad_enabled(phase == \"train\"):\n",
    "                        output = Net(feats)\n",
    "                        loss   = nn.BCELoss()(output, label)\n",
    "                        if phase == \"train\":\n",
    "                            loss.backward()\n",
    "                            optimizer.step()\n",
    "                    lossPerPass += (loss.item()/label.shape[0])\n",
    "                epochLoss[phase] = lossPerPass\n",
    "            LP.append(epochLoss)\n",
    "            if epochLoss[\"valid\"] < bestLoss[\"valid\"]:\n",
    "                bestLoss = epochLoss\n",
    "                name = \"./Model_Fold_{fold}.pt\".format(fold=fold)\n",
    "                name_getter.append(name)\n",
    "                torch.save(Net.state_dict(), name)\n",
    "        fold += 1\n",
    "    \n",
    "    breaker()\n",
    "    print(\"Time Taken to Train {fold} folds for {e} epochs : {:.2f} minutes\".format((time()-start_time)/60, fold=n_folds, e=cfg.epochs))\n",
    "    breaker()\n",
    "    print(\"Best Loss :\", repr(bestLoss))\n",
    "    breaker()\n",
    "    print(\"Training Completed\")\n",
    "    breaker()\n",
    "    \n",
    "    return LP, name_getter, Net\n",
    "        \n",
    "def eval_fn(model=None, names=None, dataloader=None):\n",
    "    final_Pred = np.zeros((num_obs_test, num_classes))\n",
    "    \n",
    "    for name in names:\n",
    "        Pred = torch.zeros(cfg.ts_batch_size, num_classes).to(cfg.device)  \n",
    "        model.load_state_dict(torch.load(name))\n",
    "        model.eval()\n",
    "        for feat in dataloader:\n",
    "            feat = feat.to(cfg.device)\n",
    "            with torch.no_grad():\n",
    "                Prob = model(feat)\n",
    "            Pred = torch.cat((Pred, Prob), dim=0)\n",
    "        Pred = Pred[cfg.ts_batch_size:]\n",
    "        Pred = Pred.cpu().numpy()\n",
    "        final_Pred = np.add(final_Pred, Pred)\n",
    "        \n",
    "    final_Pred = np.divide(final_Pred, len(names))\n",
    "    return final_Pred"
   ]
  },
  {
   "cell_type": "markdown",
   "metadata": {
    "papermill": {
     "duration": 0.016986,
     "end_time": "2020-10-23T17:33:07.739573",
     "exception": false,
     "start_time": "2020-10-23T17:33:07.722587",
     "status": "completed"
    },
    "tags": []
   },
   "source": [
    "**Training**"
   ]
  },
  {
   "cell_type": "code",
   "execution_count": 9,
   "metadata": {
    "execution": {
     "iopub.execute_input": "2020-10-23T17:33:07.781270Z",
     "iopub.status.busy": "2020-10-23T17:33:07.779950Z",
     "iopub.status.idle": "2020-10-23T17:38:20.338422Z",
     "shell.execute_reply": "2020-10-23T17:38:20.339237Z"
    },
    "papermill": {
     "duration": 312.582816,
     "end_time": "2020-10-23T17:38:20.339495",
     "exception": false,
     "start_time": "2020-10-23T17:33:07.756679",
     "status": "completed"
    },
    "tags": []
   },
   "outputs": [
    {
     "name": "stdout",
     "output_type": "stream",
     "text": [
      "\n",
      "------------------------------\n",
      "\n",
      "Training ...\n",
      "\n",
      "------------------------------\n",
      "\n",
      "Processsing Fold 1 ...\n",
      "Processsing Fold 2 ...\n",
      "Processsing Fold 3 ...\n",
      "Processsing Fold 4 ...\n",
      "Processsing Fold 5 ...\n",
      "\n",
      "------------------------------\n",
      "\n",
      "Time Taken to Train 5 folds for 50 epochs : 5.21 minutes\n",
      "\n",
      "------------------------------\n",
      "\n",
      "Best Loss : {'train': 0.004401819170364523, 'valid': 0.001397257061794137}\n",
      "\n",
      "------------------------------\n",
      "\n",
      "Training Completed\n",
      "\n",
      "------------------------------\n",
      "\n"
     ]
    }
   ],
   "source": [
    "LP, Names, Network = train_fn(X=X, y=y, n_folds=n_folds)"
   ]
  },
  {
   "cell_type": "markdown",
   "metadata": {
    "papermill": {
     "duration": 0.018639,
     "end_time": "2020-10-23T17:38:20.377851",
     "exception": false,
     "start_time": "2020-10-23T17:38:20.359212",
     "status": "completed"
    },
    "tags": []
   },
   "source": [
    "**Plots**"
   ]
  },
  {
   "cell_type": "code",
   "execution_count": 10,
   "metadata": {
    "execution": {
     "iopub.execute_input": "2020-10-23T17:38:20.428898Z",
     "iopub.status.busy": "2020-10-23T17:38:20.428193Z",
     "iopub.status.idle": "2020-10-23T17:38:21.514915Z",
     "shell.execute_reply": "2020-10-23T17:38:21.515473Z"
    },
    "papermill": {
     "duration": 1.117995,
     "end_time": "2020-10-23T17:38:21.515620",
     "exception": false,
     "start_time": "2020-10-23T17:38:20.397625",
     "status": "completed"
    },
    "tags": []
   },
   "outputs": [
    {
     "data": {
      "image/png": "[encoded data removed]",
      "text/plain": [
       "<Figure size 1800x2520 with 5 Axes>"
      ]
     },
     "metadata": {
      "needs_background": "light"
     },
     "output_type": "display_data"
    }
   ],
   "source": [
    "LPV = []\n",
    "LPT = []\n",
    "for i in range(len(LP)):\n",
    "  LPT.append(LP[i][\"train\"])\n",
    "  LPV.append(LP[i][\"valid\"])\n",
    "\n",
    "xAxis = [i+1 for i in range(cfg.epochs)]\n",
    "plt.figure(figsize=(25, 35))\n",
    "for fold in range(n_folds):\n",
    "    plt.subplot(n_folds, 1, fold+1)\n",
    "    plt.plot(xAxis, LPT[fold*cfg.epochs:(fold+1)*cfg.epochs], \"b\", label=\"Training Loss\")\n",
    "    plt.plot(xAxis, LPV[fold*cfg.epochs:(fold+1)*cfg.epochs], \"r--\", label=\"Validation Loss\")\n",
    "    plt.legend()\n",
    "    plt.xlabel(\"Epochs\")\n",
    "    plt.ylabel(\"Loss\")\n",
    "    plt.title(\"Fold {fold}\".format(fold=fold+1))\n",
    "plt.show()"
   ]
  },
  {
   "cell_type": "markdown",
   "metadata": {
    "papermill": {
     "duration": 0.022044,
     "end_time": "2020-10-23T17:38:21.560922",
     "exception": false,
     "start_time": "2020-10-23T17:38:21.538878",
     "status": "completed"
    },
    "tags": []
   },
   "source": [
    "# Submission"
   ]
  },
  {
   "cell_type": "code",
   "execution_count": 11,
   "metadata": {
    "execution": {
     "iopub.execute_input": "2020-10-23T17:38:21.615920Z",
     "iopub.status.busy": "2020-10-23T17:38:21.614635Z",
     "iopub.status.idle": "2020-10-23T17:38:27.936456Z",
     "shell.execute_reply": "2020-10-23T17:38:27.935273Z"
    },
    "papermill": {
     "duration": 6.353412,
     "end_time": "2020-10-23T17:38:27.936613",
     "exception": false,
     "start_time": "2020-10-23T17:38:21.583201",
     "status": "completed"
    },
    "tags": []
   },
   "outputs": [],
   "source": [
    "X_test = ts_feat.copy()\n",
    "X_test = preprocess(X_test)\n",
    "\n",
    "sigid   = X_test.iloc[:, 0].values\n",
    "X_test  = X_test.iloc[:, top_feats].values\n",
    "\n",
    "ts_data_setup = DS(X_test, None, \"test\")\n",
    "ts_data = DL(ts_data_setup, batch_size=cfg.ts_batch_size, shuffle=False)\n",
    "\n",
    "y_pred = eval_fn(Network, Names, ts_data)\n",
    "\n",
    "final_data = np.concatenate((sigid.reshape(-1,1), y_pred), axis=1)\n",
    "\n",
    "final_df = pd.DataFrame(final_data, columns=columns)\n",
    "columns = columns[1:]\n",
    "final_df.loc[ts_feat['cp_type']=='ctl_vehicle', columns] = 0\n",
    "final_df.to_csv(\"./submission.csv\",index=False)"
   ]
  }
 ],
 "metadata": {
  "kernelspec": {
   "display_name": "Python 3",
   "language": "python",
   "name": "python3"
  },
  "language_info": {
   "codemirror_mode": {
    "name": "ipython",
    "version": 3
   },
   "file_extension": ".py",
   "mimetype": "text/x-python",
   "name": "python",
   "nbconvert_exporter": "python",
   "pygments_lexer": "ipython3",
   "version": "3.7.6"
  },
  "papermill": {
   "duration": 335.645723,
   "end_time": "2020-10-23T17:38:28.472318",
   "environment_variables": {},
   "exception": null,
   "input_path": "__notebook__.ipynb",
   "output_path": "__notebook__.ipynb",
   "parameters": {},
   "start_time": "2020-10-23T17:32:52.826595",
   "version": "2.1.0"
  }
 },
 "nbformat": 4,
 "nbformat_minor": 4
}
