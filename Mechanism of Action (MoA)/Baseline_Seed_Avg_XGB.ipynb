{
 "cells": [
  {
   "cell_type": "markdown",
   "metadata": {
    "papermill": {
     "duration": 0.013921,
     "end_time": "2020-10-23T14:48:34.386293",
     "exception": false,
     "start_time": "2020-10-23T14:48:34.372372",
     "status": "completed"
    },
    "tags": []
   },
   "source": [
    "# Library imports"
   ]
  },
  {
   "cell_type": "code",
   "execution_count": 1,
   "metadata": {
    "_cell_guid": "b1076dfc-b9ad-4769-8c92-a6c4dae69d19",
    "_uuid": "8f2839f25d086af736a60e9eeb907d3b93b6e0e5",
    "execution": {
     "iopub.execute_input": "2020-10-23T14:48:34.419090Z",
     "iopub.status.busy": "2020-10-23T14:48:34.418156Z",
     "iopub.status.idle": "2020-10-23T14:48:37.374322Z",
     "shell.execute_reply": "2020-10-23T14:48:37.372576Z"
    },
    "papermill": {
     "duration": 2.975222,
     "end_time": "2020-10-23T14:48:37.374465",
     "exception": false,
     "start_time": "2020-10-23T14:48:34.399243",
     "status": "completed"
    },
    "tags": []
   },
   "outputs": [],
   "source": [
    "import numpy as np\n",
    "import pandas as pd\n",
    "\n",
    "from time import time\n",
    "\n",
    "from xgboost import XGBClassifier\n",
    "\n",
    "import random as r"
   ]
  },
  {
   "cell_type": "markdown",
   "metadata": {
    "papermill": {
     "duration": 0.012103,
     "end_time": "2020-10-23T14:48:37.399566",
     "exception": false,
     "start_time": "2020-10-23T14:48:37.387463",
     "status": "completed"
    },
    "tags": []
   },
   "source": [
    "# Helper Functions"
   ]
  },
  {
   "cell_type": "code",
   "execution_count": 2,
   "metadata": {
    "_cell_guid": "79c7e3d0-c299-4dcb-8224-4455121ee9b0",
    "_uuid": "d629ff2d2480ee46fbb7e2d37f6b5fab8052498a",
    "execution": {
     "iopub.execute_input": "2020-10-23T14:48:37.438090Z",
     "iopub.status.busy": "2020-10-23T14:48:37.437046Z",
     "iopub.status.idle": "2020-10-23T14:48:37.439586Z",
     "shell.execute_reply": "2020-10-23T14:48:37.440199Z"
    },
    "papermill": {
     "duration": 0.027604,
     "end_time": "2020-10-23T14:48:37.440343",
     "exception": false,
     "start_time": "2020-10-23T14:48:37.412739",
     "status": "completed"
    },
    "tags": []
   },
   "outputs": [],
   "source": [
    "def breaker():\n",
    "  print(\"\\n\" + 30*\"-\" + \"\\n\")\n",
    "\n",
    "def head(x, no_of_ele=5):\n",
    "  if len(x.shape) > 1:\n",
    "    breaker()\n",
    "    print(x[:no_of_ele, :])\n",
    "    breaker()\n",
    "  else:\n",
    "    breaker()\n",
    "    print(x[:no_of_ele])\n",
    "    breaker()\n",
    "\n",
    "def preprocess(x):\n",
    "  df = x.copy()\n",
    "  df.iloc[:, 1] = df.iloc[:, 1].map({\"trt_cp\" : 0, \"ctl_vehicle\" : 1})\n",
    "  df.iloc[:, 3] = df.iloc[:, 3].map({\"D1\" : 0, \"D2\" : 1})\n",
    "  return df\n",
    "\n",
    "def getCol(x):\n",
    "  return [col for col in x.columns]"
   ]
  },
  {
   "cell_type": "markdown",
   "metadata": {
    "papermill": {
     "duration": 0.012406,
     "end_time": "2020-10-23T14:48:37.465296",
     "exception": false,
     "start_time": "2020-10-23T14:48:37.452890",
     "status": "completed"
    },
    "tags": []
   },
   "source": [
    "# Data Handling and Preprocessing"
   ]
  },
  {
   "cell_type": "markdown",
   "metadata": {
    "papermill": {
     "duration": 0.012359,
     "end_time": "2020-10-23T14:48:37.490336",
     "exception": false,
     "start_time": "2020-10-23T14:48:37.477977",
     "status": "completed"
    },
    "tags": []
   },
   "source": [
    "**Input**"
   ]
  },
  {
   "cell_type": "code",
   "execution_count": 3,
   "metadata": {
    "execution": {
     "iopub.execute_input": "2020-10-23T14:48:37.526582Z",
     "iopub.status.busy": "2020-10-23T14:48:37.525816Z",
     "iopub.status.idle": "2020-10-23T14:48:44.312831Z",
     "shell.execute_reply": "2020-10-23T14:48:44.313771Z"
    },
    "papermill": {
     "duration": 6.809503,
     "end_time": "2020-10-23T14:48:44.314021",
     "exception": false,
     "start_time": "2020-10-23T14:48:37.504518",
     "status": "completed"
    },
    "tags": []
   },
   "outputs": [
    {
     "name": "stdout",
     "output_type": "stream",
     "text": [
      "\n",
      "------------------------------\n",
      "\n",
      "TRAINING FEATURES DATASET SHAPE : (23814, 876)\n",
      "\n",
      "------------------------------\n",
      "\n",
      "TRAINING LABELS DATASET SHAPE   : (23814, 207)\n",
      "\n",
      "------------------------------\n",
      "\n",
      "TEST FEATURES DATASET SHAPE     : (3982, 876)\n",
      "\n",
      "------------------------------\n",
      "\n"
     ]
    }
   ],
   "source": [
    "tr_feat = pd.read_csv('../input/lish-moa/train_features.csv')\n",
    "tr_lbls = pd.read_csv('../input/lish-moa/train_targets_scored.csv')\n",
    "ts_feat = pd.read_csv('../input/lish-moa/test_features.csv')\n",
    "\n",
    "breaker()\n",
    "print(\"TRAINING FEATURES DATASET SHAPE :\", repr(tr_feat.shape))\n",
    "breaker()\n",
    "print(\"TRAINING LABELS DATASET SHAPE   :\", repr(tr_lbls.shape))\n",
    "breaker()\n",
    "print(\"TEST FEATURES DATASET SHAPE     :\", repr(ts_feat.shape))\n",
    "breaker()"
   ]
  },
  {
   "cell_type": "markdown",
   "metadata": {
    "papermill": {
     "duration": 0.019041,
     "end_time": "2020-10-23T14:48:44.353639",
     "exception": false,
     "start_time": "2020-10-23T14:48:44.334598",
     "status": "completed"
    },
    "tags": []
   },
   "source": [
    "**Top Features Taken From Public Kernel**"
   ]
  },
  {
   "cell_type": "code",
   "execution_count": 4,
   "metadata": {
    "execution": {
     "iopub.execute_input": "2020-10-23T14:48:44.400073Z",
     "iopub.status.busy": "2020-10-23T14:48:44.399013Z",
     "iopub.status.idle": "2020-10-23T14:48:44.479354Z",
     "shell.execute_reply": "2020-10-23T14:48:44.480296Z"
    },
    "papermill": {
     "duration": 0.109685,
     "end_time": "2020-10-23T14:48:44.480530",
     "exception": false,
     "start_time": "2020-10-23T14:48:44.370845",
     "status": "completed"
    },
    "tags": []
   },
   "outputs": [],
   "source": [
    "top_feats = [  1,   2,   3,   4,   5,   6,   7,   9,  11,  14,  15,  16,  17,\n",
    "              18,  19,  20,  21,  22,  23,  24,  25,  26,  27,  29,  30,  31,\n",
    "              32,  33,  35,  36,  37,  38,  39,  40,  41,  42,  43,  44,  46,\n",
    "              47,  48,  49,  50,  51,  52,  53,  54,  55,  56,  58,  59,  60,\n",
    "              61,  62,  63,  64,  65,  66,  67,  68,  69,  70,  71,  72,  73,\n",
    "              74,  75,  76,  78,  79,  80,  81,  82,  83,  84,  86,  87,  88,\n",
    "              89,  90,  91,  92,  93,  94,  95,  96,  97,  98,  99, 100, 101,\n",
    "              102, 103, 104, 105, 106, 107, 108, 109, 110, 111, 112, 113, 114,\n",
    "              115, 116, 117, 118, 120, 121, 122, 123, 124, 125, 126, 127, 128,\n",
    "              129, 130, 131, 132, 133, 136, 137, 138, 139, 140, 141, 142, 143,\n",
    "              144, 145, 146, 147, 149, 150, 151, 152, 153, 154, 155, 156, 157,\n",
    "              158, 159, 160, 161, 162, 163, 164, 165, 166, 167, 168, 169, 170,\n",
    "              171, 172, 173, 174, 175, 176, 177, 178, 179, 180, 181, 182, 183,\n",
    "              184, 185, 186, 187, 188, 189, 190, 191, 192, 193, 194, 195, 197,\n",
    "              198, 199, 200, 202, 203, 204, 205, 206, 208, 209, 210, 211, 212,\n",
    "              213, 214, 215, 216, 217, 218, 219, 220, 221, 223, 224, 225, 226,\n",
    "              227, 228, 229, 230, 231, 232, 233, 234, 235, 236, 237, 238, 239,\n",
    "              240, 242, 243, 244, 245, 246, 247, 248, 249, 250, 251, 252, 253,\n",
    "              254, 255, 256, 257, 258, 259, 260, 261, 262, 263, 264, 265, 266,\n",
    "              267, 268, 269, 271, 272, 273, 274, 275, 276, 277, 278, 279, 280,\n",
    "              281, 282, 283, 284, 285, 286, 287, 288, 289, 290, 291, 292, 294,\n",
    "              295, 296, 298, 300, 301, 302, 303, 304, 305, 306, 307, 308, 309,\n",
    "              310, 311, 312, 314, 315, 316, 317, 318, 319, 320, 321, 322, 323,\n",
    "              324, 325, 326, 327, 328, 329, 330, 331, 332, 333, 334, 335, 336,\n",
    "              337, 338, 339, 340, 341, 342, 343, 344, 345, 346, 347, 348, 349,\n",
    "              350, 351, 352, 353, 354, 355, 356, 357, 358, 359, 360, 361, 362,\n",
    "              363, 364, 365, 366, 367, 368, 369, 370, 371, 374, 375, 376, 377,\n",
    "              378, 379, 380, 381, 382, 383, 384, 385, 386, 387, 388, 390, 391,\n",
    "              392, 393, 394, 395, 396, 397, 398, 399, 400, 401, 402, 403, 404,\n",
    "              405, 406, 407, 408, 409, 411, 412, 413, 414, 415, 416, 417, 418,\n",
    "              419, 420, 421, 422, 423, 424, 425, 426, 427, 428, 429, 430, 431,\n",
    "              432, 434, 435, 436, 437, 438, 439, 440, 442, 443, 444, 445, 446,\n",
    "              447, 448, 449, 450, 453, 454, 456, 457, 458, 459, 460, 461, 462,\n",
    "              463, 464, 465, 466, 467, 468, 469, 470, 471, 472, 473, 474, 475,\n",
    "              476, 477, 478, 479, 481, 482, 483, 484, 485, 486, 487, 488, 489,\n",
    "              490, 491, 492, 493, 494, 495, 496, 498, 500, 501, 502, 503, 505,\n",
    "              506, 507, 509, 510, 511, 512, 513, 514, 515, 518, 519, 520, 521,\n",
    "              522, 523, 524, 525, 526, 527, 528, 530, 531, 532, 534, 535, 536,\n",
    "              538, 539, 540, 541, 542, 543, 544, 545, 546, 547, 549, 550, 551,\n",
    "              552, 554, 557, 559, 560, 561, 562, 565, 566, 567, 568, 569, 570,\n",
    "              571, 572, 573, 574, 575, 577, 578, 580, 581, 582, 583, 584, 585,\n",
    "              586, 587, 588, 589, 590, 591, 592, 593, 594, 595, 596, 597, 599,\n",
    "              600, 601, 602, 606, 607, 608, 609, 611, 612, 613, 615, 616, 617,\n",
    "              618, 619, 620, 621, 622, 623, 624, 625, 626, 627, 628, 629, 630,\n",
    "              631, 632, 633, 634, 635, 636, 637, 638, 639, 641, 642, 643, 644,\n",
    "              645, 646, 647, 648, 649, 650, 651, 652, 654, 655, 656, 658, 659,\n",
    "              660, 661, 662, 663, 664, 665, 666, 667, 668, 669, 670, 671, 672,\n",
    "              673, 674, 675, 676, 677, 678, 679, 680, 681, 682, 683, 684, 685,\n",
    "              686, 687, 688, 689, 691, 692, 693, 694, 695, 696, 697, 699, 700,\n",
    "              701, 702, 704, 705, 707, 708, 709, 710, 711, 713, 714, 716, 717,\n",
    "              718, 720, 721, 723, 724, 725, 726, 727, 728, 729, 730, 731, 732,\n",
    "              733, 734, 735, 737, 738, 739, 740, 742, 743, 744, 745, 746, 747,\n",
    "              748, 749, 750, 751, 752, 753, 754, 755, 756, 757, 759, 760, 761,\n",
    "              762, 763, 764, 765, 766, 767, 768, 769, 770, 771, 772, 773, 774,\n",
    "              775, 776, 777, 779, 780, 781, 782, 783, 784, 785, 786, 787, 788,\n",
    "              789, 790, 792, 793, 794, 795, 796, 797, 798, 800, 801, 802, 803,\n",
    "              804, 805, 806, 808, 809, 811, 813, 814, 815, 816, 817, 818, 819,\n",
    "              821, 822, 823, 825, 826, 827, 828, 829, 830, 831, 832, 834, 835,\n",
    "              837, 838, 839, 840, 841, 842, 845, 846, 847, 848, 850, 851, 852,\n",
    "              854, 855, 856, 858, 859, 860, 861, 862, 864, 866, 867, 868, 869,\n",
    "              870, 871, 872, 873, 874]"
   ]
  },
  {
   "cell_type": "markdown",
   "metadata": {
    "papermill": {
     "duration": 0.019575,
     "end_time": "2020-10-23T14:48:44.520652",
     "exception": false,
     "start_time": "2020-10-23T14:48:44.501077",
     "status": "completed"
    },
    "tags": []
   },
   "source": [
    "**Preprocessing**"
   ]
  },
  {
   "cell_type": "code",
   "execution_count": 5,
   "metadata": {
    "execution": {
     "iopub.execute_input": "2020-10-23T14:48:44.566718Z",
     "iopub.status.busy": "2020-10-23T14:48:44.565714Z",
     "iopub.status.idle": "2020-10-23T14:48:45.098874Z",
     "shell.execute_reply": "2020-10-23T14:48:45.099847Z"
    },
    "papermill": {
     "duration": 0.561177,
     "end_time": "2020-10-23T14:48:45.100055",
     "exception": false,
     "start_time": "2020-10-23T14:48:44.538878",
     "status": "completed"
    },
    "tags": []
   },
   "outputs": [
    {
     "name": "stdout",
     "output_type": "stream",
     "text": [
      "\n",
      "------------------------------\n",
      "\n",
      "(21948, 785)\n",
      "\n",
      "------------------------------\n",
      "\n",
      "(3982, 785)\n",
      "\n",
      "------------------------------\n",
      "\n",
      "(21948, 206)\n",
      "\n",
      "------------------------------\n",
      "\n"
     ]
    }
   ],
   "source": [
    "X_train = tr_feat.copy()\n",
    "y_train = tr_lbls.copy()\n",
    "X_test  = ts_feat.copy()\n",
    "\n",
    "columns = getCol(tr_lbls)\n",
    "\n",
    "X_train = preprocess(X_train)\n",
    "X_test  = preprocess(X_test)\n",
    "\n",
    "y_train = tr_lbls.loc[X_train['cp_type'] == 0].reset_index(drop=True)\n",
    "X_train = X_train.loc[X_train['cp_type'] == 0].reset_index(drop=True)\n",
    "\n",
    "X_train = X_train.iloc[:, top_feats].values\n",
    "y_train = y_train.iloc[:, 1:].values\n",
    "\n",
    "sigid  = X_test.iloc[:, 0].values\n",
    "X_test = X_test.iloc[:, top_feats].values\n",
    "\n",
    "breaker()\n",
    "print(repr(X_train.shape))\n",
    "breaker()\n",
    "print(repr(X_test.shape))\n",
    "breaker()\n",
    "print(repr(y_train.shape))\n",
    "breaker()\n",
    "\n",
    "del tr_feat, tr_lbls"
   ]
  },
  {
   "cell_type": "markdown",
   "metadata": {
    "papermill": {
     "duration": 0.014214,
     "end_time": "2020-10-23T14:48:45.132681",
     "exception": false,
     "start_time": "2020-10-23T14:48:45.118467",
     "status": "completed"
    },
    "tags": []
   },
   "source": [
    "# XGB Classification"
   ]
  },
  {
   "cell_type": "markdown",
   "metadata": {
    "papermill": {
     "duration": 0.013744,
     "end_time": "2020-10-23T14:48:45.160853",
     "exception": false,
     "start_time": "2020-10-23T14:48:45.147109",
     "status": "completed"
    },
    "tags": []
   },
   "source": [
    "**Setup**"
   ]
  },
  {
   "cell_type": "code",
   "execution_count": 6,
   "metadata": {
    "execution": {
     "iopub.execute_input": "2020-10-23T14:48:45.195129Z",
     "iopub.status.busy": "2020-10-23T14:48:45.194266Z",
     "iopub.status.idle": "2020-10-23T14:48:45.198865Z",
     "shell.execute_reply": "2020-10-23T14:48:45.198291Z"
    },
    "papermill": {
     "duration": 0.023826,
     "end_time": "2020-10-23T14:48:45.198982",
     "exception": false,
     "start_time": "2020-10-23T14:48:45.175156",
     "status": "completed"
    },
    "tags": []
   },
   "outputs": [],
   "source": [
    "num_classes  = y_train.shape[1]\n",
    "num_features = X_train.shape[1]"
   ]
  },
  {
   "cell_type": "markdown",
   "metadata": {
    "papermill": {
     "duration": 0.014407,
     "end_time": "2020-10-23T14:48:45.227924",
     "exception": false,
     "start_time": "2020-10-23T14:48:45.213517",
     "status": "completed"
    },
    "tags": []
   },
   "source": [
    "**Classification**"
   ]
  },
  {
   "cell_type": "code",
   "execution_count": 7,
   "metadata": {
    "execution": {
     "iopub.execute_input": "2020-10-23T14:48:45.272145Z",
     "iopub.status.busy": "2020-10-23T14:48:45.271080Z",
     "iopub.status.idle": "2020-10-23T15:14:54.526796Z",
     "shell.execute_reply": "2020-10-23T15:14:54.527657Z"
    },
    "papermill": {
     "duration": 1569.285441,
     "end_time": "2020-10-23T15:14:54.527873",
     "exception": false,
     "start_time": "2020-10-23T14:48:45.242432",
     "status": "completed"
    },
    "tags": []
   },
   "outputs": [
    {
     "name": "stdout",
     "output_type": "stream",
     "text": [
      "\n",
      "------------------------------\n",
      "\n",
      "Processing Seed 7 ...\n",
      "Processing Seed 45 ...\n",
      "Processing Seed 30 ...\n",
      "Processing Seed 32 ...\n",
      "Processing Seed 77 ...\n",
      "\n",
      "------------------------------\n",
      "\n",
      "Time taken : 26.15 minutes\n",
      "\n",
      "------------------------------\n",
      "\n"
     ]
    }
   ],
   "source": [
    "start_time = time()\n",
    "final_pred = np.zeros((X_test.shape[0], num_classes))\n",
    "\n",
    "seeders = [r.randint(0,99) for i in range(5)]\n",
    "breaker()\n",
    "for seed in seeders:\n",
    "    y_pred = np.empty((X_test.shape[0], 1))\n",
    "    print(\"Processing Seed {seed} ...\".format(seed=seed))\n",
    "    xgb = [XGBClassifier(n_estimators=100, random_state=seed, tree_method=\"gpu_hist\")] * num_classes\n",
    "    for i in range(num_classes):\n",
    "      xgb[i].fit(X_train, y_train[:, i])\n",
    "      y_hat = xgb[i].predict_proba(X_test)[:, 1]\n",
    "      y_pred = np.concatenate((y_pred, y_hat.reshape(-1,1)), axis=1)\n",
    "    y_pred = y_pred[:, 1:]\n",
    "    final_pred = np.add(y_pred, final_pred)\n",
    "\n",
    "final_pred = np.divide(final_pred, len(seeders))\n",
    "\n",
    "breaker()\n",
    "print(\"Time taken : {:.2f} minutes\".format((time() - start_time)/60))\n",
    "breaker()"
   ]
  },
  {
   "cell_type": "markdown",
   "metadata": {
    "papermill": {
     "duration": 0.019367,
     "end_time": "2020-10-23T15:14:54.567384",
     "exception": false,
     "start_time": "2020-10-23T15:14:54.548017",
     "status": "completed"
    },
    "tags": []
   },
   "source": [
    "# Submission"
   ]
  },
  {
   "cell_type": "code",
   "execution_count": 8,
   "metadata": {
    "execution": {
     "iopub.execute_input": "2020-10-23T15:14:54.615803Z",
     "iopub.status.busy": "2020-10-23T15:14:54.614866Z",
     "iopub.status.idle": "2020-10-23T15:14:56.690139Z",
     "shell.execute_reply": "2020-10-23T15:14:56.689466Z"
    },
    "papermill": {
     "duration": 2.103301,
     "end_time": "2020-10-23T15:14:56.690271",
     "exception": false,
     "start_time": "2020-10-23T15:14:54.586970",
     "status": "completed"
    },
    "tags": []
   },
   "outputs": [],
   "source": [
    "final_data = np.concatenate((sigid.reshape(-1,1), final_pred), axis=1)\n",
    "\n",
    "final_df = pd.DataFrame(final_data, columns=columns)\n",
    "columns = columns[1:]\n",
    "final_df.loc[ts_feat['cp_type']=='ctl_vehicle', columns] = 0\n",
    "final_df.to_csv(\"./submission.csv\",index=False)"
   ]
  }
 ],
 "metadata": {
  "kernelspec": {
   "display_name": "Python 3",
   "language": "python",
   "name": "python3"
  },
  "language_info": {
   "codemirror_mode": {
    "name": "ipython",
    "version": 3
   },
   "file_extension": ".py",
   "mimetype": "text/x-python",
   "name": "python",
   "nbconvert_exporter": "python",
   "pygments_lexer": "ipython3",
   "version": "3.7.6"
  },
  "papermill": {
   "duration": 1588.51728,
   "end_time": "2020-10-23T15:14:58.190044",
   "environment_variables": {},
   "exception": null,
   "input_path": "__notebook__.ipynb",
   "output_path": "__notebook__.ipynb",
   "parameters": {},
   "start_time": "2020-10-23T14:48:29.672764",
   "version": "2.1.0"
  }
 },
 "nbformat": 4,
 "nbformat_minor": 4
}
