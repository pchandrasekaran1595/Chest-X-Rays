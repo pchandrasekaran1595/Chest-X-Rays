{
 "cells": [
  {
   "cell_type": "markdown",
   "id": "a563d8be",
   "metadata": {
    "_cell_guid": "b1076dfc-b9ad-4769-8c92-a6c4dae69d19",
    "_uuid": "8f2839f25d086af736a60e9eeb907d3b93b6e0e5",
    "papermill": {
     "duration": 0.01445,
     "end_time": "2022-04-09T02:58:06.434402",
     "exception": false,
     "start_time": "2022-04-09T02:58:06.419952",
     "status": "completed"
    },
    "tags": []
   },
   "source": [
    "### Library Imports"
   ]
  },
  {
   "cell_type": "code",
   "execution_count": 1,
   "id": "18bbeb82",
   "metadata": {
    "execution": {
     "iopub.execute_input": "2022-04-09T02:58:06.472105Z",
     "iopub.status.busy": "2022-04-09T02:58:06.471291Z",
     "iopub.status.idle": "2022-04-09T02:58:09.156237Z",
     "shell.execute_reply": "2022-04-09T02:58:09.155443Z",
     "shell.execute_reply.started": "2022-04-09T01:18:45.162484Z"
    },
    "papermill": {
     "duration": 2.708824,
     "end_time": "2022-04-09T02:58:09.156444",
     "exception": false,
     "start_time": "2022-04-09T02:58:06.447620",
     "status": "completed"
    },
    "tags": []
   },
   "outputs": [],
   "source": [
    "import os\n",
    "import re\n",
    "import torch\n",
    "import numpy as np\n",
    "import pandas as pd\n",
    "import matplotlib.pyplot as plt\n",
    "\n",
    "from time import time\n",
    "from torch import nn, optim\n",
    "from torch.utils.data import Dataset\n",
    "from torch.utils.data import DataLoader as DL\n",
    "from torchvision import models, transforms\n",
    "\n",
    "from sklearn.model_selection import KFold\n",
    "from sklearn.preprocessing import LabelEncoder\n",
    "from sklearn.metrics import accuracy_score, \\\n",
    "                            precision_recall_fscore_support, \\\n",
    "                            roc_auc_score, \\\n",
    "                            classification_report"
   ]
  },
  {
   "cell_type": "markdown",
   "id": "9958d35e",
   "metadata": {
    "papermill": {
     "duration": 0.017231,
     "end_time": "2022-04-09T02:58:09.195358",
     "exception": false,
     "start_time": "2022-04-09T02:58:09.178127",
     "status": "completed"
    },
    "tags": []
   },
   "source": [
    "### **Utilities**"
   ]
  },
  {
   "cell_type": "code",
   "execution_count": 2,
   "id": "5a207a72",
   "metadata": {
    "execution": {
     "iopub.execute_input": "2022-04-09T02:58:09.236664Z",
     "iopub.status.busy": "2022-04-09T02:58:09.235068Z",
     "iopub.status.idle": "2022-04-09T02:58:09.237252Z",
     "shell.execute_reply": "2022-04-09T02:58:09.237672Z",
     "shell.execute_reply.started": "2022-04-09T01:18:47.512362Z"
    },
    "papermill": {
     "duration": 0.029346,
     "end_time": "2022-04-09T02:58:09.237838",
     "exception": false,
     "start_time": "2022-04-09T02:58:09.208492",
     "status": "completed"
    },
    "tags": []
   },
   "outputs": [],
   "source": [
    "SEED = 42\n",
    "SIZE = 256\n",
    "\n",
    "def breaker(num: int=50, char: str=\"*\") -> None:\n",
    "    print(\"\\n\" + num*char + \"\\n\")\n",
    "\n",
    "\n",
    "def show_graphs(L: list, A: list) -> None:\n",
    "    TL, VL, TA, VA = [], [], [], []\n",
    "    for i in range(len(L)):\n",
    "        TL.append(L[i][\"train\"])\n",
    "        VL.append(L[i][\"valid\"])\n",
    "        TA.append(A[i][\"train\"])\n",
    "        VA.append(A[i][\"valid\"])\n",
    "    x_Axis = np.arange(1, len(TL) + 1)\n",
    "    plt.figure(figsize=(8, 6))\n",
    "    plt.subplot(1, 2, 1)\n",
    "    plt.plot(x_Axis, TL, \"r\", label=\"Train\")\n",
    "    plt.plot(x_Axis, VL, \"b\", label=\"Valid\")\n",
    "    plt.legend()\n",
    "    plt.grid()\n",
    "    plt.title(\"Loss Graph\")\n",
    "    plt.subplot(1, 2, 2)\n",
    "    plt.plot(x_Axis, TA, \"r\", label=\"Train\")\n",
    "    plt.plot(x_Axis, VA, \"b\", label=\"Valid\")\n",
    "    plt.legend()\n",
    "    plt.grid()\n",
    "    plt.title(\"Accuracy Graph\")\n",
    "    plt.show()\n",
    "\n",
    "    \n",
    "def get_scores(y_true: np.ndarray, y_pred: np.ndarray) -> tuple:\n",
    "    accuracy = accuracy_score(y_pred, y_true)\n",
    "    try:\n",
    "        auc = roc_auc_score(y_pred, y_true)\n",
    "    except:\n",
    "        auc = 0\n",
    "    precision, recall, f_score, _ = precision_recall_fscore_support(y_pred, y_true)\n",
    "\n",
    "    return accuracy, auc, precision, recall, f_score\n",
    "\n",
    "\n",
    "def print_scores(accuracy: float, auc: float, precision: np.ndarray, recall: np.ndarray, f_score: np.ndarray) -> None:\n",
    "    print(f\"Accuracy  : {accuracy:.5f}\")\n",
    "    print(f\"ROC-AUC   : {auc:.5f}\")\n",
    "    print(f\"Precision : {precision}\")\n",
    "    print(f\"Recall    : {recall}\")\n",
    "    print(f\"F-Score   : {f_score}\")"
   ]
  },
  {
   "cell_type": "markdown",
   "id": "5f0edf1f",
   "metadata": {
    "papermill": {
     "duration": 0.012859,
     "end_time": "2022-04-09T02:58:09.263980",
     "exception": false,
     "start_time": "2022-04-09T02:58:09.251121",
     "status": "completed"
    },
    "tags": []
   },
   "source": [
    "### **Configuration**"
   ]
  },
  {
   "cell_type": "code",
   "execution_count": 3,
   "id": "2f19f4f9",
   "metadata": {
    "execution": {
     "iopub.execute_input": "2022-04-09T02:58:09.359346Z",
     "iopub.status.busy": "2022-04-09T02:58:09.358590Z",
     "iopub.status.idle": "2022-04-09T02:58:09.361759Z",
     "shell.execute_reply": "2022-04-09T02:58:09.361317Z",
     "shell.execute_reply.started": "2022-04-09T01:36:52.976989Z"
    },
    "papermill": {
     "duration": 0.084237,
     "end_time": "2022-04-09T02:58:09.361876",
     "exception": false,
     "start_time": "2022-04-09T02:58:09.277639",
     "status": "completed"
    },
    "tags": []
   },
   "outputs": [],
   "source": [
    "class CFG(object):\n",
    "    def __init__(self, \n",
    "                 seed: int = 42,\n",
    "                 n_splits: int = 5,\n",
    "                 batch_size: int = 16,\n",
    "                 epochs: int = 25,\n",
    "                 early_stopping: int = 5,\n",
    "                 lr: float = 1e-4,\n",
    "                 wd: float = 0.0,\n",
    "                 max_lr: float = 1e-3,\n",
    "                 pct_start: float = 0.2,\n",
    "                 steps_per_epoch: int = 100,\n",
    "                 div_factor: int = 1e3, \n",
    "                 final_div_factor: float = 1e3,\n",
    "                 ):\n",
    "        \n",
    "        self.seed = seed\n",
    "        self.n_splits = n_splits\n",
    "        self.batch_size = batch_size\n",
    "        self.epochs = epochs\n",
    "        self.early_stopping = early_stopping\n",
    "        self.lr = lr\n",
    "        self.wd = wd\n",
    "        self.max_lr = max_lr\n",
    "        self.pct_start = pct_start\n",
    "        self.steps_per_epoch = steps_per_epoch\n",
    "        self.div_factor = div_factor\n",
    "        self.final_div_factor = final_div_factor\n",
    "        self.device = torch.device(\"cuda\" if torch.cuda.is_available() else \"cpu\")\n",
    "        self.transform = transforms.Compose([transforms.ToTensor(),\n",
    "                                transforms.Normalize([0.11899, 0.11923, 0.12643],\n",
    "                                                     [0.17037, 0.16976, 0.18014]),\n",
    "                                ])\n",
    "        self.save_path = \"saves\"\n",
    "        if not os.path.exists(self.save_path): os.makedirs(self.save_path)\n",
    "    \n",
    "cfg = CFG(seed=SEED)"
   ]
  },
  {
   "cell_type": "markdown",
   "id": "0a67a4e4",
   "metadata": {
    "papermill": {
     "duration": 0.012858,
     "end_time": "2022-04-09T02:58:09.388186",
     "exception": false,
     "start_time": "2022-04-09T02:58:09.375328",
     "status": "completed"
    },
    "tags": []
   },
   "source": [
    "### **Dataset Template**"
   ]
  },
  {
   "cell_type": "code",
   "execution_count": 4,
   "id": "9b407a31",
   "metadata": {
    "execution": {
     "iopub.execute_input": "2022-04-09T02:58:09.420492Z",
     "iopub.status.busy": "2022-04-09T02:58:09.419730Z",
     "iopub.status.idle": "2022-04-09T02:58:09.422187Z",
     "shell.execute_reply": "2022-04-09T02:58:09.421773Z",
     "shell.execute_reply.started": "2022-04-09T01:18:47.593512Z"
    },
    "papermill": {
     "duration": 0.021061,
     "end_time": "2022-04-09T02:58:09.422296",
     "exception": false,
     "start_time": "2022-04-09T02:58:09.401235",
     "status": "completed"
    },
    "tags": []
   },
   "outputs": [],
   "source": [
    "class DS(Dataset):\n",
    "    def __init__(self, images: np.ndarray, labels: np.ndarray = None, transform=None):\n",
    "        self.images = images\n",
    "        self.labels = labels\n",
    "        self.transform = transform\n",
    "    \n",
    "    def __len__(self):\n",
    "        return self.images.shape[0]\n",
    "    \n",
    "    def __getitem__(self, idx):\n",
    "        if self.labels is not None:\n",
    "            return self.transform(self.images[idx]), torch.FloatTensor(self.labels[idx])\n",
    "        else:\n",
    "            return self.transform(self.images[idx])"
   ]
  },
  {
   "cell_type": "markdown",
   "id": "96b701fe",
   "metadata": {
    "papermill": {
     "duration": 0.012689,
     "end_time": "2022-04-09T02:58:09.447860",
     "exception": false,
     "start_time": "2022-04-09T02:58:09.435171",
     "status": "completed"
    },
    "tags": []
   },
   "source": [
    "### **Model**"
   ]
  },
  {
   "cell_type": "code",
   "execution_count": 5,
   "id": "27ef94ce",
   "metadata": {
    "execution": {
     "iopub.execute_input": "2022-04-09T02:58:09.478942Z",
     "iopub.status.busy": "2022-04-09T02:58:09.478350Z",
     "iopub.status.idle": "2022-04-09T02:58:09.481462Z",
     "shell.execute_reply": "2022-04-09T02:58:09.481957Z",
     "shell.execute_reply.started": "2022-04-09T01:18:47.606516Z"
    },
    "papermill": {
     "duration": 0.02143,
     "end_time": "2022-04-09T02:58:09.482081",
     "exception": false,
     "start_time": "2022-04-09T02:58:09.460651",
     "status": "completed"
    },
    "tags": []
   },
   "outputs": [],
   "source": [
    "class MyResnet(nn.Module):\n",
    "    def __init__(self):\n",
    "        super(MyResnet, self).__init__()\n",
    "\n",
    "        self.model = models.resnet50(pretrained=True, progress=True)\n",
    "        self.model.fc = nn.Linear(in_features=self.model.fc.in_features, out_features=1)\n",
    "\n",
    "    def forward(self, x):\n",
    "        return self.model(x)"
   ]
  },
  {
   "cell_type": "markdown",
   "id": "aba6ba65",
   "metadata": {
    "papermill": {
     "duration": 0.012797,
     "end_time": "2022-04-09T02:58:09.507661",
     "exception": false,
     "start_time": "2022-04-09T02:58:09.494864",
     "status": "completed"
    },
    "tags": []
   },
   "source": [
    "### Fit and Predict Helper"
   ]
  },
  {
   "cell_type": "code",
   "execution_count": 6,
   "id": "bac7f09d",
   "metadata": {
    "execution": {
     "iopub.execute_input": "2022-04-09T02:58:09.551656Z",
     "iopub.status.busy": "2022-04-09T02:58:09.547225Z",
     "iopub.status.idle": "2022-04-09T02:58:09.560000Z",
     "shell.execute_reply": "2022-04-09T02:58:09.560369Z",
     "shell.execute_reply.started": "2022-04-09T01:18:47.615986Z"
    },
    "papermill": {
     "duration": 0.039952,
     "end_time": "2022-04-09T02:58:09.560513",
     "exception": false,
     "start_time": "2022-04-09T02:58:09.520561",
     "status": "completed"
    },
    "tags": []
   },
   "outputs": [],
   "source": [
    "def fit(model=None, \n",
    "        optimizer=None, \n",
    "        scheduler=None, \n",
    "        epochs=None, \n",
    "        early_stopping_patience=None, \n",
    "        dataloaders=None, \n",
    "        fold=None, \n",
    "        save_path=None, \n",
    "        device=None,\n",
    "        verbose=False) -> tuple:\n",
    "    \n",
    "    def get_accuracy(y_pred, y_true):\n",
    "        y_pred = torch.sigmoid(y_pred)\n",
    "        \n",
    "        y_pred[y_pred > 0.5] = 1\n",
    "        y_pred[y_pred <= 0.5] = 0\n",
    "        \n",
    "        return torch.count_nonzero(y_pred == y_true).item() / len(y_pred)\n",
    "    \n",
    "    if verbose:\n",
    "        breaker()\n",
    "        if fold: print(f\"Training Fold {fold}...\")\n",
    "        else: print(\"Training ...\")\n",
    "        breaker()\n",
    "        \n",
    "    bestLoss, bestAccs = {\"train\" : np.inf, \"valid\" : np.inf}, {\"train\" : 0.0, \"valid\" : 0.0}\n",
    "    Losses, LRs, Accuracies = [], [], []\n",
    "    if fold: name = f\"state_fold_{fold}.pt\"\n",
    "    else: name = \"state.pt\"\n",
    "\n",
    "    start_time = time()\n",
    "    for e in range(epochs):\n",
    "        e_st = time()\n",
    "        epochLoss, epochAccs = {\"train\" : 0.0, \"valid\" : 0.0}, {\"train\" : 0.0, \"valid\" : 0.0}\n",
    "\n",
    "        for phase in [\"train\", \"valid\"]:\n",
    "            if phase == \"train\":\n",
    "                model.train()\n",
    "            else:\n",
    "                model.eval()\n",
    "            \n",
    "            lossPerPass, accsPerPass = [], []\n",
    "\n",
    "            for X, y in dataloaders[phase]:\n",
    "                X, y = X.to(device), y.to(device)\n",
    "\n",
    "                optimizer.zero_grad()\n",
    "                with torch.set_grad_enabled(phase == \"train\"):\n",
    "                    output = model(X)\n",
    "                    loss = torch.nn.BCEWithLogitsLoss()(output, y)\n",
    "                    if phase == \"train\":\n",
    "                        loss.backward()\n",
    "                        optimizer.step()\n",
    "                        if scheduler: scheduler.step()\n",
    "                lossPerPass.append(loss.item())\n",
    "                accsPerPass.append(get_accuracy(output, y))\n",
    "            epochLoss[phase] = np.mean(np.array(lossPerPass))\n",
    "            epochAccs[phase] = np.mean(np.array(accsPerPass))\n",
    "        LRs.append(scheduler.get_last_lr())\n",
    "        Losses.append(epochLoss)\n",
    "        Accuracies.append(epochAccs)\n",
    "        \n",
    "        if early_stopping_patience:\n",
    "            if epochLoss[\"valid\"] < bestLoss[\"valid\"]:\n",
    "                bestLoss = epochLoss\n",
    "                BLE = e + 1\n",
    "                torch.save({\"model_state_dict\"     : model.state_dict(),\n",
    "                            \"optim_state_dict\"     : optimizer.state_dict()},\n",
    "                           os.path.join(save_path, name))\n",
    "                early_stopping_step = 0\n",
    "            else:\n",
    "                early_stopping_step += 1\n",
    "                if early_stopping_step > early_stopping_patience:\n",
    "                    print(\"\\nEarly Stopping at Epoch {}\".format(e + 1))\n",
    "                    break\n",
    "        \n",
    "        if epochLoss[\"valid\"] < bestLoss[\"valid\"]:\n",
    "            bestLoss = epochLoss\n",
    "            BLE = e + 1\n",
    "            torch.save({\"model_state_dict\"     : model.state_dict(),\n",
    "                        \"optim_state_dict\"     : optimizer.state_dict()},\n",
    "                        os.path.join(save_path, name))\n",
    "        \n",
    "        if epochAccs[\"valid\"] > bestAccs[\"valid\"]:\n",
    "            bestAccs = epochAccs\n",
    "            BAE = e + 1\n",
    "        \n",
    "        # if scheduler: scheduler.step(epochLoss[\"valid\"])\n",
    "        \n",
    "        if verbose:\n",
    "            print(\"Epoch: {} | Train Loss: {:.5f} | Valid Loss: {:.5f} | Train Accs: {:.5f} | Valid Accs: {:.5f} | Time: {:.2f} seconds\".format(e+1, \n",
    "                                                                       epochLoss[\"train\"], epochLoss[\"valid\"], \n",
    "                                                                       epochAccs[\"train\"], epochAccs[\"valid\"], \n",
    "                                                                       time()-e_st))\n",
    "\n",
    "    if verbose:                                           \n",
    "        breaker()\n",
    "        print(f\"Best Validation Loss at Epoch {BLE}\")\n",
    "        breaker()\n",
    "        print(f\"Best Validation Accs at Epoch {BAE}\")\n",
    "        breaker()\n",
    "        print(\"Time Taken [{} Epochs] : {:.2f} minutes\".format(len(Losses), (time()-start_time)/60))\n",
    "    \n",
    "    return Losses, Accuracies, LRs, BLE, BAE, name\n",
    "\n",
    "\n",
    "def predict(model=None, dataloader=None, path=None, device=None) -> np.ndarray:\n",
    "    model.load_state_dict(torch.load(path, map_location=device)[\"model_state_dict\"])\n",
    "    model.to(device)    \n",
    "    model.eval()\n",
    "    \n",
    "    y_pred = torch.zeros(1, 1).to(device)\n",
    "    \n",
    "    for X in dataloader:\n",
    "        X = X.to(device)\n",
    "        with torch.no_grad():\n",
    "            output = torch.sigmoid(model(X))\n",
    "        y_pred = torch.cat((y_pred, output.view(-1, 1)), dim=0)\n",
    "    \n",
    "    y_pred[y_pred > 0.5] = 1\n",
    "    y_pred[y_pred <= 0.5] = 0\n",
    "    \n",
    "    return y_pred[1:].detach().cpu().numpy()"
   ]
  },
  {
   "cell_type": "markdown",
   "id": "02bef768",
   "metadata": {
    "papermill": {
     "duration": 0.012926,
     "end_time": "2022-04-09T02:58:09.586238",
     "exception": false,
     "start_time": "2022-04-09T02:58:09.573312",
     "status": "completed"
    },
    "tags": []
   },
   "source": [
    "### **Train**"
   ]
  },
  {
   "cell_type": "code",
   "execution_count": 7,
   "id": "0287990d",
   "metadata": {
    "execution": {
     "iopub.execute_input": "2022-04-09T02:58:09.615796Z",
     "iopub.status.busy": "2022-04-09T02:58:09.615235Z",
     "iopub.status.idle": "2022-04-09T02:58:16.554086Z",
     "shell.execute_reply": "2022-04-09T02:58:16.554628Z",
     "shell.execute_reply.started": "2022-04-09T01:18:47.643848Z"
    },
    "papermill": {
     "duration": 6.955645,
     "end_time": "2022-04-09T02:58:16.554805",
     "exception": false,
     "start_time": "2022-04-09T02:58:09.599160",
     "status": "completed"
    },
    "tags": []
   },
   "outputs": [],
   "source": [
    "images = np.load(f\"../input/cxr-images/train_images_{SIZE}.npy\")\n",
    "labels = np.load(f\"../input/cxr-images/train_targets_{SIZE}.npy\")"
   ]
  },
  {
   "cell_type": "code",
   "execution_count": 8,
   "id": "851b78b6",
   "metadata": {
    "execution": {
     "iopub.execute_input": "2022-04-09T02:58:16.596756Z",
     "iopub.status.busy": "2022-04-09T02:58:16.595337Z",
     "iopub.status.idle": "2022-04-09T03:57:33.485822Z",
     "shell.execute_reply": "2022-04-09T03:57:33.486267Z",
     "shell.execute_reply.started": "2022-04-09T01:36:59.635267Z"
    },
    "papermill": {
     "duration": 3556.917976,
     "end_time": "2022-04-09T03:57:33.486453",
     "exception": false,
     "start_time": "2022-04-09T02:58:16.568477",
     "status": "completed"
    },
    "tags": []
   },
   "outputs": [
    {
     "name": "stderr",
     "output_type": "stream",
     "text": [
      "Downloading: \"https://download.pytorch.org/models/resnet50-0676ba61.pth\" to /root/.cache/torch/hub/checkpoints/resnet50-0676ba61.pth\n"
     ]
    },
    {
     "data": {
      "application/vnd.jupyter.widget-view+json": {
       "model_id": "eb7b86459de748a29a6392b05e3634ef",
       "version_major": 2,
       "version_minor": 0
      },
      "text/plain": [
       "  0%|          | 0.00/97.8M [00:00<?, ?B/s]"
      ]
     },
     "metadata": {},
     "output_type": "display_data"
    },
    {
     "name": "stdout",
     "output_type": "stream",
     "text": [
      "\n",
      "**************************************************\n",
      "\n",
      "Training Fold 1...\n",
      "\n",
      "**************************************************\n",
      "\n",
      "Epoch: 1 | Train Loss: 0.27533 | Valid Loss: 0.06701 | Train Accs: 0.86379 | Valid Accs: 0.97578 | Time: 48.64 seconds\n",
      "Epoch: 2 | Train Loss: 0.09667 | Valid Loss: 0.12167 | Train Accs: 0.96517 | Valid Accs: 0.95806 | Time: 42.09 seconds\n",
      "Epoch: 3 | Train Loss: 0.10892 | Valid Loss: 0.05709 | Train Accs: 0.96016 | Valid Accs: 0.98011 | Time: 42.72 seconds\n",
      "Epoch: 4 | Train Loss: 0.11414 | Valid Loss: 0.25192 | Train Accs: 0.95825 | Valid Accs: 0.89976 | Time: 41.74 seconds\n",
      "Epoch: 5 | Train Loss: 0.08595 | Valid Loss: 1.08646 | Train Accs: 0.96803 | Valid Accs: 0.67614 | Time: 41.77 seconds\n",
      "Epoch: 6 | Train Loss: 0.08711 | Valid Loss: 2.04046 | Train Accs: 0.96469 | Valid Accs: 0.62879 | Time: 41.66 seconds\n",
      "Epoch: 7 | Train Loss: 0.05111 | Valid Loss: 0.03648 | Train Accs: 0.98306 | Valid Accs: 0.98390 | Time: 42.32 seconds\n",
      "Epoch: 8 | Train Loss: 0.05084 | Valid Loss: 0.05204 | Train Accs: 0.98259 | Valid Accs: 0.97822 | Time: 41.92 seconds\n",
      "Epoch: 9 | Train Loss: 0.03454 | Valid Loss: 0.07593 | Train Accs: 0.98741 | Valid Accs: 0.96970 | Time: 41.82 seconds\n",
      "Epoch: 10 | Train Loss: 0.04032 | Valid Loss: 0.09503 | Train Accs: 0.98712 | Valid Accs: 0.96686 | Time: 41.83 seconds\n",
      "Epoch: 11 | Train Loss: 0.05435 | Valid Loss: 0.03530 | Train Accs: 0.98240 | Valid Accs: 0.98458 | Time: 42.50 seconds\n",
      "Epoch: 12 | Train Loss: 0.01939 | Valid Loss: 0.02151 | Train Accs: 0.99427 | Valid Accs: 0.99337 | Time: 42.73 seconds\n",
      "Epoch: 13 | Train Loss: 0.01786 | Valid Loss: 0.02876 | Train Accs: 0.99380 | Valid Accs: 0.98620 | Time: 42.03 seconds\n",
      "Epoch: 14 | Train Loss: 0.00934 | Valid Loss: 0.02347 | Train Accs: 0.99690 | Valid Accs: 0.99148 | Time: 42.03 seconds\n",
      "Epoch: 15 | Train Loss: 0.00567 | Valid Loss: 0.04633 | Train Accs: 0.99809 | Valid Accs: 0.98390 | Time: 42.22 seconds\n",
      "Epoch: 16 | Train Loss: 0.00464 | Valid Loss: 0.03347 | Train Accs: 0.99857 | Valid Accs: 0.99053 | Time: 42.03 seconds\n",
      "Epoch: 17 | Train Loss: 0.00371 | Valid Loss: 0.02628 | Train Accs: 0.99881 | Valid Accs: 0.99148 | Time: 42.04 seconds\n",
      "\n",
      "Early Stopping at Epoch 18\n",
      "\n",
      "**************************************************\n",
      "\n",
      "Best Validation Loss at Epoch 12\n",
      "\n",
      "**************************************************\n",
      "\n",
      "Best Validation Accs at Epoch 12\n",
      "\n",
      "**************************************************\n",
      "\n",
      "Time Taken [18 Epochs] : 12.74 minutes\n",
      "\n",
      "**************************************************\n",
      "\n"
     ]
    },
    {
     "data": {
      "image/png": "[encoded data removed]",
      "text/plain": [
       "<Figure size 576x432 with 2 Axes>"
      ]
     },
     "metadata": {
      "needs_background": "light"
     },
     "output_type": "display_data"
    },
    {
     "name": "stdout",
     "output_type": "stream",
     "text": [
      "\n",
      "**************************************************\n",
      "\n",
      "Training Fold 2...\n",
      "\n",
      "**************************************************\n",
      "\n",
      "Epoch: 1 | Train Loss: 0.34531 | Valid Loss: 0.29411 | Train Accs: 0.80621 | Valid Accs: 0.92647 | Time: 37.23 seconds\n",
      "Epoch: 2 | Train Loss: 0.05538 | Valid Loss: 0.08186 | Train Accs: 0.97903 | Valid Accs: 0.96659 | Time: 37.31 seconds\n",
      "Epoch: 3 | Train Loss: 0.06856 | Valid Loss: 0.36309 | Train Accs: 0.97346 | Valid Accs: 0.91544 | Time: 36.82 seconds\n",
      "Epoch: 4 | Train Loss: 0.06612 | Valid Loss: 0.07204 | Train Accs: 0.97525 | Valid Accs: 0.97355 | Time: 37.32 seconds\n",
      "Epoch: 5 | Train Loss: 0.03556 | Valid Loss: 0.09620 | Train Accs: 0.98864 | Valid Accs: 0.97099 | Time: 36.75 seconds\n",
      "Epoch: 6 | Train Loss: 0.03065 | Valid Loss: 0.06987 | Train Accs: 0.98864 | Valid Accs: 0.97171 | Time: 37.54 seconds\n",
      "Epoch: 7 | Train Loss: 0.02067 | Valid Loss: 0.03326 | Train Accs: 0.99432 | Valid Accs: 0.98989 | Time: 37.36 seconds\n",
      "Epoch: 8 | Train Loss: 0.01991 | Valid Loss: 0.05007 | Train Accs: 0.99419 | Valid Accs: 0.97998 | Time: 36.64 seconds\n",
      "Epoch: 9 | Train Loss: 0.01813 | Valid Loss: 0.05662 | Train Accs: 0.99324 | Valid Accs: 0.97906 | Time: 36.80 seconds\n",
      "Epoch: 10 | Train Loss: 0.00539 | Valid Loss: 0.03941 | Train Accs: 0.99858 | Valid Accs: 0.98529 | Time: 36.72 seconds\n",
      "Epoch: 11 | Train Loss: 0.00561 | Valid Loss: 0.02316 | Train Accs: 0.99834 | Valid Accs: 0.99173 | Time: 37.36 seconds\n",
      "Epoch: 12 | Train Loss: 0.00092 | Valid Loss: 0.01642 | Train Accs: 1.00000 | Valid Accs: 0.99449 | Time: 37.53 seconds\n",
      "Epoch: 13 | Train Loss: 0.00135 | Valid Loss: 0.02655 | Train Accs: 0.99976 | Valid Accs: 0.99265 | Time: 36.95 seconds\n",
      "Epoch: 14 | Train Loss: 0.00058 | Valid Loss: 0.02422 | Train Accs: 1.00000 | Valid Accs: 0.99357 | Time: 36.87 seconds\n",
      "Epoch: 15 | Train Loss: 0.00027 | Valid Loss: 0.02373 | Train Accs: 1.00000 | Valid Accs: 0.99357 | Time: 36.74 seconds\n",
      "Epoch: 16 | Train Loss: 0.00029 | Valid Loss: 0.02321 | Train Accs: 1.00000 | Valid Accs: 0.99357 | Time: 36.84 seconds\n",
      "Epoch: 17 | Train Loss: 0.00017 | Valid Loss: 0.02424 | Train Accs: 1.00000 | Valid Accs: 0.99357 | Time: 36.74 seconds\n",
      "\n",
      "Early Stopping at Epoch 18\n",
      "\n",
      "**************************************************\n",
      "\n",
      "Best Validation Loss at Epoch 12\n",
      "\n",
      "**************************************************\n",
      "\n",
      "Best Validation Accs at Epoch 12\n",
      "\n",
      "**************************************************\n",
      "\n",
      "Time Taken [18 Epochs] : 11.10 minutes\n",
      "\n",
      "**************************************************\n",
      "\n"
     ]
    },
    {
     "data": {
      "image/png": "[encoded data removed]",
      "text/plain": [
       "<Figure size 576x432 with 2 Axes>"
      ]
     },
     "metadata": {
      "needs_background": "light"
     },
     "output_type": "display_data"
    },
    {
     "name": "stdout",
     "output_type": "stream",
     "text": [
      "\n",
      "**************************************************\n",
      "\n",
      "Training Fold 3...\n",
      "\n",
      "**************************************************\n",
      "\n",
      "Epoch: 1 | Train Loss: 0.35247 | Valid Loss: 0.07442 | Train Accs: 0.79937 | Valid Accs: 0.97702 | Time: 37.30 seconds\n",
      "Epoch: 2 | Train Loss: 0.07598 | Valid Loss: 0.28462 | Train Accs: 0.97387 | Valid Accs: 0.88419 | Time: 36.86 seconds\n",
      "Epoch: 3 | Train Loss: 0.04747 | Valid Loss: 0.07347 | Train Accs: 0.98272 | Valid Accs: 0.97259 | Time: 37.44 seconds\n",
      "Epoch: 4 | Train Loss: 0.04298 | Valid Loss: 0.32676 | Train Accs: 0.98392 | Valid Accs: 0.93391 | Time: 36.96 seconds\n",
      "Epoch: 5 | Train Loss: 0.05846 | Valid Loss: 1.86289 | Train Accs: 0.97822 | Valid Accs: 0.51654 | Time: 36.79 seconds\n",
      "Epoch: 6 | Train Loss: 0.02771 | Valid Loss: 0.03301 | Train Accs: 0.99053 | Valid Accs: 0.98630 | Time: 37.48 seconds\n",
      "Epoch: 7 | Train Loss: 0.01984 | Valid Loss: 0.14691 | Train Accs: 0.99337 | Valid Accs: 0.95446 | Time: 36.76 seconds\n",
      "Epoch: 8 | Train Loss: 0.02348 | Valid Loss: 0.65845 | Train Accs: 0.99219 | Valid Accs: 0.79078 | Time: 36.87 seconds\n",
      "Epoch: 9 | Train Loss: 0.01069 | Valid Loss: 0.13520 | Train Accs: 0.99574 | Valid Accs: 0.95521 | Time: 36.73 seconds\n",
      "Epoch: 10 | Train Loss: 0.00642 | Valid Loss: 0.06835 | Train Accs: 0.99787 | Valid Accs: 0.97903 | Time: 36.81 seconds\n",
      "Epoch: 11 | Train Loss: 0.00129 | Valid Loss: 0.02063 | Train Accs: 1.00000 | Valid Accs: 0.98997 | Time: 37.45 seconds\n",
      "Epoch: 12 | Train Loss: 0.00193 | Valid Loss: 0.01520 | Train Accs: 0.99976 | Valid Accs: 0.99357 | Time: 37.55 seconds\n",
      "Epoch: 13 | Train Loss: 0.00462 | Valid Loss: 0.02696 | Train Accs: 0.99882 | Valid Accs: 0.98997 | Time: 36.77 seconds\n",
      "Epoch: 14 | Train Loss: 0.00159 | Valid Loss: 0.02122 | Train Accs: 0.99976 | Valid Accs: 0.98997 | Time: 36.75 seconds\n",
      "Epoch: 15 | Train Loss: 0.00073 | Valid Loss: 0.01684 | Train Accs: 1.00000 | Valid Accs: 0.99089 | Time: 36.86 seconds\n",
      "Epoch: 16 | Train Loss: 0.00039 | Valid Loss: 0.02097 | Train Accs: 1.00000 | Valid Accs: 0.99173 | Time: 36.77 seconds\n",
      "Epoch: 17 | Train Loss: 0.00025 | Valid Loss: 0.01676 | Train Accs: 1.00000 | Valid Accs: 0.99265 | Time: 36.68 seconds\n",
      "Epoch: 18 | Train Loss: 0.00041 | Valid Loss: 0.01426 | Train Accs: 1.00000 | Valid Accs: 0.99089 | Time: 37.81 seconds\n",
      "Epoch: 19 | Train Loss: 0.00024 | Valid Loss: 0.01427 | Train Accs: 1.00000 | Valid Accs: 0.99089 | Time: 36.72 seconds\n",
      "Epoch: 20 | Train Loss: 0.00028 | Valid Loss: 0.01436 | Train Accs: 1.00000 | Valid Accs: 0.99181 | Time: 36.71 seconds\n",
      "\n",
      "**************************************************\n",
      "\n",
      "Best Validation Loss at Epoch 18\n",
      "\n",
      "**************************************************\n",
      "\n",
      "Best Validation Accs at Epoch 12\n",
      "\n",
      "**************************************************\n",
      "\n",
      "Time Taken [20 Epochs] : 12.33 minutes\n",
      "\n",
      "**************************************************\n",
      "\n"
     ]
    },
    {
     "data": {
      "image/png": "[encoded data removed]",
      "text/plain": [
       "<Figure size 576x432 with 2 Axes>"
      ]
     },
     "metadata": {
      "needs_background": "light"
     },
     "output_type": "display_data"
    },
    {
     "name": "stdout",
     "output_type": "stream",
     "text": [
      "\n",
      "**************************************************\n",
      "\n",
      "Training Fold 4...\n",
      "\n",
      "**************************************************\n",
      "\n",
      "Epoch: 1 | Train Loss: 0.35075 | Valid Loss: 0.41222 | Train Accs: 0.80789 | Valid Accs: 0.84926 | Time: 37.34 seconds\n",
      "Epoch: 2 | Train Loss: 0.06521 | Valid Loss: 0.17742 | Train Accs: 0.97696 | Valid Accs: 0.92622 | Time: 37.63 seconds\n",
      "Epoch: 3 | Train Loss: 0.05223 | Valid Loss: 0.12276 | Train Accs: 0.98248 | Valid Accs: 0.94769 | Time: 37.82 seconds\n",
      "Epoch: 4 | Train Loss: 0.04727 | Valid Loss: 0.96481 | Train Accs: 0.98153 | Valid Accs: 0.77465 | Time: 36.77 seconds\n",
      "Epoch: 5 | Train Loss: 0.04638 | Valid Loss: 0.06728 | Train Accs: 0.98461 | Valid Accs: 0.97886 | Time: 37.45 seconds\n",
      "Epoch: 6 | Train Loss: 0.02008 | Valid Loss: 0.06541 | Train Accs: 0.99266 | Valid Accs: 0.97452 | Time: 37.51 seconds\n",
      "Epoch: 7 | Train Loss: 0.02463 | Valid Loss: 0.14663 | Train Accs: 0.99042 | Valid Accs: 0.94126 | Time: 36.78 seconds\n",
      "Epoch: 8 | Train Loss: 0.01904 | Valid Loss: 0.05272 | Train Accs: 0.99337 | Valid Accs: 0.98529 | Time: 37.57 seconds\n",
      "Epoch: 9 | Train Loss: 0.01372 | Valid Loss: 0.68386 | Train Accs: 0.99550 | Valid Accs: 0.82854 | Time: 36.90 seconds\n",
      "Epoch: 10 | Train Loss: 0.01055 | Valid Loss: 0.03671 | Train Accs: 0.99645 | Valid Accs: 0.98446 | Time: 37.57 seconds\n",
      "Epoch: 11 | Train Loss: 0.00221 | Valid Loss: 0.02803 | Train Accs: 0.99953 | Valid Accs: 0.98822 | Time: 37.55 seconds\n",
      "Epoch: 12 | Train Loss: 0.00074 | Valid Loss: 0.02547 | Train Accs: 1.00000 | Valid Accs: 0.98638 | Time: 37.35 seconds\n",
      "Epoch: 13 | Train Loss: 0.00084 | Valid Loss: 0.04531 | Train Accs: 0.99976 | Valid Accs: 0.98638 | Time: 36.71 seconds\n",
      "Epoch: 14 | Train Loss: 0.00045 | Valid Loss: 0.02987 | Train Accs: 1.00000 | Valid Accs: 0.98997 | Time: 36.69 seconds\n",
      "Epoch: 15 | Train Loss: 0.00036 | Valid Loss: 0.03049 | Train Accs: 1.00000 | Valid Accs: 0.98997 | Time: 36.63 seconds\n",
      "Epoch: 16 | Train Loss: 0.00053 | Valid Loss: 0.03087 | Train Accs: 1.00000 | Valid Accs: 0.99089 | Time: 36.71 seconds\n",
      "Epoch: 17 | Train Loss: 0.00020 | Valid Loss: 0.03561 | Train Accs: 1.00000 | Valid Accs: 0.98997 | Time: 36.73 seconds\n",
      "\n",
      "Early Stopping at Epoch 18\n",
      "\n",
      "**************************************************\n",
      "\n",
      "Best Validation Loss at Epoch 12\n",
      "\n",
      "**************************************************\n",
      "\n",
      "Best Validation Accs at Epoch 16\n",
      "\n",
      "**************************************************\n",
      "\n",
      "Time Taken [18 Epochs] : 11.14 minutes\n",
      "\n",
      "**************************************************\n",
      "\n"
     ]
    },
    {
     "data": {
      "image/png": "[encoded data removed]",
      "text/plain": [
       "<Figure size 576x432 with 2 Axes>"
      ]
     },
     "metadata": {
      "needs_background": "light"
     },
     "output_type": "display_data"
    },
    {
     "name": "stdout",
     "output_type": "stream",
     "text": [
      "\n",
      "**************************************************\n",
      "\n",
      "Training Fold 5...\n",
      "\n",
      "**************************************************\n",
      "\n",
      "Epoch: 1 | Train Loss: 0.35165 | Valid Loss: 0.18143 | Train Accs: 0.79866 | Valid Accs: 0.94761 | Time: 37.11 seconds\n",
      "Epoch: 2 | Train Loss: 0.06098 | Valid Loss: 0.07145 | Train Accs: 0.97491 | Valid Accs: 0.97259 | Time: 37.36 seconds\n",
      "Epoch: 3 | Train Loss: 0.04225 | Valid Loss: 0.44899 | Train Accs: 0.98461 | Valid Accs: 0.81016 | Time: 36.84 seconds\n",
      "Epoch: 4 | Train Loss: 0.04291 | Valid Loss: 0.13306 | Train Accs: 0.98532 | Valid Accs: 0.94803 | Time: 36.68 seconds\n",
      "Epoch: 5 | Train Loss: 0.05964 | Valid Loss: 0.12721 | Train Accs: 0.97775 | Valid Accs: 0.94945 | Time: 36.70 seconds\n",
      "Epoch: 6 | Train Loss: 0.03156 | Valid Loss: 0.09046 | Train Accs: 0.98840 | Valid Accs: 0.96875 | Time: 36.82 seconds\n",
      "Epoch: 7 | Train Loss: 0.02276 | Valid Loss: 0.03719 | Train Accs: 0.99077 | Valid Accs: 0.98529 | Time: 37.44 seconds\n",
      "Epoch: 8 | Train Loss: 0.01163 | Valid Loss: 0.10898 | Train Accs: 0.99669 | Valid Accs: 0.96273 | Time: 36.79 seconds\n",
      "Epoch: 9 | Train Loss: 0.01365 | Valid Loss: 0.03596 | Train Accs: 0.99527 | Valid Accs: 0.98621 | Time: 37.54 seconds\n",
      "Epoch: 10 | Train Loss: 0.00644 | Valid Loss: 0.03783 | Train Accs: 0.99858 | Valid Accs: 0.98713 | Time: 36.74 seconds\n",
      "Epoch: 11 | Train Loss: 0.00107 | Valid Loss: 0.02903 | Train Accs: 1.00000 | Valid Accs: 0.98897 | Time: 37.63 seconds\n",
      "Epoch: 12 | Train Loss: 0.00246 | Valid Loss: 0.02901 | Train Accs: 0.99929 | Valid Accs: 0.98989 | Time: 37.51 seconds\n",
      "Epoch: 13 | Train Loss: 0.00133 | Valid Loss: 0.01818 | Train Accs: 1.00000 | Valid Accs: 0.98989 | Time: 37.59 seconds\n",
      "Epoch: 14 | Train Loss: 0.00059 | Valid Loss: 0.03098 | Train Accs: 1.00000 | Valid Accs: 0.98529 | Time: 37.25 seconds\n",
      "Epoch: 15 | Train Loss: 0.00082 | Valid Loss: 0.02039 | Train Accs: 0.99953 | Valid Accs: 0.98897 | Time: 36.86 seconds\n",
      "Epoch: 16 | Train Loss: 0.00031 | Valid Loss: 0.02534 | Train Accs: 1.00000 | Valid Accs: 0.98897 | Time: 36.87 seconds\n",
      "Epoch: 17 | Train Loss: 0.00021 | Valid Loss: 0.02006 | Train Accs: 1.00000 | Valid Accs: 0.98805 | Time: 36.81 seconds\n",
      "Epoch: 18 | Train Loss: 0.00035 | Valid Loss: 0.01984 | Train Accs: 1.00000 | Valid Accs: 0.98805 | Time: 36.78 seconds\n",
      "\n",
      "Early Stopping at Epoch 19\n",
      "\n",
      "**************************************************\n",
      "\n",
      "Best Validation Loss at Epoch 13\n",
      "\n",
      "**************************************************\n",
      "\n",
      "Best Validation Accs at Epoch 12\n",
      "\n",
      "**************************************************\n",
      "\n",
      "Time Taken [19 Epochs] : 11.73 minutes\n",
      "\n",
      "**************************************************\n",
      "\n"
     ]
    },
    {
     "data": {
      "image/png": "[encoded data removed]",
      "text/plain": [
       "<Figure size 576x432 with 2 Axes>"
      ]
     },
     "metadata": {
      "needs_background": "light"
     },
     "output_type": "display_data"
    }
   ],
   "source": [
    "fold = 1\n",
    "BLEs, BAEs = [], []\n",
    "\n",
    "for tr_idx, va_idx in KFold(n_splits=cfg.n_splits, random_state=SEED, shuffle=True).split(images):\n",
    "    tr_images, va_images, tr_labels, va_labels = images[tr_idx], images[va_idx], labels[tr_idx], labels[va_idx]\n",
    "\n",
    "    tr_data_setup = DS(tr_images, tr_labels.reshape(-1, 1), cfg.transform)\n",
    "    va_data_setup = DS(va_images, va_labels.reshape(-1, 1), cfg.transform)\n",
    "\n",
    "    dataloaders = {\n",
    "        \"train\" : DL(tr_data_setup, batch_size=cfg.batch_size, shuffle=True, generator=torch.manual_seed(cfg.seed)),\n",
    "        \"valid\" : DL(va_data_setup, batch_size=cfg.batch_size, shuffle=False),\n",
    "    }\n",
    "\n",
    "    cfg = CFG(epochs=20, lr=1e-3, wd=0.0, batch_size=64, steps_per_epoch=len(dataloaders[\"train\"]))\n",
    "\n",
    "    torch.manual_seed(cfg.seed)\n",
    "    model = MyResnet().to(cfg.device)\n",
    "    optimizer = optim.Adam([p for p in model.parameters() if p.requires_grad], lr=cfg.lr, weight_decay=cfg.wd)\n",
    "    scheduler = optim.lr_scheduler.OneCycleLR(optimizer=optimizer, \n",
    "                                              max_lr=cfg.max_lr, \n",
    "                                              epochs=cfg.epochs, \n",
    "                                              steps_per_epoch=cfg.steps_per_epoch,\n",
    "                                              pct_start=cfg.pct_start, \n",
    "                                              div_factor=cfg.div_factor, \n",
    "                                              final_div_factor=cfg.final_div_factor)\n",
    "    # scheduler = None\n",
    "\n",
    "    L, A, LRs, BLE, BAE, name = fit(model=model, \n",
    "                                    optimizer=optimizer, \n",
    "                                    scheduler=scheduler, \n",
    "                                    epochs=cfg.epochs, \n",
    "                                    early_stopping_patience=cfg.early_stopping, \n",
    "                                    dataloaders=dataloaders, \n",
    "                                    device=cfg.device,\n",
    "                                    save_path=cfg.save_path,\n",
    "                                    fold = fold,\n",
    "                                    verbose=True)\n",
    "\n",
    "    breaker()\n",
    "    show_graphs(L, A)\n",
    "    \n",
    "    BLEs.append(BLE)\n",
    "    BAEs.append(BAE)\n",
    "\n",
    "    fold += 1"
   ]
  },
  {
   "cell_type": "markdown",
   "id": "50988bd3",
   "metadata": {
    "papermill": {
     "duration": 0.050777,
     "end_time": "2022-04-09T03:57:33.587902",
     "exception": false,
     "start_time": "2022-04-09T03:57:33.537125",
     "status": "completed"
    },
    "tags": []
   },
   "source": [
    "### **Predictions**"
   ]
  },
  {
   "cell_type": "code",
   "execution_count": 9,
   "id": "a7825148",
   "metadata": {
    "execution": {
     "iopub.execute_input": "2022-04-09T03:57:33.692866Z",
     "iopub.status.busy": "2022-04-09T03:57:33.692264Z",
     "iopub.status.idle": "2022-04-09T03:57:36.839366Z",
     "shell.execute_reply": "2022-04-09T03:57:36.838948Z",
     "shell.execute_reply.started": "2022-04-09T01:41:41.028783Z"
    },
    "papermill": {
     "duration": 3.202178,
     "end_time": "2022-04-09T03:57:36.839506",
     "exception": false,
     "start_time": "2022-04-09T03:57:33.637328",
     "status": "completed"
    },
    "tags": []
   },
   "outputs": [
    {
     "name": "stdout",
     "output_type": "stream",
     "text": [
      "Accuracy  : 0.78205\n",
      "ROC-AUC   : 0.87072\n",
      "Precision : [1.         0.41880342]\n",
      "Recall    : [0.74144487 1.        ]\n",
      "F-Score   : [0.85152838 0.59036145]\n"
     ]
    }
   ],
   "source": [
    "test_images = np.load(f\"../input/cxr-images/test_images_{SIZE}.npy\")\n",
    "test_labels = np.load(f\"../input/cxr-images/test_targets_{SIZE}.npy\")\n",
    "\n",
    "ts_data_setup = DS(test_images, None, cfg.transform)\n",
    "ts_data = DL(ts_data_setup, batch_size=cfg.batch_size, shuffle=False)\n",
    "\n",
    "MODEL_PATH = f\"saves/state_fold_{BLEs.index(min(BLEs)) + 1}.pt\"\n",
    "y_pred = predict(model=MyResnet().to(cfg.device), dataloader=ts_data, path=MODEL_PATH, device=cfg.device)\n",
    "\n",
    "accuracy, auc, precision, recall, f_score = get_scores(test_labels, y_pred)\n",
    "print_scores(accuracy, auc, precision, recall, f_score)"
   ]
  }
 ],
 "metadata": {
  "kernelspec": {
   "display_name": "Python 3",
   "language": "python",
   "name": "python3"
  },
  "language_info": {
   "codemirror_mode": {
    "name": "ipython",
    "version": 3
   },
   "file_extension": ".py",
   "mimetype": "text/x-python",
   "name": "python",
   "nbconvert_exporter": "python",
   "pygments_lexer": "ipython3",
   "version": "3.7.12"
  },
  "papermill": {
   "default_parameters": {},
   "duration": 3580.234865,
   "end_time": "2022-04-09T03:57:38.409536",
   "environment_variables": {},
   "exception": null,
   "input_path": "__notebook__.ipynb",
   "output_path": "__notebook__.ipynb",
   "parameters": {},
   "start_time": "2022-04-09T02:57:58.174671",
   "version": "2.3.3"
  },
  "widgets": {
   "application/vnd.jupyter.widget-state+json": {
    "state": {
     "3b9e1d46ef894b73b2d3bb0e5af90384": {
      "model_module": "@jupyter-widgets/controls",
      "model_module_version": "1.5.0",
      "model_name": "ProgressStyleModel",
      "state": {
       "_model_module": "@jupyter-widgets/controls",
       "_model_module_version": "1.5.0",
       "_model_name": "ProgressStyleModel",
       "_view_count": null,
       "_view_module": "@jupyter-widgets/base",
       "_view_module_version": "1.2.0",
       "_view_name": "StyleView",
       "bar_color": null,
       "description_width": ""
      }
     },
     "51a513d520884bfd9c72d2e3acbe03d3": {
      "model_module": "@jupyter-widgets/base",
      "model_module_version": "1.2.0",
      "model_name": "LayoutModel",
      "state": {
       "_model_module": "@jupyter-widgets/base",
       "_model_module_version": "1.2.0",
       "_model_name": "LayoutModel",
       "_view_count": null,
       "_view_module": "@jupyter-widgets/base",
       "_view_module_version": "1.2.0",
       "_view_name": "LayoutView",
       "align_content": null,
       "align_items": null,
       "align_self": null,
       "border": null,
       "bottom": null,
       "display": null,
       "flex": null,
       "flex_flow": null,
       "grid_area": null,
       "grid_auto_columns": null,
       "grid_auto_flow": null,
       "grid_auto_rows": null,
       "grid_column": null,
       "grid_gap": null,
       "grid_row": null,
       "grid_template_areas": null,
       "grid_template_columns": null,
       "grid_template_rows": null,
       "height": null,
       "justify_content": null,
       "justify_items": null,
       "left": null,
       "margin": null,
       "max_height": null,
       "max_width": null,
       "min_height": null,
       "min_width": null,
       "object_fit": null,
       "object_position": null,
       "order": null,
       "overflow": null,
       "overflow_x": null,
       "overflow_y": null,
       "padding": null,
       "right": null,
       "top": null,
       "visibility": null,
       "width": null
      }
     },
     "70b862de6e67422c897c5d4b6fc0d4e4": {
      "model_module": "@jupyter-widgets/controls",
      "model_module_version": "1.5.0",
      "model_name": "HTMLModel",
      "state": {
       "_dom_classes": [],
       "_model_module": "@jupyter-widgets/controls",
       "_model_module_version": "1.5.0",
       "_model_name": "HTMLModel",
       "_view_count": null,
       "_view_module": "@jupyter-widgets/controls",
       "_view_module_version": "1.5.0",
       "_view_name": "HTMLView",
       "description": "",
       "description_tooltip": null,
       "layout": "IPY_MODEL_51a513d520884bfd9c72d2e3acbe03d3",
       "placeholder": "​",
       "style": "IPY_MODEL_b8a89e912e6e4a449604ae2c8ed78ae4",
       "value": "100%"
      }
     },
     "82792aeeaff445329ca42843883b5700": {
      "model_module": "@jupyter-widgets/base",
      "model_module_version": "1.2.0",
      "model_name": "LayoutModel",
      "state": {
       "_model_module": "@jupyter-widgets/base",
       "_model_module_version": "1.2.0",
       "_model_name": "LayoutModel",
       "_view_count": null,
       "_view_module": "@jupyter-widgets/base",
       "_view_module_version": "1.2.0",
       "_view_name": "LayoutView",
       "align_content": null,
       "align_items": null,
       "align_self": null,
       "border": null,
       "bottom": null,
       "display": null,
       "flex": null,
       "flex_flow": null,
       "grid_area": null,
       "grid_auto_columns": null,
       "grid_auto_flow": null,
       "grid_auto_rows": null,
       "grid_column": null,
       "grid_gap": null,
       "grid_row": null,
       "grid_template_areas": null,
       "grid_template_columns": null,
       "grid_template_rows": null,
       "height": null,
       "justify_content": null,
       "justify_items": null,
       "left": null,
       "margin": null,
       "max_height": null,
       "max_width": null,
       "min_height": null,
       "min_width": null,
       "object_fit": null,
       "object_position": null,
       "order": null,
       "overflow": null,
       "overflow_x": null,
       "overflow_y": null,
       "padding": null,
       "right": null,
       "top": null,
       "visibility": null,
       "width": null
      }
     },
     "9a9a048c60fc4073bab743b9eb5bad39": {
      "model_module": "@jupyter-widgets/controls",
      "model_module_version": "1.5.0",
      "model_name": "FloatProgressModel",
      "state": {
       "_dom_classes": [],
       "_model_module": "@jupyter-widgets/controls",
       "_model_module_version": "1.5.0",
       "_model_name": "FloatProgressModel",
       "_view_count": null,
       "_view_module": "@jupyter-widgets/controls",
       "_view_module_version": "1.5.0",
       "_view_name": "ProgressView",
       "bar_style": "success",
       "description": "",
       "description_tooltip": null,
       "layout": "IPY_MODEL_82792aeeaff445329ca42843883b5700",
       "max": 102530333.0,
       "min": 0.0,
       "orientation": "horizontal",
       "style": "IPY_MODEL_3b9e1d46ef894b73b2d3bb0e5af90384",
       "value": 102530333.0
      }
     },
     "acf0dbb5169e49568d917256e28dab77": {
      "model_module": "@jupyter-widgets/controls",
      "model_module_version": "1.5.0",
      "model_name": "DescriptionStyleModel",
      "state": {
       "_model_module": "@jupyter-widgets/controls",
       "_model_module_version": "1.5.0",
       "_model_name": "DescriptionStyleModel",
       "_view_count": null,
       "_view_module": "@jupyter-widgets/base",
       "_view_module_version": "1.2.0",
       "_view_name": "StyleView",
       "description_width": ""
      }
     },
     "b8a89e912e6e4a449604ae2c8ed78ae4": {
      "model_module": "@jupyter-widgets/controls",
      "model_module_version": "1.5.0",
      "model_name": "DescriptionStyleModel",
      "state": {
       "_model_module": "@jupyter-widgets/controls",
       "_model_module_version": "1.5.0",
       "_model_name": "DescriptionStyleModel",
       "_view_count": null,
       "_view_module": "@jupyter-widgets/base",
       "_view_module_version": "1.2.0",
       "_view_name": "StyleView",
       "description_width": ""
      }
     },
     "c29f34cb8cde4d95909dd896d5bac588": {
      "model_module": "@jupyter-widgets/base",
      "model_module_version": "1.2.0",
      "model_name": "LayoutModel",
      "state": {
       "_model_module": "@jupyter-widgets/base",
       "_model_module_version": "1.2.0",
       "_model_name": "LayoutModel",
       "_view_count": null,
       "_view_module": "@jupyter-widgets/base",
       "_view_module_version": "1.2.0",
       "_view_name": "LayoutView",
       "align_content": null,
       "align_items": null,
       "align_self": null,
       "border": null,
       "bottom": null,
       "display": null,
       "flex": null,
       "flex_flow": null,
       "grid_area": null,
       "grid_auto_columns": null,
       "grid_auto_flow": null,
       "grid_auto_rows": null,
       "grid_column": null,
       "grid_gap": null,
       "grid_row": null,
       "grid_template_areas": null,
       "grid_template_columns": null,
       "grid_template_rows": null,
       "height": null,
       "justify_content": null,
       "justify_items": null,
       "left": null,
       "margin": null,
       "max_height": null,
       "max_width": null,
       "min_height": null,
       "min_width": null,
       "object_fit": null,
       "object_position": null,
       "order": null,
       "overflow": null,
       "overflow_x": null,
       "overflow_y": null,
       "padding": null,
       "right": null,
       "top": null,
       "visibility": null,
       "width": null
      }
     },
     "c393ecf050534736a5832a85886339f0": {
      "model_module": "@jupyter-widgets/controls",
      "model_module_version": "1.5.0",
      "model_name": "HTMLModel",
      "state": {
       "_dom_classes": [],
       "_model_module": "@jupyter-widgets/controls",
       "_model_module_version": "1.5.0",
       "_model_name": "HTMLModel",
       "_view_count": null,
       "_view_module": "@jupyter-widgets/controls",
       "_view_module_version": "1.5.0",
       "_view_name": "HTMLView",
       "description": "",
       "description_tooltip": null,
       "layout": "IPY_MODEL_cde2e16fc20e4477b64c5faf17c92ed0",
       "placeholder": "​",
       "style": "IPY_MODEL_acf0dbb5169e49568d917256e28dab77",
       "value": " 97.8M/97.8M [00:02&lt;00:00, 43.2MB/s]"
      }
     },
     "cde2e16fc20e4477b64c5faf17c92ed0": {
      "model_module": "@jupyter-widgets/base",
      "model_module_version": "1.2.0",
      "model_name": "LayoutModel",
      "state": {
       "_model_module": "@jupyter-widgets/base",
       "_model_module_version": "1.2.0",
       "_model_name": "LayoutModel",
       "_view_count": null,
       "_view_module": "@jupyter-widgets/base",
       "_view_module_version": "1.2.0",
       "_view_name": "LayoutView",
       "align_content": null,
       "align_items": null,
       "align_self": null,
       "border": null,
       "bottom": null,
       "display": null,
       "flex": null,
       "flex_flow": null,
       "grid_area": null,
       "grid_auto_columns": null,
       "grid_auto_flow": null,
       "grid_auto_rows": null,
       "grid_column": null,
       "grid_gap": null,
       "grid_row": null,
       "grid_template_areas": null,
       "grid_template_columns": null,
       "grid_template_rows": null,
       "height": null,
       "justify_content": null,
       "justify_items": null,
       "left": null,
       "margin": null,
       "max_height": null,
       "max_width": null,
       "min_height": null,
       "min_width": null,
       "object_fit": null,
       "object_position": null,
       "order": null,
       "overflow": null,
       "overflow_x": null,
       "overflow_y": null,
       "padding": null,
       "right": null,
       "top": null,
       "visibility": null,
       "width": null
      }
     },
     "eb7b86459de748a29a6392b05e3634ef": {
      "model_module": "@jupyter-widgets/controls",
      "model_module_version": "1.5.0",
      "model_name": "HBoxModel",
      "state": {
       "_dom_classes": [],
       "_model_module": "@jupyter-widgets/controls",
       "_model_module_version": "1.5.0",
       "_model_name": "HBoxModel",
       "_view_count": null,
       "_view_module": "@jupyter-widgets/controls",
       "_view_module_version": "1.5.0",
       "_view_name": "HBoxView",
       "box_style": "",
       "children": [
        "IPY_MODEL_70b862de6e67422c897c5d4b6fc0d4e4",
        "IPY_MODEL_9a9a048c60fc4073bab743b9eb5bad39",
        "IPY_MODEL_c393ecf050534736a5832a85886339f0"
       ],
       "layout": "IPY_MODEL_c29f34cb8cde4d95909dd896d5bac588"
      }
     }
    },
    "version_major": 2,
    "version_minor": 0
   }
  }
 },
 "nbformat": 4,
 "nbformat_minor": 5
}
