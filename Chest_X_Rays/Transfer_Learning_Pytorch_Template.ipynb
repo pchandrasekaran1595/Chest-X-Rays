{
 "cells": [
  {
   "cell_type": "code",
   "execution_count": 1,
   "metadata": {
    "_cell_guid": "b1076dfc-b9ad-4769-8c92-a6c4dae69d19",
    "_uuid": "8f2839f25d086af736a60e9eeb907d3b93b6e0e5",
    "execution": {
     "iopub.execute_input": "2020-10-23T19:40:48.063707Z",
     "iopub.status.busy": "2020-10-23T19:40:48.062690Z",
     "iopub.status.idle": "2020-10-23T19:40:48.065913Z",
     "shell.execute_reply": "2020-10-23T19:40:48.065329Z"
    },
    "papermill": {
     "duration": 0.017431,
     "end_time": "2020-10-23T19:40:48.066028",
     "exception": false,
     "start_time": "2020-10-23T19:40:48.048597",
     "status": "completed"
    },
    "tags": []
   },
   "outputs": [],
   "source": [
    "tr_dir_base = \"/kaggle/input/chest-xray-pneumonia/chest_xray/train/\"\n",
    "ts_dir_base = \"/kaggle/input/chest-xray-pneumonia/chest_xray/test/\"\n",
    "\n",
    "tr_dir_normal = tr_dir_base + \"NORMAL/\"\n",
    "ts_dir_normal = ts_dir_base + \"NORMAL/\"\n",
    "\n",
    "tr_dir_pnemon = tr_dir_base + \"PNEUMONIA/\"\n",
    "ts_dir_pnemon = ts_dir_base + \"PNEUMONIA/\""
   ]
  },
  {
   "cell_type": "code",
   "execution_count": 2,
   "metadata": {
    "_cell_guid": "79c7e3d0-c299-4dcb-8224-4455121ee9b0",
    "_uuid": "d629ff2d2480ee46fbb7e2d37f6b5fab8052498a",
    "execution": {
     "iopub.execute_input": "2020-10-23T19:40:48.094167Z",
     "iopub.status.busy": "2020-10-23T19:40:48.093333Z",
     "iopub.status.idle": "2020-10-23T19:40:50.672679Z",
     "shell.execute_reply": "2020-10-23T19:40:50.672126Z"
    },
    "papermill": {
     "duration": 2.597401,
     "end_time": "2020-10-23T19:40:50.672799",
     "exception": false,
     "start_time": "2020-10-23T19:40:48.075398",
     "status": "completed"
    },
    "tags": []
   },
   "outputs": [],
   "source": [
    "import numpy as np\n",
    "import pandas as pd\n",
    "import matplotlib.pyplot as plt\n",
    "\n",
    "import matplotlib.image as img\n",
    "from PIL import Image\n",
    "import cv2\n",
    "\n",
    "import torch, torchvision\n",
    "from torchvision import models\n",
    "from torch import optim, nn\n",
    "from torch.utils.data import Dataset\n",
    "from torch.utils.data import DataLoader as DL\n",
    "from torch.nn.utils import weight_norm as WN\n",
    "import torch.optim.lr_scheduler as LR\n",
    "import torch.nn.functional as F\n",
    "\n",
    "from sklearn.metrics import accuracy_score, log_loss, f1_score\n",
    "from sklearn.model_selection import KFold\n",
    "\n",
    "import random as r\n",
    "import os\n",
    "from time import time\n",
    "\n",
    "MAX_VALUE = 255"
   ]
  },
  {
   "cell_type": "code",
   "execution_count": 3,
   "metadata": {
    "execution": {
     "iopub.execute_input": "2020-10-23T19:40:50.702360Z",
     "iopub.status.busy": "2020-10-23T19:40:50.701715Z",
     "iopub.status.idle": "2020-10-23T19:40:50.706001Z",
     "shell.execute_reply": "2020-10-23T19:40:50.705369Z"
    },
    "papermill": {
     "duration": 0.022866,
     "end_time": "2020-10-23T19:40:50.706104",
     "exception": false,
     "start_time": "2020-10-23T19:40:50.683238",
     "status": "completed"
    },
    "tags": []
   },
   "outputs": [],
   "source": [
    "def breaker():\n",
    "    print(\"\\n\" + 30*\"-\" + \"\\n\")\n",
    "    \n",
    "def head(x, no_of_ele=5):\n",
    "    breaker()\n",
    "    print(x[:no_of_ele])\n",
    "    breaker()\n",
    "\n",
    "def getFileNames(root_dir=None):\n",
    "    f_name = []\n",
    "    for dirname, _, filenames in os.walk(root_dir):\n",
    "        for filename in filenames:\n",
    "            f_name.append(filename)\n",
    "    return f_name\n",
    "\n",
    "def removeChannelInfo(file_path=None, file_names=None, size=None):\n",
    "    sizes = []\n",
    "    images = []\n",
    "    for name in file_names:\n",
    "        image = cv2.imread(file_path+name)\n",
    "        if len(image.shape) > 2:\n",
    "            image = image[:, :, -1]\n",
    "        sizes.append(image.shape)\n",
    "        images.append(cv2.resize(image, dsize=(size, size), interpolation=cv2.INTER_LANCZOS4))\n",
    "    return images, sizes"
   ]
  },
  {
   "cell_type": "code",
   "execution_count": 4,
   "metadata": {
    "execution": {
     "iopub.execute_input": "2020-10-23T19:40:50.730554Z",
     "iopub.status.busy": "2020-10-23T19:40:50.729808Z",
     "iopub.status.idle": "2020-10-23T19:42:53.078653Z",
     "shell.execute_reply": "2020-10-23T19:42:53.079326Z"
    },
    "papermill": {
     "duration": 122.365294,
     "end_time": "2020-10-23T19:42:53.079508",
     "exception": false,
     "start_time": "2020-10-23T19:40:50.714214",
     "status": "completed"
    },
    "tags": []
   },
   "outputs": [
    {
     "name": "stdout",
     "output_type": "stream",
     "text": [
      "Time Taken to process data : 1.97 minutes\n"
     ]
    }
   ],
   "source": [
    "tr_normal_file_names = getFileNames(tr_dir_normal)\n",
    "tr_pnemon_file_names = getFileNames(tr_dir_pnemon)\n",
    "ts_normal_file_names = getFileNames(ts_dir_normal)\n",
    "ts_pnemon_file_names = getFileNames(ts_dir_pnemon)\n",
    "\n",
    "start_time = time()\n",
    "\n",
    "n_size = 127\n",
    "trn_images, trn_sizes = removeChannelInfo(tr_dir_normal, tr_normal_file_names, n_size)\n",
    "trp_images, trp_sizes = removeChannelInfo(tr_dir_pnemon, tr_pnemon_file_names, n_size)\n",
    "\n",
    "tsn_images, tsn_sizes = removeChannelInfo(ts_dir_normal, ts_normal_file_names, n_size)\n",
    "tsp_images, tsp_sizes = removeChannelInfo(ts_dir_pnemon, ts_pnemon_file_names, n_size)\n",
    "\n",
    "print(\"Time Taken to process data : {:.2f} minutes\".format((time()-start_time)/60))"
   ]
  },
  {
   "cell_type": "code",
   "execution_count": 5,
   "metadata": {
    "execution": {
     "iopub.execute_input": "2020-10-23T19:42:53.109178Z",
     "iopub.status.busy": "2020-10-23T19:42:53.107861Z",
     "iopub.status.idle": "2020-10-23T19:42:53.417723Z",
     "shell.execute_reply": "2020-10-23T19:42:53.418610Z"
    },
    "papermill": {
     "duration": 0.329862,
     "end_time": "2020-10-23T19:42:53.418803",
     "exception": false,
     "start_time": "2020-10-23T19:42:53.088941",
     "status": "completed"
    },
    "tags": []
   },
   "outputs": [
    {
     "name": "stdout",
     "output_type": "stream",
     "text": [
      "(5216, 127, 127)\n",
      "(5216,)\n",
      "(624, 127, 127)\n",
      "(624,)\n"
     ]
    }
   ],
   "source": [
    "tr_images = np.concatenate((trn_images, trp_images), axis=0)\n",
    "tr_images = np.divide(tr_images, MAX_VALUE)\n",
    "tr_labels = np.concatenate((np.zeros((len(trn_images))), np.ones((len(trp_images)))), axis=0)\n",
    "\n",
    "print(tr_images.shape)\n",
    "print(tr_labels.shape)\n",
    "\n",
    "ts_images = np.concatenate((tsn_images, tsp_images), axis=0)\n",
    "ts_images = np.divide(ts_images, MAX_VALUE)\n",
    "ts_labels = np.concatenate((np.zeros((len(tsn_images))), np.ones((len(tsp_images)))), axis=0)\n",
    "\n",
    "print(ts_images.shape)\n",
    "print(ts_labels.shape)\n",
    "\n",
    "num_obs_test = ts_labels.shape[0]"
   ]
  },
  {
   "cell_type": "code",
   "execution_count": 6,
   "metadata": {
    "execution": {
     "iopub.execute_input": "2020-10-23T19:42:53.447988Z",
     "iopub.status.busy": "2020-10-23T19:42:53.446906Z",
     "iopub.status.idle": "2020-10-23T19:42:53.449879Z",
     "shell.execute_reply": "2020-10-23T19:42:53.450347Z"
    },
    "papermill": {
     "duration": 0.021909,
     "end_time": "2020-10-23T19:42:53.450468",
     "exception": false,
     "start_time": "2020-10-23T19:42:53.428559",
     "status": "completed"
    },
    "tags": []
   },
   "outputs": [],
   "source": [
    "class DS(Dataset):\n",
    "    def __init__(this, X=None, y=None, mode=\"train\"):\n",
    "        this.mode = mode\n",
    "        this.X = X\n",
    "        if mode == \"train\":\n",
    "            this.y = y\n",
    "        \n",
    "    def __len__(this):\n",
    "        return this.X.shape[0]\n",
    "    \n",
    "    def __getitem__(this, idx):\n",
    "        if this.mode == \"train\":\n",
    "            return torch.FloatTensor(this.X[idx]), torch.FloatTensor(this.y[idx])\n",
    "        else:\n",
    "            return torch.FloatTensor(this.X[idx])"
   ]
  },
  {
   "cell_type": "code",
   "execution_count": 7,
   "metadata": {
    "execution": {
     "iopub.execute_input": "2020-10-23T19:42:53.477763Z",
     "iopub.status.busy": "2020-10-23T19:42:53.477008Z",
     "iopub.status.idle": "2020-10-23T19:44:08.747878Z",
     "shell.execute_reply": "2020-10-23T19:44:08.749003Z"
    },
    "papermill": {
     "duration": 75.289302,
     "end_time": "2020-10-23T19:44:08.749186",
     "exception": false,
     "start_time": "2020-10-23T19:42:53.459884",
     "status": "completed"
    },
    "tags": []
   },
   "outputs": [
    {
     "name": "stderr",
     "output_type": "stream",
     "text": [
      "Downloading: \"https://download.pytorch.org/models/vgg16-397923af.pth\" to /root/.cache/torch/hub/checkpoints/vgg16-397923af.pth\n"
     ]
    },
    {
     "data": {
      "application/vnd.jupyter.widget-view+json": {
       "model_id": "875a36a56dcd49a78ae2133201197efe",
       "version_major": 2,
       "version_minor": 0
      },
      "text/plain": [
       "HBox(children=(FloatProgress(value=0.0, max=553433881.0), HTML(value='')))"
      ]
     },
     "metadata": {},
     "output_type": "display_data"
    },
    {
     "name": "stdout",
     "output_type": "stream",
     "text": [
      "\n",
      "\n",
      "------------------------------\n",
      "\n",
      "features.0.weight\n",
      "features.0.bias\n",
      "classifier.6.weight\n",
      "classifier.6.bias\n",
      "\n",
      "------------------------------\n",
      "\n"
     ]
    }
   ],
   "source": [
    "model = models.vgg16(pretrained=True, progress=True)\n",
    "\n",
    "for params in model.parameters():\n",
    "    params.requires_grad = False\n",
    "\n",
    "torch.manual_seed(0)\n",
    "model.features[0]   = nn.Conv2d(in_channels=1, out_channels=64, kernel_size=3, stride=1, padding=1)\n",
    "model.classifier[6] = nn.Linear(4096, 1)\n",
    "\n",
    "breaker()\n",
    "for names, params in model.named_parameters():\n",
    "    if params.requires_grad == True:\n",
    "        print(names)\n",
    "breaker()"
   ]
  },
  {
   "cell_type": "code",
   "execution_count": 8,
   "metadata": {
    "execution": {
     "iopub.execute_input": "2020-10-23T19:44:09.174809Z",
     "iopub.status.busy": "2020-10-23T19:44:09.172996Z",
     "iopub.status.idle": "2020-10-23T19:44:09.185535Z",
     "shell.execute_reply": "2020-10-23T19:44:09.185005Z"
    },
    "papermill": {
     "duration": 0.423256,
     "end_time": "2020-10-23T19:44:09.185641",
     "exception": false,
     "start_time": "2020-10-23T19:44:08.762385",
     "status": "completed"
    },
    "tags": []
   },
   "outputs": [
    {
     "name": "stdout",
     "output_type": "stream",
     "text": [
      "\n",
      "------------------------------\n",
      "\n",
      "Train Batch Size : 128\n",
      "Test Batch Size  : 128\n",
      "Epochs           : 25\n",
      "Device Used      : cuda:0\n",
      "\n",
      "Optimizer        : Adam (\n",
      "Parameter Group 0\n",
      "    amsgrad: False\n",
      "    betas: (0.9, 0.999)\n",
      "    eps: 1e-08\n",
      "    lr: 0.001\n",
      "    weight_decay: 1e-05\n",
      ")\n",
      "\n",
      "------------------------------\n",
      "\n"
     ]
    }
   ],
   "source": [
    "class CFG():\n",
    "    tr_batch_size = 128\n",
    "    ts_batch_size = 128\n",
    "    epochs = 25\n",
    "    device = torch.device(\"cuda:0\" if torch.cuda.is_available() else \"cpu\")\n",
    "    \n",
    "cfg = CFG()\n",
    "\n",
    "optimizer = optim.Adam(model.parameters(), lr=1e-3, weight_decay=1e-5)\n",
    "\n",
    "breaker()\n",
    "print(\"Train Batch Size :\", repr(cfg.tr_batch_size))\n",
    "print(\"Test Batch Size  :\", repr(cfg.ts_batch_size))\n",
    "print(\"Epochs           :\", repr(cfg.epochs))\n",
    "print(\"Device Used      :\", cfg.device)\n",
    "print(\"\\nOptimizer        :\", optimizer)\n",
    "breaker()\n",
    "\n",
    "tr_data_setup = DS(tr_images, tr_labels.reshape(-1,1))\n",
    "ts_data_setup = DS(ts_images, ts_labels.reshape(-1,1))\n",
    "\n",
    "dataloaders = {\"train\" : DL(tr_data_setup, batch_size=cfg.tr_batch_size, shuffle=True, generator=torch.manual_seed(0)),\n",
    "               \"test\"  : DL(ts_data_setup, batch_size=cfg.ts_batch_size, shuffle=False)}"
   ]
  },
  {
   "cell_type": "code",
   "execution_count": 9,
   "metadata": {
    "execution": {
     "iopub.execute_input": "2020-10-23T19:44:09.226583Z",
     "iopub.status.busy": "2020-10-23T19:44:09.225845Z",
     "iopub.status.idle": "2020-10-23T19:49:53.051001Z",
     "shell.execute_reply": "2020-10-23T19:49:53.049253Z"
    },
    "papermill": {
     "duration": 343.852616,
     "end_time": "2020-10-23T19:49:53.051133",
     "exception": false,
     "start_time": "2020-10-23T19:44:09.198517",
     "status": "completed"
    },
    "tags": []
   },
   "outputs": [
    {
     "name": "stdout",
     "output_type": "stream",
     "text": [
      "\n",
      "------------------------------\n",
      "\n",
      "Time taken to train for 25 epochs : 5.73 minutes\n",
      "\n",
      "------------------------------\n",
      "\n"
     ]
    },
    {
     "data": {
      "image/png": "[encoded data removed]",
      "text/plain": [
       "<Figure size 864x432 with 1 Axes>"
      ]
     },
     "metadata": {
      "needs_background": "light"
     },
     "output_type": "display_data"
    }
   ],
   "source": [
    "start_time = time()\n",
    "LP = []\n",
    "\n",
    "model.to(cfg.device)\n",
    "model.train()\n",
    "for e in range(cfg.epochs):\n",
    "    lossPerPass = 0\n",
    "    \n",
    "    for feats, label in dataloaders[\"train\"]:\n",
    "        feats, label = feats.to(cfg.device).view(feats.shape[0], 1, n_size, n_size), label.to(cfg.device)\n",
    "        \n",
    "        optimizer.zero_grad()\n",
    "        output = model(feats)\n",
    "        loss   = nn.BCEWithLogitsLoss()(output, label)\n",
    "        loss.backward()\n",
    "        lossPerPass = (loss.item()/label.shape[0])\n",
    "        optimizer.step()\n",
    "    LP.append(lossPerPass)\n",
    "    \n",
    "breaker()\n",
    "print(\"Time taken to train for {e} epochs : {:.2f} minutes\".format((time()-start_time)/60, e=cfg.epochs))\n",
    "breaker()\n",
    "\n",
    "x_Axis = [i+1 for i in range(cfg.epochs)]\n",
    "\n",
    "plt.figure(figsize=(12, 6))\n",
    "plt.plot(x_Axis, LP, \"r\")\n",
    "plt.xlabel(\"Epochs -->\")\n",
    "plt.ylabel(\"Loss\")\n",
    "plt.title(\"Training Loss\")\n",
    "plt.show()"
   ]
  },
  {
   "cell_type": "code",
   "execution_count": 10,
   "metadata": {
    "execution": {
     "iopub.execute_input": "2020-10-23T19:49:53.090296Z",
     "iopub.status.busy": "2020-10-23T19:49:53.088537Z",
     "iopub.status.idle": "2020-10-23T19:49:53.838595Z",
     "shell.execute_reply": "2020-10-23T19:49:53.839578Z"
    },
    "papermill": {
     "duration": 0.771713,
     "end_time": "2020-10-23T19:49:53.839725",
     "exception": false,
     "start_time": "2020-10-23T19:49:53.068012",
     "status": "completed"
    },
    "tags": []
   },
   "outputs": [
    {
     "name": "stdout",
     "output_type": "stream",
     "text": [
      "\n",
      "------------------------------\n",
      "\n",
      "ANN Model Accuracy  : 77.88462 %\n",
      "\n",
      "------------------------------\n",
      "\n"
     ]
    }
   ],
   "source": [
    "model.eval()\n",
    "\n",
    "Pred = torch.zeros(cfg.ts_batch_size, 1).to(cfg.device)\n",
    "for X, y in dataloaders[\"test\"]:\n",
    "    X = X.to(cfg.device).view(X.shape[0], 1, n_size, n_size)\n",
    "    with torch.no_grad():\n",
    "        logProb = model(X)\n",
    "    Prob = torch.exp(logProb)\n",
    "    Pred = torch.cat((Pred, Prob), dim=0)\n",
    "Pred = Pred[cfg.ts_batch_size:]\n",
    "Pred = Pred.cpu().numpy().reshape(-1)\n",
    "Pred[np.argwhere(Pred > 0.5)[:, 0]]  = int(1)\n",
    "Pred[np.argwhere(Pred <= 0.5)[:, 0]] = int(0)\n",
    "\n",
    "\n",
    "breaker()\n",
    "print(\"ANN Model Accuracy  : {:.5f} %\".format(accuracy_score(ts_labels, Pred) * 100))\n",
    "breaker()"
   ]
  }
 ],
 "metadata": {
  "kernelspec": {
   "display_name": "Python 3",
   "language": "python",
   "name": "python3"
  },
  "language_info": {
   "codemirror_mode": {
    "name": "ipython",
    "version": 3
   },
   "file_extension": ".py",
   "mimetype": "text/x-python",
   "name": "python",
   "nbconvert_exporter": "python",
   "pygments_lexer": "ipython3",
   "version": "3.7.6"
  },
  "papermill": {
   "duration": 550.961419,
   "end_time": "2020-10-23T19:49:54.941988",
   "environment_variables": {},
   "exception": null,
   "input_path": "__notebook__.ipynb",
   "output_path": "__notebook__.ipynb",
   "parameters": {},
   "start_time": "2020-10-23T19:40:43.980569",
   "version": "2.1.0"
  },
  "widgets": {
   "application/vnd.jupyter.widget-state+json": {
    "state": {
     "28450cb62bd34f48888ac38c61aaebed": {
      "model_module": "@jupyter-widgets/controls",
      "model_module_version": "1.5.0",
      "model_name": "ProgressStyleModel",
      "state": {
       "_model_module": "@jupyter-widgets/controls",
       "_model_module_version": "1.5.0",
       "_model_name": "ProgressStyleModel",
       "_view_count": null,
       "_view_module": "@jupyter-widgets/base",
       "_view_module_version": "1.2.0",
       "_view_name": "StyleView",
       "bar_color": null,
       "description_width": "initial"
      }
     },
     "2ba8f940ebdf487b8fc2202a98a20912": {
      "model_module": "@jupyter-widgets/controls",
      "model_module_version": "1.5.0",
      "model_name": "FloatProgressModel",
      "state": {
       "_dom_classes": [],
       "_model_module": "@jupyter-widgets/controls",
       "_model_module_version": "1.5.0",
       "_model_name": "FloatProgressModel",
       "_view_count": null,
       "_view_module": "@jupyter-widgets/controls",
       "_view_module_version": "1.5.0",
       "_view_name": "ProgressView",
       "bar_style": "success",
       "description": "100%",
       "description_tooltip": null,
       "layout": "IPY_MODEL_603c6681956444e78ed44fb6271cb89d",
       "max": 553433881.0,
       "min": 0.0,
       "orientation": "horizontal",
       "style": "IPY_MODEL_28450cb62bd34f48888ac38c61aaebed",
       "value": 553433881.0
      }
     },
     "30be4b9b4a704745a298461d0e6aef63": {
      "model_module": "@jupyter-widgets/controls",
      "model_module_version": "1.5.0",
      "model_name": "DescriptionStyleModel",
      "state": {
       "_model_module": "@jupyter-widgets/controls",
       "_model_module_version": "1.5.0",
       "_model_name": "DescriptionStyleModel",
       "_view_count": null,
       "_view_module": "@jupyter-widgets/base",
       "_view_module_version": "1.2.0",
       "_view_name": "StyleView",
       "description_width": ""
      }
     },
     "603c6681956444e78ed44fb6271cb89d": {
      "model_module": "@jupyter-widgets/base",
      "model_module_version": "1.2.0",
      "model_name": "LayoutModel",
      "state": {
       "_model_module": "@jupyter-widgets/base",
       "_model_module_version": "1.2.0",
       "_model_name": "LayoutModel",
       "_view_count": null,
       "_view_module": "@jupyter-widgets/base",
       "_view_module_version": "1.2.0",
       "_view_name": "LayoutView",
       "align_content": null,
       "align_items": null,
       "align_self": null,
       "border": null,
       "bottom": null,
       "display": null,
       "flex": null,
       "flex_flow": null,
       "grid_area": null,
       "grid_auto_columns": null,
       "grid_auto_flow": null,
       "grid_auto_rows": null,
       "grid_column": null,
       "grid_gap": null,
       "grid_row": null,
       "grid_template_areas": null,
       "grid_template_columns": null,
       "grid_template_rows": null,
       "height": null,
       "justify_content": null,
       "justify_items": null,
       "left": null,
       "margin": null,
       "max_height": null,
       "max_width": null,
       "min_height": null,
       "min_width": null,
       "object_fit": null,
       "object_position": null,
       "order": null,
       "overflow": null,
       "overflow_x": null,
       "overflow_y": null,
       "padding": null,
       "right": null,
       "top": null,
       "visibility": null,
       "width": null
      }
     },
     "7670728d8b8642fe81d88ec61e1f58d0": {
      "model_module": "@jupyter-widgets/base",
      "model_module_version": "1.2.0",
      "model_name": "LayoutModel",
      "state": {
       "_model_module": "@jupyter-widgets/base",
       "_model_module_version": "1.2.0",
       "_model_name": "LayoutModel",
       "_view_count": null,
       "_view_module": "@jupyter-widgets/base",
       "_view_module_version": "1.2.0",
       "_view_name": "LayoutView",
       "align_content": null,
       "align_items": null,
       "align_self": null,
       "border": null,
       "bottom": null,
       "display": null,
       "flex": null,
       "flex_flow": null,
       "grid_area": null,
       "grid_auto_columns": null,
       "grid_auto_flow": null,
       "grid_auto_rows": null,
       "grid_column": null,
       "grid_gap": null,
       "grid_row": null,
       "grid_template_areas": null,
       "grid_template_columns": null,
       "grid_template_rows": null,
       "height": null,
       "justify_content": null,
       "justify_items": null,
       "left": null,
       "margin": null,
       "max_height": null,
       "max_width": null,
       "min_height": null,
       "min_width": null,
       "object_fit": null,
       "object_position": null,
       "order": null,
       "overflow": null,
       "overflow_x": null,
       "overflow_y": null,
       "padding": null,
       "right": null,
       "top": null,
       "visibility": null,
       "width": null
      }
     },
     "875a36a56dcd49a78ae2133201197efe": {
      "model_module": "@jupyter-widgets/controls",
      "model_module_version": "1.5.0",
      "model_name": "HBoxModel",
      "state": {
       "_dom_classes": [],
       "_model_module": "@jupyter-widgets/controls",
       "_model_module_version": "1.5.0",
       "_model_name": "HBoxModel",
       "_view_count": null,
       "_view_module": "@jupyter-widgets/controls",
       "_view_module_version": "1.5.0",
       "_view_name": "HBoxView",
       "box_style": "",
       "children": [
        "IPY_MODEL_2ba8f940ebdf487b8fc2202a98a20912",
        "IPY_MODEL_e568917332a8425f92820b2086d9be76"
       ],
       "layout": "IPY_MODEL_aabaffefb9014489a12ddf068d5dfb25"
      }
     },
     "aabaffefb9014489a12ddf068d5dfb25": {
      "model_module": "@jupyter-widgets/base",
      "model_module_version": "1.2.0",
      "model_name": "LayoutModel",
      "state": {
       "_model_module": "@jupyter-widgets/base",
       "_model_module_version": "1.2.0",
       "_model_name": "LayoutModel",
       "_view_count": null,
       "_view_module": "@jupyter-widgets/base",
       "_view_module_version": "1.2.0",
       "_view_name": "LayoutView",
       "align_content": null,
       "align_items": null,
       "align_self": null,
       "border": null,
       "bottom": null,
       "display": null,
       "flex": null,
       "flex_flow": null,
       "grid_area": null,
       "grid_auto_columns": null,
       "grid_auto_flow": null,
       "grid_auto_rows": null,
       "grid_column": null,
       "grid_gap": null,
       "grid_row": null,
       "grid_template_areas": null,
       "grid_template_columns": null,
       "grid_template_rows": null,
       "height": null,
       "justify_content": null,
       "justify_items": null,
       "left": null,
       "margin": null,
       "max_height": null,
       "max_width": null,
       "min_height": null,
       "min_width": null,
       "object_fit": null,
       "object_position": null,
       "order": null,
       "overflow": null,
       "overflow_x": null,
       "overflow_y": null,
       "padding": null,
       "right": null,
       "top": null,
       "visibility": null,
       "width": null
      }
     },
     "e568917332a8425f92820b2086d9be76": {
      "model_module": "@jupyter-widgets/controls",
      "model_module_version": "1.5.0",
      "model_name": "HTMLModel",
      "state": {
       "_dom_classes": [],
       "_model_module": "@jupyter-widgets/controls",
       "_model_module_version": "1.5.0",
       "_model_name": "HTMLModel",
       "_view_count": null,
       "_view_module": "@jupyter-widgets/controls",
       "_view_module_version": "1.5.0",
       "_view_name": "HTMLView",
       "description": "",
       "description_tooltip": null,
       "layout": "IPY_MODEL_7670728d8b8642fe81d88ec61e1f58d0",
       "placeholder": "​",
       "style": "IPY_MODEL_30be4b9b4a704745a298461d0e6aef63",
       "value": " 528M/528M [06:57&lt;00:00, 1.33MB/s]"
      }
     }
    },
    "version_major": 2,
    "version_minor": 0
   }
  }
 },
 "nbformat": 4,
 "nbformat_minor": 4
}
