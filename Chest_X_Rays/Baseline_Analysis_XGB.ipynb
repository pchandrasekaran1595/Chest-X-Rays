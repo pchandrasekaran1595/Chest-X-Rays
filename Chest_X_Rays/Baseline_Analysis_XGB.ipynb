{
 "cells": [
  {
   "cell_type": "markdown",
   "metadata": {
    "papermill": {
     "duration": 0.017339,
     "end_time": "2020-10-22T13:00:04.129195",
     "exception": false,
     "start_time": "2020-10-22T13:00:04.111856",
     "status": "completed"
    },
    "tags": []
   },
   "source": [
    "# Notes"
   ]
  },
  {
   "cell_type": "markdown",
   "metadata": {
    "papermill": {
     "duration": 0.015962,
     "end_time": "2020-10-22T13:00:04.162279",
     "exception": false,
     "start_time": "2020-10-22T13:00:04.146317",
     "status": "completed"
    },
    "tags": []
   },
   "source": [
    "1. Seed Averaging\n",
    "2. Maybe output of AE as features."
   ]
  },
  {
   "cell_type": "code",
   "execution_count": 1,
   "metadata": {
    "execution": {
     "iopub.execute_input": "2020-10-22T13:00:04.202693Z",
     "iopub.status.busy": "2020-10-22T13:00:04.201620Z",
     "iopub.status.idle": "2020-10-22T13:00:04.204940Z",
     "shell.execute_reply": "2020-10-22T13:00:04.204304Z"
    },
    "papermill": {
     "duration": 0.025997,
     "end_time": "2020-10-22T13:00:04.205059",
     "exception": false,
     "start_time": "2020-10-22T13:00:04.179062",
     "status": "completed"
    },
    "tags": []
   },
   "outputs": [],
   "source": [
    "from time import time\n",
    "\n",
    "notebook_start_time = time()\n",
    "\n",
    "#Only Uncomment When Committing"
   ]
  },
  {
   "cell_type": "markdown",
   "metadata": {
    "papermill": {
     "duration": 0.015993,
     "end_time": "2020-10-22T13:00:04.237539",
     "exception": false,
     "start_time": "2020-10-22T13:00:04.221546",
     "status": "completed"
    },
    "tags": []
   },
   "source": [
    "# Directory Setup"
   ]
  },
  {
   "cell_type": "code",
   "execution_count": 2,
   "metadata": {
    "_cell_guid": "b1076dfc-b9ad-4769-8c92-a6c4dae69d19",
    "_uuid": "8f2839f25d086af736a60e9eeb907d3b93b6e0e5",
    "execution": {
     "iopub.execute_input": "2020-10-22T13:00:04.277547Z",
     "iopub.status.busy": "2020-10-22T13:00:04.276373Z",
     "iopub.status.idle": "2020-10-22T13:00:04.279617Z",
     "shell.execute_reply": "2020-10-22T13:00:04.279042Z"
    },
    "papermill": {
     "duration": 0.025824,
     "end_time": "2020-10-22T13:00:04.279740",
     "exception": false,
     "start_time": "2020-10-22T13:00:04.253916",
     "status": "completed"
    },
    "tags": []
   },
   "outputs": [],
   "source": [
    "tr_dir_base = \"/kaggle/input/labeled-chest-xray-images/chest_xray/train/\"\n",
    "ts_dir_base = \"/kaggle/input/labeled-chest-xray-images/chest_xray/test/\"\n",
    "\n",
    "tr_dir_normal = tr_dir_base + \"NORMAL/\"\n",
    "ts_dir_normal = ts_dir_base + \"NORMAL/\"\n",
    "\n",
    "tr_dir_pnemon = tr_dir_base + \"PNEUMONIA/\"\n",
    "ts_dir_pnemon = ts_dir_base + \"PNEUMONIA/\""
   ]
  },
  {
   "cell_type": "markdown",
   "metadata": {
    "papermill": {
     "duration": 0.016288,
     "end_time": "2020-10-22T13:00:04.312592",
     "exception": false,
     "start_time": "2020-10-22T13:00:04.296304",
     "status": "completed"
    },
    "tags": []
   },
   "source": [
    "# Library Imports"
   ]
  },
  {
   "cell_type": "code",
   "execution_count": 3,
   "metadata": {
    "execution": {
     "iopub.execute_input": "2020-10-22T13:00:04.350150Z",
     "iopub.status.busy": "2020-10-22T13:00:04.348818Z",
     "iopub.status.idle": "2020-10-22T13:00:08.753828Z",
     "shell.execute_reply": "2020-10-22T13:00:08.754621Z"
    },
    "papermill": {
     "duration": 4.42572,
     "end_time": "2020-10-22T13:00:08.754826",
     "exception": false,
     "start_time": "2020-10-22T13:00:04.329106",
     "status": "completed"
    },
    "tags": []
   },
   "outputs": [],
   "source": [
    "import numpy as np\n",
    "import pandas as pd\n",
    "import matplotlib.pyplot as plt\n",
    "\n",
    "import matplotlib.image as img\n",
    "from PIL import Image\n",
    "import cv2\n",
    "\n",
    "from xgboost import XGBClassifier\n",
    "\n",
    "from sklearn.metrics import accuracy_score, log_loss, f1_score\n",
    "\n",
    "import random as r\n",
    "import os\n",
    "from time import time\n",
    "\n",
    "MAX_VALUE = 255"
   ]
  },
  {
   "cell_type": "markdown",
   "metadata": {
    "papermill": {
     "duration": 0.02115,
     "end_time": "2020-10-22T13:00:08.798104",
     "exception": false,
     "start_time": "2020-10-22T13:00:08.776954",
     "status": "completed"
    },
    "tags": []
   },
   "source": [
    "# Helper Functions"
   ]
  },
  {
   "cell_type": "code",
   "execution_count": 4,
   "metadata": {
    "execution": {
     "iopub.execute_input": "2020-10-22T13:00:08.870480Z",
     "iopub.status.busy": "2020-10-22T13:00:08.866565Z",
     "iopub.status.idle": "2020-10-22T13:00:08.890037Z",
     "shell.execute_reply": "2020-10-22T13:00:08.889323Z"
    },
    "papermill": {
     "duration": 0.060429,
     "end_time": "2020-10-22T13:00:08.890163",
     "exception": false,
     "start_time": "2020-10-22T13:00:08.829734",
     "status": "completed"
    },
    "tags": []
   },
   "outputs": [],
   "source": [
    "def breaker():\n",
    "    print(\"\\n\" + 30*\"-\" + \"\\n\")\n",
    "    \n",
    "def head(x, no_of_ele=5):\n",
    "    breaker()\n",
    "    print(x[:no_of_ele])\n",
    "    breaker()\n",
    "\n",
    "def getFileNames(root_dir=None):\n",
    "    f_name = []\n",
    "    for dirname, _, filenames in os.walk(root_dir):\n",
    "        for filename in filenames:\n",
    "            f_name.append(filename)\n",
    "    return f_name\n",
    "\n",
    "def removeChannelInfo(file_path=None, file_names=None, size=None):\n",
    "    sizes = []\n",
    "    images = []\n",
    "    for name in file_names:\n",
    "        image = cv2.imread(file_path+name)\n",
    "        if len(image.shape) > 2:\n",
    "            image = image[:, :, -1]\n",
    "        sizes.append(image.shape)\n",
    "        images.append(cv2.resize(image, dsize=(size, size), interpolation=cv2.INTER_LANCZOS4))\n",
    "    return images, sizes"
   ]
  },
  {
   "cell_type": "markdown",
   "metadata": {
    "papermill": {
     "duration": 0.017023,
     "end_time": "2020-10-22T13:00:08.924143",
     "exception": false,
     "start_time": "2020-10-22T13:00:08.907120",
     "status": "completed"
    },
    "tags": []
   },
   "source": [
    "# Data Processing"
   ]
  },
  {
   "cell_type": "markdown",
   "metadata": {
    "papermill": {
     "duration": 0.016645,
     "end_time": "2020-10-22T13:00:08.958185",
     "exception": false,
     "start_time": "2020-10-22T13:00:08.941540",
     "status": "completed"
    },
    "tags": []
   },
   "source": [
    "**File Name Handling**"
   ]
  },
  {
   "cell_type": "code",
   "execution_count": 5,
   "metadata": {
    "_cell_guid": "79c7e3d0-c299-4dcb-8224-4455121ee9b0",
    "_uuid": "d629ff2d2480ee46fbb7e2d37f6b5fab8052498a",
    "execution": {
     "iopub.execute_input": "2020-10-22T13:00:08.997917Z",
     "iopub.status.busy": "2020-10-22T13:00:08.997114Z",
     "iopub.status.idle": "2020-10-22T13:00:09.934984Z",
     "shell.execute_reply": "2020-10-22T13:00:09.933735Z"
    },
    "papermill": {
     "duration": 0.959851,
     "end_time": "2020-10-22T13:00:09.935136",
     "exception": false,
     "start_time": "2020-10-22T13:00:08.975285",
     "status": "completed"
    },
    "tags": []
   },
   "outputs": [],
   "source": [
    "tr_normal_file_names = getFileNames(tr_dir_normal)\n",
    "tr_pnemon_file_names = getFileNames(tr_dir_pnemon)\n",
    "ts_normal_file_names = getFileNames(ts_dir_normal)\n",
    "ts_pnemon_file_names = getFileNames(ts_dir_pnemon)"
   ]
  },
  {
   "cell_type": "markdown",
   "metadata": {
    "papermill": {
     "duration": 0.016739,
     "end_time": "2020-10-22T13:00:09.969473",
     "exception": false,
     "start_time": "2020-10-22T13:00:09.952734",
     "status": "completed"
    },
    "tags": []
   },
   "source": [
    "**Basic Info (Used to confirm correctness Pre-Dataset Numpy Arrays)**"
   ]
  },
  {
   "cell_type": "code",
   "execution_count": 6,
   "metadata": {
    "execution": {
     "iopub.execute_input": "2020-10-22T13:00:10.014254Z",
     "iopub.status.busy": "2020-10-22T13:00:10.013423Z",
     "iopub.status.idle": "2020-10-22T13:00:10.045990Z",
     "shell.execute_reply": "2020-10-22T13:00:10.044240Z"
    },
    "papermill": {
     "duration": 0.05934,
     "end_time": "2020-10-22T13:00:10.046156",
     "exception": false,
     "start_time": "2020-10-22T13:00:09.986816",
     "status": "completed"
    },
    "tags": []
   },
   "outputs": [
    {
     "name": "stdout",
     "output_type": "stream",
     "text": [
      "\n",
      "------------------------------\n",
      "\n",
      "Total Training Set Size        : 5232\n",
      "\n",
      "------------------------------\n",
      "\n",
      "Total Test Set Size            : 624\n",
      "\n",
      "------------------------------\n",
      "\n"
     ]
    }
   ],
   "source": [
    "breaker()\n",
    "print(\"Total Training Set Size        :\", repr(len(tr_normal_file_names) + len(tr_pnemon_file_names)))\n",
    "breaker()\n",
    "print(\"Total Test Set Size            :\", repr(len(ts_normal_file_names) + len(ts_pnemon_file_names)))\n",
    "breaker()"
   ]
  },
  {
   "cell_type": "markdown",
   "metadata": {
    "papermill": {
     "duration": 0.022859,
     "end_time": "2020-10-22T13:00:10.093143",
     "exception": false,
     "start_time": "2020-10-22T13:00:10.070284",
     "status": "completed"
    },
    "tags": []
   },
   "source": [
    "**Reading Image Data**"
   ]
  },
  {
   "cell_type": "code",
   "execution_count": 7,
   "metadata": {
    "execution": {
     "iopub.execute_input": "2020-10-22T13:00:10.147632Z",
     "iopub.status.busy": "2020-10-22T13:00:10.146850Z",
     "iopub.status.idle": "2020-10-22T13:02:12.025751Z",
     "shell.execute_reply": "2020-10-22T13:02:12.024741Z"
    },
    "papermill": {
     "duration": 121.909729,
     "end_time": "2020-10-22T13:02:12.025954",
     "exception": false,
     "start_time": "2020-10-22T13:00:10.116225",
     "status": "completed"
    },
    "tags": []
   },
   "outputs": [
    {
     "name": "stdout",
     "output_type": "stream",
     "text": [
      "Time Taken to process data : 2.03 minutes\n"
     ]
    }
   ],
   "source": [
    "start_time = time()\n",
    "\n",
    "n_size = 127\n",
    "trn_images, trn_sizes = removeChannelInfo(tr_dir_normal, tr_normal_file_names, n_size)\n",
    "trp_images, trp_sizes = removeChannelInfo(tr_dir_pnemon, tr_pnemon_file_names, n_size)\n",
    "\n",
    "tsn_images, tsn_sizes = removeChannelInfo(ts_dir_normal, ts_normal_file_names, n_size)\n",
    "tsp_images, tsp_sizes = removeChannelInfo(ts_dir_pnemon, ts_pnemon_file_names, n_size)\n",
    "\n",
    "print(\"Time Taken to process data : {:.2f} minutes\".format((time()-start_time)/60))"
   ]
  },
  {
   "cell_type": "markdown",
   "metadata": {
    "papermill": {
     "duration": 0.023438,
     "end_time": "2020-10-22T13:02:12.073836",
     "exception": false,
     "start_time": "2020-10-22T13:02:12.050398",
     "status": "completed"
    },
    "tags": []
   },
   "source": [
    "**Consolidating Train Images and creating Labels**"
   ]
  },
  {
   "cell_type": "code",
   "execution_count": 8,
   "metadata": {
    "execution": {
     "iopub.execute_input": "2020-10-22T13:02:12.138577Z",
     "iopub.status.busy": "2020-10-22T13:02:12.136894Z",
     "iopub.status.idle": "2020-10-22T13:02:12.438856Z",
     "shell.execute_reply": "2020-10-22T13:02:12.435328Z"
    },
    "papermill": {
     "duration": 0.341313,
     "end_time": "2020-10-22T13:02:12.439031",
     "exception": false,
     "start_time": "2020-10-22T13:02:12.097718",
     "status": "completed"
    },
    "tags": []
   },
   "outputs": [
    {
     "name": "stdout",
     "output_type": "stream",
     "text": [
      "(5232, 127, 127)\n",
      "(5232,)\n"
     ]
    }
   ],
   "source": [
    "tr_images = np.concatenate((trn_images, trp_images), axis=0)\n",
    "tr_images = np.divide(tr_images, MAX_VALUE)\n",
    "tr_labels = np.concatenate((np.zeros((len(trn_images))), np.ones((len(trp_images)))), axis=0)\n",
    "\n",
    "print(tr_images.shape)\n",
    "print(tr_labels.shape)"
   ]
  },
  {
   "cell_type": "markdown",
   "metadata": {
    "papermill": {
     "duration": 0.025243,
     "end_time": "2020-10-22T13:02:12.490147",
     "exception": false,
     "start_time": "2020-10-22T13:02:12.464904",
     "status": "completed"
    },
    "tags": []
   },
   "source": [
    "**Consolidating Test Images and creating Labels**"
   ]
  },
  {
   "cell_type": "code",
   "execution_count": 9,
   "metadata": {
    "execution": {
     "iopub.execute_input": "2020-10-22T13:02:12.551055Z",
     "iopub.status.busy": "2020-10-22T13:02:12.549259Z",
     "iopub.status.idle": "2020-10-22T13:02:12.593729Z",
     "shell.execute_reply": "2020-10-22T13:02:12.590028Z"
    },
    "papermill": {
     "duration": 0.078123,
     "end_time": "2020-10-22T13:02:12.593918",
     "exception": false,
     "start_time": "2020-10-22T13:02:12.515795",
     "status": "completed"
    },
    "tags": []
   },
   "outputs": [
    {
     "name": "stdout",
     "output_type": "stream",
     "text": [
      "(624, 127, 127)\n",
      "(624,)\n"
     ]
    }
   ],
   "source": [
    "ts_images = np.concatenate((tsn_images, tsp_images), axis=0)\n",
    "ts_images = np.divide(ts_images, MAX_VALUE)\n",
    "ts_labels = np.concatenate((np.zeros((len(tsn_images))), np.ones((len(tsp_images)))), axis=0)\n",
    "\n",
    "print(ts_images.shape)\n",
    "print(ts_labels.shape)"
   ]
  },
  {
   "cell_type": "markdown",
   "metadata": {
    "papermill": {
     "duration": 0.028392,
     "end_time": "2020-10-22T13:02:12.649869",
     "exception": false,
     "start_time": "2020-10-22T13:02:12.621477",
     "status": "completed"
    },
    "tags": []
   },
   "source": [
    "# XGB"
   ]
  },
  {
   "cell_type": "code",
   "execution_count": 10,
   "metadata": {
    "execution": {
     "iopub.execute_input": "2020-10-22T13:02:12.714448Z",
     "iopub.status.busy": "2020-10-22T13:02:12.712236Z",
     "iopub.status.idle": "2020-10-22T13:02:29.906576Z",
     "shell.execute_reply": "2020-10-22T13:02:29.907277Z"
    },
    "papermill": {
     "duration": 17.230164,
     "end_time": "2020-10-22T13:02:29.907480",
     "exception": false,
     "start_time": "2020-10-22T13:02:12.677316",
     "status": "completed"
    },
    "tags": []
   },
   "outputs": [
    {
     "name": "stdout",
     "output_type": "stream",
     "text": [
      "\n",
      "------------------------------\n",
      "\n",
      "XGB Model Accuracy : 80.61 %\n",
      "\n",
      "------------------------------\n",
      "\n"
     ]
    }
   ],
   "source": [
    "xgb = XGBClassifier(tree_method=\"gpu_hist\", random_state=0, n_estimators=100)\n",
    "xgb.fit(tr_images.reshape(tr_images.shape[0], -1), tr_labels)\n",
    "y_pred = xgb.predict(ts_images.reshape(ts_images.shape[0], -1))\n",
    "\n",
    "breaker()\n",
    "print(\"XGB Model Accuracy : {:.2f} %\".format(accuracy_score(ts_labels, y_pred) * 100))\n",
    "breaker()"
   ]
  },
  {
   "cell_type": "markdown",
   "metadata": {
    "papermill": {
     "duration": 0.035225,
     "end_time": "2020-10-22T13:02:29.978713",
     "exception": false,
     "start_time": "2020-10-22T13:02:29.943488",
     "status": "completed"
    },
    "tags": []
   },
   "source": [
    "# Final Cell"
   ]
  },
  {
   "cell_type": "code",
   "execution_count": 11,
   "metadata": {
    "execution": {
     "iopub.execute_input": "2020-10-22T13:02:30.058905Z",
     "iopub.status.busy": "2020-10-22T13:02:30.057036Z",
     "iopub.status.idle": "2020-10-22T13:02:30.073602Z",
     "shell.execute_reply": "2020-10-22T13:02:30.065957Z"
    },
    "papermill": {
     "duration": 0.058625,
     "end_time": "2020-10-22T13:02:30.073767",
     "exception": false,
     "start_time": "2020-10-22T13:02:30.015142",
     "status": "completed"
    },
    "tags": []
   },
   "outputs": [
    {
     "name": "stdout",
     "output_type": "stream",
     "text": [
      "\n",
      "------------------------------\n",
      "\n",
      "Time taken to run Notebook : 2.43 minutes\n",
      "\n",
      "------------------------------\n",
      "\n"
     ]
    }
   ],
   "source": [
    "breaker()\n",
    "print(\"Time taken to run Notebook : {:.2f} minutes\".format((time()-notebook_start_time)/60))\n",
    "breaker()\n",
    "\n",
    "#Only Uncomment When Committing"
   ]
  }
 ],
 "metadata": {
  "kernelspec": {
   "display_name": "Python 3",
   "language": "python",
   "name": "python3"
  },
  "language_info": {
   "codemirror_mode": {
    "name": "ipython",
    "version": 3
   },
   "file_extension": ".py",
   "mimetype": "text/x-python",
   "name": "python",
   "nbconvert_exporter": "python",
   "pygments_lexer": "ipython3",
   "version": "3.7.6"
  },
  "papermill": {
   "duration": 152.066781,
   "end_time": "2020-10-22T13:02:31.381217",
   "environment_variables": {},
   "exception": null,
   "input_path": "__notebook__.ipynb",
   "output_path": "__notebook__.ipynb",
   "parameters": {},
   "start_time": "2020-10-22T12:59:59.314436",
   "version": "2.1.0"
  }
 },
 "nbformat": 4,
 "nbformat_minor": 4
}
