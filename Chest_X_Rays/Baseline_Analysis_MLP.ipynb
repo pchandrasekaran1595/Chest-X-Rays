{
 "cells": [
  {
   "cell_type": "code",
   "execution_count": 1,
   "metadata": {
    "execution": {
     "iopub.execute_input": "2020-10-21T19:18:35.126831Z",
     "iopub.status.busy": "2020-10-21T19:18:35.125928Z",
     "iopub.status.idle": "2020-10-21T19:18:35.128970Z",
     "shell.execute_reply": "2020-10-21T19:18:35.128398Z"
    },
    "papermill": {
     "duration": 0.028538,
     "end_time": "2020-10-21T19:18:35.129114",
     "exception": false,
     "start_time": "2020-10-21T19:18:35.100576",
     "status": "completed"
    },
    "tags": []
   },
   "outputs": [],
   "source": [
    "from time import time\n",
    "\n",
    "notebook_start_time = time()\n",
    "\n",
    "#Only Uncomment When Committing"
   ]
  },
  {
   "cell_type": "markdown",
   "metadata": {
    "papermill": {
     "duration": 0.019645,
     "end_time": "2020-10-21T19:18:35.171010",
     "exception": false,
     "start_time": "2020-10-21T19:18:35.151365",
     "status": "completed"
    },
    "tags": []
   },
   "source": [
    "# Directory Setup"
   ]
  },
  {
   "cell_type": "code",
   "execution_count": 2,
   "metadata": {
    "_cell_guid": "b1076dfc-b9ad-4769-8c92-a6c4dae69d19",
    "_uuid": "8f2839f25d086af736a60e9eeb907d3b93b6e0e5",
    "execution": {
     "iopub.execute_input": "2020-10-21T19:18:35.216646Z",
     "iopub.status.busy": "2020-10-21T19:18:35.215411Z",
     "iopub.status.idle": "2020-10-21T19:18:35.217820Z",
     "shell.execute_reply": "2020-10-21T19:18:35.218360Z"
    },
    "papermill": {
     "duration": 0.028439,
     "end_time": "2020-10-21T19:18:35.218491",
     "exception": false,
     "start_time": "2020-10-21T19:18:35.190052",
     "status": "completed"
    },
    "tags": []
   },
   "outputs": [],
   "source": [
    "tr_dir_base = \"/kaggle/input/labeled-chest-xray-images/chest_xray/train/\"\n",
    "ts_dir_base = \"/kaggle/input/labeled-chest-xray-images/chest_xray/test/\"\n",
    "\n",
    "tr_dir_normal = tr_dir_base + \"NORMAL/\"\n",
    "ts_dir_normal = ts_dir_base + \"NORMAL/\"\n",
    "\n",
    "tr_dir_pnemon = tr_dir_base + \"PNEUMONIA/\"\n",
    "ts_dir_pnemon = ts_dir_base + \"PNEUMONIA/\""
   ]
  },
  {
   "cell_type": "markdown",
   "metadata": {
    "papermill": {
     "duration": 0.020521,
     "end_time": "2020-10-21T19:18:35.259979",
     "exception": false,
     "start_time": "2020-10-21T19:18:35.239458",
     "status": "completed"
    },
    "tags": []
   },
   "source": [
    "# Library Imports"
   ]
  },
  {
   "cell_type": "code",
   "execution_count": 3,
   "metadata": {
    "execution": {
     "iopub.execute_input": "2020-10-21T19:18:35.309899Z",
     "iopub.status.busy": "2020-10-21T19:18:35.309159Z",
     "iopub.status.idle": "2020-10-21T19:18:39.807325Z",
     "shell.execute_reply": "2020-10-21T19:18:39.806153Z"
    },
    "papermill": {
     "duration": 4.527297,
     "end_time": "2020-10-21T19:18:39.807464",
     "exception": false,
     "start_time": "2020-10-21T19:18:35.280167",
     "status": "completed"
    },
    "tags": []
   },
   "outputs": [],
   "source": [
    "import numpy as np\n",
    "import pandas as pd\n",
    "import matplotlib.pyplot as plt\n",
    "\n",
    "import matplotlib.image as img\n",
    "from PIL import Image\n",
    "import cv2\n",
    "\n",
    "import torch\n",
    "from torch import optim, nn\n",
    "from torch.utils.data import Dataset\n",
    "from torch.utils.data import DataLoader as DL\n",
    "from torch.nn.utils import weight_norm as WN\n",
    "import torch.optim.lr_scheduler as LR\n",
    "import torch.nn.functional as F\n",
    "\n",
    "from xgboost import XGBClassifier\n",
    "\n",
    "from sklearn.metrics import accuracy_score, log_loss, f1_score\n",
    "\n",
    "import random as r\n",
    "import os\n",
    "from time import time\n",
    "\n",
    "MAX_VALUE = 255"
   ]
  },
  {
   "cell_type": "markdown",
   "metadata": {
    "papermill": {
     "duration": 0.019235,
     "end_time": "2020-10-21T19:18:39.846893",
     "exception": false,
     "start_time": "2020-10-21T19:18:39.827658",
     "status": "completed"
    },
    "tags": []
   },
   "source": [
    "# Helper Functions"
   ]
  },
  {
   "cell_type": "code",
   "execution_count": 4,
   "metadata": {
    "execution": {
     "iopub.execute_input": "2020-10-21T19:18:39.905868Z",
     "iopub.status.busy": "2020-10-21T19:18:39.904885Z",
     "iopub.status.idle": "2020-10-21T19:18:39.908081Z",
     "shell.execute_reply": "2020-10-21T19:18:39.907542Z"
    },
    "papermill": {
     "duration": 0.041236,
     "end_time": "2020-10-21T19:18:39.908224",
     "exception": false,
     "start_time": "2020-10-21T19:18:39.866988",
     "status": "completed"
    },
    "tags": []
   },
   "outputs": [],
   "source": [
    "def breaker():\n",
    "    print(\"\\n\" + 30*\"-\" + \"\\n\")\n",
    "    \n",
    "def head(x, no_of_ele=5):\n",
    "    breaker()\n",
    "    print(x[:no_of_ele])\n",
    "    breaker()\n",
    "\n",
    "def getFileNames(root_dir=None):\n",
    "    f_name = []\n",
    "    for dirname, _, filenames in os.walk(root_dir):\n",
    "        for filename in filenames:\n",
    "            f_name.append(filename)\n",
    "    return f_name\n",
    "\n",
    "def removeChannelInfo(file_path=None, file_names=None, size=None):\n",
    "    sizes = []\n",
    "    images = []\n",
    "    for name in file_names:\n",
    "        image = cv2.imread(file_path+name)\n",
    "        if len(image.shape) > 2:\n",
    "            image = image[:, :, -1]\n",
    "        sizes.append(image.shape)\n",
    "        images.append(cv2.resize(image, dsize=(size, size), interpolation=cv2.INTER_LANCZOS4))\n",
    "    return images, sizes"
   ]
  },
  {
   "cell_type": "markdown",
   "metadata": {
    "papermill": {
     "duration": 0.02006,
     "end_time": "2020-10-21T19:18:39.949442",
     "exception": false,
     "start_time": "2020-10-21T19:18:39.929382",
     "status": "completed"
    },
    "tags": []
   },
   "source": [
    "# Data Processing"
   ]
  },
  {
   "cell_type": "markdown",
   "metadata": {
    "papermill": {
     "duration": 0.019861,
     "end_time": "2020-10-21T19:18:39.989682",
     "exception": false,
     "start_time": "2020-10-21T19:18:39.969821",
     "status": "completed"
    },
    "tags": []
   },
   "source": [
    "**File Name Handling**"
   ]
  },
  {
   "cell_type": "code",
   "execution_count": 5,
   "metadata": {
    "_cell_guid": "79c7e3d0-c299-4dcb-8224-4455121ee9b0",
    "_uuid": "d629ff2d2480ee46fbb7e2d37f6b5fab8052498a",
    "execution": {
     "iopub.execute_input": "2020-10-21T19:18:40.034709Z",
     "iopub.status.busy": "2020-10-21T19:18:40.034093Z",
     "iopub.status.idle": "2020-10-21T19:18:41.036708Z",
     "shell.execute_reply": "2020-10-21T19:18:41.035541Z"
    },
    "papermill": {
     "duration": 1.026464,
     "end_time": "2020-10-21T19:18:41.036828",
     "exception": false,
     "start_time": "2020-10-21T19:18:40.010364",
     "status": "completed"
    },
    "tags": []
   },
   "outputs": [],
   "source": [
    "tr_normal_file_names = getFileNames(tr_dir_normal)\n",
    "tr_pnemon_file_names = getFileNames(tr_dir_pnemon)\n",
    "ts_normal_file_names = getFileNames(ts_dir_normal)\n",
    "ts_pnemon_file_names = getFileNames(ts_dir_pnemon)"
   ]
  },
  {
   "cell_type": "markdown",
   "metadata": {
    "papermill": {
     "duration": 0.021946,
     "end_time": "2020-10-21T19:18:41.080257",
     "exception": false,
     "start_time": "2020-10-21T19:18:41.058311",
     "status": "completed"
    },
    "tags": []
   },
   "source": [
    "**Basic Info (Used to confirm correctness Pre-Dataset Numpy Arrays)**"
   ]
  },
  {
   "cell_type": "code",
   "execution_count": 6,
   "metadata": {
    "execution": {
     "iopub.execute_input": "2020-10-21T19:18:41.128352Z",
     "iopub.status.busy": "2020-10-21T19:18:41.127336Z",
     "iopub.status.idle": "2020-10-21T19:18:41.151985Z",
     "shell.execute_reply": "2020-10-21T19:18:41.148134Z"
    },
    "papermill": {
     "duration": 0.051146,
     "end_time": "2020-10-21T19:18:41.152135",
     "exception": false,
     "start_time": "2020-10-21T19:18:41.100989",
     "status": "completed"
    },
    "tags": []
   },
   "outputs": [
    {
     "name": "stdout",
     "output_type": "stream",
     "text": [
      "\n",
      "------------------------------\n",
      "\n",
      "Total Training Set Size        : 5232\n",
      "\n",
      "------------------------------\n",
      "\n",
      "Total Test Set Size            : 624\n",
      "\n",
      "------------------------------\n",
      "\n"
     ]
    }
   ],
   "source": [
    "breaker()\n",
    "print(\"Total Training Set Size        :\", repr(len(tr_normal_file_names) + len(tr_pnemon_file_names)))\n",
    "breaker()\n",
    "print(\"Total Test Set Size            :\", repr(len(ts_normal_file_names) + len(ts_pnemon_file_names)))\n",
    "breaker()"
   ]
  },
  {
   "cell_type": "markdown",
   "metadata": {
    "papermill": {
     "duration": 0.025381,
     "end_time": "2020-10-21T19:18:41.203070",
     "exception": false,
     "start_time": "2020-10-21T19:18:41.177689",
     "status": "completed"
    },
    "tags": []
   },
   "source": [
    "**Reading Image Data**"
   ]
  },
  {
   "cell_type": "code",
   "execution_count": 7,
   "metadata": {
    "execution": {
     "iopub.execute_input": "2020-10-21T19:18:41.261414Z",
     "iopub.status.busy": "2020-10-21T19:18:41.260748Z",
     "iopub.status.idle": "2020-10-21T19:20:36.154733Z",
     "shell.execute_reply": "2020-10-21T19:20:36.153785Z"
    },
    "papermill": {
     "duration": 114.926303,
     "end_time": "2020-10-21T19:20:36.154899",
     "exception": false,
     "start_time": "2020-10-21T19:18:41.228596",
     "status": "completed"
    },
    "tags": []
   },
   "outputs": [
    {
     "name": "stdout",
     "output_type": "stream",
     "text": [
      "Time Taken to process data : 1.91 minutes\n"
     ]
    }
   ],
   "source": [
    "start_time = time()\n",
    "\n",
    "n_size = 64\n",
    "#n_size = 120\n",
    "trn_images, trn_sizes = removeChannelInfo(tr_dir_normal, tr_normal_file_names, n_size)\n",
    "trp_images, trp_sizes = removeChannelInfo(tr_dir_pnemon, tr_pnemon_file_names, n_size)\n",
    "\n",
    "tsn_images, tsn_sizes = removeChannelInfo(ts_dir_normal, ts_normal_file_names, n_size)\n",
    "tsp_images, tsp_sizes = removeChannelInfo(ts_dir_pnemon, ts_pnemon_file_names, n_size)\n",
    "\n",
    "print(\"Time Taken to process data : {:.2f} minutes\".format((time()-start_time)/60))"
   ]
  },
  {
   "cell_type": "markdown",
   "metadata": {
    "papermill": {
     "duration": 0.026613,
     "end_time": "2020-10-21T19:20:36.217334",
     "exception": false,
     "start_time": "2020-10-21T19:20:36.190721",
     "status": "completed"
    },
    "tags": []
   },
   "source": [
    "**Consolidating Train Images and creating Labels**"
   ]
  },
  {
   "cell_type": "code",
   "execution_count": 8,
   "metadata": {
    "execution": {
     "iopub.execute_input": "2020-10-21T19:20:36.280659Z",
     "iopub.status.busy": "2020-10-21T19:20:36.279537Z",
     "iopub.status.idle": "2020-10-21T19:20:36.359440Z",
     "shell.execute_reply": "2020-10-21T19:20:36.356529Z"
    },
    "papermill": {
     "duration": 0.114545,
     "end_time": "2020-10-21T19:20:36.359589",
     "exception": false,
     "start_time": "2020-10-21T19:20:36.245044",
     "status": "completed"
    },
    "tags": []
   },
   "outputs": [
    {
     "name": "stdout",
     "output_type": "stream",
     "text": [
      "(5232, 64, 64)\n",
      "(5232,)\n"
     ]
    }
   ],
   "source": [
    "tr_images = np.concatenate((trn_images, trp_images), axis=0)\n",
    "tr_images = np.divide(tr_images, MAX_VALUE)\n",
    "tr_labels = np.concatenate((np.zeros((len(trn_images))), np.ones((len(trp_images)))), axis=0)\n",
    "\n",
    "print(tr_images.shape)\n",
    "print(tr_labels.shape)"
   ]
  },
  {
   "cell_type": "markdown",
   "metadata": {
    "papermill": {
     "duration": 0.02759,
     "end_time": "2020-10-21T19:20:36.414815",
     "exception": false,
     "start_time": "2020-10-21T19:20:36.387225",
     "status": "completed"
    },
    "tags": []
   },
   "source": [
    "**Consolidating Test Images and creating Labels**"
   ]
  },
  {
   "cell_type": "code",
   "execution_count": 9,
   "metadata": {
    "execution": {
     "iopub.execute_input": "2020-10-21T19:20:36.479314Z",
     "iopub.status.busy": "2020-10-21T19:20:36.478075Z",
     "iopub.status.idle": "2020-10-21T19:20:36.493808Z",
     "shell.execute_reply": "2020-10-21T19:20:36.494401Z"
    },
    "papermill": {
     "duration": 0.051673,
     "end_time": "2020-10-21T19:20:36.494544",
     "exception": false,
     "start_time": "2020-10-21T19:20:36.442871",
     "status": "completed"
    },
    "tags": []
   },
   "outputs": [
    {
     "name": "stdout",
     "output_type": "stream",
     "text": [
      "(624, 64, 64)\n",
      "(624,)\n"
     ]
    }
   ],
   "source": [
    "ts_images = np.concatenate((tsn_images, tsp_images), axis=0)\n",
    "ts_images = np.divide(ts_images, MAX_VALUE)\n",
    "ts_labels = np.concatenate((np.zeros((len(tsn_images))), np.ones((len(tsp_images)))), axis=0)\n",
    "\n",
    "print(ts_images.shape)\n",
    "print(ts_labels.shape)"
   ]
  },
  {
   "cell_type": "markdown",
   "metadata": {
    "papermill": {
     "duration": 0.028709,
     "end_time": "2020-10-21T19:20:36.552803",
     "exception": false,
     "start_time": "2020-10-21T19:20:36.524094",
     "status": "completed"
    },
    "tags": []
   },
   "source": [
    "**Dataset Template**"
   ]
  },
  {
   "cell_type": "code",
   "execution_count": 10,
   "metadata": {
    "execution": {
     "iopub.execute_input": "2020-10-21T19:20:36.622507Z",
     "iopub.status.busy": "2020-10-21T19:20:36.621701Z",
     "iopub.status.idle": "2020-10-21T19:20:36.624411Z",
     "shell.execute_reply": "2020-10-21T19:20:36.624876Z"
    },
    "papermill": {
     "duration": 0.042095,
     "end_time": "2020-10-21T19:20:36.625018",
     "exception": false,
     "start_time": "2020-10-21T19:20:36.582923",
     "status": "completed"
    },
    "tags": []
   },
   "outputs": [],
   "source": [
    "class DS(Dataset):\n",
    "    def __init__(this, X=None, y=None, mode=\"train\"):\n",
    "        this.mode = mode\n",
    "        this.X = X\n",
    "        if mode == \"train\":\n",
    "            this.y = y\n",
    "        \n",
    "    def __len__(this):\n",
    "        return this.X.shape[0]\n",
    "    \n",
    "    def __getitem__(this, idx):\n",
    "        if this.mode == \"train\":\n",
    "            return torch.FloatTensor(this.X[idx]), torch.FloatTensor(this.y[idx])\n",
    "        else:\n",
    "            return torch.FloatTensor(this.X[idx])"
   ]
  },
  {
   "cell_type": "markdown",
   "metadata": {
    "papermill": {
     "duration": 0.030382,
     "end_time": "2020-10-21T19:20:36.685404",
     "exception": false,
     "start_time": "2020-10-21T19:20:36.655022",
     "status": "completed"
    },
    "tags": []
   },
   "source": [
    "# ANN"
   ]
  },
  {
   "cell_type": "markdown",
   "metadata": {
    "papermill": {
     "duration": 0.030226,
     "end_time": "2020-10-21T19:20:36.745737",
     "exception": false,
     "start_time": "2020-10-21T19:20:36.715511",
     "status": "completed"
    },
    "tags": []
   },
   "source": [
    "**Config**"
   ]
  },
  {
   "cell_type": "code",
   "execution_count": 11,
   "metadata": {
    "execution": {
     "iopub.execute_input": "2020-10-21T19:20:37.192759Z",
     "iopub.status.busy": "2020-10-21T19:20:37.189981Z",
     "iopub.status.idle": "2020-10-21T19:20:37.198603Z",
     "shell.execute_reply": "2020-10-21T19:20:37.197655Z"
    },
    "papermill": {
     "duration": 0.422049,
     "end_time": "2020-10-21T19:20:37.198721",
     "exception": false,
     "start_time": "2020-10-21T19:20:36.776672",
     "status": "completed"
    },
    "tags": []
   },
   "outputs": [],
   "source": [
    "class ANN_CFG():\n",
    "    tr_batch_size = 128\n",
    "    ts_batch_size = 128\n",
    "    \n",
    "    epochs = 25\n",
    "    \n",
    "    IL = n_size ** 2\n",
    "    HL = [512, 512]\n",
    "    OL = 1\n",
    "    \n",
    "    device = torch.device(\"cuda:0\" if torch.cuda.is_available() else \"cpu\")\n",
    "    \n",
    "cfg = ANN_CFG()\n",
    "\n",
    "tr_data_setup = DS(tr_images, tr_labels.reshape(-1,1))\n",
    "ts_data_setup = DS(ts_images, ts_labels.reshape(-1,1))\n",
    "\n",
    "dataloaders = {\"train\" : DL(tr_data_setup, batch_size=cfg.tr_batch_size, shuffle=True, generator=torch.manual_seed(0)),\n",
    "               \"test\"  : DL(ts_data_setup, batch_size=cfg.ts_batch_size, shuffle=False)\n",
    "              }"
   ]
  },
  {
   "cell_type": "markdown",
   "metadata": {
    "papermill": {
     "duration": 0.031554,
     "end_time": "2020-10-21T19:20:37.261643",
     "exception": false,
     "start_time": "2020-10-21T19:20:37.230089",
     "status": "completed"
    },
    "tags": []
   },
   "source": [
    "**Setup**"
   ]
  },
  {
   "cell_type": "code",
   "execution_count": 12,
   "metadata": {
    "execution": {
     "iopub.execute_input": "2020-10-21T19:20:37.345508Z",
     "iopub.status.busy": "2020-10-21T19:20:37.344565Z",
     "iopub.status.idle": "2020-10-21T19:20:41.741039Z",
     "shell.execute_reply": "2020-10-21T19:20:41.727714Z"
    },
    "papermill": {
     "duration": 4.447526,
     "end_time": "2020-10-21T19:20:41.741207",
     "exception": false,
     "start_time": "2020-10-21T19:20:37.293681",
     "status": "completed"
    },
    "tags": []
   },
   "outputs": [
    {
     "name": "stdout",
     "output_type": "stream",
     "text": [
      "\n",
      "------------------------------\n",
      "\n",
      "ANN(\n",
      "  (BN1): BatchNorm1d(4096, eps=1e-05, momentum=0.1, affine=True, track_running_stats=True)\n",
      "  (DP1): Dropout(p=0.2, inplace=False)\n",
      "  (FC1): Linear(in_features=4096, out_features=512, bias=True)\n",
      "  (BN2): BatchNorm1d(512, eps=1e-05, momentum=0.1, affine=True, track_running_stats=True)\n",
      "  (DP2): Dropout(p=0.2, inplace=False)\n",
      "  (FC2): Linear(in_features=512, out_features=512, bias=True)\n",
      "  (BN3): BatchNorm1d(512, eps=1e-05, momentum=0.1, affine=True, track_running_stats=True)\n",
      "  (DP3): Dropout(p=0.2, inplace=False)\n",
      "  (FC3): Linear(in_features=512, out_features=1, bias=True)\n",
      ")\n",
      "\n",
      "------------------------------\n",
      "\n",
      "Train BS  : 128\n",
      "Test  BS  : 128\n",
      "Device    : device(type='cuda', index=0)\n",
      "Epochs    : 25\n",
      "\n",
      "Optimizer : Adam (\n",
      "Parameter Group 0\n",
      "    amsgrad: False\n",
      "    betas: (0.9, 0.999)\n",
      "    eps: 1e-08\n",
      "    lr: 0.001\n",
      "    weight_decay: 0\n",
      ")\n",
      "\n",
      "------------------------------\n",
      "\n"
     ]
    }
   ],
   "source": [
    "class ANN(nn.Module):\n",
    "    def __init__(this, IL=None, HL=None, OL=None):\n",
    "        super(ANN, this).__init__()\n",
    "        \n",
    "        this.BN1 = nn.BatchNorm1d(IL)\n",
    "        this.DP1 = nn.Dropout(p=0.2)\n",
    "        this.FC1 = WN(nn.Linear(IL, HL[0]))\n",
    "        \n",
    "        this.BN2 = nn.BatchNorm1d(HL[0])\n",
    "        this.DP2 = nn.Dropout(p=0.2)\n",
    "        this.FC2 = WN(nn.Linear(HL[0], HL[1]))\n",
    "        \n",
    "        this.BN3 = nn.BatchNorm1d(HL[1])\n",
    "        this.DP3 = nn.Dropout(p=0.2)\n",
    "        this.FC3 = WN(nn.Linear(HL[1], OL))\n",
    "        \n",
    "    def getOptimizer(this):\n",
    "        return optim.Adam(this.parameters(), lr=1e-3, weight_decay=0)\n",
    "    \n",
    "    def forward(this, x):\n",
    "        x = this.BN1(x)\n",
    "        x = this.DP1(x)\n",
    "        x = F.relu(this.FC1(x))\n",
    "        \n",
    "        x = this.BN2(x)\n",
    "        x = this.DP2(x)\n",
    "        x = F.relu(this.FC2(x))\n",
    "        \n",
    "        x = this.BN3(x)\n",
    "        x = this.DP3(x)\n",
    "        x = torch.sigmoid(this.FC3(x))\n",
    "        \n",
    "        return x\n",
    "    \n",
    "MLP = ANN(cfg.IL, cfg.HL, cfg.OL)\n",
    "MLP.to(cfg.device)\n",
    "\n",
    "optimizer = MLP.getOptimizer()\n",
    "\n",
    "breaker()\n",
    "print(MLP)\n",
    "breaker()\n",
    "print(\"Train BS  :\", repr(cfg.tr_batch_size))\n",
    "print(\"Test  BS  :\", repr(cfg.ts_batch_size))\n",
    "print(\"Device    :\", repr(cfg.device))\n",
    "print(\"Epochs    :\", repr(cfg.epochs))\n",
    "print(\"\\nOptimizer :\", optimizer)\n",
    "breaker()"
   ]
  },
  {
   "cell_type": "markdown",
   "metadata": {
    "papermill": {
     "duration": 0.0422,
     "end_time": "2020-10-21T19:20:41.824295",
     "exception": false,
     "start_time": "2020-10-21T19:20:41.782095",
     "status": "completed"
    },
    "tags": []
   },
   "source": [
    "**ANN Helpers**"
   ]
  },
  {
   "cell_type": "code",
   "execution_count": 13,
   "metadata": {
    "execution": {
     "iopub.execute_input": "2020-10-21T19:20:41.922337Z",
     "iopub.status.busy": "2020-10-21T19:20:41.921366Z",
     "iopub.status.idle": "2020-10-21T19:20:41.924688Z",
     "shell.execute_reply": "2020-10-21T19:20:41.924094Z"
    },
    "papermill": {
     "duration": 0.060768,
     "end_time": "2020-10-21T19:20:41.924797",
     "exception": false,
     "start_time": "2020-10-21T19:20:41.864029",
     "status": "completed"
    },
    "tags": []
   },
   "outputs": [],
   "source": [
    "def train_fn(model=None, optimizer=None, dataloader=None):\n",
    "    LP = []\n",
    "    \n",
    "    model.train()\n",
    "    start_time = time()\n",
    "    \n",
    "    for e in range(cfg.epochs):\n",
    "        lossPerPass = 0\n",
    "        for X, y in dataloader:\n",
    "            X, y = X.to(cfg.device).view(X.shape[0], -1), y.to(cfg.device)\n",
    "            \n",
    "            optimizer.zero_grad()\n",
    "            output = model(X)\n",
    "            loss = nn.BCELoss()(output, y)\n",
    "            lossPerPass += (loss.item()/y.shape[0])\n",
    "            loss.backward()\n",
    "            optimizer.step()\n",
    "        LP.append(lossPerPass)\n",
    "    \n",
    "    breaker()\n",
    "    print(\"Time Taken to Train for {e} Epochs : {:.2f} minutes\".format((time()-start_time)/60, e=cfg.epochs))\n",
    "    breaker()\n",
    "          \n",
    "    return LP\n",
    "          \n",
    "def eval_fn(model=None, dataloader=None):\n",
    "    Pred = torch.zeros(cfg.ts_batch_size, 1).to(cfg.device)\n",
    "    model.eval()\n",
    "    \n",
    "    for X, y in dataloader:\n",
    "        X = X.to(cfg.device).view(X.shape[0], -1)\n",
    "        \n",
    "        with torch.no_grad():\n",
    "            Prob = model(X)\n",
    "        Pred = torch.cat((Pred, Prob), dim=0)\n",
    "    Pred = Pred[cfg.ts_batch_size:]\n",
    "    Pred = Pred.cpu().numpy()\n",
    "    Pred[np.argwhere(Pred > 0.5)[:, 0]]  = int(1)\n",
    "    Pred[np.argwhere(Pred <= 0.5)[:, 0]] = int(0)\n",
    "    return Pred.reshape(-1)"
   ]
  },
  {
   "cell_type": "markdown",
   "metadata": {
    "papermill": {
     "duration": 0.039738,
     "end_time": "2020-10-21T19:20:42.003253",
     "exception": false,
     "start_time": "2020-10-21T19:20:41.963515",
     "status": "completed"
    },
    "tags": []
   },
   "source": [
    "**Training**"
   ]
  },
  {
   "cell_type": "code",
   "execution_count": 14,
   "metadata": {
    "execution": {
     "iopub.execute_input": "2020-10-21T19:20:42.097626Z",
     "iopub.status.busy": "2020-10-21T19:20:42.096231Z",
     "iopub.status.idle": "2020-10-21T19:20:51.622189Z",
     "shell.execute_reply": "2020-10-21T19:20:51.623513Z"
    },
    "papermill": {
     "duration": 9.579796,
     "end_time": "2020-10-21T19:20:51.623729",
     "exception": false,
     "start_time": "2020-10-21T19:20:42.043933",
     "status": "completed"
    },
    "tags": []
   },
   "outputs": [
    {
     "name": "stdout",
     "output_type": "stream",
     "text": [
      "\n",
      "------------------------------\n",
      "\n",
      "Time Taken to Train for 25 Epochs : 0.15 minutes\n",
      "\n",
      "------------------------------\n",
      "\n"
     ]
    },
    {
     "data": {
      "image/png": "[encoded data removed]",
      "text/plain": [
       "<Figure size 864x432 with 1 Axes>"
      ]
     },
     "metadata": {
      "needs_background": "light"
     },
     "output_type": "display_data"
    }
   ],
   "source": [
    "LP = train_fn(MLP, optimizer, dataloaders[\"train\"])\n",
    "\n",
    "x_Axis = [i+1 for i in range(cfg.epochs)]\n",
    "\n",
    "plt.figure(figsize=(12, 6))\n",
    "plt.plot(x_Axis, LP, \"r\")\n",
    "plt.xlabel(\"Epochs --->\")\n",
    "plt.ylabel(\"Loss\")\n",
    "plt.title(\"Training Loss\")\n",
    "plt.show()"
   ]
  },
  {
   "cell_type": "markdown",
   "metadata": {
    "papermill": {
     "duration": 0.07022,
     "end_time": "2020-10-21T19:20:51.767287",
     "exception": false,
     "start_time": "2020-10-21T19:20:51.697067",
     "status": "completed"
    },
    "tags": []
   },
   "source": [
    "**Evaluating on Test Set**"
   ]
  },
  {
   "cell_type": "code",
   "execution_count": 15,
   "metadata": {
    "execution": {
     "iopub.execute_input": "2020-10-21T19:20:51.908712Z",
     "iopub.status.busy": "2020-10-21T19:20:51.907482Z",
     "iopub.status.idle": "2020-10-21T19:20:51.951558Z",
     "shell.execute_reply": "2020-10-21T19:20:51.949374Z"
    },
    "papermill": {
     "duration": 0.112858,
     "end_time": "2020-10-21T19:20:51.951716",
     "exception": false,
     "start_time": "2020-10-21T19:20:51.838858",
     "status": "completed"
    },
    "tags": []
   },
   "outputs": [
    {
     "name": "stdout",
     "output_type": "stream",
     "text": [
      "\n",
      "------------------------------\n",
      "\n",
      "Accuracy : 81.25000 %\n",
      "\n",
      "------------------------------\n",
      "\n"
     ]
    }
   ],
   "source": [
    "y_pred = eval_fn(MLP, dataloaders[\"test\"])\n",
    "\n",
    "breaker()\n",
    "print(\"Accuracy : {:.5f} %\" .format((accuracy_score(ts_labels, y_pred) *100)))\n",
    "breaker()"
   ]
  },
  {
   "cell_type": "markdown",
   "metadata": {
    "papermill": {
     "duration": 0.046752,
     "end_time": "2020-10-21T19:20:52.043889",
     "exception": false,
     "start_time": "2020-10-21T19:20:51.997137",
     "status": "completed"
    },
    "tags": []
   },
   "source": [
    "# Final Cell"
   ]
  },
  {
   "cell_type": "code",
   "execution_count": 16,
   "metadata": {
    "execution": {
     "iopub.execute_input": "2020-10-21T19:20:52.165531Z",
     "iopub.status.busy": "2020-10-21T19:20:52.164425Z",
     "iopub.status.idle": "2020-10-21T19:20:52.187612Z",
     "shell.execute_reply": "2020-10-21T19:20:52.181495Z"
    },
    "papermill": {
     "duration": 0.097088,
     "end_time": "2020-10-21T19:20:52.187896",
     "exception": false,
     "start_time": "2020-10-21T19:20:52.090808",
     "status": "completed"
    },
    "tags": []
   },
   "outputs": [
    {
     "name": "stdout",
     "output_type": "stream",
     "text": [
      "\n",
      "------------------------------\n",
      "\n",
      "Time taken to run Notebook : 2.28 minutes\n",
      "\n",
      "------------------------------\n",
      "\n"
     ]
    }
   ],
   "source": [
    "breaker()\n",
    "print(\"Time taken to run Notebook : {:.2f} minutes\".format((time()-notebook_start_time)/60))\n",
    "breaker()\n",
    "\n",
    "#Only Uncomment When Committing"
   ]
  }
 ],
 "metadata": {
  "kernelspec": {
   "display_name": "Python 3",
   "language": "python",
   "name": "python3"
  },
  "language_info": {
   "codemirror_mode": {
    "name": "ipython",
    "version": 3
   },
   "file_extension": ".py",
   "mimetype": "text/x-python",
   "name": "python",
   "nbconvert_exporter": "python",
   "pygments_lexer": "ipython3",
   "version": "3.7.6"
  },
  "papermill": {
   "duration": 141.840524,
   "end_time": "2020-10-21T19:20:52.756675",
   "environment_variables": {},
   "exception": null,
   "input_path": "__notebook__.ipynb",
   "output_path": "__notebook__.ipynb",
   "parameters": {},
   "start_time": "2020-10-21T19:18:30.916151",
   "version": "2.1.0"
  }
 },
 "nbformat": 4,
 "nbformat_minor": 4
}
