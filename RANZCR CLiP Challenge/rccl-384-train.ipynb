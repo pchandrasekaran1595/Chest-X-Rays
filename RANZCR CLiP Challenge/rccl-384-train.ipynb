{
 "cells": [
  {
   "cell_type": "markdown",
   "metadata": {
    "papermill": {
     "duration": 0.0119,
     "end_time": "2020-12-28T23:59:42.942313",
     "exception": false,
     "start_time": "2020-12-28T23:59:42.930413",
     "status": "completed"
    },
    "tags": []
   },
   "source": [
    "# Library Imports"
   ]
  },
  {
   "cell_type": "code",
   "execution_count": 1,
   "metadata": {
    "_cell_guid": "b1076dfc-b9ad-4769-8c92-a6c4dae69d19",
    "_uuid": "8f2839f25d086af736a60e9eeb907d3b93b6e0e5",
    "execution": {
     "iopub.execute_input": "2020-12-28T23:59:42.972092Z",
     "iopub.status.busy": "2020-12-28T23:59:42.971365Z",
     "iopub.status.idle": "2020-12-28T23:59:45.168843Z",
     "shell.execute_reply": "2020-12-28T23:59:45.168224Z"
    },
    "papermill": {
     "duration": 2.216139,
     "end_time": "2020-12-28T23:59:45.168950",
     "exception": false,
     "start_time": "2020-12-28T23:59:42.952811",
     "status": "completed"
    },
    "tags": []
   },
   "outputs": [],
   "source": [
    "import numpy as np\n",
    "import pandas as pd\n",
    "import matplotlib.pyplot as plt\n",
    "\n",
    "import torch, torchvision\n",
    "from torch import nn, optim\n",
    "from torchvision import transforms\n",
    "from torch.utils.data import Dataset\n",
    "from torch.utils.data import DataLoader as DL\n",
    "import torch.nn.functional as F\n",
    "\n",
    "import gc\n",
    "from time import time\n",
    "\n",
    "from sklearn.metrics import roc_auc_score\n",
    "from sklearn.model_selection import train_test_split\n",
    "\n",
    "torch.backends.cudnn.deterministic = True\n",
    "torch.backends.cudnn.benchmark = False\n",
    "\n",
    "seed = 42"
   ]
  },
  {
   "cell_type": "markdown",
   "metadata": {
    "papermill": {
     "duration": 0.010172,
     "end_time": "2020-12-28T23:59:45.190359",
     "exception": false,
     "start_time": "2020-12-28T23:59:45.180187",
     "status": "completed"
    },
    "tags": []
   },
   "source": [
    "# Helper Functions"
   ]
  },
  {
   "cell_type": "code",
   "execution_count": 2,
   "metadata": {
    "_cell_guid": "79c7e3d0-c299-4dcb-8224-4455121ee9b0",
    "_uuid": "d629ff2d2480ee46fbb7e2d37f6b5fab8052498a",
    "execution": {
     "iopub.execute_input": "2020-12-28T23:59:45.217134Z",
     "iopub.status.busy": "2020-12-28T23:59:45.216449Z",
     "iopub.status.idle": "2020-12-28T23:59:45.220289Z",
     "shell.execute_reply": "2020-12-28T23:59:45.219852Z"
    },
    "papermill": {
     "duration": 0.019709,
     "end_time": "2020-12-28T23:59:45.220372",
     "exception": false,
     "start_time": "2020-12-28T23:59:45.200663",
     "status": "completed"
    },
    "tags": []
   },
   "outputs": [],
   "source": [
    "def breaker():\n",
    "    print(\"\\n\" + 50*\"-\" + \"\\n\")\n",
    "\n",
    "def head(x, no_of_ele=5):\n",
    "    print(x[:no_of_ele])"
   ]
  },
  {
   "cell_type": "markdown",
   "metadata": {
    "papermill": {
     "duration": 0.010282,
     "end_time": "2020-12-28T23:59:45.241260",
     "exception": false,
     "start_time": "2020-12-28T23:59:45.230978",
     "status": "completed"
    },
    "tags": []
   },
   "source": [
    "# Data Handling"
   ]
  },
  {
   "cell_type": "markdown",
   "metadata": {
    "papermill": {
     "duration": 0.010204,
     "end_time": "2020-12-28T23:59:45.261932",
     "exception": false,
     "start_time": "2020-12-28T23:59:45.251728",
     "status": "completed"
    },
    "tags": []
   },
   "source": [
    "**Data Loading**"
   ]
  },
  {
   "cell_type": "code",
   "execution_count": 3,
   "metadata": {
    "execution": {
     "iopub.execute_input": "2020-12-28T23:59:45.289230Z",
     "iopub.status.busy": "2020-12-28T23:59:45.288582Z",
     "iopub.status.idle": "2020-12-29T00:00:18.539223Z",
     "shell.execute_reply": "2020-12-29T00:00:18.539867Z"
    },
    "papermill": {
     "duration": 33.267647,
     "end_time": "2020-12-29T00:00:18.540042",
     "exception": false,
     "start_time": "2020-12-28T23:59:45.272395",
     "status": "completed"
    },
    "tags": []
   },
   "outputs": [
    {
     "name": "stdout",
     "output_type": "stream",
     "text": [
      "\n",
      "--------------------------------------------------\n",
      "\n",
      "Time Taken to Load Data : 2.94 seconds\n",
      "\n",
      "--------------------------------------------------\n",
      "\n",
      "Garbage Collected : 36\n",
      "\n",
      "--------------------------------------------------\n",
      "\n"
     ]
    }
   ],
   "source": [
    "images = np.load(\"../input/rccl-ds-384/images_1x384x384.npy\")\n",
    "labels = np.load(\"../input/rccl-ds-384/labels.npy\")\n",
    "\n",
    "start_time = time()\n",
    "tr_images, va_images, tr_labels, va_labels = train_test_split(images, labels, test_size=0.2,\n",
    "                                                              shuffle=True, random_state=0)\n",
    "\n",
    "breaker()\n",
    "print(\"Time Taken to Load Data : {:.2f} seconds\".format(time() - start_time))\n",
    "\n",
    "del images, labels, start_time\n",
    "\n",
    "breaker()\n",
    "print(\"Garbage Collected : {}\".format(gc.collect()))\n",
    "breaker()"
   ]
  },
  {
   "cell_type": "markdown",
   "metadata": {
    "papermill": {
     "duration": 0.010824,
     "end_time": "2020-12-29T00:00:18.562904",
     "exception": false,
     "start_time": "2020-12-29T00:00:18.552080",
     "status": "completed"
    },
    "tags": []
   },
   "source": [
    "**Dataset Template**"
   ]
  },
  {
   "cell_type": "code",
   "execution_count": 4,
   "metadata": {
    "execution": {
     "iopub.execute_input": "2020-12-29T00:00:18.594640Z",
     "iopub.status.busy": "2020-12-29T00:00:18.592837Z",
     "iopub.status.idle": "2020-12-29T00:00:18.595268Z",
     "shell.execute_reply": "2020-12-29T00:00:18.595668Z"
    },
    "papermill": {
     "duration": 0.021925,
     "end_time": "2020-12-29T00:00:18.595794",
     "exception": false,
     "start_time": "2020-12-29T00:00:18.573869",
     "status": "completed"
    },
    "tags": []
   },
   "outputs": [],
   "source": [
    "class DS(Dataset):\n",
    "    def __init__(this, X=None, y=None, transform=None, mode=\"train\"):\n",
    "        this.mode = mode\n",
    "        this.transform = transform\n",
    "        this.X = X\n",
    "        if mode == \"train\":\n",
    "            this.y = y\n",
    "                 \n",
    "    def __len__(this):\n",
    "        return this.X.shape[0]\n",
    "    \n",
    "    def __getitem__(this, idx):\n",
    "        img = this.transform(this.X[idx])\n",
    "        if this.mode == \"train\":\n",
    "            return img, torch.FloatTensor(this.y[idx])\n",
    "        else:\n",
    "            return img"
   ]
  },
  {
   "cell_type": "markdown",
   "metadata": {
    "papermill": {
     "duration": 0.010832,
     "end_time": "2020-12-29T00:00:18.618267",
     "exception": false,
     "start_time": "2020-12-29T00:00:18.607435",
     "status": "completed"
    },
    "tags": []
   },
   "source": [
    "# CNN Configuration and Setup"
   ]
  },
  {
   "cell_type": "markdown",
   "metadata": {
    "papermill": {
     "duration": 0.010753,
     "end_time": "2020-12-29T00:00:18.640509",
     "exception": false,
     "start_time": "2020-12-29T00:00:18.629756",
     "status": "completed"
    },
    "tags": []
   },
   "source": [
    "**Config**"
   ]
  },
  {
   "cell_type": "code",
   "execution_count": 5,
   "metadata": {
    "execution": {
     "iopub.execute_input": "2020-12-29T00:00:19.017011Z",
     "iopub.status.busy": "2020-12-29T00:00:19.016398Z",
     "iopub.status.idle": "2020-12-29T00:00:19.020858Z",
     "shell.execute_reply": "2020-12-29T00:00:19.019996Z"
    },
    "papermill": {
     "duration": 0.369012,
     "end_time": "2020-12-29T00:00:19.020971",
     "exception": false,
     "start_time": "2020-12-29T00:00:18.651959",
     "status": "completed"
    },
    "tags": []
   },
   "outputs": [],
   "source": [
    "class CFG():\n",
    "    tr_batch_size = 64\n",
    "    # va_batch_size = 128\n",
    "    ts_batch_size = 64\n",
    "    \n",
    "    device = torch.device(\"cuda\" if torch.cuda.is_available() else \"cpu\")\n",
    "    \n",
    "    in_channels = 1\n",
    "    OL = 11\n",
    "    \n",
    "    def __init__(this, filter_sizes=[64, 128, 256, 512], HL=[2048], epochs=50, n_folds=5):\n",
    "        this.filter_sizes = filter_sizes\n",
    "        this.HL = HL\n",
    "        this.epochs = epochs\n",
    "        this.n_folds = n_folds"
   ]
  },
  {
   "cell_type": "markdown",
   "metadata": {
    "papermill": {
     "duration": 0.011261,
     "end_time": "2020-12-29T00:00:19.044255",
     "exception": false,
     "start_time": "2020-12-29T00:00:19.032994",
     "status": "completed"
    },
    "tags": []
   },
   "source": [
    "**Setup**"
   ]
  },
  {
   "cell_type": "code",
   "execution_count": 6,
   "metadata": {
    "execution": {
     "iopub.execute_input": "2020-12-29T00:00:19.085825Z",
     "iopub.status.busy": "2020-12-29T00:00:19.075336Z",
     "iopub.status.idle": "2020-12-29T00:00:19.104654Z",
     "shell.execute_reply": "2020-12-29T00:00:19.105051Z"
    },
    "papermill": {
     "duration": 0.048828,
     "end_time": "2020-12-29T00:00:19.105161",
     "exception": false,
     "start_time": "2020-12-29T00:00:19.056333",
     "status": "completed"
    },
    "tags": []
   },
   "outputs": [],
   "source": [
    "class CNN(nn.Module):\n",
    "    def __init__(this, in_channels=1, filter_sizes=None, HL=None, OL=None, use_DP=True, DP=0.50):\n",
    "        \n",
    "        super(CNN, this).__init__()\n",
    "        \n",
    "        this.use_DP = use_DP\n",
    "        \n",
    "        this.DP_ = nn.Dropout(p=DP)\n",
    "        this.MP_ = nn.MaxPool2d(kernel_size=2)\n",
    "        \n",
    "        this.CN1 = nn.Conv2d(in_channels=in_channels, out_channels=filter_sizes[0], kernel_size=3, stride=1, padding=1)\n",
    "        this.BN1 = nn.BatchNorm2d(num_features=filter_sizes[0], eps=1e-5)\n",
    "        \n",
    "        this.CN2 = nn.Conv2d(in_channels=filter_sizes[0], out_channels=filter_sizes[1], kernel_size=3, stride=1, padding=1)\n",
    "        this.BN2 = nn.BatchNorm2d(num_features=filter_sizes[1], eps=1e-5)\n",
    "        \n",
    "        this.CN3 = nn.Conv2d(in_channels=filter_sizes[1], out_channels=filter_sizes[2], kernel_size=3, stride=1, padding=1)\n",
    "        this.BN3 = nn.BatchNorm2d(num_features=filter_sizes[2], eps=1e-5)\n",
    "        \n",
    "        this.CN4 = nn.Conv2d(in_channels=filter_sizes[2], out_channels=filter_sizes[3], kernel_size=3, stride=1, padding=1)\n",
    "        this.BN4 = nn.BatchNorm2d(num_features=filter_sizes[3], eps=1e-5)\n",
    "        \n",
    "        this.CN5 = nn.Conv2d(in_channels=filter_sizes[3], out_channels=filter_sizes[3], kernel_size=3, stride=1, padding=1)\n",
    "        this.BN5 = nn.BatchNorm2d(num_features=filter_sizes[3], eps=1e-5)\n",
    "        \n",
    "        this.CN6 = nn.Conv2d(in_channels=filter_sizes[3], out_channels=filter_sizes[3], kernel_size=3, stride=1, padding=1)\n",
    "        this.BN6 = nn.BatchNorm2d(num_features=filter_sizes[3], eps=1e-5)\n",
    "        \n",
    "        this.CN7 = nn.Conv2d(in_channels=filter_sizes[3], out_channels=filter_sizes[3], kernel_size=3, stride=1, padding=1)\n",
    "        this.BN7 = nn.BatchNorm2d(num_features=filter_sizes[3], eps=1e-5)\n",
    "        \n",
    "        this.FC1 = nn.Linear(in_features=filter_sizes[3] * 3 * 3, out_features=HL[0])\n",
    "        this.FC2 = nn.Linear(in_features=HL[0], out_features=OL)\n",
    "        \n",
    "    def getOptimizer(this, lr=1e-3, wd=0):\n",
    "        return optim.Adam(this.parameters(), lr=lr, weight_decay=wd)\n",
    "    \n",
    "    def getStepLR(this, optimizer=None, step_size=5, gamma=0.1):\n",
    "        return optim.lr_scheduler.StepLR(optimizer=optimizer, step_size=step_size, gamma=gamma)\n",
    "    \n",
    "    def getMultiStepLR(this, optimizer=None, milestones=None, gamma=0.1):\n",
    "        return optim.lr_scheduler.MultiStepLR(optimizer=optimizer, milestones=milestones, gamma=gamma)\n",
    "    \n",
    "    def getPlateauLR(this, optimizer=None, patience=5, eps=1e-8):\n",
    "        return optim.lr_scheduler.ReduceLROnPlateau(optimizer=optimizer, patience=patience, eps=1e-8, verbose=True)\n",
    "    \n",
    "    def forward(this, x):\n",
    "        if this.use_DP:\n",
    "            x = F.relu(this.MP_(this.BN1(this.CN1(x))))\n",
    "            x = F.relu(this.MP_(this.BN2(this.CN2(x))))\n",
    "            x = F.relu(this.MP_(this.BN3(this.CN3(x))))\n",
    "            x = F.relu(this.MP_(this.BN4(this.CN4(x))))\n",
    "            x = F.relu(this.MP_(this.BN5(this.CN5(x))))\n",
    "            x = F.relu(this.MP_(this.BN6(this.CN6(x))))\n",
    "            x = F.relu(this.MP_(this.BN7(this.CN7(x))))\n",
    "            \n",
    "            x = x.view(x.shape[0], -1)\n",
    "            \n",
    "            x = F.relu(this.DP_(this.FC1(x)))\n",
    "            x = this.FC2(x)\n",
    "            \n",
    "            return x\n",
    "        else:\n",
    "            x = F.relu(this.MP_(this.BN1(this.CN1(x))))\n",
    "            x = F.relu(this.MP_(this.BN2(this.CN2(x))))\n",
    "            x = F.relu(this.MP_(this.BN3(this.CN3(x))))\n",
    "            x = F.relu(this.MP_(this.BN4(this.CN4(x))))\n",
    "            x = F.relu(this.MP_(this.BN5(this.CN5(x))))\n",
    "            x = F.relu(this.MP_(this.BN6(this.CN6(x))))\n",
    "            x = F.relu(this.MP_(this.BN7(this.CN7(x))))\n",
    "            \n",
    "            x = x.view(x.shape[0], -1)\n",
    "            \n",
    "            x = F.relu(this.FC1(x))\n",
    "            x = this.FC2(x)\n",
    "            \n",
    "            return x"
   ]
  },
  {
   "cell_type": "markdown",
   "metadata": {
    "papermill": {
     "duration": 0.011247,
     "end_time": "2020-12-29T00:00:19.127615",
     "exception": false,
     "start_time": "2020-12-29T00:00:19.116368",
     "status": "completed"
    },
    "tags": []
   },
   "source": [
    "**Train Function**"
   ]
  },
  {
   "cell_type": "code",
   "execution_count": 7,
   "metadata": {
    "execution": {
     "iopub.execute_input": "2020-12-29T00:00:19.169927Z",
     "iopub.status.busy": "2020-12-29T00:00:19.168135Z",
     "iopub.status.idle": "2020-12-29T00:00:19.170510Z",
     "shell.execute_reply": "2020-12-29T00:00:19.170925Z"
    },
    "papermill": {
     "duration": 0.032248,
     "end_time": "2020-12-29T00:00:19.171027",
     "exception": false,
     "start_time": "2020-12-29T00:00:19.138779",
     "status": "completed"
    },
    "tags": []
   },
   "outputs": [],
   "source": [
    "def fit_(model=None, optimizer=None, scheduler=None, epochs=None,\n",
    "         early_stopping_patience=5,\n",
    "         trainloader=None, validloader=None,\n",
    "         criterion=None, device=None,\n",
    "         verbose=None, path=None):\n",
    "    \n",
    "    breaker()\n",
    "    print(\"Training\")\n",
    "    breaker()\n",
    "    \n",
    "    bestLoss = {\"train\" : np.inf, \"valid\" : np.inf}\n",
    "    DLS = {\"train\" : trainloader, \"valid\" : validloader}\n",
    "    \n",
    "    Losses = []\n",
    "    Accuracies = []\n",
    "    \n",
    "    start_time = time()\n",
    "    for e in range(epochs):\n",
    "        e_st = time()\n",
    "        epochLoss = {\"train\" : 0.0, \"valid\" : 0.0}\n",
    "        \n",
    "        for phase in [\"train\", \"valid\"]:\n",
    "            if phase == \"train\":\n",
    "                model.train()\n",
    "            else:\n",
    "                model.eval()\n",
    "                \n",
    "            lossPerPass = []\n",
    "            \n",
    "            for X, y in DLS[phase]:\n",
    "                X, y = X.to(device), y.to(device)\n",
    "                \n",
    "                optimizer.zero_grad()\n",
    "                with torch.set_grad_enabled(phase == \"train\"):\n",
    "                    output = model(X)\n",
    "                    loss = criterion(output, y)\n",
    "                    if phase == \"train\":\n",
    "                        loss.backward()\n",
    "                        optimizer.step()\n",
    "                lossPerPass.append(loss.item())\n",
    "            epochLoss[phase] = np.mean(np.array(lossPerPass))\n",
    "        Losses.append(epochLoss)\n",
    "        \n",
    "        \"\"\"if epochLoss[\"valid\"] < bestLoss[\"valid\"]:\n",
    "            bestLoss = epochLoss\n",
    "            torch.save(model.state_dict(), \"./Epoch_{}.pt\".format(e+1))\n",
    "            early_stopping_steps = 0\n",
    "            bestLossEpoch = e+1\n",
    "        else:\n",
    "            early_stopping_steps += 1\n",
    "            if early_stopping_steps > early_stopping_patience:\n",
    "                print(\"Early Stopping at Epoch {}\".format(e+1))\"\"\"\n",
    "        \n",
    "        torch.save(model.state_dict(), \"./Epoch_{}.pt\".format(e+1))\n",
    "        \n",
    "        if scheduler:\n",
    "            scheduler.step()\n",
    "            # scheduler.step(epochLoss[\"valid\"])\n",
    "        \n",
    "        if epochLoss[\"valid\"] < bestLoss[\"valid\"]:\n",
    "            bestLoss = epochLoss\n",
    "            torch.save(model.state_dict(), \"./Epoch_{}.pt\".format(e+1))\n",
    "            bestLossEpoch = e+1\n",
    "            \n",
    "        if verbose:\n",
    "            print(\"Epoch: {} | Train Loss: {:.5f} | Valid Loss: {:.5f} | Time: {:.2f} seconds\".format(e+1, epochLoss[\"train\"], epochLoss[\"valid\"], time()-e_st))\n",
    "\n",
    "    breaker()\n",
    "    print(\"-----> Best Validation Loss at Epoch {}\".format(bestLossEpoch))\n",
    "    breaker()\n",
    "    print(\"Time Taken [{} Epochs] : {:.2f} minutes\".format(epochs, (time()-start_time)/60))\n",
    "    breaker()\n",
    "    print(\"Training Complete\")\n",
    "    breaker()\n",
    "\n",
    "    return Losses, bestLossEpoch"
   ]
  },
  {
   "cell_type": "markdown",
   "metadata": {
    "papermill": {
     "duration": 0.011312,
     "end_time": "2020-12-29T00:00:19.193587",
     "exception": false,
     "start_time": "2020-12-29T00:00:19.182275",
     "status": "completed"
    },
    "tags": []
   },
   "source": [
    "**Training**"
   ]
  },
  {
   "cell_type": "code",
   "execution_count": 8,
   "metadata": {
    "execution": {
     "iopub.execute_input": "2020-12-29T00:00:19.230195Z",
     "iopub.status.busy": "2020-12-29T00:00:19.229428Z",
     "iopub.status.idle": "2020-12-29T02:52:31.908825Z",
     "shell.execute_reply": "2020-12-29T02:52:31.909942Z"
    },
    "papermill": {
     "duration": 10332.704407,
     "end_time": "2020-12-29T02:52:31.910147",
     "exception": false,
     "start_time": "2020-12-29T00:00:19.205740",
     "status": "completed"
    },
    "tags": []
   },
   "outputs": [
    {
     "name": "stdout",
     "output_type": "stream",
     "text": [
      "\n",
      "--------------------------------------------------\n",
      "\n",
      "Garbage Collected : 20\n",
      "\n",
      "--------------------------------------------------\n",
      "\n",
      "Training\n",
      "\n",
      "--------------------------------------------------\n",
      "\n",
      "Epoch: 1 | Train Loss: 0.30161 | Valid Loss: 0.26876 | Time: 345.28 seconds\n",
      "Epoch: 2 | Train Loss: 0.26949 | Valid Loss: 0.29499 | Time: 344.03 seconds\n",
      "Epoch: 3 | Train Loss: 0.25227 | Valid Loss: 0.25788 | Time: 344.39 seconds\n",
      "Epoch: 4 | Train Loss: 0.24031 | Valid Loss: 0.39220 | Time: 344.46 seconds\n",
      "Epoch: 5 | Train Loss: 0.23326 | Valid Loss: 0.25917 | Time: 344.46 seconds\n",
      "Epoch: 6 | Train Loss: 0.22771 | Valid Loss: 0.25427 | Time: 344.63 seconds\n",
      "Epoch: 7 | Train Loss: 0.22295 | Valid Loss: 0.23326 | Time: 344.58 seconds\n",
      "Epoch: 8 | Train Loss: 0.21635 | Valid Loss: 0.21926 | Time: 344.15 seconds\n",
      "Epoch: 9 | Train Loss: 0.20926 | Valid Loss: 0.22202 | Time: 343.87 seconds\n",
      "Epoch: 10 | Train Loss: 0.20259 | Valid Loss: 0.20212 | Time: 344.33 seconds\n",
      "Epoch: 11 | Train Loss: 0.19360 | Valid Loss: 0.20323 | Time: 344.17 seconds\n",
      "Epoch: 12 | Train Loss: 0.18720 | Valid Loss: 0.19575 | Time: 344.24 seconds\n",
      "Epoch: 13 | Train Loss: 0.18051 | Valid Loss: 0.24714 | Time: 344.27 seconds\n",
      "Epoch: 14 | Train Loss: 0.17190 | Valid Loss: 0.18678 | Time: 344.94 seconds\n",
      "Epoch: 15 | Train Loss: 0.16145 | Valid Loss: 0.20554 | Time: 344.11 seconds\n",
      "Epoch: 16 | Train Loss: 0.15645 | Valid Loss: 0.21159 | Time: 343.96 seconds\n",
      "Epoch: 17 | Train Loss: 0.13972 | Valid Loss: 0.20121 | Time: 344.23 seconds\n",
      "Epoch: 18 | Train Loss: 0.12945 | Valid Loss: 0.24177 | Time: 343.99 seconds\n",
      "Epoch: 19 | Train Loss: 0.10992 | Valid Loss: 0.26344 | Time: 344.04 seconds\n",
      "Epoch: 20 | Train Loss: 0.10941 | Valid Loss: 0.23415 | Time: 344.14 seconds\n",
      "Epoch: 21 | Train Loss: 0.09065 | Valid Loss: 0.27134 | Time: 344.02 seconds\n",
      "Epoch: 22 | Train Loss: 0.07325 | Valid Loss: 0.27591 | Time: 344.52 seconds\n",
      "Epoch: 23 | Train Loss: 0.06474 | Valid Loss: 0.29496 | Time: 344.24 seconds\n",
      "Epoch: 24 | Train Loss: 0.05295 | Valid Loss: 0.34069 | Time: 344.04 seconds\n",
      "Epoch: 25 | Train Loss: 0.05137 | Valid Loss: 0.33816 | Time: 344.29 seconds\n",
      "Epoch: 26 | Train Loss: 0.04319 | Valid Loss: 0.33855 | Time: 344.04 seconds\n",
      "Epoch: 27 | Train Loss: 0.08049 | Valid Loss: 0.30915 | Time: 343.91 seconds\n",
      "Epoch: 28 | Train Loss: 0.03399 | Valid Loss: 0.35640 | Time: 343.98 seconds\n",
      "Epoch: 29 | Train Loss: 0.02966 | Valid Loss: 0.35002 | Time: 344.47 seconds\n",
      "Epoch: 30 | Train Loss: 0.02822 | Valid Loss: 0.42099 | Time: 344.30 seconds\n",
      "\n",
      "--------------------------------------------------\n",
      "\n",
      "-----> Best Validation Loss at Epoch 14\n",
      "\n",
      "--------------------------------------------------\n",
      "\n",
      "Time Taken [30 Epochs] : 172.14 minutes\n",
      "\n",
      "--------------------------------------------------\n",
      "\n",
      "Training Complete\n",
      "\n",
      "--------------------------------------------------\n",
      "\n"
     ]
    }
   ],
   "source": [
    "cfg = CFG(filter_sizes=[64, 128, 256, 512], HL=[2048], epochs=30, n_folds=5)\n",
    "\n",
    "tr_transforms = transforms.Compose([transforms.ToTensor(), ])\n",
    "va_transforms = transforms.Compose([transforms.ToTensor(), ])\n",
    "\n",
    "tr_data_setup = DS(X=tr_images, y=tr_labels, transform=tr_transforms, mode=\"train\")\n",
    "va_data_setup = DS(X=va_images, y=va_labels, transform=va_transforms, mode=\"train\")\n",
    "\n",
    "tr_data = DL(tr_data_setup, batch_size=cfg.tr_batch_size, shuffle=True, generator=torch.manual_seed(seed))\n",
    "va_data = DL(va_data_setup, batch_size=cfg.tr_batch_size, shuffle=False)\n",
    "\n",
    "del tr_data_setup, va_data_setup\n",
    "\n",
    "breaker()\n",
    "print(\"Garbage Collected : {}\".format(gc.collect()))\n",
    "\n",
    "torch.manual_seed(seed)\n",
    "\n",
    "model = CNN(filter_sizes=cfg.filter_sizes, HL=cfg.HL, OL=cfg.OL, use_DP=True, DP=0.5).to(cfg.device)\n",
    "optimizer = model.getOptimizer(lr=1e-3, wd=1e-5)\n",
    "\n",
    "# scheduler = model.getStepLr(optimizer=optimizer, step_size=5, gamma=0.1)\n",
    "# scheduler = model.getMultiStepLR(optimizer=optimizer, milestones=[10, 20, 30, 40], gamma=0.1)\n",
    "# scheduler = model.getPlateauLR(optimizer=optimizer, patience=5, eps=1e-8)\n",
    "\n",
    "Losses, bestEpoch = fit_(model=model, optimizer=optimizer, scheduler=None, epochs=cfg.epochs, early_stopping_patience=5,\n",
    "                         trainloader=tr_data, validloader=va_data, criterion=nn.BCEWithLogitsLoss(), device=cfg.device,\n",
    "                         verbose=True)"
   ]
  },
  {
   "cell_type": "markdown",
   "metadata": {
    "papermill": {
     "duration": 0.030181,
     "end_time": "2020-12-29T02:52:31.978154",
     "exception": false,
     "start_time": "2020-12-29T02:52:31.947973",
     "status": "completed"
    },
    "tags": []
   },
   "source": [
    "**Loss Plot**"
   ]
  },
  {
   "cell_type": "code",
   "execution_count": 9,
   "metadata": {
    "execution": {
     "iopub.execute_input": "2020-12-29T02:52:32.030695Z",
     "iopub.status.busy": "2020-12-29T02:52:32.030152Z",
     "iopub.status.idle": "2020-12-29T02:52:32.254289Z",
     "shell.execute_reply": "2020-12-29T02:52:32.254802Z"
    },
    "papermill": {
     "duration": 0.256436,
     "end_time": "2020-12-29T02:52:32.254932",
     "exception": false,
     "start_time": "2020-12-29T02:52:31.998496",
     "status": "completed"
    },
    "tags": []
   },
   "outputs": [
    {
     "data": {
      "image/png": "[encoded data removed]",
      "text/plain": [
       "<Figure size 576x432 with 1 Axes>"
      ]
     },
     "metadata": {
      "needs_background": "light"
     },
     "output_type": "display_data"
    }
   ],
   "source": [
    "LT = []\n",
    "LV = []\n",
    "\n",
    "for i in range(len(Losses)):\n",
    "    LT.append(Losses[i][\"train\"])\n",
    "    LV.append(Losses[i][\"valid\"])\n",
    "\n",
    "plt.figure(figsize=(8, 6))\n",
    "plt.plot([i+1 for i in range(len(LT))], LT, \"r\", label=\"Training Loss\")\n",
    "plt.plot([i+1 for i in range(len(LV))], LV, \"b--\", label=\"Validation Loss\")\n",
    "plt.xlabel(\"Epochs\")\n",
    "plt.ylabel(\"Loss\")\n",
    "plt.legend()\n",
    "plt.grid()\n",
    "plt.show()"
   ]
  },
  {
   "cell_type": "code",
   "execution_count": null,
   "metadata": {
    "papermill": {
     "duration": 0.021218,
     "end_time": "2020-12-29T02:52:32.299213",
     "exception": false,
     "start_time": "2020-12-29T02:52:32.277995",
     "status": "completed"
    },
    "tags": []
   },
   "outputs": [],
   "source": []
  }
 ],
 "metadata": {
  "kernelspec": {
   "display_name": "Python 3",
   "language": "python",
   "name": "python3"
  },
  "language_info": {
   "codemirror_mode": {
    "name": "ipython",
    "version": 3
   },
   "file_extension": ".py",
   "mimetype": "text/x-python",
   "name": "python",
   "nbconvert_exporter": "python",
   "pygments_lexer": "ipython3",
   "version": "3.7.6"
  },
  "papermill": {
   "duration": 10374.602341,
   "end_time": "2020-12-29T02:52:33.364514",
   "environment_variables": {},
   "exception": null,
   "input_path": "__notebook__.ipynb",
   "output_path": "__notebook__.ipynb",
   "parameters": {},
   "start_time": "2020-12-28T23:59:38.762173",
   "version": "2.1.0"
  }
 },
 "nbformat": 4,
 "nbformat_minor": 4
}
