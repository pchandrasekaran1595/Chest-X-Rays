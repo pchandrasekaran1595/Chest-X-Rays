{
 "cells": [
  {
   "cell_type": "code",
   "execution_count": 1,
   "metadata": {
    "_cell_guid": "b1076dfc-b9ad-4769-8c92-a6c4dae69d19",
    "_uuid": "8f2839f25d086af736a60e9eeb907d3b93b6e0e5",
    "execution": {
     "iopub.execute_input": "2021-01-02T22:26:33.554973Z",
     "iopub.status.busy": "2021-01-02T22:26:33.554332Z",
     "iopub.status.idle": "2021-01-02T22:26:36.168419Z",
     "shell.execute_reply": "2021-01-02T22:26:36.167154Z"
    },
    "papermill": {
     "duration": 2.632658,
     "end_time": "2021-01-02T22:26:36.168565",
     "exception": false,
     "start_time": "2021-01-02T22:26:33.535907",
     "status": "completed"
    },
    "tags": []
   },
   "outputs": [],
   "source": [
    "import numpy as np\n",
    "import pandas as pd\n",
    "import matplotlib.pyplot as plt\n",
    "\n",
    "import torch, torchvision\n",
    "from torch import nn, optim\n",
    "from torchvision import transforms, models\n",
    "from torch.utils.data import Dataset\n",
    "from torch.utils.data import DataLoader as DL\n",
    "import torch.nn.functional as F\n",
    "\n",
    "import gc\n",
    "import PIL\n",
    "from time import time\n",
    "\n",
    "from sklearn.model_selection import train_test_split\n",
    "\n",
    "torch.backends.cudnn.deterministic = True\n",
    "torch.backends.cudnn.benchmark = False\n",
    "\n",
    "seed = 42"
   ]
  },
  {
   "cell_type": "code",
   "execution_count": 2,
   "metadata": {
    "_cell_guid": "79c7e3d0-c299-4dcb-8224-4455121ee9b0",
    "_uuid": "d629ff2d2480ee46fbb7e2d37f6b5fab8052498a",
    "execution": {
     "iopub.execute_input": "2021-01-02T22:26:36.193095Z",
     "iopub.status.busy": "2021-01-02T22:26:36.190897Z",
     "iopub.status.idle": "2021-01-02T22:26:36.193890Z",
     "shell.execute_reply": "2021-01-02T22:26:36.194469Z"
    },
    "papermill": {
     "duration": 0.016592,
     "end_time": "2021-01-02T22:26:36.194590",
     "exception": false,
     "start_time": "2021-01-02T22:26:36.177998",
     "status": "completed"
    },
    "tags": []
   },
   "outputs": [],
   "source": [
    "def breaker():\n",
    "    print(\"\\n\" + 50*\"-\" + \"\\n\")\n",
    "\n",
    "def head(x, no_of_ele=5):\n",
    "    print(x[:no_of_ele])"
   ]
  },
  {
   "cell_type": "code",
   "execution_count": 3,
   "metadata": {
    "execution": {
     "iopub.execute_input": "2021-01-02T22:26:36.216971Z",
     "iopub.status.busy": "2021-01-02T22:26:36.216336Z",
     "iopub.status.idle": "2021-01-02T22:27:30.536779Z",
     "shell.execute_reply": "2021-01-02T22:27:30.537776Z"
    },
    "papermill": {
     "duration": 54.335891,
     "end_time": "2021-01-02T22:27:30.538011",
     "exception": false,
     "start_time": "2021-01-02T22:26:36.202120",
     "status": "completed"
    },
    "tags": []
   },
   "outputs": [
    {
     "name": "stdout",
     "output_type": "stream",
     "text": [
      "\n",
      "--------------------------------------------------\n",
      "\n",
      "Time Taken to Load Data : 3.16 seconds\n",
      "\n",
      "--------------------------------------------------\n",
      "\n",
      "Garbage Collected : 56\n",
      "\n",
      "--------------------------------------------------\n",
      "\n"
     ]
    }
   ],
   "source": [
    "images = np.load(\"../input/rccl-ds-384/images_1x384x384.npy\")\n",
    "labels = np.load(\"../input/rccl-ds-384/labels.npy\")\n",
    "\n",
    "start_time = time()\n",
    "tr_images, va_images, tr_labels, va_labels = train_test_split(images, labels, test_size=0.2,\n",
    "                                                              shuffle=True, random_state=seed)\n",
    "\n",
    "breaker()\n",
    "print(\"Time Taken to Load Data : {:.2f} seconds\".format(time() - start_time))\n",
    "\n",
    "del images, labels, start_time\n",
    "\n",
    "breaker()\n",
    "print(\"Garbage Collected : {}\".format(gc.collect()))\n",
    "breaker()"
   ]
  },
  {
   "cell_type": "code",
   "execution_count": 4,
   "metadata": {
    "execution": {
     "iopub.execute_input": "2021-01-02T22:27:30.565692Z",
     "iopub.status.busy": "2021-01-02T22:27:30.563852Z",
     "iopub.status.idle": "2021-01-02T22:27:30.566477Z",
     "shell.execute_reply": "2021-01-02T22:27:30.566978Z"
    },
    "papermill": {
     "duration": 0.020048,
     "end_time": "2021-01-02T22:27:30.567104",
     "exception": false,
     "start_time": "2021-01-02T22:27:30.547056",
     "status": "completed"
    },
    "tags": []
   },
   "outputs": [],
   "source": [
    "class DS(Dataset):\n",
    "    def __init__(this, X=None, y=None, transform=None, mode=\"train\"):\n",
    "        this.mode = mode\n",
    "        this.transform = transform\n",
    "        this.X = X\n",
    "        if mode == \"train\":\n",
    "            this.y = y\n",
    "                 \n",
    "    def __len__(this):\n",
    "        return this.X.shape[0]\n",
    "    \n",
    "    def __getitem__(this, idx):\n",
    "        img = this.transform(this.X[idx])\n",
    "        if this.mode == \"train\":\n",
    "            return img, torch.FloatTensor(this.y[idx])\n",
    "        else:\n",
    "            return img"
   ]
  },
  {
   "cell_type": "code",
   "execution_count": 5,
   "metadata": {
    "execution": {
     "iopub.execute_input": "2021-01-02T22:27:30.965174Z",
     "iopub.status.busy": "2021-01-02T22:27:30.964103Z",
     "iopub.status.idle": "2021-01-02T22:27:30.966971Z",
     "shell.execute_reply": "2021-01-02T22:27:30.967507Z"
    },
    "papermill": {
     "duration": 0.392627,
     "end_time": "2021-01-02T22:27:30.967672",
     "exception": false,
     "start_time": "2021-01-02T22:27:30.575045",
     "status": "completed"
    },
    "tags": []
   },
   "outputs": [],
   "source": [
    "class CFG():\n",
    "    tr_batch_size = 64\n",
    "    # va_batch_size = 128\n",
    "    ts_batch_size = 64\n",
    "    \n",
    "    device = torch.device(\"cuda\" if torch.cuda.is_available() else \"cpu\")\n",
    "    \n",
    "    in_channels = 1\n",
    "    OL = 11\n",
    "    \n",
    "    def __init__(this, epochs=50, n_folds=5):\n",
    "        this.epochs = epochs\n",
    "        this.n_folds = n_folds"
   ]
  },
  {
   "cell_type": "code",
   "execution_count": 6,
   "metadata": {
    "execution": {
     "iopub.execute_input": "2021-01-02T22:27:31.011403Z",
     "iopub.status.busy": "2021-01-02T22:27:31.009439Z",
     "iopub.status.idle": "2021-01-02T22:27:31.012164Z",
     "shell.execute_reply": "2021-01-02T22:27:31.012643Z"
    },
    "papermill": {
     "duration": 0.035966,
     "end_time": "2021-01-02T22:27:31.012760",
     "exception": false,
     "start_time": "2021-01-02T22:27:30.976794",
     "status": "completed"
    },
    "tags": []
   },
   "outputs": [],
   "source": [
    "class Model(nn.Module):\n",
    "    def __init__(this, name=None, pretrained=True, in_channels=None, OL=None):\n",
    "\n",
    "        super(Model, this).__init__()\n",
    "        \n",
    "        if name == \"alexnet\":\n",
    "            this.model = models.alexnet(pretrained=pretrained, progress=True)\n",
    "        elif name == \"vgg11\":\n",
    "            this.model = models.vgg11(pretrained=pretrained, progress=True)\n",
    "        elif name == \"vgg11_bn\":\n",
    "            this.model = models.vgg11_bn(pretrained=pretrained, progress=True)\n",
    "        elif name == \"vgg13\":\n",
    "            this.model = models.vgg13(pretrained=pretrained, progress=True)\n",
    "        elif name == \"vgg13_bn\":\n",
    "            this.model = models.vgg13_bn(pretrained=pretrained, progress=True)\n",
    "        elif name == \"vgg16\":\n",
    "            this.model = models.vgg16(pretrained=pretrained, progress=True)\n",
    "        elif name == \"vgg16_bn\":\n",
    "            this.model = models.vgg16_bn(pretrained=pretrained, progress=True)\n",
    "        elif name == \"vgg19\":\n",
    "            this.model = models.vgg19(pretrained=pretrained, progress=True)\n",
    "        elif name == \"vgg19_bn\":\n",
    "            this.model = models.vgg19_bn(pretrained=pretrained, progress=True)\n",
    "        \n",
    "        for params in this.model.parameters():\n",
    "            params.requires_grad = False\n",
    "        \n",
    "        this.model.features[0] = nn.Conv2d(in_channels=in_channels, \n",
    "                                           out_channels=this.model.features[0].out_channels, \n",
    "                                           kernel_size=this.model.features[0].kernel_size, \n",
    "                                           stride=this.model.features[0].stride,\n",
    "                                           padding=this.model.features[0].padding)\n",
    "        \n",
    "        this.model.classifier[-1] = nn.Linear(in_features=this.model.classifier[-1].in_features, \n",
    "                                              out_features=OL)\n",
    "        \n",
    "        \n",
    "    def getOptimizer(this, lr=1e-3, wd=0):\n",
    "        return optim.Adam(this.parameters(), lr=lr, weight_decay=wd)\n",
    "    \n",
    "    def getMultiStepLR(this, optimizer=None, milestones=None, gamma=0.1):\n",
    "        return optim.lr_scheduler.MultiStepLR(optimizer=optimizer, milestones=milestones, gamma=gamma)\n",
    "\n",
    "    def getPlateauLR(this, optimizer=None, patience=5, eps=1e-8):\n",
    "        return optim.lr_scheduler.ReduceLROnPlateau(optimizer=optimizer, patience=patience, eps=eps, verbose=True)\n",
    "\n",
    "    def forward(this, x):\n",
    "        x = this.model(x)\n",
    "        return x"
   ]
  },
  {
   "cell_type": "code",
   "execution_count": 7,
   "metadata": {
    "execution": {
     "iopub.execute_input": "2021-01-02T22:27:31.053480Z",
     "iopub.status.busy": "2021-01-02T22:27:31.043189Z",
     "iopub.status.idle": "2021-01-02T22:27:31.059964Z",
     "shell.execute_reply": "2021-01-02T22:27:31.059453Z"
    },
    "papermill": {
     "duration": 0.038671,
     "end_time": "2021-01-02T22:27:31.060082",
     "exception": false,
     "start_time": "2021-01-02T22:27:31.021411",
     "status": "completed"
    },
    "tags": []
   },
   "outputs": [],
   "source": [
    "def fit_(model=None, optimizer=None, scheduler=None, epochs=None, early_stopping_patience=5,\n",
    "         trainloader=None, validloader=None, criterion=None, device=None, verbose=False, path=None):\n",
    "    \n",
    "    breaker()\n",
    "    print(\"Training ...\")\n",
    "    breaker()\n",
    "\n",
    "    # model.to(device)\n",
    "\n",
    "    Losses = []\n",
    "\n",
    "    bestLoss = {\"train\" : np.inf, \"valid\" : np.inf}\n",
    "    DLS = {\"train\" : trainloader, \"valid\" : validloader}\n",
    "    \n",
    "    start_time = time()\n",
    "    for e in range(epochs):\n",
    "        e_st = time()\n",
    "        epochLoss = {\"train\" : 0.0, \"valid\" : 0.0}\n",
    "\n",
    "        for phase in [\"train\", \"valid\"]:\n",
    "            if phase == \"train\":\n",
    "                model.train()\n",
    "            else:\n",
    "                model.eval()\n",
    "\n",
    "            lossPerPass = []\n",
    "\n",
    "            for X, y in DLS[phase]:\n",
    "                X, y = X.to(device), y.to(device)\n",
    "\n",
    "                optimizer.zero_grad()\n",
    "                with torch.set_grad_enabled(phase == \"train\"):\n",
    "                    output = model(X)\n",
    "                    loss = criterion(output, y)\n",
    "                    if phase == \"train\":\n",
    "                        loss.backward()\n",
    "                        optimizer.step()\n",
    "                lossPerPass.append(loss.item())\n",
    "            epochLoss[phase] = np.mean(np.array(lossPerPass))\n",
    "        Losses.append(epochLoss)\n",
    "\n",
    "        \"\"\"if epochLoss[\"valid\"] < bestLoss[\"valid\"]: # or epochAccs[\"valid\"] > bestAccs[\"valid\"]:\n",
    "            bestLoss = epochLoss\n",
    "            torch.save(model.state_dict(), \"./Epoch_{}.pt\".format(e+1))\n",
    "            early_stopping_step = 0\n",
    "        else:\n",
    "            early_stopping_step += 1\n",
    "            if early_stopping_step > early_stopping_patience:\n",
    "                print(\"Early Stopping at Epoch {}\".format(e+1))\n",
    "                break\"\"\"\n",
    "\n",
    "        torch.save(model.state_dict(), \"./Epoch_{}.pt\".format(e+1))\n",
    "\n",
    "        if epochLoss[\"valid\"] < bestLoss[\"valid\"]:\n",
    "            bestLoss = epochLoss\n",
    "            bestLossEpoch = e+1\n",
    "\n",
    "        if scheduler:\n",
    "            # scheduler.step()\n",
    "            scheduler.step(epochLoss[\"valid\"])\n",
    "\n",
    "        if verbose:\n",
    "            print(\"Epoch: {} | Train Loss: {:.5f} | Valid Loss: {:.5f} | Time: {:.2f} seconds\".format(e+1, epochLoss[\"train\"], epochLoss[\"valid\"], time()-e_st))\n",
    "            \n",
    "\n",
    "    breaker()\n",
    "    print(\"-----> Best Validation Loss at Epoch {}\".format(bestLossEpoch))\n",
    "    breaker()\n",
    "    print(\"Time Taken [{} Epochs] : {:.2f} minutes\".format(epochs, (time()-start_time)/60))\n",
    "    breaker()\n",
    "    print(\"Training Complete\")\n",
    "    breaker()\n",
    "\n",
    "    return Losses, bestLossEpoch\n",
    "\n",
    "def predict_(model=None, dataloader=None, device=None, path=None):\n",
    "    if path:\n",
    "        model.load_state_dict(torch.load(path))\n",
    "    \n",
    "    model.to(device)\n",
    "    model.eval()\n",
    "\n",
    "    y_pred = torch.zeros(1, 11).tp(device)\n",
    "\n",
    "    for X, y in dataloader:\n",
    "        X = X.to(device)\n",
    "        with torch.no_grad():\n",
    "            output = torch.sigmoid(model(X))\n",
    "        y_pred = torch.cat((y_pred, output), dim=0)\n",
    "    \n",
    "    return y_pred.detach().cpu().numpy()"
   ]
  },
  {
   "cell_type": "code",
   "execution_count": 8,
   "metadata": {
    "execution": {
     "iopub.execute_input": "2021-01-02T22:27:31.091278Z",
     "iopub.status.busy": "2021-01-02T22:27:31.086153Z",
     "iopub.status.idle": "2021-01-03T02:52:15.071019Z",
     "shell.execute_reply": "2021-01-03T02:52:15.071832Z"
    },
    "papermill": {
     "duration": 15884.002459,
     "end_time": "2021-01-03T02:52:15.072096",
     "exception": false,
     "start_time": "2021-01-02T22:27:31.069637",
     "status": "completed"
    },
    "tags": []
   },
   "outputs": [
    {
     "name": "stderr",
     "output_type": "stream",
     "text": [
      "Downloading: \"https://download.pytorch.org/models/vgg11_bn-6002323d.pth\" to /root/.cache/torch/hub/checkpoints/vgg11_bn-6002323d.pth\n"
     ]
    },
    {
     "data": {
      "application/vnd.jupyter.widget-view+json": {
       "model_id": "c6d6bb08c4424a0089b6293203eeca02",
       "version_major": 2,
       "version_minor": 0
      },
      "text/plain": [
       "HBox(children=(FloatProgress(value=0.0, max=531503671.0), HTML(value='')))"
      ]
     },
     "metadata": {},
     "output_type": "display_data"
    },
    {
     "name": "stdout",
     "output_type": "stream",
     "text": [
      "\n",
      "\n",
      "--------------------------------------------------\n",
      "\n",
      "Training ...\n",
      "\n",
      "--------------------------------------------------\n",
      "\n",
      "Epoch: 1 | Train Loss: 0.28731 | Valid Loss: 0.28120 | Time: 528.24 seconds\n",
      "Epoch: 2 | Train Loss: 0.27911 | Valid Loss: 0.29532 | Time: 522.27 seconds\n",
      "Epoch: 3 | Train Loss: 0.27917 | Valid Loss: 0.27796 | Time: 521.88 seconds\n",
      "Epoch: 4 | Train Loss: 0.27841 | Valid Loss: 0.27573 | Time: 521.92 seconds\n",
      "Epoch: 5 | Train Loss: 0.27885 | Valid Loss: 0.27507 | Time: 523.26 seconds\n",
      "Epoch: 6 | Train Loss: 0.27738 | Valid Loss: 0.28273 | Time: 523.58 seconds\n",
      "Epoch: 7 | Train Loss: 0.27784 | Valid Loss: 0.27811 | Time: 522.89 seconds\n",
      "Epoch: 8 | Train Loss: 0.27668 | Valid Loss: 0.27497 | Time: 524.93 seconds\n",
      "Epoch: 9 | Train Loss: 0.27684 | Valid Loss: 0.27315 | Time: 524.96 seconds\n",
      "Epoch: 10 | Train Loss: 0.27701 | Valid Loss: 0.26837 | Time: 525.39 seconds\n",
      "Epoch: 11 | Train Loss: 0.27593 | Valid Loss: 0.26756 | Time: 531.23 seconds\n",
      "Epoch: 12 | Train Loss: 0.27694 | Valid Loss: 0.28008 | Time: 529.87 seconds\n",
      "Epoch: 13 | Train Loss: 0.27517 | Valid Loss: 0.27624 | Time: 528.50 seconds\n",
      "Epoch: 14 | Train Loss: 0.28166 | Valid Loss: 0.28411 | Time: 530.96 seconds\n",
      "Epoch: 15 | Train Loss: 0.27492 | Valid Loss: 0.28447 | Time: 531.61 seconds\n",
      "Epoch    16: reducing learning rate of group 0 to 1.0000e-04.\n",
      "Epoch: 16 | Train Loss: 0.27525 | Valid Loss: 0.27756 | Time: 530.83 seconds\n",
      "Epoch: 17 | Train Loss: 0.26978 | Valid Loss: 0.26220 | Time: 529.90 seconds\n",
      "Epoch: 18 | Train Loss: 0.27019 | Valid Loss: 0.26175 | Time: 531.69 seconds\n",
      "Epoch: 19 | Train Loss: 0.26912 | Valid Loss: 0.26197 | Time: 532.78 seconds\n",
      "Epoch: 20 | Train Loss: 0.26814 | Valid Loss: 0.26223 | Time: 529.70 seconds\n",
      "Epoch: 21 | Train Loss: 0.26824 | Valid Loss: 0.26189 | Time: 528.04 seconds\n",
      "Epoch: 22 | Train Loss: 0.26844 | Valid Loss: 0.26114 | Time: 530.43 seconds\n",
      "Epoch: 23 | Train Loss: 0.26793 | Valid Loss: 0.26146 | Time: 532.31 seconds\n",
      "Epoch: 24 | Train Loss: 0.26770 | Valid Loss: 0.26057 | Time: 533.65 seconds\n",
      "Epoch: 25 | Train Loss: 0.26642 | Valid Loss: 0.26138 | Time: 532.57 seconds\n",
      "Epoch: 26 | Train Loss: 0.26676 | Valid Loss: 0.26122 | Time: 533.17 seconds\n",
      "Epoch: 27 | Train Loss: 0.26807 | Valid Loss: 0.26084 | Time: 533.92 seconds\n",
      "Epoch: 28 | Train Loss: 0.26741 | Valid Loss: 0.26154 | Time: 531.14 seconds\n",
      "Epoch    29: reducing learning rate of group 0 to 1.0000e-05.\n",
      "Epoch: 29 | Train Loss: 0.26702 | Valid Loss: 0.26130 | Time: 530.58 seconds\n",
      "Epoch: 30 | Train Loss: 0.26623 | Valid Loss: 0.26091 | Time: 528.54 seconds\n",
      "\n",
      "--------------------------------------------------\n",
      "\n",
      "-----> Best Validation Loss at Epoch 24\n",
      "\n",
      "--------------------------------------------------\n",
      "\n",
      "Time Taken [30 Epochs] : 264.35 minutes\n",
      "\n",
      "--------------------------------------------------\n",
      "\n",
      "Training Complete\n",
      "\n",
      "--------------------------------------------------\n",
      "\n"
     ]
    }
   ],
   "source": [
    "cfg = CFG(epochs=30, n_folds=None)\n",
    "\n",
    "tr_transform = transforms.Compose([transforms.ToTensor(),\n",
    "                                    transforms.RandomRotation(degrees=45, resample=PIL.Image.BILINEAR, fill=None)])\n",
    "va_transform = transforms.Compose([transforms.ToTensor(), ])\n",
    "\n",
    "tr_data_setup = DS(X=tr_images, y=tr_labels, transform=tr_transform, mode=\"train\")\n",
    "va_data_setup = DS(X=va_images, y=va_labels, transform=va_transform, mode=\"train\")\n",
    "\n",
    "tr_data = DL(tr_data_setup, batch_size=cfg.tr_batch_size, shuffle=True, generator=torch.manual_seed(seed))\n",
    "va_data = DL(va_data_setup, batch_size=cfg.tr_batch_size, shuffle=False)\n",
    "\n",
    "del tr_data_setup, va_data_setup\n",
    "\n",
    "model = Model(name=\"vgg11_bn\", pretrained=True, in_channels=cfg.in_channels, OL=cfg.OL).to(cfg.device)\n",
    "optimizer = model.getOptimizer(lr=1e-3, wd=1e-5)\n",
    "scheduler = model.getPlateauLR(optimizer=optimizer, patience=4, eps=1e-8)\n",
    "\n",
    "Losses, bestLossEpoch = fit_(model=model, optimizer=optimizer, scheduler=scheduler, epochs=cfg.epochs,\n",
    "                             trainloader=tr_data, validloader=va_data,\n",
    "                             criterion=nn.BCEWithLogitsLoss(), device=cfg.device,\n",
    "                             verbose=True)"
   ]
  },
  {
   "cell_type": "code",
   "execution_count": 9,
   "metadata": {
    "execution": {
     "iopub.execute_input": "2021-01-03T02:52:15.122829Z",
     "iopub.status.busy": "2021-01-03T02:52:15.122165Z",
     "iopub.status.idle": "2021-01-03T02:52:15.380939Z",
     "shell.execute_reply": "2021-01-03T02:52:15.381514Z"
    },
    "papermill": {
     "duration": 0.288338,
     "end_time": "2021-01-03T02:52:15.381659",
     "exception": false,
     "start_time": "2021-01-03T02:52:15.093321",
     "status": "completed"
    },
    "tags": []
   },
   "outputs": [
    {
     "data": {
      "image/png": "[encoded data removed]",
      "text/plain": [
       "<Figure size 576x432 with 1 Axes>"
      ]
     },
     "metadata": {
      "needs_background": "light"
     },
     "output_type": "display_data"
    }
   ],
   "source": [
    "LT = []\n",
    "LV = []\n",
    "\n",
    "for i in range(len(Losses)):\n",
    "    LT.append(Losses[i][\"train\"])\n",
    "    LV.append(Losses[i][\"valid\"])\n",
    "\n",
    "plt.figure(figsize=(8, 6))\n",
    "plt.plot([i+1 for i in range(len(LT))], LT, \"r\", label=\"Training Loss\")\n",
    "plt.plot([i+1 for i in range(len(LV))], LV, \"b--\", label=\"Validation Loss\")\n",
    "plt.xlabel(\"Epochs\")\n",
    "plt.ylabel(\"Loss\")\n",
    "plt.legend()\n",
    "plt.grid()\n",
    "plt.show()"
   ]
  }
 ],
 "metadata": {
  "kernelspec": {
   "display_name": "Python 3",
   "language": "python",
   "name": "python3"
  },
  "language_info": {
   "codemirror_mode": {
    "name": "ipython",
    "version": 3
   },
   "file_extension": ".py",
   "mimetype": "text/x-python",
   "name": "python",
   "nbconvert_exporter": "python",
   "pygments_lexer": "ipython3",
   "version": "3.7.6"
  },
  "papermill": {
   "duration": 15947.603942,
   "end_time": "2021-01-03T02:52:16.597124",
   "environment_variables": {},
   "exception": null,
   "input_path": "__notebook__.ipynb",
   "output_path": "__notebook__.ipynb",
   "parameters": {},
   "start_time": "2021-01-02T22:26:28.993182",
   "version": "2.1.0"
  },
  "widgets": {
   "application/vnd.jupyter.widget-state+json": {
    "state": {
     "0e84e31e158448e3888f0271e62b1496": {
      "model_module": "@jupyter-widgets/base",
      "model_module_version": "1.2.0",
      "model_name": "LayoutModel",
      "state": {
       "_model_module": "@jupyter-widgets/base",
       "_model_module_version": "1.2.0",
       "_model_name": "LayoutModel",
       "_view_count": null,
       "_view_module": "@jupyter-widgets/base",
       "_view_module_version": "1.2.0",
       "_view_name": "LayoutView",
       "align_content": null,
       "align_items": null,
       "align_self": null,
       "border": null,
       "bottom": null,
       "display": null,
       "flex": null,
       "flex_flow": null,
       "grid_area": null,
       "grid_auto_columns": null,
       "grid_auto_flow": null,
       "grid_auto_rows": null,
       "grid_column": null,
       "grid_gap": null,
       "grid_row": null,
       "grid_template_areas": null,
       "grid_template_columns": null,
       "grid_template_rows": null,
       "height": null,
       "justify_content": null,
       "justify_items": null,
       "left": null,
       "margin": null,
       "max_height": null,
       "max_width": null,
       "min_height": null,
       "min_width": null,
       "object_fit": null,
       "object_position": null,
       "order": null,
       "overflow": null,
       "overflow_x": null,
       "overflow_y": null,
       "padding": null,
       "right": null,
       "top": null,
       "visibility": null,
       "width": null
      }
     },
     "3c52842a1f044bcfa060a6b12bb9a7cd": {
      "model_module": "@jupyter-widgets/controls",
      "model_module_version": "1.5.0",
      "model_name": "DescriptionStyleModel",
      "state": {
       "_model_module": "@jupyter-widgets/controls",
       "_model_module_version": "1.5.0",
       "_model_name": "DescriptionStyleModel",
       "_view_count": null,
       "_view_module": "@jupyter-widgets/base",
       "_view_module_version": "1.2.0",
       "_view_name": "StyleView",
       "description_width": ""
      }
     },
     "58100e3cb2dd4799bba03fe5883acab4": {
      "model_module": "@jupyter-widgets/base",
      "model_module_version": "1.2.0",
      "model_name": "LayoutModel",
      "state": {
       "_model_module": "@jupyter-widgets/base",
       "_model_module_version": "1.2.0",
       "_model_name": "LayoutModel",
       "_view_count": null,
       "_view_module": "@jupyter-widgets/base",
       "_view_module_version": "1.2.0",
       "_view_name": "LayoutView",
       "align_content": null,
       "align_items": null,
       "align_self": null,
       "border": null,
       "bottom": null,
       "display": null,
       "flex": null,
       "flex_flow": null,
       "grid_area": null,
       "grid_auto_columns": null,
       "grid_auto_flow": null,
       "grid_auto_rows": null,
       "grid_column": null,
       "grid_gap": null,
       "grid_row": null,
       "grid_template_areas": null,
       "grid_template_columns": null,
       "grid_template_rows": null,
       "height": null,
       "justify_content": null,
       "justify_items": null,
       "left": null,
       "margin": null,
       "max_height": null,
       "max_width": null,
       "min_height": null,
       "min_width": null,
       "object_fit": null,
       "object_position": null,
       "order": null,
       "overflow": null,
       "overflow_x": null,
       "overflow_y": null,
       "padding": null,
       "right": null,
       "top": null,
       "visibility": null,
       "width": null
      }
     },
     "65974ca3779343c59f542aacdba65c36": {
      "model_module": "@jupyter-widgets/controls",
      "model_module_version": "1.5.0",
      "model_name": "ProgressStyleModel",
      "state": {
       "_model_module": "@jupyter-widgets/controls",
       "_model_module_version": "1.5.0",
       "_model_name": "ProgressStyleModel",
       "_view_count": null,
       "_view_module": "@jupyter-widgets/base",
       "_view_module_version": "1.2.0",
       "_view_name": "StyleView",
       "bar_color": null,
       "description_width": "initial"
      }
     },
     "713a682027314efbb44b806fe4afe9ac": {
      "model_module": "@jupyter-widgets/controls",
      "model_module_version": "1.5.0",
      "model_name": "HTMLModel",
      "state": {
       "_dom_classes": [],
       "_model_module": "@jupyter-widgets/controls",
       "_model_module_version": "1.5.0",
       "_model_name": "HTMLModel",
       "_view_count": null,
       "_view_module": "@jupyter-widgets/controls",
       "_view_module_version": "1.5.0",
       "_view_name": "HTMLView",
       "description": "",
       "description_tooltip": null,
       "layout": "IPY_MODEL_58100e3cb2dd4799bba03fe5883acab4",
       "placeholder": "​",
       "style": "IPY_MODEL_3c52842a1f044bcfa060a6b12bb9a7cd",
       "value": " 507M/507M [4:24:42&lt;00:00, 33.5kB/s]"
      }
     },
     "9f275149ebdf4d37a2763ae7bbfad0a2": {
      "model_module": "@jupyter-widgets/base",
      "model_module_version": "1.2.0",
      "model_name": "LayoutModel",
      "state": {
       "_model_module": "@jupyter-widgets/base",
       "_model_module_version": "1.2.0",
       "_model_name": "LayoutModel",
       "_view_count": null,
       "_view_module": "@jupyter-widgets/base",
       "_view_module_version": "1.2.0",
       "_view_name": "LayoutView",
       "align_content": null,
       "align_items": null,
       "align_self": null,
       "border": null,
       "bottom": null,
       "display": null,
       "flex": null,
       "flex_flow": null,
       "grid_area": null,
       "grid_auto_columns": null,
       "grid_auto_flow": null,
       "grid_auto_rows": null,
       "grid_column": null,
       "grid_gap": null,
       "grid_row": null,
       "grid_template_areas": null,
       "grid_template_columns": null,
       "grid_template_rows": null,
       "height": null,
       "justify_content": null,
       "justify_items": null,
       "left": null,
       "margin": null,
       "max_height": null,
       "max_width": null,
       "min_height": null,
       "min_width": null,
       "object_fit": null,
       "object_position": null,
       "order": null,
       "overflow": null,
       "overflow_x": null,
       "overflow_y": null,
       "padding": null,
       "right": null,
       "top": null,
       "visibility": null,
       "width": null
      }
     },
     "c6d6bb08c4424a0089b6293203eeca02": {
      "model_module": "@jupyter-widgets/controls",
      "model_module_version": "1.5.0",
      "model_name": "HBoxModel",
      "state": {
       "_dom_classes": [],
       "_model_module": "@jupyter-widgets/controls",
       "_model_module_version": "1.5.0",
       "_model_name": "HBoxModel",
       "_view_count": null,
       "_view_module": "@jupyter-widgets/controls",
       "_view_module_version": "1.5.0",
       "_view_name": "HBoxView",
       "box_style": "",
       "children": [
        "IPY_MODEL_e8c576c189be417a9a160f9ebe34342d",
        "IPY_MODEL_713a682027314efbb44b806fe4afe9ac"
       ],
       "layout": "IPY_MODEL_0e84e31e158448e3888f0271e62b1496"
      }
     },
     "e8c576c189be417a9a160f9ebe34342d": {
      "model_module": "@jupyter-widgets/controls",
      "model_module_version": "1.5.0",
      "model_name": "FloatProgressModel",
      "state": {
       "_dom_classes": [],
       "_model_module": "@jupyter-widgets/controls",
       "_model_module_version": "1.5.0",
       "_model_name": "FloatProgressModel",
       "_view_count": null,
       "_view_module": "@jupyter-widgets/controls",
       "_view_module_version": "1.5.0",
       "_view_name": "ProgressView",
       "bar_style": "success",
       "description": "100%",
       "description_tooltip": null,
       "layout": "IPY_MODEL_9f275149ebdf4d37a2763ae7bbfad0a2",
       "max": 531503671.0,
       "min": 0.0,
       "orientation": "horizontal",
       "style": "IPY_MODEL_65974ca3779343c59f542aacdba65c36",
       "value": 531503671.0
      }
     }
    },
    "version_major": 2,
    "version_minor": 0
   }
  }
 },
 "nbformat": 4,
 "nbformat_minor": 4
}
