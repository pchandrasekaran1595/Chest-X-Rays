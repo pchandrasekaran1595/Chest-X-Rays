{
 "cells": [
  {
   "cell_type": "markdown",
   "metadata": {
    "papermill": {
     "duration": 0.010634,
     "end_time": "2021-01-06T15:46:14.771991",
     "exception": false,
     "start_time": "2021-01-06T15:46:14.761357",
     "status": "completed"
    },
    "tags": []
   },
   "source": [
    "# Library Imports"
   ]
  },
  {
   "cell_type": "code",
   "execution_count": 1,
   "metadata": {
    "_cell_guid": "b1076dfc-b9ad-4769-8c92-a6c4dae69d19",
    "_uuid": "8f2839f25d086af736a60e9eeb907d3b93b6e0e5",
    "execution": {
     "iopub.execute_input": "2021-01-06T15:46:14.798625Z",
     "iopub.status.busy": "2021-01-06T15:46:14.797935Z",
     "iopub.status.idle": "2021-01-06T15:46:16.438280Z",
     "shell.execute_reply": "2021-01-06T15:46:16.437141Z"
    },
    "papermill": {
     "duration": 1.657171,
     "end_time": "2021-01-06T15:46:16.438411",
     "exception": false,
     "start_time": "2021-01-06T15:46:14.781240",
     "status": "completed"
    },
    "tags": []
   },
   "outputs": [],
   "source": [
    "import numpy as np\n",
    "import pandas as pd\n",
    "import matplotlib.pyplot as plt\n",
    "\n",
    "import torch, torchvision\n",
    "from torchvision import transforms\n",
    "from torch import nn, optim\n",
    "from torch.utils.data import Dataset\n",
    "from torch.utils.data import DataLoader as DL\n",
    "from torch.nn.utils import weight_norm as WN\n",
    "import torch.nn.functional as F\n",
    "\n",
    "import gc\n",
    "import os\n",
    "import cv2\n",
    "from time import time\n",
    "\n",
    "torch.backends.cudnn.deterministic = True\n",
    "torch.backends.cudnn.benchmark = False\n",
    "\n",
    "seed = 42"
   ]
  },
  {
   "cell_type": "markdown",
   "metadata": {
    "papermill": {
     "duration": 0.010009,
     "end_time": "2021-01-06T15:46:16.459786",
     "exception": false,
     "start_time": "2021-01-06T15:46:16.449777",
     "status": "completed"
    },
    "tags": []
   },
   "source": [
    "# Helper Functions"
   ]
  },
  {
   "cell_type": "code",
   "execution_count": 2,
   "metadata": {
    "_cell_guid": "79c7e3d0-c299-4dcb-8224-4455121ee9b0",
    "_uuid": "d629ff2d2480ee46fbb7e2d37f6b5fab8052498a",
    "execution": {
     "iopub.execute_input": "2021-01-06T15:46:16.489383Z",
     "iopub.status.busy": "2021-01-06T15:46:16.488866Z",
     "iopub.status.idle": "2021-01-06T15:46:16.492755Z",
     "shell.execute_reply": "2021-01-06T15:46:16.492330Z"
    },
    "papermill": {
     "duration": 0.022772,
     "end_time": "2021-01-06T15:46:16.492844",
     "exception": false,
     "start_time": "2021-01-06T15:46:16.470072",
     "status": "completed"
    },
    "tags": []
   },
   "outputs": [],
   "source": [
    "def breaker():\n",
    "    print(\"\\n\" + 50*\"-\" + \"\\n\")\n",
    "\n",
    "def head(x, no_of_ele=5):\n",
    "    print(x[:no_of_ele])\n",
    "    \n",
    "def getImages(file_path=None, file_names=None, size=None):\n",
    "    images = []\n",
    "    for name in file_names:\n",
    "        try:\n",
    "            image = cv2.imread(file_path + name + \".jpg\", cv2.IMREAD_GRAYSCALE)\n",
    "        except AttributeError:\n",
    "            print(file_path + name)\n",
    "        if size:\n",
    "            image = cv2.resize(image, dsize=(size, size), interpolation=cv2.INTER_LANCZOS4)\n",
    "        images.append(image.reshape(size, size, 1))\n",
    "    return np.array(images)"
   ]
  },
  {
   "cell_type": "markdown",
   "metadata": {
    "papermill": {
     "duration": 0.009212,
     "end_time": "2021-01-06T15:46:16.511361",
     "exception": false,
     "start_time": "2021-01-06T15:46:16.502149",
     "status": "completed"
    },
    "tags": []
   },
   "source": [
    "# Data Handling"
   ]
  },
  {
   "cell_type": "markdown",
   "metadata": {
    "papermill": {
     "duration": 0.009196,
     "end_time": "2021-01-06T15:46:16.529943",
     "exception": false,
     "start_time": "2021-01-06T15:46:16.520747",
     "status": "completed"
    },
    "tags": []
   },
   "source": [
    "**Loading Image Data**"
   ]
  },
  {
   "cell_type": "code",
   "execution_count": 3,
   "metadata": {
    "execution": {
     "iopub.execute_input": "2021-01-06T15:46:16.556380Z",
     "iopub.status.busy": "2021-01-06T15:46:16.555866Z",
     "iopub.status.idle": "2021-01-06T15:48:24.423524Z",
     "shell.execute_reply": "2021-01-06T15:48:24.424380Z"
    },
    "papermill": {
     "duration": 127.885151,
     "end_time": "2021-01-06T15:48:24.424595",
     "exception": false,
     "start_time": "2021-01-06T15:46:16.539444",
     "status": "completed"
    },
    "tags": []
   },
   "outputs": [
    {
     "name": "stdout",
     "output_type": "stream",
     "text": [
      "\n",
      "--------------------------------------------------\n",
      "\n",
      "Time Taken to read data : 2.13 minutes\n",
      "\n",
      "--------------------------------------------------\n",
      "\n"
     ]
    }
   ],
   "source": [
    "start_time = time()\n",
    "\n",
    "ss = pd.read_csv(\"../input/ranzcr-clip-catheter-line-classification/sample_submission.csv\")\n",
    "\n",
    "ts_img_names = ss[\"StudyInstanceUID\"].values\n",
    "ts_images = getImages(\"../input/ranzcr-clip-catheter-line-classification/test/\", \n",
    "                      ts_img_names, \n",
    "                      size=384)\n",
    "\n",
    "breaker()\n",
    "print(\"Time Taken to read data : {:.2f} minutes\".format((time() - start_time)/60))\n",
    "breaker()"
   ]
  },
  {
   "cell_type": "markdown",
   "metadata": {
    "papermill": {
     "duration": 0.009941,
     "end_time": "2021-01-06T15:48:24.445884",
     "exception": false,
     "start_time": "2021-01-06T15:48:24.435943",
     "status": "completed"
    },
    "tags": []
   },
   "source": [
    "**Dataset Template**"
   ]
  },
  {
   "cell_type": "code",
   "execution_count": 4,
   "metadata": {
    "execution": {
     "iopub.execute_input": "2021-01-06T15:48:24.473523Z",
     "iopub.status.busy": "2021-01-06T15:48:24.472993Z",
     "iopub.status.idle": "2021-01-06T15:48:24.476613Z",
     "shell.execute_reply": "2021-01-06T15:48:24.476108Z"
    },
    "papermill": {
     "duration": 0.020817,
     "end_time": "2021-01-06T15:48:24.476714",
     "exception": false,
     "start_time": "2021-01-06T15:48:24.455897",
     "status": "completed"
    },
    "tags": []
   },
   "outputs": [],
   "source": [
    "class DS(Dataset):\n",
    "    def __init__(this, X=None, y=None, transform=None, mode=\"train\"):\n",
    "        this.mode = mode\n",
    "        this.transform = transform\n",
    "        this.X = X\n",
    "        if mode == \"train\":\n",
    "            this.y = y\n",
    "                 \n",
    "    def __len__(this):\n",
    "        return this.X.shape[0]\n",
    "    \n",
    "    def __getitem__(this, idx):\n",
    "        img = this.transform(this.X[idx])\n",
    "        if this.mode == \"train\":\n",
    "            return img, torch.FloatTensor(this.y[idx])\n",
    "        else:\n",
    "            return img"
   ]
  },
  {
   "cell_type": "markdown",
   "metadata": {
    "papermill": {
     "duration": 0.01015,
     "end_time": "2021-01-06T15:48:24.496905",
     "exception": false,
     "start_time": "2021-01-06T15:48:24.486755",
     "status": "completed"
    },
    "tags": []
   },
   "source": [
    "# CNN Configuration and Setup"
   ]
  },
  {
   "cell_type": "markdown",
   "metadata": {
    "papermill": {
     "duration": 0.010246,
     "end_time": "2021-01-06T15:48:24.517846",
     "exception": false,
     "start_time": "2021-01-06T15:48:24.507600",
     "status": "completed"
    },
    "tags": []
   },
   "source": [
    "**Config**"
   ]
  },
  {
   "cell_type": "code",
   "execution_count": 5,
   "metadata": {
    "execution": {
     "iopub.execute_input": "2021-01-06T15:48:24.897381Z",
     "iopub.status.busy": "2021-01-06T15:48:24.896627Z",
     "iopub.status.idle": "2021-01-06T15:48:24.900574Z",
     "shell.execute_reply": "2021-01-06T15:48:24.899585Z"
    },
    "papermill": {
     "duration": 0.37234,
     "end_time": "2021-01-06T15:48:24.900677",
     "exception": false,
     "start_time": "2021-01-06T15:48:24.528337",
     "status": "completed"
    },
    "tags": []
   },
   "outputs": [],
   "source": [
    "class CFG():\n",
    "    tr_batch_size = 64\n",
    "    ts_batch_size = 64\n",
    "    \n",
    "    device = torch.device(\"cuda\" if torch.cuda.is_available() else \"cpu\")\n",
    "    \n",
    "    in_channels = 1\n",
    "    OL = 11\n",
    "    \n",
    "    def __init__(this, filter_sizes=[64, 128, 256, 512], HL=[2048], AP_size=3, epochs=50, n_folds=5):\n",
    "        this.filter_sizes = filter_sizes\n",
    "        this.HL = HL\n",
    "        this.AP_size = AP_size\n",
    "        this.epochs = epochs\n",
    "        this.n_folds = n_folds"
   ]
  },
  {
   "cell_type": "markdown",
   "metadata": {
    "papermill": {
     "duration": 0.009982,
     "end_time": "2021-01-06T15:48:24.921355",
     "exception": false,
     "start_time": "2021-01-06T15:48:24.911373",
     "status": "completed"
    },
    "tags": []
   },
   "source": [
    "**Setup**"
   ]
  },
  {
   "cell_type": "code",
   "execution_count": 6,
   "metadata": {
    "execution": {
     "iopub.execute_input": "2021-01-06T15:48:24.969136Z",
     "iopub.status.busy": "2021-01-06T15:48:24.964990Z",
     "iopub.status.idle": "2021-01-06T15:48:24.971737Z",
     "shell.execute_reply": "2021-01-06T15:48:24.971311Z"
    },
    "papermill": {
     "duration": 0.040161,
     "end_time": "2021-01-06T15:48:24.971827",
     "exception": false,
     "start_time": "2021-01-06T15:48:24.931666",
     "status": "completed"
    },
    "tags": []
   },
   "outputs": [],
   "source": [
    "class CNN(nn.Module):\n",
    "    def __init__(this, in_channels=1, filter_sizes=None, HL=None, OL=None, AP_size=3, DP=0.5):\n",
    "\n",
    "        super(CNN, this).__init__()\n",
    "\n",
    "        this.AP_ = nn.AdaptiveAvgPool2d(output_size=AP_size)\n",
    "        this.MP_ = nn.MaxPool2d(kernel_size=2)\n",
    "        this.DP_ = nn.Dropout(p=0.5)\n",
    "        \n",
    "        this.CN1_1 = nn.Conv2d(in_channels=in_channels, out_channels=filter_sizes[0], kernel_size=3, stride=1, padding=1)\n",
    "        this.BN1_1 = nn.BatchNorm2d(num_features=filter_sizes[0], eps=1e-5)\n",
    "        this.CN1_2 = nn.Conv2d(in_channels=filter_sizes[0], out_channels=filter_sizes[0], kernel_size=3, stride=1, padding=1)\n",
    "        this.BN1_2 = nn.BatchNorm2d(num_features=filter_sizes[0], eps=1e-5)\n",
    "\n",
    "        this.CN2_1 = nn.Conv2d(in_channels=filter_sizes[0], out_channels=filter_sizes[1], kernel_size=3, stride=1, padding=1)\n",
    "        this.BN2_1 = nn.BatchNorm2d(num_features=filter_sizes[1], eps=1e-5)\n",
    "        this.CN2_2 = nn.Conv2d(in_channels=filter_sizes[1], out_channels=filter_sizes[1], kernel_size=3, stride=1, padding=1)\n",
    "        this.BN2_2 = nn.BatchNorm2d(num_features=filter_sizes[1], eps=1e-5)\n",
    "        \n",
    "        this.CN3_1 = nn.Conv2d(in_channels=filter_sizes[1], out_channels=filter_sizes[2], kernel_size=3, stride=1, padding=1)\n",
    "        this.BN3_1 = nn.BatchNorm2d(num_features=filter_sizes[2], eps=1e-5)\n",
    "        this.CN3_2 = nn.Conv2d(in_channels=filter_sizes[2], out_channels=filter_sizes[2], kernel_size=3, stride=1, padding=1)\n",
    "        this.BN3_2 = nn.BatchNorm2d(num_features=filter_sizes[2], eps=1e-5)\n",
    "\n",
    "        this.CN4_1 = nn.Conv2d(in_channels=filter_sizes[2], out_channels=filter_sizes[3], kernel_size=3, stride=1, padding=1)\n",
    "        this.BN4_1 = nn.BatchNorm2d(num_features=filter_sizes[3], eps=1e-5)\n",
    "        this.CN4_2 = nn.Conv2d(in_channels=filter_sizes[3], out_channels=filter_sizes[3], kernel_size=3, stride=1, padding=1)\n",
    "        this.BN4_2 = nn.BatchNorm2d(num_features=filter_sizes[3], eps=1e-5)\n",
    "\n",
    "        this.FC1 = nn.Linear(in_features=filter_sizes[3]*AP_size*AP_size, out_features=HL[0])\n",
    "        this.FC2 = nn.Linear(in_features=HL[0], out_features=OL)\n",
    "        \n",
    "    def getOptimizer(this, lr=1e-3, wd=0):\n",
    "        return optim.Adam(this.parameters(), lr=lr, weight_decay=wd)\n",
    "\n",
    "    def getPlateauLR(this, optimizer=None, patience=5, eps=1e-8):\n",
    "        return optim.lr_scheduler.ReduceLROnPlateau(optimizer=optimizer, patience=patience, eps=eps, verbose=True)\n",
    "\n",
    "    def forward(this, x):\n",
    "        x = F.relu(this.MP_(this.BN1_2(this.CN1_2(this.BN1_1(this.CN1_1(x))))))\n",
    "        x = F.relu(this.MP_(this.BN2_2(this.CN2_2(this.BN2_1(this.CN2_1(x))))))\n",
    "        x = F.relu(this.MP_(this.BN3_2(this.CN3_2(this.BN3_1(this.CN3_1(x))))))\n",
    "        x = F.relu(this.MP_(this.BN4_2(this.CN4_2(this.BN4_1(this.CN4_1(x))))))\n",
    "\n",
    "        x = this.AP_(x)\n",
    "        x = x.view(x.shape[0], -1)\n",
    "\n",
    "        x = F.relu(this.DP_(this.FC1(x)))\n",
    "        x = this.FC2(x)\n",
    "        \n",
    "        return x"
   ]
  },
  {
   "cell_type": "markdown",
   "metadata": {
    "papermill": {
     "duration": 0.010405,
     "end_time": "2021-01-06T15:48:24.992346",
     "exception": false,
     "start_time": "2021-01-06T15:48:24.981941",
     "status": "completed"
    },
    "tags": []
   },
   "source": [
    "**Predict Function**"
   ]
  },
  {
   "cell_type": "code",
   "execution_count": 7,
   "metadata": {
    "execution": {
     "iopub.execute_input": "2021-01-06T15:48:25.022044Z",
     "iopub.status.busy": "2021-01-06T15:48:25.020297Z",
     "iopub.status.idle": "2021-01-06T15:48:25.022676Z",
     "shell.execute_reply": "2021-01-06T15:48:25.023096Z"
    },
    "papermill": {
     "duration": 0.02064,
     "end_time": "2021-01-06T15:48:25.023194",
     "exception": false,
     "start_time": "2021-01-06T15:48:25.002554",
     "status": "completed"
    },
    "tags": []
   },
   "outputs": [],
   "source": [
    "def predict_(model=None, dataloader=None, device=None, path=None):\n",
    "    if path:\n",
    "        model.load_state_dict(torch.load(path)[\"model_state_dict\"])\n",
    "\n",
    "    model.to(device)\n",
    "    model.eval()\n",
    "\n",
    "    y_pred = torch.zeros(1, 11).to(device)\n",
    "\n",
    "    for X in dataloader:\n",
    "        X = X.to(device)\n",
    "        with torch.no_grad():\n",
    "            Pred = torch.sigmoid(model(X))\n",
    "        y_pred = torch.cat((y_pred, Pred), dim=0)\n",
    "    \n",
    "    return y_pred[1:].detach().cpu().numpy()"
   ]
  },
  {
   "cell_type": "markdown",
   "metadata": {
    "papermill": {
     "duration": 0.010162,
     "end_time": "2021-01-06T15:48:25.043782",
     "exception": false,
     "start_time": "2021-01-06T15:48:25.033620",
     "status": "completed"
    },
    "tags": []
   },
   "source": [
    "# Submission "
   ]
  },
  {
   "cell_type": "code",
   "execution_count": 8,
   "metadata": {
    "execution": {
     "iopub.execute_input": "2021-01-06T15:48:25.073676Z",
     "iopub.status.busy": "2021-01-06T15:48:25.073190Z",
     "iopub.status.idle": "2021-01-06T15:49:07.648068Z",
     "shell.execute_reply": "2021-01-06T15:49:07.648500Z"
    },
    "papermill": {
     "duration": 42.594177,
     "end_time": "2021-01-06T15:49:07.648630",
     "exception": false,
     "start_time": "2021-01-06T15:48:25.054453",
     "status": "completed"
    },
    "tags": []
   },
   "outputs": [
    {
     "data": {
      "text/html": [
       "<div>\n",
       "<style scoped>\n",
       "    .dataframe tbody tr th:only-of-type {\n",
       "        vertical-align: middle;\n",
       "    }\n",
       "\n",
       "    .dataframe tbody tr th {\n",
       "        vertical-align: top;\n",
       "    }\n",
       "\n",
       "    .dataframe thead th {\n",
       "        text-align: right;\n",
       "    }\n",
       "</style>\n",
       "<table border=\"1\" class=\"dataframe\">\n",
       "  <thead>\n",
       "    <tr style=\"text-align: right;\">\n",
       "      <th></th>\n",
       "      <th>StudyInstanceUID</th>\n",
       "      <th>ETT - Abnormal</th>\n",
       "      <th>ETT - Borderline</th>\n",
       "      <th>ETT - Normal</th>\n",
       "      <th>NGT - Abnormal</th>\n",
       "      <th>NGT - Borderline</th>\n",
       "      <th>NGT - Incompletely Imaged</th>\n",
       "      <th>NGT - Normal</th>\n",
       "      <th>CVC - Abnormal</th>\n",
       "      <th>CVC - Borderline</th>\n",
       "      <th>CVC - Normal</th>\n",
       "      <th>Swan Ganz Catheter Present</th>\n",
       "    </tr>\n",
       "  </thead>\n",
       "  <tbody>\n",
       "    <tr>\n",
       "      <th>0</th>\n",
       "      <td>1.2.826.0.1.3680043.8.498.46923145579096002617...</td>\n",
       "      <td>0.008160</td>\n",
       "      <td>0.241234</td>\n",
       "      <td>7.427457e-01</td>\n",
       "      <td>0.013000</td>\n",
       "      <td>0.027711</td>\n",
       "      <td>1.506694e-01</td>\n",
       "      <td>0.752132</td>\n",
       "      <td>0.100817</td>\n",
       "      <td>0.303184</td>\n",
       "      <td>0.933354</td>\n",
       "      <td>9.503056e-01</td>\n",
       "    </tr>\n",
       "    <tr>\n",
       "      <th>1</th>\n",
       "      <td>1.2.826.0.1.3680043.8.498.84006870182611080091...</td>\n",
       "      <td>0.000001</td>\n",
       "      <td>0.000002</td>\n",
       "      <td>1.397642e-07</td>\n",
       "      <td>0.000036</td>\n",
       "      <td>0.000008</td>\n",
       "      <td>6.454061e-07</td>\n",
       "      <td>0.000001</td>\n",
       "      <td>0.047738</td>\n",
       "      <td>0.101744</td>\n",
       "      <td>0.868951</td>\n",
       "      <td>2.820443e-07</td>\n",
       "    </tr>\n",
       "    <tr>\n",
       "      <th>2</th>\n",
       "      <td>1.2.826.0.1.3680043.8.498.12219033294413119947...</td>\n",
       "      <td>0.000039</td>\n",
       "      <td>0.000160</td>\n",
       "      <td>8.165937e-05</td>\n",
       "      <td>0.001054</td>\n",
       "      <td>0.000782</td>\n",
       "      <td>3.845184e-04</td>\n",
       "      <td>0.000631</td>\n",
       "      <td>0.057162</td>\n",
       "      <td>0.270184</td>\n",
       "      <td>0.734273</td>\n",
       "      <td>3.596837e-05</td>\n",
       "    </tr>\n",
       "    <tr>\n",
       "      <th>3</th>\n",
       "      <td>1.2.826.0.1.3680043.8.498.84994474380235968109...</td>\n",
       "      <td>0.004434</td>\n",
       "      <td>0.203048</td>\n",
       "      <td>7.407291e-01</td>\n",
       "      <td>0.039214</td>\n",
       "      <td>0.009442</td>\n",
       "      <td>8.331118e-01</td>\n",
       "      <td>0.120162</td>\n",
       "      <td>0.065231</td>\n",
       "      <td>0.258453</td>\n",
       "      <td>0.884859</td>\n",
       "      <td>3.545037e-01</td>\n",
       "    </tr>\n",
       "    <tr>\n",
       "      <th>4</th>\n",
       "      <td>1.2.826.0.1.3680043.8.498.35798987793805669662...</td>\n",
       "      <td>0.000117</td>\n",
       "      <td>0.000683</td>\n",
       "      <td>6.709865e-04</td>\n",
       "      <td>0.001893</td>\n",
       "      <td>0.003409</td>\n",
       "      <td>8.556456e-05</td>\n",
       "      <td>0.008507</td>\n",
       "      <td>0.106428</td>\n",
       "      <td>0.294934</td>\n",
       "      <td>0.598096</td>\n",
       "      <td>6.776825e-05</td>\n",
       "    </tr>\n",
       "  </tbody>\n",
       "</table>\n",
       "</div>"
      ],
      "text/plain": [
       "                                    StudyInstanceUID  ETT - Abnormal  \\\n",
       "0  1.2.826.0.1.3680043.8.498.46923145579096002617...        0.008160   \n",
       "1  1.2.826.0.1.3680043.8.498.84006870182611080091...        0.000001   \n",
       "2  1.2.826.0.1.3680043.8.498.12219033294413119947...        0.000039   \n",
       "3  1.2.826.0.1.3680043.8.498.84994474380235968109...        0.004434   \n",
       "4  1.2.826.0.1.3680043.8.498.35798987793805669662...        0.000117   \n",
       "\n",
       "   ETT - Borderline  ETT - Normal  NGT - Abnormal  NGT - Borderline  \\\n",
       "0          0.241234  7.427457e-01        0.013000          0.027711   \n",
       "1          0.000002  1.397642e-07        0.000036          0.000008   \n",
       "2          0.000160  8.165937e-05        0.001054          0.000782   \n",
       "3          0.203048  7.407291e-01        0.039214          0.009442   \n",
       "4          0.000683  6.709865e-04        0.001893          0.003409   \n",
       "\n",
       "   NGT - Incompletely Imaged  NGT - Normal  CVC - Abnormal  CVC - Borderline  \\\n",
       "0               1.506694e-01      0.752132        0.100817          0.303184   \n",
       "1               6.454061e-07      0.000001        0.047738          0.101744   \n",
       "2               3.845184e-04      0.000631        0.057162          0.270184   \n",
       "3               8.331118e-01      0.120162        0.065231          0.258453   \n",
       "4               8.556456e-05      0.008507        0.106428          0.294934   \n",
       "\n",
       "   CVC - Normal  Swan Ganz Catheter Present  \n",
       "0      0.933354                9.503056e-01  \n",
       "1      0.868951                2.820443e-07  \n",
       "2      0.734273                3.596837e-05  \n",
       "3      0.884859                3.545037e-01  \n",
       "4      0.598096                6.776825e-05  "
      ]
     },
     "execution_count": 8,
     "metadata": {},
     "output_type": "execute_result"
    }
   ],
   "source": [
    "cfg = CFG(filter_sizes=[64, 128, 256, 512], HL=[2048], epochs=None, n_folds=None)\n",
    "\n",
    "transform = transforms.Compose([transforms.ToTensor(), ])\n",
    "\n",
    "ts_data_setup = DS(X=ts_images, y=None, transform=transform, mode=\"test\")\n",
    "ts_data = DL(ts_data_setup, batch_size=cfg.ts_batch_size, shuffle=False)\n",
    "\n",
    "model = CNN(filter_sizes=cfg.filter_sizes, HL=cfg.HL, OL=cfg.OL, AP_size=cfg.AP_size)\n",
    "\n",
    "y_pred = predict_(model=model, dataloader=ts_data, device=cfg.device, path=\"../input/rccl-384-10l-train/Epoch_24.pt\")\n",
    "y_pred = np.clip(y_pred, 1e-15, 1-1e-15)\n",
    "\n",
    "ss.iloc[:, 1:] = y_pred\n",
    "ss.to_csv(\"./submission.csv\", index=False)\n",
    "ss.head(5)"
   ]
  },
  {
   "cell_type": "code",
   "execution_count": null,
   "metadata": {
    "papermill": {
     "duration": 0.010659,
     "end_time": "2021-01-06T15:49:07.670183",
     "exception": false,
     "start_time": "2021-01-06T15:49:07.659524",
     "status": "completed"
    },
    "tags": []
   },
   "outputs": [],
   "source": []
  }
 ],
 "metadata": {
  "kernelspec": {
   "display_name": "Python 3",
   "language": "python",
   "name": "python3"
  },
  "language_info": {
   "codemirror_mode": {
    "name": "ipython",
    "version": 3
   },
   "file_extension": ".py",
   "mimetype": "text/x-python",
   "name": "python",
   "nbconvert_exporter": "python",
   "pygments_lexer": "ipython3",
   "version": "3.7.6"
  },
  "papermill": {
   "duration": 177.544497,
   "end_time": "2021-01-06T15:49:08.302923",
   "environment_variables": {},
   "exception": null,
   "input_path": "__notebook__.ipynb",
   "output_path": "__notebook__.ipynb",
   "parameters": {},
   "start_time": "2021-01-06T15:46:10.758426",
   "version": "2.1.0"
  }
 },
 "nbformat": 4,
 "nbformat_minor": 4
}
