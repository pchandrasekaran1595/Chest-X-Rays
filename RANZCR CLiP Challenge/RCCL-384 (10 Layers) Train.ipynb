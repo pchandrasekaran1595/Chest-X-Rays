{
 "cells": [
  {
   "cell_type": "markdown",
   "metadata": {
    "papermill": {
     "duration": 0.011508,
     "end_time": "2021-01-06T07:21:08.440352",
     "exception": false,
     "start_time": "2021-01-06T07:21:08.428844",
     "status": "completed"
    },
    "tags": []
   },
   "source": [
    "# Library Imports"
   ]
  },
  {
   "cell_type": "code",
   "execution_count": 1,
   "metadata": {
    "_cell_guid": "b1076dfc-b9ad-4769-8c92-a6c4dae69d19",
    "_uuid": "8f2839f25d086af736a60e9eeb907d3b93b6e0e5",
    "execution": {
     "iopub.execute_input": "2021-01-06T07:21:08.468449Z",
     "iopub.status.busy": "2021-01-06T07:21:08.467921Z",
     "iopub.status.idle": "2021-01-06T07:21:10.731166Z",
     "shell.execute_reply": "2021-01-06T07:21:10.730153Z"
    },
    "papermill": {
     "duration": 2.280802,
     "end_time": "2021-01-06T07:21:10.731307",
     "exception": false,
     "start_time": "2021-01-06T07:21:08.450505",
     "status": "completed"
    },
    "tags": []
   },
   "outputs": [],
   "source": [
    "import numpy as np\n",
    "import pandas as pd\n",
    "import matplotlib.pyplot as plt\n",
    "\n",
    "import torch, torchvision\n",
    "from torch import nn, optim\n",
    "from torchvision import transforms\n",
    "from torch.utils.data import Dataset\n",
    "from torch.utils.data import DataLoader as DL\n",
    "import torch.nn.functional as F\n",
    "\n",
    "import gc\n",
    "import PIL\n",
    "from time import time\n",
    "\n",
    "from sklearn.metrics import roc_auc_score\n",
    "from sklearn.model_selection import train_test_split\n",
    "\n",
    "torch.backends.cudnn.deterministic = True\n",
    "torch.backends.cudnn.benchmark = False\n",
    "\n",
    "seed = 42"
   ]
  },
  {
   "cell_type": "markdown",
   "metadata": {
    "papermill": {
     "duration": 0.009966,
     "end_time": "2021-01-06T07:21:10.752388",
     "exception": false,
     "start_time": "2021-01-06T07:21:10.742422",
     "status": "completed"
    },
    "tags": []
   },
   "source": [
    "# Helper Functions"
   ]
  },
  {
   "cell_type": "code",
   "execution_count": 2,
   "metadata": {
    "_cell_guid": "79c7e3d0-c299-4dcb-8224-4455121ee9b0",
    "_uuid": "d629ff2d2480ee46fbb7e2d37f6b5fab8052498a",
    "execution": {
     "iopub.execute_input": "2021-01-06T07:21:10.777580Z",
     "iopub.status.busy": "2021-01-06T07:21:10.776902Z",
     "iopub.status.idle": "2021-01-06T07:21:10.779951Z",
     "shell.execute_reply": "2021-01-06T07:21:10.779533Z"
    },
    "papermill": {
     "duration": 0.017517,
     "end_time": "2021-01-06T07:21:10.780035",
     "exception": false,
     "start_time": "2021-01-06T07:21:10.762518",
     "status": "completed"
    },
    "tags": []
   },
   "outputs": [],
   "source": [
    "def breaker():\n",
    "    print(\"\\n\" + 50*\"-\" + \"\\n\")\n",
    "\n",
    "def head(x, no_of_ele=5):\n",
    "    print(x[:no_of_ele])"
   ]
  },
  {
   "cell_type": "markdown",
   "metadata": {
    "papermill": {
     "duration": 0.010046,
     "end_time": "2021-01-06T07:21:10.800472",
     "exception": false,
     "start_time": "2021-01-06T07:21:10.790426",
     "status": "completed"
    },
    "tags": []
   },
   "source": [
    "# Data Handling"
   ]
  },
  {
   "cell_type": "markdown",
   "metadata": {
    "papermill": {
     "duration": 0.010038,
     "end_time": "2021-01-06T07:21:10.820814",
     "exception": false,
     "start_time": "2021-01-06T07:21:10.810776",
     "status": "completed"
    },
    "tags": []
   },
   "source": [
    "**Data Loading**"
   ]
  },
  {
   "cell_type": "code",
   "execution_count": 3,
   "metadata": {
    "execution": {
     "iopub.execute_input": "2021-01-06T07:21:10.847211Z",
     "iopub.status.busy": "2021-01-06T07:21:10.846710Z",
     "iopub.status.idle": "2021-01-06T07:22:10.944279Z",
     "shell.execute_reply": "2021-01-06T07:22:10.944995Z"
    },
    "papermill": {
     "duration": 60.114014,
     "end_time": "2021-01-06T07:22:10.945204",
     "exception": false,
     "start_time": "2021-01-06T07:21:10.831190",
     "status": "completed"
    },
    "tags": []
   },
   "outputs": [
    {
     "name": "stdout",
     "output_type": "stream",
     "text": [
      "\n",
      "--------------------------------------------------\n",
      "\n",
      "Time Taken to Load Data : 3.42 seconds\n",
      "\n",
      "--------------------------------------------------\n",
      "\n",
      "Garbage Collected : 56\n",
      "\n",
      "--------------------------------------------------\n",
      "\n"
     ]
    }
   ],
   "source": [
    "images = np.load(\"../input/rccl-ds-384/images_1x384x384.npy\")\n",
    "labels = np.load(\"../input/rccl-ds-384/labels.npy\")\n",
    "\n",
    "start_time = time()\n",
    "tr_images, va_images, tr_labels, va_labels = train_test_split(images, labels, test_size=0.2,\n",
    "                                                              shuffle=True, random_state=0)\n",
    "\n",
    "breaker()\n",
    "print(\"Time Taken to Load Data : {:.2f} seconds\".format(time() - start_time))\n",
    "\n",
    "del images, labels, start_time\n",
    "\n",
    "breaker()\n",
    "print(\"Garbage Collected : {}\".format(gc.collect()))\n",
    "breaker()"
   ]
  },
  {
   "cell_type": "markdown",
   "metadata": {
    "papermill": {
     "duration": 0.010522,
     "end_time": "2021-01-06T07:22:10.966626",
     "exception": false,
     "start_time": "2021-01-06T07:22:10.956104",
     "status": "completed"
    },
    "tags": []
   },
   "source": [
    "**Dataset Template**"
   ]
  },
  {
   "cell_type": "code",
   "execution_count": 4,
   "metadata": {
    "execution": {
     "iopub.execute_input": "2021-01-06T07:22:10.995362Z",
     "iopub.status.busy": "2021-01-06T07:22:10.994807Z",
     "iopub.status.idle": "2021-01-06T07:22:10.998658Z",
     "shell.execute_reply": "2021-01-06T07:22:10.998244Z"
    },
    "papermill": {
     "duration": 0.021359,
     "end_time": "2021-01-06T07:22:10.998751",
     "exception": false,
     "start_time": "2021-01-06T07:22:10.977392",
     "status": "completed"
    },
    "tags": []
   },
   "outputs": [],
   "source": [
    "class DS(Dataset):\n",
    "    def __init__(this, X=None, y=None, transform=None, mode=\"train\"):\n",
    "        this.mode = mode\n",
    "        this.transform = transform\n",
    "        this.X = X\n",
    "        if mode == \"train\":\n",
    "            this.y = y\n",
    "                 \n",
    "    def __len__(this):\n",
    "        return this.X.shape[0]\n",
    "    \n",
    "    def __getitem__(this, idx):\n",
    "        img = this.transform(this.X[idx])\n",
    "        if this.mode == \"train\":\n",
    "            return img, torch.FloatTensor(this.y[idx])\n",
    "        else:\n",
    "            return img"
   ]
  },
  {
   "cell_type": "markdown",
   "metadata": {
    "papermill": {
     "duration": 0.010592,
     "end_time": "2021-01-06T07:22:11.020076",
     "exception": false,
     "start_time": "2021-01-06T07:22:11.009484",
     "status": "completed"
    },
    "tags": []
   },
   "source": [
    "# CNN Configuration and Setup"
   ]
  },
  {
   "cell_type": "markdown",
   "metadata": {
    "papermill": {
     "duration": 0.010833,
     "end_time": "2021-01-06T07:22:11.041796",
     "exception": false,
     "start_time": "2021-01-06T07:22:11.030963",
     "status": "completed"
    },
    "tags": []
   },
   "source": [
    "**Config**"
   ]
  },
  {
   "cell_type": "code",
   "execution_count": 5,
   "metadata": {
    "execution": {
     "iopub.execute_input": "2021-01-06T07:22:11.421101Z",
     "iopub.status.busy": "2021-01-06T07:22:11.420452Z",
     "iopub.status.idle": "2021-01-06T07:22:11.423922Z",
     "shell.execute_reply": "2021-01-06T07:22:11.423504Z"
    },
    "papermill": {
     "duration": 0.371152,
     "end_time": "2021-01-06T07:22:11.424017",
     "exception": false,
     "start_time": "2021-01-06T07:22:11.052865",
     "status": "completed"
    },
    "tags": []
   },
   "outputs": [],
   "source": [
    "class CFG():\n",
    "    tr_batch_size = 32\n",
    "    ts_batch_size = 64\n",
    "    \n",
    "    device = torch.device(\"cuda\" if torch.cuda.is_available() else \"cpu\")\n",
    "    \n",
    "    in_channels = 1\n",
    "    OL = 11\n",
    "    \n",
    "    def __init__(this, filter_sizes=[64, 128, 256, 512], HL=[2048], AP_size=3, epochs=50, n_folds=5):\n",
    "        this.filter_sizes = filter_sizes\n",
    "        this.HL = HL\n",
    "        this.AP_size = AP_size\n",
    "        this.epochs = epochs\n",
    "        this.n_folds = n_folds"
   ]
  },
  {
   "cell_type": "markdown",
   "metadata": {
    "papermill": {
     "duration": 0.010858,
     "end_time": "2021-01-06T07:22:11.446632",
     "exception": false,
     "start_time": "2021-01-06T07:22:11.435774",
     "status": "completed"
    },
    "tags": []
   },
   "source": [
    "**Setup**"
   ]
  },
  {
   "cell_type": "code",
   "execution_count": 6,
   "metadata": {
    "execution": {
     "iopub.execute_input": "2021-01-06T07:22:11.491518Z",
     "iopub.status.busy": "2021-01-06T07:22:11.481157Z",
     "iopub.status.idle": "2021-01-06T07:22:11.498322Z",
     "shell.execute_reply": "2021-01-06T07:22:11.497901Z"
    },
    "papermill": {
     "duration": 0.040795,
     "end_time": "2021-01-06T07:22:11.498408",
     "exception": false,
     "start_time": "2021-01-06T07:22:11.457613",
     "status": "completed"
    },
    "tags": []
   },
   "outputs": [],
   "source": [
    "class CNN(nn.Module):\n",
    "    def __init__(this, in_channels=1, filter_sizes=None, HL=None, OL=None, AP_size=3, DP=0.5):\n",
    "\n",
    "        super(CNN, this).__init__()\n",
    "\n",
    "        this.AP_ = nn.AdaptiveAvgPool2d(output_size=AP_size)\n",
    "        this.MP_ = nn.MaxPool2d(kernel_size=2)\n",
    "        this.DP_ = nn.Dropout(p=0.5)\n",
    "\n",
    "        this.CN1_1 = nn.Conv2d(in_channels=in_channels, out_channels=filter_sizes[0], kernel_size=3, stride=1, padding=1)\n",
    "        this.BN1_1 = nn.BatchNorm2d(num_features=filter_sizes[0], eps=1e-5)\n",
    "        this.CN1_2 = nn.Conv2d(in_channels=filter_sizes[0], out_channels=filter_sizes[0], kernel_size=3, stride=1, padding=1)\n",
    "        this.BN1_2 = nn.BatchNorm2d(num_features=filter_sizes[0], eps=1e-5)\n",
    "\n",
    "        this.CN2_1 = nn.Conv2d(in_channels=filter_sizes[0], out_channels=filter_sizes[1], kernel_size=3, stride=1, padding=1)\n",
    "        this.BN2_1 = nn.BatchNorm2d(num_features=filter_sizes[1], eps=1e-5)\n",
    "        this.CN2_2 = nn.Conv2d(in_channels=filter_sizes[1], out_channels=filter_sizes[1], kernel_size=3, stride=1, padding=1)\n",
    "        this.BN2_2 = nn.BatchNorm2d(num_features=filter_sizes[1], eps=1e-5)\n",
    "\n",
    "        this.CN3_1 = nn.Conv2d(in_channels=filter_sizes[1], out_channels=filter_sizes[2], kernel_size=3, stride=1, padding=1)\n",
    "        this.BN3_1 = nn.BatchNorm2d(num_features=filter_sizes[2], eps=1e-5)\n",
    "        this.CN3_2 = nn.Conv2d(in_channels=filter_sizes[2], out_channels=filter_sizes[2], kernel_size=3, stride=1, padding=1)\n",
    "        this.BN3_2 = nn.BatchNorm2d(num_features=filter_sizes[2], eps=1e-5)\n",
    "\n",
    "        this.CN4_1 = nn.Conv2d(in_channels=filter_sizes[2], out_channels=filter_sizes[3], kernel_size=3, stride=1, padding=1)\n",
    "        this.BN4_1 = nn.BatchNorm2d(num_features=filter_sizes[3], eps=1e-5)\n",
    "        this.CN4_2 = nn.Conv2d(in_channels=filter_sizes[3], out_channels=filter_sizes[3], kernel_size=3, stride=1, padding=1)\n",
    "        this.BN4_2 = nn.BatchNorm2d(num_features=filter_sizes[3], eps=1e-5)\n",
    "\n",
    "        this.FC1 = nn.Linear(in_features=filter_sizes[3]*AP_size*AP_size, out_features=HL[0])\n",
    "        this.FC2 = nn.Linear(in_features=HL[0], out_features=OL)\n",
    "    \n",
    "    def getOptimizer(this, lr=1e-3, wd=0):\n",
    "        return optim.Adam(this.parameters(), lr=lr, weight_decay=wd)\n",
    "\n",
    "    def getPlateauLR(this, optimizer=None, patience=5, eps=1e-8):\n",
    "        return optim.lr_scheduler.ReduceLROnPlateau(optimizer=optimizer, patience=patience, eps=eps, verbose=True)\n",
    "\n",
    "    def forward(this, x):\n",
    "        x = F.relu(this.MP_(this.BN1_2(this.CN1_2(this.BN1_1(this.CN1_1(x))))))\n",
    "        x = F.relu(this.MP_(this.BN2_2(this.CN2_2(this.BN2_1(this.CN2_1(x))))))\n",
    "        x = F.relu(this.MP_(this.BN3_2(this.CN3_2(this.BN3_1(this.CN3_1(x))))))\n",
    "        x = F.relu(this.MP_(this.BN4_2(this.CN4_2(this.BN4_1(this.CN4_1(x))))))\n",
    "\n",
    "        x = this.AP_(x)\n",
    "        x = x.view(x.shape[0], -1)\n",
    "\n",
    "        x = F.relu(this.DP_(this.FC1(x)))\n",
    "        x = this.FC2(x)\n",
    "\n",
    "        return x"
   ]
  },
  {
   "cell_type": "markdown",
   "metadata": {
    "papermill": {
     "duration": 0.010941,
     "end_time": "2021-01-06T07:22:11.520322",
     "exception": false,
     "start_time": "2021-01-06T07:22:11.509381",
     "status": "completed"
    },
    "tags": []
   },
   "source": [
    "**Train Function**"
   ]
  },
  {
   "cell_type": "code",
   "execution_count": 7,
   "metadata": {
    "execution": {
     "iopub.execute_input": "2021-01-06T07:22:11.559720Z",
     "iopub.status.busy": "2021-01-06T07:22:11.554945Z",
     "iopub.status.idle": "2021-01-06T07:22:11.562138Z",
     "shell.execute_reply": "2021-01-06T07:22:11.561749Z"
    },
    "papermill": {
     "duration": 0.030921,
     "end_time": "2021-01-06T07:22:11.562231",
     "exception": false,
     "start_time": "2021-01-06T07:22:11.531310",
     "status": "completed"
    },
    "tags": []
   },
   "outputs": [],
   "source": [
    "def fit_(model=None, optimizer=None, scheduler=None, epochs=None,\n",
    "         early_stopping_patience=5,\n",
    "         trainloader=None, validloader=None,\n",
    "         criterion=None, device=None,\n",
    "         verbose=None, path=None):\n",
    "    \n",
    "    breaker()\n",
    "    print(\"Training\")\n",
    "    breaker()\n",
    "    \n",
    "    bestLoss = {\"train\" : np.inf, \"valid\" : np.inf}\n",
    "    DLS = {\"train\" : trainloader, \"valid\" : validloader}\n",
    "    \n",
    "    Losses = []\n",
    "    Accuracies = []\n",
    "    \n",
    "    start_time = time()\n",
    "    for e in range(epochs):\n",
    "        e_st = time()\n",
    "        epochLoss = {\"train\" : 0.0, \"valid\" : 0.0}\n",
    "        \n",
    "        for phase in [\"train\", \"valid\"]:\n",
    "            if phase == \"train\":\n",
    "                model.train()\n",
    "            else:\n",
    "                model.eval()\n",
    "                \n",
    "            lossPerPass = []\n",
    "            \n",
    "            for X, y in DLS[phase]:\n",
    "                X, y = X.to(device), y.to(device)\n",
    "                \n",
    "                optimizer.zero_grad()\n",
    "                with torch.set_grad_enabled(phase == \"train\"):\n",
    "                    output = model(X)\n",
    "                    loss = criterion(output, y)\n",
    "                    if phase == \"train\":\n",
    "                        loss.backward()\n",
    "                        optimizer.step()\n",
    "                lossPerPass.append(loss.item())\n",
    "            epochLoss[phase] = np.mean(np.array(lossPerPass))\n",
    "        Losses.append(epochLoss)\n",
    "        \n",
    "        \"\"\"if epochLoss[\"valid\"] < bestLoss[\"valid\"]:\n",
    "            bestLoss = epochLoss\n",
    "            torch.save(model.state_dict(), \"./Epoch_{}.pt\".format(e+1))\n",
    "            early_stopping_steps = 0\n",
    "            bestLossEpoch = e+1\n",
    "        else:\n",
    "            early_stopping_steps += 1\n",
    "            if early_stopping_steps > early_stopping_patience:\n",
    "                print(\"Early Stopping at Epoch {}\".format(e+1))\"\"\"\n",
    "        \n",
    "        torch.save({\"model_state_dict\" : model.state_dict(), \n",
    "                    \"optim_state_dict\" : optimizer.state_dict()},\n",
    "                    \"./Epoch_{}.pt\".format(e+1))\n",
    "        \n",
    "        if scheduler:\n",
    "            scheduler.step(epochLoss[\"valid\"])\n",
    "        \n",
    "        if epochLoss[\"valid\"] < bestLoss[\"valid\"]:\n",
    "            bestLoss = epochLoss\n",
    "            bestLossEpoch = e+1\n",
    "            \n",
    "        if verbose:\n",
    "            print(\"Epoch: {} | Train Loss: {:.5f} | Valid Loss: {:.5f} | Time: {:.2f} seconds\".format(e+1, epochLoss[\"train\"], epochLoss[\"valid\"], time()-e_st))\n",
    "\n",
    "    breaker()\n",
    "    print(\"-----> Best Validation Loss at Epoch {}\".format(bestLossEpoch))\n",
    "    breaker()\n",
    "    print(\"Time Taken [{} Epochs] : {:.2f} minutes\".format(epochs, (time()-start_time)/60))\n",
    "    breaker()\n",
    "    print(\"Training Complete\")\n",
    "    breaker()\n",
    "\n",
    "    return Losses, bestLossEpoch"
   ]
  },
  {
   "cell_type": "markdown",
   "metadata": {
    "papermill": {
     "duration": 0.011106,
     "end_time": "2021-01-06T07:22:11.584583",
     "exception": false,
     "start_time": "2021-01-06T07:22:11.573477",
     "status": "completed"
    },
    "tags": []
   },
   "source": [
    "**Training**"
   ]
  },
  {
   "cell_type": "code",
   "execution_count": 8,
   "metadata": {
    "execution": {
     "iopub.execute_input": "2021-01-06T07:22:11.619825Z",
     "iopub.status.busy": "2021-01-06T07:22:11.619325Z",
     "iopub.status.idle": "2021-01-06T12:54:41.573037Z",
     "shell.execute_reply": "2021-01-06T12:54:41.573848Z"
    },
    "papermill": {
     "duration": 19949.978334,
     "end_time": "2021-01-06T12:54:41.574061",
     "exception": false,
     "start_time": "2021-01-06T07:22:11.595727",
     "status": "completed"
    },
    "tags": []
   },
   "outputs": [
    {
     "name": "stdout",
     "output_type": "stream",
     "text": [
      "\n",
      "--------------------------------------------------\n",
      "\n",
      "Garbage Collected : 40\n",
      "\n",
      "--------------------------------------------------\n",
      "\n",
      "Training\n",
      "\n",
      "--------------------------------------------------\n",
      "\n",
      "Epoch: 1 | Train Loss: 0.29729 | Valid Loss: 0.29604 | Time: 798.57 seconds\n",
      "Epoch: 2 | Train Loss: 0.28112 | Valid Loss: 0.36320 | Time: 797.77 seconds\n",
      "Epoch: 3 | Train Loss: 0.27090 | Valid Loss: 0.54442 | Time: 797.72 seconds\n",
      "Epoch: 4 | Train Loss: 0.26154 | Valid Loss: 0.25057 | Time: 797.75 seconds\n",
      "Epoch: 5 | Train Loss: 0.24523 | Valid Loss: 0.23921 | Time: 797.84 seconds\n",
      "Epoch: 6 | Train Loss: 0.23907 | Valid Loss: 0.25984 | Time: 797.69 seconds\n",
      "Epoch: 7 | Train Loss: 0.23483 | Valid Loss: 0.22701 | Time: 797.78 seconds\n",
      "Epoch: 8 | Train Loss: 0.23210 | Valid Loss: 0.22377 | Time: 797.78 seconds\n",
      "Epoch: 9 | Train Loss: 0.22945 | Valid Loss: 0.22234 | Time: 797.82 seconds\n",
      "Epoch: 10 | Train Loss: 0.22719 | Valid Loss: 0.26790 | Time: 797.79 seconds\n",
      "Epoch: 11 | Train Loss: 0.22613 | Valid Loss: 0.22764 | Time: 797.59 seconds\n",
      "Epoch: 12 | Train Loss: 0.22466 | Valid Loss: 0.23445 | Time: 797.82 seconds\n",
      "Epoch: 13 | Train Loss: 0.22320 | Valid Loss: 0.21931 | Time: 797.73 seconds\n",
      "Epoch: 14 | Train Loss: 0.22068 | Valid Loss: 0.24427 | Time: 797.70 seconds\n",
      "Epoch: 15 | Train Loss: 0.21751 | Valid Loss: 0.21294 | Time: 797.86 seconds\n",
      "Epoch: 16 | Train Loss: 0.21455 | Valid Loss: 0.21219 | Time: 797.97 seconds\n",
      "Epoch: 17 | Train Loss: 0.21158 | Valid Loss: 0.21542 | Time: 797.75 seconds\n",
      "Epoch: 18 | Train Loss: 0.20938 | Valid Loss: 0.20502 | Time: 798.00 seconds\n",
      "Epoch: 19 | Train Loss: 0.20713 | Valid Loss: 0.27108 | Time: 797.88 seconds\n",
      "Epoch: 20 | Train Loss: 0.20407 | Valid Loss: 0.21821 | Time: 797.91 seconds\n",
      "Epoch: 21 | Train Loss: 0.20174 | Valid Loss: 0.20570 | Time: 797.72 seconds\n",
      "Epoch: 22 | Train Loss: 0.19817 | Valid Loss: 0.19712 | Time: 797.81 seconds\n",
      "Epoch: 23 | Train Loss: 0.19542 | Valid Loss: 0.19543 | Time: 797.72 seconds\n",
      "Epoch: 24 | Train Loss: 0.19223 | Valid Loss: 0.18700 | Time: 797.85 seconds\n",
      "Epoch: 25 | Train Loss: 0.18959 | Valid Loss: 0.19559 | Time: 797.79 seconds\n",
      "\n",
      "--------------------------------------------------\n",
      "\n",
      "-----> Best Validation Loss at Epoch 24\n",
      "\n",
      "--------------------------------------------------\n",
      "\n",
      "Time Taken [25 Epochs] : 332.43 minutes\n",
      "\n",
      "--------------------------------------------------\n",
      "\n",
      "Training Complete\n",
      "\n",
      "--------------------------------------------------\n",
      "\n"
     ]
    }
   ],
   "source": [
    "cfg = CFG(filter_sizes=[64, 128, 256, 512], HL=[2048], epochs=25, n_folds=None)\n",
    "\n",
    "tr_transforms = transforms.Compose([transforms.ToTensor(), ])\n",
    "va_transforms = transforms.Compose([transforms.ToTensor(), ])\n",
    "\n",
    "tr_data_setup = DS(X=tr_images, y=tr_labels, transform=tr_transforms, mode=\"train\")\n",
    "va_data_setup = DS(X=va_images, y=va_labels, transform=va_transforms, mode=\"train\")\n",
    "\n",
    "tr_data = DL(tr_data_setup, batch_size=cfg.tr_batch_size, shuffle=True, generator=torch.manual_seed(seed))\n",
    "va_data = DL(va_data_setup, batch_size=cfg.tr_batch_size, shuffle=False)\n",
    "\n",
    "del tr_data_setup, va_data_setup\n",
    "\n",
    "breaker()\n",
    "print(\"Garbage Collected : {}\".format(gc.collect()))\n",
    "\n",
    "torch.manual_seed(seed)\n",
    "\n",
    "model = CNN(filter_sizes=cfg.filter_sizes, HL=cfg.HL, OL=cfg.OL, AP_size=cfg.AP_size, DP=0.5).to(cfg.device)\n",
    "optimizer = model.getOptimizer(lr=1e-3, wd=1e-5)\n",
    "scheduler = model.getPlateauLR(optimizer=optimizer, patience=5, eps=1e-8)\n",
    "\n",
    "Losses, bestEpoch = fit_(model=model, optimizer=optimizer, scheduler=scheduler, epochs=cfg.epochs, early_stopping_patience=5,\n",
    "                         trainloader=tr_data, validloader=va_data, criterion=nn.BCEWithLogitsLoss(), device=cfg.device,\n",
    "                         verbose=True)"
   ]
  },
  {
   "cell_type": "markdown",
   "metadata": {
    "papermill": {
     "duration": 0.018486,
     "end_time": "2021-01-06T12:54:41.613845",
     "exception": false,
     "start_time": "2021-01-06T12:54:41.595359",
     "status": "completed"
    },
    "tags": []
   },
   "source": [
    "**Loss Plot**"
   ]
  },
  {
   "cell_type": "code",
   "execution_count": 9,
   "metadata": {
    "execution": {
     "iopub.execute_input": "2021-01-06T12:54:41.661055Z",
     "iopub.status.busy": "2021-01-06T12:54:41.660562Z",
     "iopub.status.idle": "2021-01-06T12:54:41.882989Z",
     "shell.execute_reply": "2021-01-06T12:54:41.882152Z"
    },
    "papermill": {
     "duration": 0.248988,
     "end_time": "2021-01-06T12:54:41.883090",
     "exception": false,
     "start_time": "2021-01-06T12:54:41.634102",
     "status": "completed"
    },
    "tags": []
   },
   "outputs": [
    {
     "data": {
      "image/png": "[encoded data removed]",
      "text/plain": [
       "<Figure size 576x432 with 1 Axes>"
      ]
     },
     "metadata": {
      "needs_background": "light"
     },
     "output_type": "display_data"
    }
   ],
   "source": [
    "LT = []\n",
    "LV = []\n",
    "\n",
    "for i in range(len(Losses)):\n",
    "    LT.append(Losses[i][\"train\"])\n",
    "    LV.append(Losses[i][\"valid\"])\n",
    "\n",
    "plt.figure(figsize=(8, 6))\n",
    "plt.plot([i+1 for i in range(len(LT))], LT, \"r\", label=\"Training Loss\")\n",
    "plt.plot([i+1 for i in range(len(LV))], LV, \"b--\", label=\"Validation Loss\")\n",
    "plt.xlabel(\"Epochs\")\n",
    "plt.ylabel(\"Loss\")\n",
    "plt.legend()\n",
    "plt.grid()\n",
    "plt.show()"
   ]
  },
  {
   "cell_type": "code",
   "execution_count": null,
   "metadata": {
    "papermill": {
     "duration": 0.019858,
     "end_time": "2021-01-06T12:54:41.922687",
     "exception": false,
     "start_time": "2021-01-06T12:54:41.902829",
     "status": "completed"
    },
    "tags": []
   },
   "outputs": [],
   "source": []
  }
 ],
 "metadata": {
  "kernelspec": {
   "display_name": "Python 3",
   "language": "python",
   "name": "python3"
  },
  "language_info": {
   "codemirror_mode": {
    "name": "ipython",
    "version": 3
   },
   "file_extension": ".py",
   "mimetype": "text/x-python",
   "name": "python",
   "nbconvert_exporter": "python",
   "pygments_lexer": "ipython3",
   "version": "3.7.6"
  },
  "papermill": {
   "duration": 20018.340301,
   "end_time": "2021-01-06T12:54:42.986000",
   "environment_variables": {},
   "exception": null,
   "input_path": "__notebook__.ipynb",
   "output_path": "__notebook__.ipynb",
   "parameters": {},
   "start_time": "2021-01-06T07:21:04.645699",
   "version": "2.1.0"
  }
 },
 "nbformat": 4,
 "nbformat_minor": 4
}
