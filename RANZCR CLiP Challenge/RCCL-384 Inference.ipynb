{
 "cells": [
  {
   "cell_type": "markdown",
   "metadata": {
    "papermill": {
     "duration": 0.012762,
     "end_time": "2020-12-29T12:03:50.841558",
     "exception": false,
     "start_time": "2020-12-29T12:03:50.828796",
     "status": "completed"
    },
    "tags": []
   },
   "source": [
    "# Library Imports"
   ]
  },
  {
   "cell_type": "code",
   "execution_count": 1,
   "metadata": {
    "_cell_guid": "b1076dfc-b9ad-4769-8c92-a6c4dae69d19",
    "_uuid": "8f2839f25d086af736a60e9eeb907d3b93b6e0e5",
    "execution": {
     "iopub.execute_input": "2020-12-29T12:03:50.873766Z",
     "iopub.status.busy": "2020-12-29T12:03:50.872785Z",
     "iopub.status.idle": "2020-12-29T12:03:52.578614Z",
     "shell.execute_reply": "2020-12-29T12:03:52.576933Z"
    },
    "papermill": {
     "duration": 1.725426,
     "end_time": "2020-12-29T12:03:52.578759",
     "exception": false,
     "start_time": "2020-12-29T12:03:50.853333",
     "status": "completed"
    },
    "tags": []
   },
   "outputs": [],
   "source": [
    "import numpy as np\n",
    "import pandas as pd\n",
    "import matplotlib.pyplot as plt\n",
    "\n",
    "import torch, torchvision\n",
    "from torchvision import transforms\n",
    "from torch import nn, optim\n",
    "from torch.utils.data import Dataset\n",
    "from torch.utils.data import DataLoader as DL\n",
    "from torch.nn.utils import weight_norm as WN\n",
    "import torch.nn.functional as F\n",
    "\n",
    "import gc\n",
    "import os\n",
    "import cv2\n",
    "from time import time\n",
    "\n",
    "torch.backends.cudnn.deterministic = True\n",
    "torch.backends.cudnn.benchmark = False\n",
    "\n",
    "seed = 42"
   ]
  },
  {
   "cell_type": "markdown",
   "metadata": {
    "papermill": {
     "duration": 0.012546,
     "end_time": "2020-12-29T12:03:52.604355",
     "exception": false,
     "start_time": "2020-12-29T12:03:52.591809",
     "status": "completed"
    },
    "tags": []
   },
   "source": [
    "# Helper Functions"
   ]
  },
  {
   "cell_type": "code",
   "execution_count": 2,
   "metadata": {
    "_cell_guid": "79c7e3d0-c299-4dcb-8224-4455121ee9b0",
    "_uuid": "d629ff2d2480ee46fbb7e2d37f6b5fab8052498a",
    "execution": {
     "iopub.execute_input": "2020-12-29T12:03:52.639930Z",
     "iopub.status.busy": "2020-12-29T12:03:52.638962Z",
     "iopub.status.idle": "2020-12-29T12:03:52.641846Z",
     "shell.execute_reply": "2020-12-29T12:03:52.641266Z"
    },
    "papermill": {
     "duration": 0.02526,
     "end_time": "2020-12-29T12:03:52.641960",
     "exception": false,
     "start_time": "2020-12-29T12:03:52.616700",
     "status": "completed"
    },
    "tags": []
   },
   "outputs": [],
   "source": [
    "def breaker():\n",
    "    print(\"\\n\" + 50*\"-\" + \"\\n\")\n",
    "\n",
    "def head(x, no_of_ele=5):\n",
    "    print(x[:no_of_ele])\n",
    "    \n",
    "def getImages(file_path=None, file_names=None, size=None):\n",
    "    images = []\n",
    "    for name in file_names:\n",
    "        try:\n",
    "            image = cv2.imread(file_path + name + \".jpg\", cv2.IMREAD_GRAYSCALE)\n",
    "        except AttributeError:\n",
    "            print(file_path + name)\n",
    "        if size:\n",
    "            image = cv2.resize(image, dsize=(size, size), interpolation=cv2.INTER_LANCZOS4)\n",
    "        images.append(image.reshape(size, size, 1))\n",
    "    return np.array(images)"
   ]
  },
  {
   "cell_type": "markdown",
   "metadata": {
    "papermill": {
     "duration": 0.012876,
     "end_time": "2020-12-29T12:03:52.667506",
     "exception": false,
     "start_time": "2020-12-29T12:03:52.654630",
     "status": "completed"
    },
    "tags": []
   },
   "source": [
    "# Data Handling"
   ]
  },
  {
   "cell_type": "markdown",
   "metadata": {
    "papermill": {
     "duration": 0.013205,
     "end_time": "2020-12-29T12:03:52.693701",
     "exception": false,
     "start_time": "2020-12-29T12:03:52.680496",
     "status": "completed"
    },
    "tags": []
   },
   "source": [
    "**Loading Image Data**"
   ]
  },
  {
   "cell_type": "code",
   "execution_count": 3,
   "metadata": {
    "execution": {
     "iopub.execute_input": "2020-12-29T12:03:52.728656Z",
     "iopub.status.busy": "2020-12-29T12:03:52.727991Z",
     "iopub.status.idle": "2020-12-29T12:06:15.140823Z",
     "shell.execute_reply": "2020-12-29T12:06:15.141887Z"
    },
    "papermill": {
     "duration": 142.435372,
     "end_time": "2020-12-29T12:06:15.142110",
     "exception": false,
     "start_time": "2020-12-29T12:03:52.706738",
     "status": "completed"
    },
    "tags": []
   },
   "outputs": [
    {
     "name": "stdout",
     "output_type": "stream",
     "text": [
      "\n",
      "--------------------------------------------------\n",
      "\n",
      "Time Taken to read data : 2.37 minutes\n",
      "\n",
      "--------------------------------------------------\n",
      "\n"
     ]
    }
   ],
   "source": [
    "start_time = time()\n",
    "\n",
    "ss = pd.read_csv(\"../input/ranzcr-clip-catheter-line-classification/sample_submission.csv\")\n",
    "\n",
    "ts_img_names = ss[\"StudyInstanceUID\"].values\n",
    "ts_images = getImages(\"../input/ranzcr-clip-catheter-line-classification/test/\", \n",
    "                      ts_img_names, \n",
    "                      size=384)\n",
    "\n",
    "breaker()\n",
    "print(\"Time Taken to read data : {:.2f} minutes\".format((time() - start_time)/60))\n",
    "breaker()"
   ]
  },
  {
   "cell_type": "markdown",
   "metadata": {
    "papermill": {
     "duration": 0.012653,
     "end_time": "2020-12-29T12:06:15.169197",
     "exception": false,
     "start_time": "2020-12-29T12:06:15.156544",
     "status": "completed"
    },
    "tags": []
   },
   "source": [
    "**Dataset Template**"
   ]
  },
  {
   "cell_type": "code",
   "execution_count": 4,
   "metadata": {
    "execution": {
     "iopub.execute_input": "2020-12-29T12:06:15.206573Z",
     "iopub.status.busy": "2020-12-29T12:06:15.204565Z",
     "iopub.status.idle": "2020-12-29T12:06:15.207234Z",
     "shell.execute_reply": "2020-12-29T12:06:15.207767Z"
    },
    "papermill": {
     "duration": 0.025583,
     "end_time": "2020-12-29T12:06:15.207894",
     "exception": false,
     "start_time": "2020-12-29T12:06:15.182311",
     "status": "completed"
    },
    "tags": []
   },
   "outputs": [],
   "source": [
    "class DS(Dataset):\n",
    "    def __init__(this, X=None, y=None, transform=None, mode=\"train\"):\n",
    "        this.mode = mode\n",
    "        this.transform = transform\n",
    "        this.X = X\n",
    "        if mode == \"train\":\n",
    "            this.y = y\n",
    "                 \n",
    "    def __len__(this):\n",
    "        return this.X.shape[0]\n",
    "    \n",
    "    def __getitem__(this, idx):\n",
    "        img = this.transform(this.X[idx])\n",
    "        if this.mode == \"train\":\n",
    "            return img, torch.FloatTensor(this.y[idx])\n",
    "        else:\n",
    "            return img"
   ]
  },
  {
   "cell_type": "markdown",
   "metadata": {
    "papermill": {
     "duration": 0.012648,
     "end_time": "2020-12-29T12:06:15.233025",
     "exception": false,
     "start_time": "2020-12-29T12:06:15.220377",
     "status": "completed"
    },
    "tags": []
   },
   "source": [
    "# CNN Configuration and Setup"
   ]
  },
  {
   "cell_type": "markdown",
   "metadata": {
    "papermill": {
     "duration": 0.012445,
     "end_time": "2020-12-29T12:06:15.258199",
     "exception": false,
     "start_time": "2020-12-29T12:06:15.245754",
     "status": "completed"
    },
    "tags": []
   },
   "source": [
    "**Config**"
   ]
  },
  {
   "cell_type": "code",
   "execution_count": 5,
   "metadata": {
    "execution": {
     "iopub.execute_input": "2020-12-29T12:06:15.648606Z",
     "iopub.status.busy": "2020-12-29T12:06:15.647607Z",
     "iopub.status.idle": "2020-12-29T12:06:15.650707Z",
     "shell.execute_reply": "2020-12-29T12:06:15.650187Z"
    },
    "papermill": {
     "duration": 0.379896,
     "end_time": "2020-12-29T12:06:15.650827",
     "exception": false,
     "start_time": "2020-12-29T12:06:15.270931",
     "status": "completed"
    },
    "tags": []
   },
   "outputs": [],
   "source": [
    "class CFG():\n",
    "    tr_batch_size = 64\n",
    "    # va_batch_size = 128\n",
    "    ts_batch_size = 64\n",
    "    \n",
    "    device = torch.device(\"cuda\" if torch.cuda.is_available() else \"cpu\")\n",
    "    \n",
    "    in_channels = 1\n",
    "    OL = 11\n",
    "    \n",
    "    def __init__(this, filter_sizes=[64, 128, 256, 512], HL=[2048], epochs=50, n_folds=5):\n",
    "        this.filter_sizes = filter_sizes\n",
    "        this.HL = HL\n",
    "        this.epochs = epochs\n",
    "        this.n_folds = n_folds"
   ]
  },
  {
   "cell_type": "markdown",
   "metadata": {
    "papermill": {
     "duration": 0.012349,
     "end_time": "2020-12-29T12:06:15.676343",
     "exception": false,
     "start_time": "2020-12-29T12:06:15.663994",
     "status": "completed"
    },
    "tags": []
   },
   "source": [
    "**Setup**"
   ]
  },
  {
   "cell_type": "code",
   "execution_count": 6,
   "metadata": {
    "execution": {
     "iopub.execute_input": "2020-12-29T12:06:15.714298Z",
     "iopub.status.busy": "2020-12-29T12:06:15.703779Z",
     "iopub.status.idle": "2020-12-29T12:06:15.746188Z",
     "shell.execute_reply": "2020-12-29T12:06:15.745694Z"
    },
    "papermill": {
     "duration": 0.057599,
     "end_time": "2020-12-29T12:06:15.746301",
     "exception": false,
     "start_time": "2020-12-29T12:06:15.688702",
     "status": "completed"
    },
    "tags": []
   },
   "outputs": [],
   "source": [
    "class CNN(nn.Module):\n",
    "    def __init__(this, in_channels=1, filter_sizes=None, HL=None, OL=None, use_DP=True, DP=0.50):\n",
    "        \n",
    "        super(CNN, this).__init__()\n",
    "        \n",
    "        this.use_DP = use_DP\n",
    "        \n",
    "        this.DP_ = nn.Dropout(p=DP)\n",
    "        this.MP_ = nn.MaxPool2d(kernel_size=2)\n",
    "        \n",
    "        this.CN1 = nn.Conv2d(in_channels=in_channels, out_channels=filter_sizes[0], kernel_size=3, stride=1, padding=1)\n",
    "        this.BN1 = nn.BatchNorm2d(num_features=filter_sizes[0], eps=1e-5)\n",
    "        \n",
    "        this.CN2 = nn.Conv2d(in_channels=filter_sizes[0], out_channels=filter_sizes[1], kernel_size=3, stride=1, padding=1)\n",
    "        this.BN2 = nn.BatchNorm2d(num_features=filter_sizes[1], eps=1e-5)\n",
    "        \n",
    "        this.CN3 = nn.Conv2d(in_channels=filter_sizes[1], out_channels=filter_sizes[2], kernel_size=3, stride=1, padding=1)\n",
    "        this.BN3 = nn.BatchNorm2d(num_features=filter_sizes[2], eps=1e-5)\n",
    "        \n",
    "        this.CN4 = nn.Conv2d(in_channels=filter_sizes[2], out_channels=filter_sizes[3], kernel_size=3, stride=1, padding=1)\n",
    "        this.BN4 = nn.BatchNorm2d(num_features=filter_sizes[3], eps=1e-5)\n",
    "        \n",
    "        this.CN5 = nn.Conv2d(in_channels=filter_sizes[3], out_channels=filter_sizes[3], kernel_size=3, stride=1, padding=1)\n",
    "        this.BN5 = nn.BatchNorm2d(num_features=filter_sizes[3], eps=1e-5)\n",
    "        \n",
    "        this.CN6 = nn.Conv2d(in_channels=filter_sizes[3], out_channels=filter_sizes[3], kernel_size=3, stride=1, padding=1)\n",
    "        this.BN6 = nn.BatchNorm2d(num_features=filter_sizes[3], eps=1e-5)\n",
    "        \n",
    "        this.CN7 = nn.Conv2d(in_channels=filter_sizes[3], out_channels=filter_sizes[3], kernel_size=3, stride=1, padding=1)\n",
    "        this.BN7 = nn.BatchNorm2d(num_features=filter_sizes[3], eps=1e-5)\n",
    "        \n",
    "        this.FC1 = nn.Linear(in_features=filter_sizes[3] * 3 * 3, out_features=HL[0])\n",
    "        this.FC2 = nn.Linear(in_features=HL[0], out_features=OL)\n",
    "        \n",
    "    def getOptimizer(this, lr=1e-3, wd=0):\n",
    "        return optim.Adam(this.parameters(), lr=lr, weight_decay=wd)\n",
    "    \n",
    "    def getStepLR(this, optimizer=None, step_size=5, gamma=0.1):\n",
    "        return optim.lr_scheduler.StepLR(optimizer=optimizer, step_size=step_size, gamma=gamma)\n",
    "    \n",
    "    def getMultiStepLR(this, optimizer=None, milestones=None, gamma=0.1):\n",
    "        return optim.lr_scheduler.MultiStepLR(optimizer=optimizer, milestones=milestones, gamma=gamma)\n",
    "    \n",
    "    def getPlateauLR(this, optimizer=None, patience=5, eps=1e-8):\n",
    "        return optim.lr_scheduler.ReduceLROnPlateau(optimizer=optimizer, patience=patience, eps=1e-8, verbose=True)\n",
    "    \n",
    "    def forward(this, x):\n",
    "        if this.use_DP:\n",
    "            x = F.relu(this.MP_(this.BN1(this.CN1(x))))\n",
    "            x = F.relu(this.MP_(this.BN2(this.CN2(x))))\n",
    "            x = F.relu(this.MP_(this.BN3(this.CN3(x))))\n",
    "            x = F.relu(this.MP_(this.BN4(this.CN4(x))))\n",
    "            x = F.relu(this.MP_(this.BN5(this.CN5(x))))\n",
    "            x = F.relu(this.MP_(this.BN6(this.CN6(x))))\n",
    "            x = F.relu(this.MP_(this.BN7(this.CN7(x))))\n",
    "            \n",
    "            x = x.view(x.shape[0], -1)\n",
    "            \n",
    "            x = F.relu(this.DP_(this.FC1(x)))\n",
    "            x = this.FC2(x)\n",
    "            \n",
    "            return x\n",
    "        else:\n",
    "            x = F.relu(this.MP_(this.BN1(this.CN1(x))))\n",
    "            x = F.relu(this.MP_(this.BN2(this.CN2(x))))\n",
    "            x = F.relu(this.MP_(this.BN3(this.CN3(x))))\n",
    "            x = F.relu(this.MP_(this.BN4(this.CN4(x))))\n",
    "            x = F.relu(this.MP_(this.BN5(this.CN5(x))))\n",
    "            x = F.relu(this.MP_(this.BN6(this.CN6(x))))\n",
    "            x = F.relu(this.MP_(this.BN7(this.CN7(x))))\n",
    "            \n",
    "            x = x.view(x.shape[0], -1)\n",
    "            \n",
    "            x = F.relu(this.FC1(x))\n",
    "            x = this.FC2(x)\n",
    "            \n",
    "            return x"
   ]
  },
  {
   "cell_type": "markdown",
   "metadata": {
    "papermill": {
     "duration": 0.012611,
     "end_time": "2020-12-29T12:06:15.771757",
     "exception": false,
     "start_time": "2020-12-29T12:06:15.759146",
     "status": "completed"
    },
    "tags": []
   },
   "source": [
    "**Predict Function**"
   ]
  },
  {
   "cell_type": "code",
   "execution_count": 7,
   "metadata": {
    "execution": {
     "iopub.execute_input": "2020-12-29T12:06:15.807284Z",
     "iopub.status.busy": "2020-12-29T12:06:15.805413Z",
     "iopub.status.idle": "2020-12-29T12:06:15.808039Z",
     "shell.execute_reply": "2020-12-29T12:06:15.808536Z"
    },
    "papermill": {
     "duration": 0.024119,
     "end_time": "2020-12-29T12:06:15.808649",
     "exception": false,
     "start_time": "2020-12-29T12:06:15.784530",
     "status": "completed"
    },
    "tags": []
   },
   "outputs": [],
   "source": [
    "def predict_(model=None, dataloader=None, device=None, path=None):\n",
    "    if path:\n",
    "        model.load_state_dict(torch.load(path))\n",
    "\n",
    "    model.to(device)\n",
    "    model.eval()\n",
    "\n",
    "    y_pred = torch.zeros(1, 11).to(device)\n",
    "\n",
    "    for X in dataloader:\n",
    "        X = X.to(device)\n",
    "        with torch.no_grad():\n",
    "            Pred = torch.sigmoid(model(X))\n",
    "        y_pred = torch.cat((y_pred, Pred), dim=0)\n",
    "    \n",
    "    return y_pred[1:].detach().cpu().numpy()"
   ]
  },
  {
   "cell_type": "markdown",
   "metadata": {
    "papermill": {
     "duration": 0.013838,
     "end_time": "2020-12-29T12:06:15.835194",
     "exception": false,
     "start_time": "2020-12-29T12:06:15.821356",
     "status": "completed"
    },
    "tags": []
   },
   "source": [
    "# Submission "
   ]
  },
  {
   "cell_type": "code",
   "execution_count": 8,
   "metadata": {
    "execution": {
     "iopub.execute_input": "2020-12-29T12:06:15.870866Z",
     "iopub.status.busy": "2020-12-29T12:06:15.870194Z",
     "iopub.status.idle": "2020-12-29T12:06:37.581033Z",
     "shell.execute_reply": "2020-12-29T12:06:37.580135Z"
    },
    "papermill": {
     "duration": 21.733025,
     "end_time": "2020-12-29T12:06:37.581139",
     "exception": false,
     "start_time": "2020-12-29T12:06:15.848114",
     "status": "completed"
    },
    "tags": []
   },
   "outputs": [
    {
     "data": {
      "text/html": [
       "<div>\n",
       "<style scoped>\n",
       "    .dataframe tbody tr th:only-of-type {\n",
       "        vertical-align: middle;\n",
       "    }\n",
       "\n",
       "    .dataframe tbody tr th {\n",
       "        vertical-align: top;\n",
       "    }\n",
       "\n",
       "    .dataframe thead th {\n",
       "        text-align: right;\n",
       "    }\n",
       "</style>\n",
       "<table border=\"1\" class=\"dataframe\">\n",
       "  <thead>\n",
       "    <tr style=\"text-align: right;\">\n",
       "      <th></th>\n",
       "      <th>StudyInstanceUID</th>\n",
       "      <th>ETT - Abnormal</th>\n",
       "      <th>ETT - Borderline</th>\n",
       "      <th>ETT - Normal</th>\n",
       "      <th>NGT - Abnormal</th>\n",
       "      <th>NGT - Borderline</th>\n",
       "      <th>NGT - Incompletely Imaged</th>\n",
       "      <th>NGT - Normal</th>\n",
       "      <th>CVC - Abnormal</th>\n",
       "      <th>CVC - Borderline</th>\n",
       "      <th>CVC - Normal</th>\n",
       "      <th>Swan Ganz Catheter Present</th>\n",
       "    </tr>\n",
       "  </thead>\n",
       "  <tbody>\n",
       "    <tr>\n",
       "      <th>0</th>\n",
       "      <td>1.2.826.0.1.3680043.8.498.46923145579096002617...</td>\n",
       "      <td>2.964985e-02</td>\n",
       "      <td>4.040138e-01</td>\n",
       "      <td>5.668914e-01</td>\n",
       "      <td>0.012862</td>\n",
       "      <td>0.031203</td>\n",
       "      <td>5.278735e-02</td>\n",
       "      <td>8.427826e-01</td>\n",
       "      <td>0.147078</td>\n",
       "      <td>0.330240</td>\n",
       "      <td>0.857853</td>\n",
       "      <td>9.066997e-01</td>\n",
       "    </tr>\n",
       "    <tr>\n",
       "      <th>1</th>\n",
       "      <td>1.2.826.0.1.3680043.8.498.84006870182611080091...</td>\n",
       "      <td>5.676352e-08</td>\n",
       "      <td>2.289800e-07</td>\n",
       "      <td>3.403589e-08</td>\n",
       "      <td>0.000007</td>\n",
       "      <td>0.000002</td>\n",
       "      <td>9.025965e-08</td>\n",
       "      <td>2.560193e-07</td>\n",
       "      <td>0.033636</td>\n",
       "      <td>0.025208</td>\n",
       "      <td>0.963075</td>\n",
       "      <td>1.636093e-08</td>\n",
       "    </tr>\n",
       "    <tr>\n",
       "      <th>2</th>\n",
       "      <td>1.2.826.0.1.3680043.8.498.12219033294413119947...</td>\n",
       "      <td>3.062479e-05</td>\n",
       "      <td>2.203119e-05</td>\n",
       "      <td>1.239392e-05</td>\n",
       "      <td>0.000677</td>\n",
       "      <td>0.000324</td>\n",
       "      <td>9.183262e-05</td>\n",
       "      <td>1.404506e-04</td>\n",
       "      <td>0.119901</td>\n",
       "      <td>0.341269</td>\n",
       "      <td>0.707893</td>\n",
       "      <td>1.836604e-03</td>\n",
       "    </tr>\n",
       "    <tr>\n",
       "      <th>3</th>\n",
       "      <td>1.2.826.0.1.3680043.8.498.84994474380235968109...</td>\n",
       "      <td>2.531399e-02</td>\n",
       "      <td>1.624583e-01</td>\n",
       "      <td>3.640478e-01</td>\n",
       "      <td>0.072173</td>\n",
       "      <td>0.036346</td>\n",
       "      <td>7.021247e-01</td>\n",
       "      <td>2.136774e-01</td>\n",
       "      <td>0.207465</td>\n",
       "      <td>0.416890</td>\n",
       "      <td>0.698625</td>\n",
       "      <td>2.770736e-01</td>\n",
       "    </tr>\n",
       "    <tr>\n",
       "      <th>4</th>\n",
       "      <td>1.2.826.0.1.3680043.8.498.35798987793805669662...</td>\n",
       "      <td>3.674483e-06</td>\n",
       "      <td>3.757548e-06</td>\n",
       "      <td>3.913400e-07</td>\n",
       "      <td>0.000230</td>\n",
       "      <td>0.000240</td>\n",
       "      <td>8.505391e-06</td>\n",
       "      <td>1.126885e-04</td>\n",
       "      <td>0.040205</td>\n",
       "      <td>0.160007</td>\n",
       "      <td>0.868000</td>\n",
       "      <td>7.903503e-06</td>\n",
       "    </tr>\n",
       "  </tbody>\n",
       "</table>\n",
       "</div>"
      ],
      "text/plain": [
       "                                    StudyInstanceUID  ETT - Abnormal  \\\n",
       "0  1.2.826.0.1.3680043.8.498.46923145579096002617...    2.964985e-02   \n",
       "1  1.2.826.0.1.3680043.8.498.84006870182611080091...    5.676352e-08   \n",
       "2  1.2.826.0.1.3680043.8.498.12219033294413119947...    3.062479e-05   \n",
       "3  1.2.826.0.1.3680043.8.498.84994474380235968109...    2.531399e-02   \n",
       "4  1.2.826.0.1.3680043.8.498.35798987793805669662...    3.674483e-06   \n",
       "\n",
       "   ETT - Borderline  ETT - Normal  NGT - Abnormal  NGT - Borderline  \\\n",
       "0      4.040138e-01  5.668914e-01        0.012862          0.031203   \n",
       "1      2.289800e-07  3.403589e-08        0.000007          0.000002   \n",
       "2      2.203119e-05  1.239392e-05        0.000677          0.000324   \n",
       "3      1.624583e-01  3.640478e-01        0.072173          0.036346   \n",
       "4      3.757548e-06  3.913400e-07        0.000230          0.000240   \n",
       "\n",
       "   NGT - Incompletely Imaged  NGT - Normal  CVC - Abnormal  CVC - Borderline  \\\n",
       "0               5.278735e-02  8.427826e-01        0.147078          0.330240   \n",
       "1               9.025965e-08  2.560193e-07        0.033636          0.025208   \n",
       "2               9.183262e-05  1.404506e-04        0.119901          0.341269   \n",
       "3               7.021247e-01  2.136774e-01        0.207465          0.416890   \n",
       "4               8.505391e-06  1.126885e-04        0.040205          0.160007   \n",
       "\n",
       "   CVC - Normal  Swan Ganz Catheter Present  \n",
       "0      0.857853                9.066997e-01  \n",
       "1      0.963075                1.636093e-08  \n",
       "2      0.707893                1.836604e-03  \n",
       "3      0.698625                2.770736e-01  \n",
       "4      0.868000                7.903503e-06  "
      ]
     },
     "execution_count": 8,
     "metadata": {},
     "output_type": "execute_result"
    }
   ],
   "source": [
    "cfg = CFG(filter_sizes=[64, 128, 256, 512], HL=[2048], epochs=30, n_folds=5)\n",
    "\n",
    "transforms = transforms.Compose([transforms.ToTensor(), ])\n",
    "\n",
    "ts_data_setup = DS(X=ts_images, y=None, transform=transforms, mode=\"test\")\n",
    "ts_data = DL(ts_data_setup, batch_size=cfg.ts_batch_size, shuffle=False)\n",
    "\n",
    "model = CNN(filter_sizes=cfg.filter_sizes, HL=cfg.HL, OL=cfg.OL)\n",
    "\n",
    "y_pred = predict_(model=model, dataloader=ts_data, device=cfg.device, path=\"../input/rccl-384-train/Epoch_14.pt\")\n",
    "y_pred = np.clip(y_pred, 1e-15, 1-1e-15)\n",
    "\n",
    "ss.iloc[:, 1:] = y_pred\n",
    "ss.to_csv(\"./submission.csv\", index=False)\n",
    "ss.head(5)"
   ]
  },
  {
   "cell_type": "code",
   "execution_count": null,
   "metadata": {
    "papermill": {
     "duration": 0.013231,
     "end_time": "2020-12-29T12:06:37.609156",
     "exception": false,
     "start_time": "2020-12-29T12:06:37.595925",
     "status": "completed"
    },
    "tags": []
   },
   "outputs": [],
   "source": []
  }
 ],
 "metadata": {
  "kernelspec": {
   "display_name": "Python 3",
   "language": "python",
   "name": "python3"
  },
  "language_info": {
   "codemirror_mode": {
    "name": "ipython",
    "version": 3
   },
   "file_extension": ".py",
   "mimetype": "text/x-python",
   "name": "python",
   "nbconvert_exporter": "python",
   "pygments_lexer": "ipython3",
   "version": "3.7.6"
  },
  "papermill": {
   "duration": 171.709663,
   "end_time": "2020-12-29T12:06:38.231692",
   "environment_variables": {},
   "exception": null,
   "input_path": "__notebook__.ipynb",
   "output_path": "__notebook__.ipynb",
   "parameters": {},
   "start_time": "2020-12-29T12:03:46.522029",
   "version": "2.1.0"
  }
 },
 "nbformat": 4,
 "nbformat_minor": 4
}
