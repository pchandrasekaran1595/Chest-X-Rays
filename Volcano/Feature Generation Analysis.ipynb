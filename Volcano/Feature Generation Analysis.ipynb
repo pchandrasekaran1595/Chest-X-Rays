{
  "nbformat": 4,
  "nbformat_minor": 0,
  "metadata": {
    "colab": {
      "name": "Volcano_Baseline.ipynb",
      "provenance": [],
      "collapsed_sections": [],
      "authorship_tag": "ABX9TyMCmYz/deM1mc9ep5jH4R5W"
    },
    "kernelspec": {
      "name": "python3",
      "display_name": "Python 3"
    },
    "accelerator": "GPU"
  },
  "cells": [
    {
      "cell_type": "code",
      "metadata": {
        "id": "Qsn3ePl6mwdb",
        "outputId": "d1b1c41a-ebbf-46b0-8ac9-2508386ad9cd",
        "colab": {
          "base_uri": "https://localhost:8080/",
          "height": 35
        }
      },
      "source": [
        "from google.colab import drive\n",
        "drive.mount(\"/content/gdrive\")"
      ],
      "execution_count": null,
      "outputs": [
        {
          "output_type": "stream",
          "text": [
            "Mounted at /content/gdrive\n"
          ],
          "name": "stdout"
        }
      ]
    },
    {
      "cell_type": "markdown",
      "metadata": {
        "id": "G7r9P_GFuoAZ"
      },
      "source": [
        "# Library Imports"
      ]
    },
    {
      "cell_type": "code",
      "metadata": {
        "id": "GRnwOQ_EmnT1"
      },
      "source": [
        "import numpy as np\n",
        "import pandas as pd\n",
        "import matplotlib.pyplot as plt\n",
        "\n",
        "from sklearn.preprocessing import StandardScaler\n",
        "from sklearn.impute import SimpleImputer\n",
        "from sklearn.metrics import mean_absolute_error, mean_squared_error, r2_score\n",
        "from sklearn.model_selection import KFold, train_test_split\n",
        "\n",
        "import torch\n",
        "from torch import nn, optim\n",
        "from torch.utils.data import Dataset\n",
        "from torch.utils.data import DataLoader as DL\n",
        "from torch.nn.utils import weight_norm as WN\n",
        "import torch.nn.functional as F\n",
        "\n",
        "import random as r\n",
        "from time import time"
      ],
      "execution_count": null,
      "outputs": []
    },
    {
      "cell_type": "code",
      "metadata": {
        "id": "5UYqfNP4pLLT"
      },
      "source": [
        "def breaker():\n",
        "    print(\"\\n\" + 30*\"-\"+ \"\\n\")\n",
        "    \n",
        "def head(x, no_of_ele=5):\n",
        "    breaker()\n",
        "    print(x[:no_of_ele])\n",
        "    breaker()\n",
        "    \n",
        "def r2loss(y_true, y_pred):\n",
        "  y_mean = torch.mean(y_true)\n",
        "  ss_tol = 0\n",
        "  for i in range(y_true.shape[0]):\n",
        "    ss_tol += (y_true[i] - y_mean)**2\n",
        "  ss_res = torch.sum((y_true - y_pred)**2)\n",
        "  return (1 - (ss_res/ss_tol))[0]\n",
        "\n",
        "def doSplit(X=None, y=None):\n",
        "  return train_test_split(X, y, test_size=0.2, random_state=0)\n",
        "\n",
        "si_60  = SimpleImputer(missing_values=np.nan, strategy=\"mean\")\n",
        "si_80  = SimpleImputer(missing_values=np.nan, strategy=\"mean\")\n",
        "si_110 = SimpleImputer(missing_values=np.nan, strategy=\"mean\")\n",
        "\n",
        "sc_X_60  = StandardScaler()\n",
        "sc_X_80  = StandardScaler()\n",
        "sc_X_110 = StandardScaler()\n",
        "sc_y_60  = StandardScaler()\n",
        "sc_y_80  = StandardScaler()\n",
        "sc_y_110 = StandardScaler()"
      ],
      "execution_count": null,
      "outputs": []
    },
    {
      "cell_type": "markdown",
      "metadata": {
        "id": "Il-DE7ULuqAP"
      },
      "source": [
        "# Data Handling"
      ]
    },
    {
      "cell_type": "code",
      "metadata": {
        "id": "ozV1pcW_o5h6",
        "outputId": "ac0ccf3a-8a48-4b08-ef5c-07e86d9c2f67",
        "colab": {
          "base_uri": "https://localhost:8080/",
          "height": 347
        }
      },
      "source": [
        "tr_60  = pd.read_csv(\"/content/gdrive/My Drive/Datasets/Volcano/train_data_60.csv\")\n",
        "tr_80  = pd.read_csv(\"/content/gdrive/My Drive/Datasets/Volcano/train_data_80.csv\")\n",
        "tr_110 = pd.read_csv(\"/content/gdrive/My Drive/Datasets/Volcano/train_data_110.csv\")\n",
        "tr_out = pd.read_csv(\"/content/gdrive/My Drive/Datasets/Volcano/train_outs.csv\")\n",
        "\n",
        "X_60  = tr_60.copy().values\n",
        "X_80  = tr_80.copy().values\n",
        "X_110 = tr_110.copy().values\n",
        "y = tr_out[\"time_to_eruption\"].copy().values\n",
        "\n",
        "del tr_out\n",
        "del tr_60\n",
        "del tr_80\n",
        "del tr_110\n",
        "\n",
        "breaker()\n",
        "print(\"TR_60     :\", repr(X_60.shape))\n",
        "breaker()\n",
        "print(\"TR_80     :\", repr(X_80.shape))\n",
        "breaker()\n",
        "print(\"TR_110    :\", repr(X_110.shape))\n",
        "breaker()\n",
        "print(\"Out Shape :\", repr(y.shape))\n",
        "breaker()\n",
        "\n",
        "num_features_60  = X_60.shape[1]\n",
        "num_features_80  = X_80.shape[1]\n",
        "num_features_110 = X_110.shape[1]\n",
        "num_outputs      = 1"
      ],
      "execution_count": null,
      "outputs": [
        {
          "output_type": "stream",
          "text": [
            "\n",
            "------------------------------\n",
            "\n",
            "TR_60     : (4431, 60)\n",
            "\n",
            "------------------------------\n",
            "\n",
            "TR_80     : (4431, 80)\n",
            "\n",
            "------------------------------\n",
            "\n",
            "TR_110    : (4431, 110)\n",
            "\n",
            "------------------------------\n",
            "\n",
            "Out Shape : (4431,)\n",
            "\n",
            "------------------------------\n",
            "\n"
          ],
          "name": "stdout"
        }
      ]
    },
    {
      "cell_type": "markdown",
      "metadata": {
        "id": "NFNxWckCusu4"
      },
      "source": [
        "**Dataset Template**"
      ]
    },
    {
      "cell_type": "code",
      "metadata": {
        "id": "phTFeq5gmXk_"
      },
      "source": [
        "class DS(Dataset):\n",
        "  def __init__(this, X=None, y=None, mode=\"train\"):\n",
        "    this.mode = mode\n",
        "    this.X = X\n",
        "    if mode == \"train\":\n",
        "      this.y = y\n",
        "    \n",
        "  def __len__(this):\n",
        "    return this.X.shape[0]\n",
        "\n",
        "  def __getitem__(this, idx):\n",
        "    if this.mode == \"train\":\n",
        "      return torch.FloatTensor(this.X[idx]), torch.FloatTensor(this.y[idx])\n",
        "    else:\n",
        "      return torch.FloatTensor(this.X[idx])"
      ],
      "execution_count": null,
      "outputs": []
    },
    {
      "cell_type": "code",
      "metadata": {
        "id": "EIstCKXXmZzd"
      },
      "source": [
        "X_train_60, X_valid_60, y_train_60, y_valid_60 = doSplit(X_60, y)\n",
        "X_train_80, X_valid_80, y_train_80, y_valid_80 = doSplit(X_80, y)\n",
        "X_train_110, X_valid_110, y_train_110, y_valid_110 = doSplit(X_110, y)\n",
        "\n",
        "#################### Training Sets ###################\n",
        "X_train_60 = si_60.fit_transform(X_train_60)\n",
        "X_train_60 = sc_X_60.fit_transform(X_train_60)\n",
        "y_train_60 = sc_y_60.fit_transform(y_train_60.reshape(-1,1)).reshape(-1)\n",
        "\n",
        "X_train_80 = si_80.fit_transform(X_train_80)\n",
        "X_train_80 = sc_X_80.fit_transform(X_train_80)\n",
        "y_train_80 = sc_y_80.fit_transform(y_train_80.reshape(-1,1)).reshape(-1)\n",
        "\n",
        "X_train_110 = si_110.fit_transform(X_train_110)\n",
        "X_train_110 = sc_X_110.fit_transform(X_train_110)\n",
        "y_train_110 = sc_y_110.fit_transform(y_train_110.reshape(-1,1)).reshape(-1)\n",
        "\n",
        "\n",
        "#################### Validation Sets ##################\n",
        "X_valid_60 = si_60.transform(X_valid_60)\n",
        "X_valid_60 = sc_X_60.transform(X_valid_60)\n",
        "\n",
        "X_valid_80 = si_80.transform(X_valid_80)\n",
        "X_valid_80 = sc_X_80.transform(X_valid_80)\n",
        "\n",
        "X_valid_110 = si_110.transform(X_valid_110)\n",
        "X_valid_110 = sc_X_110.transform(X_valid_110)\n",
        "\n",
        "##################### Datasets ########################\n",
        "trds_60  = DS(X_train_60, y_train_60.reshape(-1,1))\n",
        "trds_80  = DS(X_train_80, y_train_80.reshape(-1,1))\n",
        "trds_110 = DS(X_train_110, y_train_110.reshape(-1,1))\n",
        "\n",
        "vads_60  = DS(X_valid_60, y_valid_60.reshape(-1,1))\n",
        "vads_80  = DS(X_valid_80, y_valid_80.reshape(-1,1))\n",
        "vads_110 = DS(X_valid_110, y_valid_110.reshape(-1,1))\n",
        "\n",
        "num_obs_valid = X_valid_60.shape[0]"
      ],
      "execution_count": null,
      "outputs": []
    },
    {
      "cell_type": "markdown",
      "metadata": {
        "id": "2uqj_E0KuyCx"
      },
      "source": [
        "# ANN Setup and Training"
      ]
    },
    {
      "cell_type": "markdown",
      "metadata": {
        "id": "8BAkknHCu0Oi"
      },
      "source": [
        "**Setup**"
      ]
    },
    {
      "cell_type": "code",
      "metadata": {
        "id": "oOgTwWHkqH3C"
      },
      "source": [
        "class ANN_CFG():\n",
        "  device = torch.device(\"cuda:0\" if torch.cuda.is_available() else \"cpu\")\n",
        "  batch_size = 256\n",
        "  epochs = 50\n",
        "\n",
        "  IL_60  = num_features_60\n",
        "  IL_80  = num_features_80\n",
        "  IL_110 = num_features_110\n",
        "\n",
        "  HL = [2048, 2048, 2048]\n",
        "\n",
        "  OL = num_outputs\n",
        "\n",
        "cfg = ANN_CFG()\n",
        "\n",
        "dataloaders = {\"train_60\"  : DL(trds_60, batch_size=cfg.batch_size, shuffle=True),\n",
        "               \"train_80\"  : DL(trds_80, batch_size=cfg.batch_size, shuffle=True),\n",
        "               \"train_110\" : DL(trds_110, batch_size=cfg.batch_size, shuffle=True),\n",
        "\n",
        "               \"evals_60\"  : DL(vads_60, batch_size=cfg.batch_size, shuffle=False),\n",
        "               \"evals_80\"  : DL(vads_80, batch_size=cfg.batch_size, shuffle=False),\n",
        "               \"evals_110\" : DL(vads_110, batch_size=cfg.batch_size, shuffle=False)\n",
        "               }"
      ],
      "execution_count": null,
      "outputs": []
    },
    {
      "cell_type": "code",
      "metadata": {
        "id": "KbT5xXxll3sj"
      },
      "source": [
        "class ANN(nn.Module):\n",
        "  def __init__(this, IL=None, HL=None, OL=None):\n",
        "    super(ANN, this).__init__()\n",
        "\n",
        "    this.BN1 = nn.BatchNorm1d(IL)\n",
        "    this.DP1 = nn.Dropout(p=0.25)\n",
        "    this.FC1 = WN(nn.Linear(IL, HL[0]))\n",
        "        \n",
        "    this.BN2 = nn.BatchNorm1d(HL[0])\n",
        "    this.DP2 = nn.Dropout(p=0.5)\n",
        "    this.FC2 = WN(nn.Linear(HL[0], HL[1]))\n",
        "        \n",
        "    this.BN3 = nn.BatchNorm1d(HL[1])\n",
        "    this.DP3 = nn.Dropout(p=0.5)\n",
        "    this.FC3 = WN(nn.Linear(HL[1], HL[2]))\n",
        "        \n",
        "    this.BN4 = nn.BatchNorm1d(HL[2])\n",
        "    this.DP4 = nn.Dropout(p=0.5)\n",
        "    this.FC4 = WN(nn.Linear(HL[2], OL))\n",
        "\n",
        "  def forward(this, x):\n",
        "    x = this.BN1(x)\n",
        "    x = this.DP1(x)\n",
        "    x = F.relu(this.FC1(x))\n",
        "        \n",
        "    x = this.BN2(x)\n",
        "    x = this.DP2(x)\n",
        "    x = F.relu(this.FC2(x))\n",
        "        \n",
        "    x = this.BN3(x)\n",
        "    x = this.DP3(x)\n",
        "    x = F.relu(this.FC3(x))\n",
        "        \n",
        "    x = this.BN4(x)\n",
        "    x = this.DP4(x)\n",
        "    x = this.FC4(x)\n",
        "    return x\n",
        "\n",
        "  def getOptimizer(this):\n",
        "    return optim.Adam(this.parameters(), lr=1e-3, weight_decay=0)"
      ],
      "execution_count": null,
      "outputs": []
    },
    {
      "cell_type": "markdown",
      "metadata": {
        "id": "XDXHy4eZu3DT"
      },
      "source": [
        "**Helper Functions used for ANN**"
      ]
    },
    {
      "cell_type": "code",
      "metadata": {
        "id": "hfkaYv9epOOb"
      },
      "source": [
        "def train_fn(model=None, optimizer=None, dataloader=None):\n",
        "  LP = []\n",
        "  model.train()\n",
        "\n",
        "  start_time = time()\n",
        "\n",
        "  for e in range(cfg.epochs):\n",
        "    lossPerPass = 0\n",
        "    for X, y in dataloader:\n",
        "      X, y = X.to(cfg.device), y.to(cfg.device)\n",
        "\n",
        "      optimizer.zero_grad()\n",
        "      output = model(X)\n",
        "      loss = nn.MSELoss()(output, y) + nn.L1Loss()(output, y)\n",
        "      lossPerPass += loss.item()\n",
        "      loss.backward()\n",
        "      optimizer.step()\n",
        "    LP.append(lossPerPass)\n",
        "  \n",
        "  breaker()\n",
        "  print(\"Time Taken to Train : %.2f seconds\" % (time() - start_time))\n",
        "  breaker()\n",
        "  return LP\n",
        "\n",
        "def eval_fn(model=None, dataloader=None, mode=\"eval\"):\n",
        "  Pred = torch.zeros(cfg.batch_size, 1).to(cfg.device)\n",
        "\n",
        "  model.eval()\n",
        "\n",
        "  if mode == \"eval\":\n",
        "    for X, y in dataloader:\n",
        "      X = X.to(cfg.device)\n",
        "      with torch.no_grad():\n",
        "        output = model(X)\n",
        "      Pred = torch.cat((Pred, output), dim=0)\n",
        "  else:\n",
        "    for X in dataloader:\n",
        "      X = X.to(cfg.device)\n",
        "      with torch.no_grad():\n",
        "        output = model(X)\n",
        "      Pred = torch.cat((Pred, output), dim=0)\n",
        "\n",
        "  Pred = Pred[cfg.batch_size:]\n",
        "  return Pred.cpu().numpy().reshape(-1)"
      ],
      "execution_count": null,
      "outputs": []
    },
    {
      "cell_type": "markdown",
      "metadata": {
        "id": "730cGMaVu6Rx"
      },
      "source": [
        "**Training**"
      ]
    },
    {
      "cell_type": "code",
      "metadata": {
        "id": "M0h6E3KwuDet",
        "outputId": "86382a56-8162-433c-d341-a631b89830cf",
        "colab": {
          "base_uri": "https://localhost:8080/",
          "height": 381
        }
      },
      "source": [
        "Net_60 = ANN(cfg.IL_60, cfg.HL, cfg.OL)\n",
        "Net_60.to(cfg.device)\n",
        "optimizer_60 = Net_60.getOptimizer()\n",
        "\n",
        "Net_80 = ANN(cfg.IL_80, cfg.HL, cfg.OL)\n",
        "Net_80.to(cfg.device)\n",
        "optimizer_80 = Net_80.getOptimizer()\n",
        "\n",
        "Net_110 = ANN(cfg.IL_110, cfg.HL, cfg.OL)\n",
        "Net_110.to(cfg.device)\n",
        "optimizer_110 = Net_110.getOptimizer()\n",
        "\n",
        "LP_60  = train_fn(Net_60, optimizer_60, dataloaders[\"train_60\"])\n",
        "LP_80  = train_fn(Net_80, optimizer_80, dataloaders[\"train_80\"])\n",
        "LP_110 = train_fn(Net_110, optimizer_110, dataloaders[\"train_110\"])"
      ],
      "execution_count": null,
      "outputs": [
        {
          "output_type": "stream",
          "text": [
            "\n",
            "------------------------------\n",
            "\n",
            "Time Taken to Train : 6.91 seconds\n",
            "\n",
            "------------------------------\n",
            "\n",
            "\n",
            "------------------------------\n",
            "\n",
            "Time Taken to Train : 6.92 seconds\n",
            "\n",
            "------------------------------\n",
            "\n",
            "\n",
            "------------------------------\n",
            "\n",
            "Time Taken to Train : 6.92 seconds\n",
            "\n",
            "------------------------------\n",
            "\n"
          ],
          "name": "stdout"
        }
      ]
    },
    {
      "cell_type": "code",
      "metadata": {
        "id": "spPRoHKpuXjd",
        "outputId": "217968ed-0f48-4631-b470-f8b3c4c134b5",
        "colab": {
          "base_uri": "https://localhost:8080/",
          "height": 677
        }
      },
      "source": [
        "breaker()\n",
        "print(\"Last Epoch Loss (60)  : %.2f\" % (LP_60[-1]))\n",
        "print(\"\\nLast Epoch Loss (80)  : %.2f\" % (LP_80[-1]))\n",
        "print(\"\\nLast Epoch Loss (110) : %.2f\" % (LP_110[-1]))\n",
        "breaker()\n",
        "\n",
        "x_Axis = [i+1 for i in range(cfg.epochs)]\n",
        "\n",
        "plt.figure(figsize=(15, 7.5))\n",
        "plt.plot(x_Axis, LP_60, \"r--\", label=\"60 Features\")\n",
        "plt.plot(x_Axis, LP_80, \"b\", label=\"80 Features\")\n",
        "plt.plot(x_Axis, LP_110, \"go\", label=\"110 Features\")\n",
        "plt.xlabel(\"Epochs --->\")\n",
        "plt.ylabel(\"Loss --->\")\n",
        "plt.title(\"Training Loss\")\n",
        "plt.legend()\n",
        "plt.show()"
      ],
      "execution_count": null,
      "outputs": [
        {
          "output_type": "stream",
          "text": [
            "\n",
            "------------------------------\n",
            "\n",
            "Last Epoch Loss (60)  : 19.76\n",
            "\n",
            "Last Epoch Loss (80)  : 18.31\n",
            "\n",
            "Last Epoch Loss (110) : 18.64\n",
            "\n",
            "------------------------------\n",
            "\n"
          ],
          "name": "stdout"
        },
        {
          "output_type": "display_data",
          "data": {
            "image/png": "[encoded data removed]",
            "text/plain": [
              "<Figure size 1080x540 with 1 Axes>"
            ]
          },
          "metadata": {
            "tags": [],
            "needs_background": "light"
          }
        }
      ]
    },
    {
      "cell_type": "code",
      "metadata": {
        "id": "9ij8H92yN-57",
        "outputId": "f362ec4c-d838-4e76-b2bf-7112efc38336",
        "colab": {
          "base_uri": "https://localhost:8080/",
          "height": 277
        }
      },
      "source": [
        "y_pred_60 = eval_fn(Net_60, dataloaders[\"evals_60\"])\n",
        "y_pred_60 = sc_y_60.inverse_transform(y_pred_60)\n",
        "\n",
        "y_pred_80 = eval_fn(Net_80, dataloaders[\"evals_80\"])\n",
        "y_pred_80 = sc_y_80.inverse_transform(y_pred_80)\n",
        "\n",
        "y_pred_110 = eval_fn(Net_110, dataloaders[\"evals_110\"])\n",
        "y_pred_110 = sc_y_110.inverse_transform(y_pred_110)\n",
        "\n",
        "breaker()\n",
        "print(\"MAE 60  : %.5f\" % (mean_absolute_error(y_valid_60, y_pred_60)))\n",
        "breaker()\n",
        "print(\"MAE 80  : %.5f\" % (mean_absolute_error(y_valid_80, y_pred_80)))\n",
        "breaker()\n",
        "print(\"MAE 110 : %.5f\" % (mean_absolute_error(y_valid_110, y_pred_110)))\n",
        "breaker()\n",
        "\n",
        "del y_pred_60, y_pred_80, y_pred_110"
      ],
      "execution_count": null,
      "outputs": [
        {
          "output_type": "stream",
          "text": [
            "\n",
            "------------------------------\n",
            "\n",
            "MAE 60  : 8740655.93672\n",
            "\n",
            "------------------------------\n",
            "\n",
            "MAE 80  : 8207963.95660\n",
            "\n",
            "------------------------------\n",
            "\n",
            "MAE 110 : 7752534.45427\n",
            "\n",
            "------------------------------\n",
            "\n"
          ],
          "name": "stdout"
        }
      ]
    },
    {
      "cell_type": "code",
      "metadata": {
        "id": "ikogbHoJBZyE"
      },
      "source": [
        "ss = pd.read_csv(\"/content/gdrive/My Drive/Datasets/Volcano/sample_submission.csv\")\n",
        "\n",
        "ss_60  = ss.copy()\n",
        "ss_80  = ss.copy()\n",
        "ss_110 = ss.copy()\n",
        "ts_60  = pd.read_csv(\"/content/gdrive/My Drive/Datasets/Volcano/test_data_60.csv\")\n",
        "ts_80  = pd.read_csv(\"/content/gdrive/My Drive/Datasets/Volcano/test_data_80.csv\")\n",
        "ts_110 = pd.read_csv(\"/content/gdrive/My Drive/Datasets/Volcano/test_data_110.csv\")\n",
        "\n",
        "X_test_60  = ts_60.copy().values\n",
        "X_test_80  = ts_80.copy().values\n",
        "X_test_110 = ts_110.copy().values\n",
        "\n",
        "del ts_60\n",
        "del ts_80\n",
        "del ts_110\n",
        "del ss\n",
        "\n",
        "X_test_60 = si_60.transform(X_test_60)\n",
        "X_test_60 = sc_X_60.transform(X_test_60)\n",
        "\n",
        "X_test_80 = si_80.transform(X_test_80)\n",
        "X_test_80 = sc_X_80.transform(X_test_80)\n",
        "\n",
        "X_test_110 = si_110.transform(X_test_110)\n",
        "X_test_110 = sc_X_110.transform(X_test_110)\n",
        "\n",
        "tsds_60  = DS(X_test_60, None, mode=\"test\")\n",
        "tsds_80  = DS(X_test_80, None, mode=\"test\")\n",
        "tsds_110 = DS(X_test_110, None, mode=\"test\")\n",
        "\n",
        "tsloaders = {\"test_60\"  : DL(tsds_60, batch_size=cfg.batch_size, shuffle=False),\n",
        "             \"test_80\"  : DL(tsds_80, batch_size=cfg.batch_size, shuffle=False),\n",
        "             \"test_110\" : DL(tsds_110, batch_size=cfg.batch_size, shuffle=False)\n",
        "            }\n",
        "\n",
        "y_pred_60 = eval_fn(Net_60, tsloaders[\"test_60\"], mode=\"test\")\n",
        "y_pred_60 = sc_y_60.inverse_transform(y_pred_60)\n",
        "\n",
        "y_pred_80 = eval_fn(Net_80, tsloaders[\"test_80\"], mode=\"test\")\n",
        "y_pred_80 = sc_y_80.inverse_transform(y_pred_80)\n",
        "\n",
        "y_pred_110 = eval_fn(Net_110, tsloaders[\"test_110\"], mode=\"test\")\n",
        "y_pred_110 = sc_y_110.inverse_transform(y_pred_110)\n",
        "\n",
        "ss_60[\"time_to_eruption\"] = y_pred_60\n",
        "ss_60.to_csv(\"/content/gdrive/My Drive/Datasets/Volcano/submission_60.csv\",index=False)\n",
        "\n",
        "ss_80[\"time_to_eruption\"] = y_pred_80\n",
        "ss_80.to_csv(\"/content/gdrive/My Drive/Datasets/Volcano/submission_80.csv\",index=False)\n",
        "\n",
        "ss_110[\"time_to_eruption\"] = y_pred_110\n",
        "ss_110.to_csv(\"/content/gdrive/My Drive/Datasets/Volcano/submission_110.csv\",index=False)"
      ],
      "execution_count": null,
      "outputs": []
    },
    {
      "cell_type": "code",
      "metadata": {
        "id": "tFCjdRYbKp0k"
      },
      "source": [
        ""
      ],
      "execution_count": null,
      "outputs": []
    }
  ]
}
