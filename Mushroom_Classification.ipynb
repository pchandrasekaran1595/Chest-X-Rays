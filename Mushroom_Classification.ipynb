{
 "cells": [
  {
   "cell_type": "code",
   "execution_count": 1,
   "metadata": {
    "execution": {
     "iopub.execute_input": "2020-11-06T22:13:36.636269Z",
     "iopub.status.busy": "2020-11-06T22:13:36.635117Z",
     "iopub.status.idle": "2020-11-06T22:13:36.638545Z",
     "shell.execute_reply": "2020-11-06T22:13:36.639128Z"
    },
    "papermill": {
     "duration": 0.031325,
     "end_time": "2020-11-06T22:13:36.639335",
     "exception": false,
     "start_time": "2020-11-06T22:13:36.608010",
     "status": "completed"
    },
    "tags": []
   },
   "outputs": [],
   "source": [
    "from time import time\n",
    "\n",
    "nb_start_time = time()"
   ]
  },
  {
   "cell_type": "markdown",
   "metadata": {
    "papermill": {
     "duration": 0.016677,
     "end_time": "2020-11-06T22:13:36.673652",
     "exception": false,
     "start_time": "2020-11-06T22:13:36.656975",
     "status": "completed"
    },
    "tags": []
   },
   "source": [
    "# Library Imports"
   ]
  },
  {
   "cell_type": "code",
   "execution_count": 2,
   "metadata": {
    "_cell_guid": "b1076dfc-b9ad-4769-8c92-a6c4dae69d19",
    "_uuid": "8f2839f25d086af736a60e9eeb907d3b93b6e0e5",
    "execution": {
     "iopub.execute_input": "2020-11-06T22:13:36.716204Z",
     "iopub.status.busy": "2020-11-06T22:13:36.715367Z",
     "iopub.status.idle": "2020-11-06T22:13:39.305553Z",
     "shell.execute_reply": "2020-11-06T22:13:39.304848Z"
    },
    "papermill": {
     "duration": 2.615622,
     "end_time": "2020-11-06T22:13:39.305693",
     "exception": false,
     "start_time": "2020-11-06T22:13:36.690071",
     "status": "completed"
    },
    "tags": []
   },
   "outputs": [],
   "source": [
    "import numpy as np\n",
    "import pandas as pd\n",
    "import matplotlib.pyplot as plt\n",
    "\n",
    "import torch\n",
    "from torch import optim, nn\n",
    "from torch.utils.data import Dataset\n",
    "from torch.utils.data import DataLoader as DL\n",
    "from torch.nn.utils import weight_norm as WN\n",
    "import torch.nn.functional as F\n",
    "\n",
    "#from time import time\n",
    "import random as r\n",
    "\n",
    "from sklearn.preprocessing import StandardScaler, MinMaxScaler\n",
    "from sklearn.metrics import accuracy_score, f1_score, precision_recall_fscore_support\n",
    "from sklearn.impute import SimpleImputer\n",
    "from sklearn.model_selection import KFold"
   ]
  },
  {
   "cell_type": "markdown",
   "metadata": {
    "papermill": {
     "duration": 0.016452,
     "end_time": "2020-11-06T22:13:39.338712",
     "exception": false,
     "start_time": "2020-11-06T22:13:39.322260",
     "status": "completed"
    },
    "tags": []
   },
   "source": [
    "# Helper Functions"
   ]
  },
  {
   "cell_type": "code",
   "execution_count": 3,
   "metadata": {
    "_cell_guid": "79c7e3d0-c299-4dcb-8224-4455121ee9b0",
    "_uuid": "d629ff2d2480ee46fbb7e2d37f6b5fab8052498a",
    "execution": {
     "iopub.execute_input": "2020-11-06T22:13:39.387910Z",
     "iopub.status.busy": "2020-11-06T22:13:39.377279Z",
     "iopub.status.idle": "2020-11-06T22:13:39.425349Z",
     "shell.execute_reply": "2020-11-06T22:13:39.424656Z"
    },
    "papermill": {
     "duration": 0.068536,
     "end_time": "2020-11-06T22:13:39.425501",
     "exception": false,
     "start_time": "2020-11-06T22:13:39.356965",
     "status": "completed"
    },
    "tags": []
   },
   "outputs": [],
   "source": [
    "def breaker():\n",
    "    print(\"\\n\" + 30*\"-\" + \"\\n\")\n",
    "    \n",
    "def head(x=None, no_of_ele=5):\n",
    "    breaker()\n",
    "    print(x[:no_of_ele])\n",
    "    breaker()\n",
    "    \n",
    "def getCol(x):\n",
    "    return [col for col in x.columns]\n",
    "\n",
    "def preprocess(x=None, *args):\n",
    "    df = x.copy()\n",
    "    df[args[0]] = df[args[0]].map({'b' : 0, 'c' : 1, 'f' : 2, 'k' : 3, 's' : 4, 'x' : 5})\n",
    "    df[args[1]] = df[args[1]].map({'f' : 0, 'g' : 1, 's' : 2, 'y' : 3})\n",
    "    df[args[2]] = df[args[2]].map({'b' : 0, 'c' : 1, 'e' : 2, 'g' : 3, 'n' : 4, 'p' : 5, \n",
    "                                   'r' : 6, 'u' : 7, 'w' : 8, 'y' : 9})\n",
    "    df[args[3]] = df[args[3]].map({'f' : 0, 't' : 1})\n",
    "    df[args[4]] = df[args[4]].map({'a' : 0, 'c' : 1, 'f' : 2, 'l' : 3, 'm' : 4, 'n' : 5, \n",
    "                                   'p' : 6, 's' : 7, 'y' : 8})\n",
    "    df[args[5]] = df[args[5]].map({'a' : 0, 'f' : 1, 'd' : 2, 'n' : 3})\n",
    "    df[args[6]] = df[args[6]].map({'c' : 0, 'w' : 1, 'd' : 2})\n",
    "    df[args[7]] = df[args[7]].map({'b' : 0, 'n' : 1})\n",
    "    df[args[8]] = df[args[8]].map({'b' : 0, 'e' : 1, 'g' : 2, 'h' : 3, 'k' : 4, 'n' : 5, \n",
    "                                   'o' : 6, 'p' : 7, 'r' : 8, 'u' : 9, 'w' : 10, 'y' : 11})\n",
    "    df[args[9]] = df[args[9]].map({'e' : 0, 't' : 1})\n",
    "    df[args[10]] = df[args[10]].map({'?' : 0, 'b' : 1, 'c' : 2, 'e' : 3, 'r' : 4, 'z' : 5,\n",
    "                                     'u' : 6})\n",
    "    df[args[11]] = df[args[11]].map({'f' : 0, 'k' : 1, 's' : 2, 'y' : 3})\n",
    "    df[args[12]] = df[args[12]].map({'f' : 0, 'k' : 1, 's' : 2, 'y' : 3})\n",
    "    df[args[13]] = df[args[13]].map({'b' : 0, 'c' : 1, 'e' : 2, 'g' : 3, 'n' : 4, 'o' : 5, \n",
    "                                     'p' : 6, 'w' : 7, 'y' : 8})\n",
    "    df[args[14]] = df[args[14]].map({'b' : 0, 'c' : 1, 'e' : 2, 'g' : 3, 'n' : 4, 'o' : 5, \n",
    "                                     'p' : 6, 'w' : 7, 'y' : 8})\n",
    "    df[args[15]] = df[args[15]].map({'p' : 0, 'u' : 1})\n",
    "    df[args[16]] = df[args[16]].map({'n' : 0, 'o' : 1, 'w' : 2, 'y' : 3})\n",
    "    df[args[17]] = df[args[17]].map({'n' : 0, 'o' : 1, 't' : 2})\n",
    "    df[args[18]] = df[args[18]].map({'c' : 0, 'e' : 1, 'f' : 2, 'l' : 3, 'n' : 4, 'p' : 5,\n",
    "                                     's' : 6, 'z' : 7})\n",
    "    df[args[19]] = df[args[19]].map({'b' : 0, 'h' : 1, 'k' : 2, 'n' : 3, 'o' : 4, 'r' : 5,\n",
    "                                     'u' : 6, 'w' : 7, 'y' : 8})\n",
    "    df[args[20]] = df[args[20]].map({'a' : 0, 'c' : 1, 'n' : 2, 's' : 3, 'v' : 4, 'y' : 5})\n",
    "    df[args[21]] = df[args[21]].map({'d' : 0, 'g' : 1, 'l' : 2, 'm' : 3, 'p' : 4, 'u' : 5, \n",
    "                                     'w' : 6})\n",
    "    df[args[22]] = df[args[22]].map({'e' : 0, 'p' : 1})\n",
    "    return df\n",
    "\n",
    "sc_X = StandardScaler()\n",
    "mms  = MinMaxScaler(feature_range=(0, 1))"
   ]
  },
  {
   "cell_type": "markdown",
   "metadata": {
    "papermill": {
     "duration": 0.016537,
     "end_time": "2020-11-06T22:13:39.459216",
     "exception": false,
     "start_time": "2020-11-06T22:13:39.442679",
     "status": "completed"
    },
    "tags": []
   },
   "source": [
    "# Data Handling"
   ]
  },
  {
   "cell_type": "markdown",
   "metadata": {
    "papermill": {
     "duration": 0.016377,
     "end_time": "2020-11-06T22:13:39.492425",
     "exception": false,
     "start_time": "2020-11-06T22:13:39.476048",
     "status": "completed"
    },
    "tags": []
   },
   "source": [
    "**Inputs**"
   ]
  },
  {
   "cell_type": "code",
   "execution_count": 4,
   "metadata": {
    "execution": {
     "iopub.execute_input": "2020-11-06T22:13:39.536909Z",
     "iopub.status.busy": "2020-11-06T22:13:39.535806Z",
     "iopub.status.idle": "2020-11-06T22:13:39.588559Z",
     "shell.execute_reply": "2020-11-06T22:13:39.587574Z"
    },
    "papermill": {
     "duration": 0.080046,
     "end_time": "2020-11-06T22:13:39.588760",
     "exception": false,
     "start_time": "2020-11-06T22:13:39.508714",
     "status": "completed"
    },
    "tags": []
   },
   "outputs": [
    {
     "name": "stdout",
     "output_type": "stream",
     "text": [
      "\n",
      "------------------------------\n",
      "\n",
      "Dataset Shape : (8124, 23)\n",
      "\n",
      "------------------------------\n",
      "\n",
      "class\n",
      "cap-shape\n",
      "cap-surface\n",
      "cap-color\n",
      "bruises\n",
      "odor\n",
      "gill-attachment\n",
      "gill-spacing\n",
      "gill-size\n",
      "gill-color\n",
      "stalk-shape\n",
      "stalk-root\n",
      "stalk-surface-above-ring\n",
      "stalk-surface-below-ring\n",
      "stalk-color-above-ring\n",
      "stalk-color-below-ring\n",
      "veil-type\n",
      "veil-color\n",
      "ring-number\n",
      "ring-type\n",
      "spore-print-color\n",
      "population\n",
      "habitat\n",
      "\n",
      "------------------------------\n",
      "\n"
     ]
    }
   ],
   "source": [
    "data = pd.read_csv(\"../input/mushroom-classification/mushrooms.csv\")\n",
    "\n",
    "breaker()\n",
    "print(\"Dataset Shape :\", repr(data.shape))\n",
    "breaker()\n",
    "\n",
    "for name in getCol(data):\n",
    "    print(name)\n",
    "breaker()"
   ]
  },
  {
   "cell_type": "markdown",
   "metadata": {
    "papermill": {
     "duration": 0.017651,
     "end_time": "2020-11-06T22:13:39.624849",
     "exception": false,
     "start_time": "2020-11-06T22:13:39.607198",
     "status": "completed"
    },
    "tags": []
   },
   "source": [
    "**Preprocessing**"
   ]
  },
  {
   "cell_type": "code",
   "execution_count": 5,
   "metadata": {
    "execution": {
     "iopub.execute_input": "2020-11-06T22:13:39.680982Z",
     "iopub.status.busy": "2020-11-06T22:13:39.670355Z",
     "iopub.status.idle": "2020-11-06T22:13:39.756268Z",
     "shell.execute_reply": "2020-11-06T22:13:39.757041Z"
    },
    "papermill": {
     "duration": 0.114578,
     "end_time": "2020-11-06T22:13:39.757205",
     "exception": false,
     "start_time": "2020-11-06T22:13:39.642627",
     "status": "completed"
    },
    "tags": []
   },
   "outputs": [],
   "source": [
    "processed_data = preprocess(data, \"cap-shape\", \"cap-surface\", \"cap-color\",\n",
    "                            \"bruises\", \"odor\",\n",
    "                            \"gill-attachment\", \"gill-spacing\", \"gill-size\", \"gill-color\",\n",
    "                            \"stalk-shape\", \"stalk-root\", \n",
    "                            \"stalk-surface-above-ring\", \"stalk-surface-below-ring\",\n",
    "                            \"stalk-color-above-ring\", \"stalk-color-below-ring\", \n",
    "                            \"veil-type\", \"veil-color\", \"ring-number\", \"ring-type\",\n",
    "                            \"spore-print-color\", \"population\", \"habitat\", \"class\")\n",
    "\n",
    "X = processed_data.iloc[:, 1:].copy().values\n",
    "y = processed_data.iloc[:, 0].copy().values\n",
    "\n",
    "#X = sc_X.fit_transform(X)\n",
    "#X = mms.fit_transform(X)\n",
    "\n",
    "X = X.astype(float)\n",
    "y = y.astype(float)\n",
    "\n",
    "num_features = X.shape[1]\n",
    "\n",
    "del data, processed_data"
   ]
  },
  {
   "cell_type": "markdown",
   "metadata": {
    "papermill": {
     "duration": 0.017261,
     "end_time": "2020-11-06T22:13:39.794612",
     "exception": false,
     "start_time": "2020-11-06T22:13:39.777351",
     "status": "completed"
    },
    "tags": []
   },
   "source": [
    "**Dataset Template**"
   ]
  },
  {
   "cell_type": "code",
   "execution_count": 6,
   "metadata": {
    "execution": {
     "iopub.execute_input": "2020-11-06T22:13:39.840299Z",
     "iopub.status.busy": "2020-11-06T22:13:39.838719Z",
     "iopub.status.idle": "2020-11-06T22:13:39.844495Z",
     "shell.execute_reply": "2020-11-06T22:13:39.843752Z"
    },
    "papermill": {
     "duration": 0.032494,
     "end_time": "2020-11-06T22:13:39.844631",
     "exception": false,
     "start_time": "2020-11-06T22:13:39.812137",
     "status": "completed"
    },
    "tags": []
   },
   "outputs": [],
   "source": [
    "class DS(Dataset):\n",
    "    def __init__(this, X=None, y=None, mode=\"train\"):\n",
    "        this.mode = mode\n",
    "        this.X = X\n",
    "        if mode == \"train\":\n",
    "            this.y = y\n",
    "            \n",
    "    def __len__(this):\n",
    "        return this.X.shape[0]\n",
    "    \n",
    "    def __getitem__(this, idx):\n",
    "        if this.mode == \"train\":\n",
    "            return torch.FloatTensor(this.X[idx]), torch.FloatTensor(this.y[idx])\n",
    "        else:\n",
    "            return torch.FloatTensor(this.X[idx])"
   ]
  },
  {
   "cell_type": "markdown",
   "metadata": {
    "papermill": {
     "duration": 0.017652,
     "end_time": "2020-11-06T22:13:39.879934",
     "exception": false,
     "start_time": "2020-11-06T22:13:39.862282",
     "status": "completed"
    },
    "tags": []
   },
   "source": [
    "# ANN"
   ]
  },
  {
   "cell_type": "markdown",
   "metadata": {
    "papermill": {
     "duration": 0.017944,
     "end_time": "2020-11-06T22:13:39.917565",
     "exception": false,
     "start_time": "2020-11-06T22:13:39.899621",
     "status": "completed"
    },
    "tags": []
   },
   "source": [
    "**Config**"
   ]
  },
  {
   "cell_type": "code",
   "execution_count": 7,
   "metadata": {
    "execution": {
     "iopub.execute_input": "2020-11-06T22:13:39.965058Z",
     "iopub.status.busy": "2020-11-06T22:13:39.963623Z",
     "iopub.status.idle": "2020-11-06T22:13:39.969032Z",
     "shell.execute_reply": "2020-11-06T22:13:39.968364Z"
    },
    "papermill": {
     "duration": 0.033295,
     "end_time": "2020-11-06T22:13:39.969161",
     "exception": false,
     "start_time": "2020-11-06T22:13:39.935866",
     "status": "completed"
    },
    "tags": []
   },
   "outputs": [],
   "source": [
    "class CFG():\n",
    "    tr_batch_size = 64\n",
    "    ts_batch_size = 64\n",
    "    va_batch_size = 64\n",
    "    \n",
    "    epochs  = 50\n",
    "    n_folds = 5\n",
    "    \n",
    "    device = torch.device(\"cuda:0\"  if torch.cuda.is_available() else \"cpu\")\n",
    "    \n",
    "    IL = num_features\n",
    "    HL_1 = [128]\n",
    "    HL_2 = [128, 128]\n",
    "    OL = 1\n",
    "    \n",
    "cfg = CFG()\n",
    "\n",
    "sim_ts_data_setup = DS(X, None, \"test\")\n",
    "sim_ts_data = DL(sim_ts_data_setup, batch_size=cfg.ts_batch_size, shuffle=False)"
   ]
  },
  {
   "cell_type": "markdown",
   "metadata": {
    "papermill": {
     "duration": 0.017661,
     "end_time": "2020-11-06T22:13:40.004970",
     "exception": false,
     "start_time": "2020-11-06T22:13:39.987309",
     "status": "completed"
    },
    "tags": []
   },
   "source": [
    "**Setup**"
   ]
  },
  {
   "cell_type": "code",
   "execution_count": 8,
   "metadata": {
    "execution": {
     "iopub.execute_input": "2020-11-06T22:13:40.066615Z",
     "iopub.status.busy": "2020-11-06T22:13:40.056531Z",
     "iopub.status.idle": "2020-11-06T22:13:40.070688Z",
     "shell.execute_reply": "2020-11-06T22:13:40.069798Z"
    },
    "papermill": {
     "duration": 0.047588,
     "end_time": "2020-11-06T22:13:40.070958",
     "exception": false,
     "start_time": "2020-11-06T22:13:40.023370",
     "status": "completed"
    },
    "tags": []
   },
   "outputs": [],
   "source": [
    "class MLP(nn.Module):\n",
    "    def __init__(this, IL=None, HL=None, OL=None):\n",
    "        super(MLP, this).__init__()\n",
    "        \n",
    "        this.DP1 = nn.Dropout(p=0.2)\n",
    "        this.DP2 = nn.Dropout(p=0.5)\n",
    "        this.HL  = HL\n",
    "        \n",
    "        if len(HL) == 1:\n",
    "            this.BN1 = nn.BatchNorm1d(IL)\n",
    "            this.FC1 = WN(nn.Linear(IL, HL[0]))\n",
    "            \n",
    "            this.BN2 = nn.BatchNorm1d(HL[0])\n",
    "            this.FC2 = WN(nn.Linear(HL[0], OL))\n",
    "        \n",
    "        elif len(HL) == 2:\n",
    "            this.BN1 = nn.BatchNorm1d(IL)\n",
    "            this.FC1 = WN(nn.Linear(IL, HL[0]))\n",
    "            \n",
    "            this.BN2 = nn.BatchNorm1d(HL[0])\n",
    "            this.FC2 = WN(nn.Linear(HL[0], HL[1]))\n",
    "            \n",
    "            this.BN3 = nn.BatchNorm1d(HL[1])\n",
    "            this.FC3 = WN(nn.Linear(HL[1], OL))\n",
    "        \n",
    "        else:\n",
    "            raise NotImplementedError(\"Only Supports Networks of Depth 1 and 2\")\n",
    "            \n",
    "    def getOptimizer(this, lr=1e-3, wd=0):\n",
    "        return optim.Adam(this.parameters(), lr=lr, weight_decay=wd)\n",
    "\n",
    "    def forward(this, x):\n",
    "        if len(this.HL) == 1:\n",
    "            x = this.BN1(x)\n",
    "            #x = this.DP1(x)\n",
    "            x = F.relu(this.FC1(x))\n",
    "            x = this.BN2(x)\n",
    "            #x = this.DP2(x)\n",
    "            x = torch.sigmoid(this.FC2(x))\n",
    "            return x\n",
    "        else:\n",
    "            x = this.BN1(x)\n",
    "            #x = this.DP1(x)\n",
    "            x = F.relu(this.FC1(x))\n",
    "            x = this.BN2(x)\n",
    "            #x = this.DP2(x)\n",
    "            x = F.relu(this.FC2(x))\n",
    "            x = this.BN3(x)\n",
    "            #x = this.DP2(x)\n",
    "            x = torch.sigmoid(this.FC3(x))\n",
    "            return x"
   ]
  },
  {
   "cell_type": "markdown",
   "metadata": {
    "papermill": {
     "duration": 0.018259,
     "end_time": "2020-11-06T22:13:40.108227",
     "exception": false,
     "start_time": "2020-11-06T22:13:40.089968",
     "status": "completed"
    },
    "tags": []
   },
   "source": [
    "**ANN Helpers**"
   ]
  },
  {
   "cell_type": "code",
   "execution_count": 9,
   "metadata": {
    "execution": {
     "iopub.execute_input": "2020-11-06T22:13:40.166263Z",
     "iopub.status.busy": "2020-11-06T22:13:40.155762Z",
     "iopub.status.idle": "2020-11-06T22:13:40.190784Z",
     "shell.execute_reply": "2020-11-06T22:13:40.190032Z"
    },
    "papermill": {
     "duration": 0.063747,
     "end_time": "2020-11-06T22:13:40.190922",
     "exception": false,
     "start_time": "2020-11-06T22:13:40.127175",
     "status": "completed"
    },
    "tags": []
   },
   "outputs": [],
   "source": [
    "def train_fn(X=None, y=None, n_folds=None, HL_Used=None):\n",
    "    breaker()\n",
    "    print(\"Training ...\")\n",
    "    breaker()\n",
    "    \n",
    "    LP = []\n",
    "    names = []\n",
    "    fold = 0\n",
    "    bestLoss = {\"train\" : np.inf, \"valid\" : np.inf}\n",
    "    \n",
    "    start_time = time()\n",
    "    for tr_idx, va_idx in KFold(n_splits=n_folds, shuffle=True, random_state=0).split(X, y):\n",
    "        print(\"Processing Fold {fold} ...\".format(fold=fold+1))\n",
    "        \n",
    "        X_train, X_valid, y_train, y_valid = X[tr_idx], X[va_idx], y[tr_idx], y[va_idx]\n",
    "        \n",
    "        tr_data_setup = DS(X_train, y_train.reshape(-1,1))\n",
    "        va_data_setup = DS(X_valid, y_valid.reshape(-1,1))\n",
    "        \n",
    "        DLS = {\"train\" : DL(tr_data_setup, batch_size=cfg.tr_batch_size, shuffle=True, generator=torch.manual_seed(0)),\n",
    "               \"valid\" : DL(va_data_setup, batch_size=cfg.va_batch_size, shuffle=False)\n",
    "              }\n",
    "        \n",
    "        torch.manual_seed(0)\n",
    "        model = MLP(cfg.IL, HL_Used, cfg.OL)\n",
    "        model.to(cfg.device)\n",
    "        \n",
    "        optimizer = model.getOptimizer()\n",
    "        scheduler = optim.lr_scheduler.ReduceLROnPlateau(optimizer, patience=4, eps=1e-6, verbose=True)\n",
    "        \n",
    "        for e in range(cfg.epochs):\n",
    "            epochLoss = {\"train\" : 0, \"valid\" : 0}\n",
    "            for phase in [\"train\", \"valid\"]:\n",
    "                if phase == \"train\":\n",
    "                    model.train()\n",
    "                else:\n",
    "                    model.eval()\n",
    "                lossPerPass = 0\n",
    "                \n",
    "                for feat, label in DLS[phase]:\n",
    "                    feat, label = feat.to(cfg.device), label.to(cfg.device)\n",
    "                    \n",
    "                    optimizer.zero_grad()\n",
    "                    with torch.set_grad_enabled(phase == \"train\"):\n",
    "                        output = model(feat)\n",
    "                        loss   = nn.BCELoss()(output, label)\n",
    "                        if phase == \"train\":\n",
    "                            loss.backward()\n",
    "                            optimizer.step()\n",
    "                    lossPerPass += (loss.item() / label.shape[0])\n",
    "                epochLoss[phase] = lossPerPass\n",
    "            LP.append(epochLoss)\n",
    "            scheduler.step(epochLoss[\"valid\"])\n",
    "            if epochLoss[\"valid\"] < bestLoss[\"valid\"]:\n",
    "                bestLoss = epochLoss\n",
    "                name = \"Model_{ids}_Fold_{fold}.pt\".format(ids=len(HL_Used), fold=fold)\n",
    "                names.append(name)\n",
    "                torch.save(model.state_dict(), name)\n",
    "        fold += 1\n",
    "    \n",
    "    breaker()\n",
    "    print(\"Time Taken to Train {f} folds for {e} epochs : {:.2f} seconds\".format(time() - start_time, f=n_folds, e=cfg.epochs))\n",
    "    breaker()\n",
    "    print(\"Best Loss :\", repr(bestLoss))\n",
    "    breaker()\n",
    "    \n",
    "    return LP, names, model\n",
    "\n",
    "def eval_fn(model=None, names=None, dataloader=None, num_obs_test=None):\n",
    "    y_pred = np.zeros((num_obs_test, 1))\n",
    "    \n",
    "    for name in names:\n",
    "        Pred = torch.zeros(cfg.ts_batch_size, 1).to(cfg.device)\n",
    "        \n",
    "        model.load_state_dict(torch.load(name))\n",
    "        model.eval()\n",
    "        \n",
    "        for X in dataloader:\n",
    "            X = X.to(cfg.device)\n",
    "            with torch.no_grad():\n",
    "                Prob = model(X)\n",
    "            Pred = torch.cat((Pred, Prob), dim=0)\n",
    "        Pred = Pred[cfg.ts_batch_size:].cpu().numpy()\n",
    "        y_pred = np.add(y_pred, Pred)\n",
    "    y_pred = np.divide(y_pred, len(names))\n",
    "    \n",
    "    y_pred[np.argwhere(y_pred > 0.5)]  = 1\n",
    "    y_pred[np.argwhere(y_pred <= 0.5)] = 0\n",
    "    return y_pred\n"
   ]
  },
  {
   "cell_type": "markdown",
   "metadata": {
    "papermill": {
     "duration": 0.018104,
     "end_time": "2020-11-06T22:13:40.227538",
     "exception": false,
     "start_time": "2020-11-06T22:13:40.209434",
     "status": "completed"
    },
    "tags": []
   },
   "source": [
    "# Config 1 Training and Evalutation"
   ]
  },
  {
   "cell_type": "code",
   "execution_count": 10,
   "metadata": {
    "execution": {
     "iopub.execute_input": "2020-11-06T22:13:40.281397Z",
     "iopub.status.busy": "2020-11-06T22:13:40.280227Z",
     "iopub.status.idle": "2020-11-06T22:16:08.670232Z",
     "shell.execute_reply": "2020-11-06T22:16:08.670961Z"
    },
    "papermill": {
     "duration": 148.42529,
     "end_time": "2020-11-06T22:16:08.671158",
     "exception": false,
     "start_time": "2020-11-06T22:13:40.245868",
     "status": "completed"
    },
    "tags": []
   },
   "outputs": [
    {
     "name": "stdout",
     "output_type": "stream",
     "text": [
      "\n",
      "------------------------------\n",
      "\n",
      "Training ...\n",
      "\n",
      "------------------------------\n",
      "\n",
      "Processing Fold 1 ...\n",
      "Processing Fold 2 ...\n",
      "Epoch    50: reducing learning rate of group 0 to 1.0000e-04.\n",
      "Processing Fold 3 ...\n",
      "Epoch    50: reducing learning rate of group 0 to 1.0000e-04.\n",
      "Processing Fold 4 ...\n",
      "Processing Fold 5 ...\n",
      "Epoch    41: reducing learning rate of group 0 to 1.0000e-04.\n",
      "Epoch    50: reducing learning rate of group 0 to 1.0000e-05.\n",
      "\n",
      "------------------------------\n",
      "\n",
      "Time Taken to Train 5 folds for 50 epochs : 147.06 seconds\n",
      "\n",
      "------------------------------\n",
      "\n",
      "Best Loss : {'train': 0.0002373186441397073, 'valid': 9.94173047104141e-06}\n",
      "\n",
      "------------------------------\n",
      "\n",
      "Configuration 1 Accuracy : 99.98769 %\n",
      "\n",
      "------------------------------\n",
      "\n"
     ]
    },
    {
     "data": {
      "image/png": "[encoded data removed]",
      "text/plain": [
       "<Figure size 1080x2160 with 5 Axes>"
      ]
     },
     "metadata": {
      "needs_background": "light"
     },
     "output_type": "display_data"
    }
   ],
   "source": [
    "LP, Names, Network = train_fn(X=X, y=y, n_folds=cfg.n_folds, HL_Used=cfg.HL_1)\n",
    "\n",
    "y_pred = eval_fn(Network, set(Names), sim_ts_data, sim_ts_data_setup.__len__())\n",
    "\n",
    "print(\"Configuration 1 Accuracy : {:.5f} %\".format(accuracy_score(y, y_pred) * 100))\n",
    "breaker()\n",
    "\n",
    "LPV = []\n",
    "LPT = []\n",
    "for i in range(len(LP)):\n",
    "  LPT.append(LP[i][\"train\"])\n",
    "  LPV.append(LP[i][\"valid\"])\n",
    "\n",
    "xAxis = [i+1 for i in range(cfg.epochs)]\n",
    "plt.figure(figsize=(15, 30))\n",
    "for fold in range(cfg.n_folds):\n",
    "    plt.subplot(cfg.n_folds, 1, fold+1)\n",
    "    plt.plot(xAxis, LPT[fold*cfg.epochs:(fold+1)*cfg.epochs], \"b\", label=\"Training Loss\")\n",
    "    plt.plot(xAxis, LPV[fold*cfg.epochs:(fold+1)*cfg.epochs], \"r--\", label=\"Validation Loss\")\n",
    "    plt.legend()\n",
    "    plt.xlabel(\"Epochs\")\n",
    "    plt.ylabel(\"Loss\")\n",
    "    plt.title(\"Fold {fold}\".format(fold=fold+1))\n",
    "plt.show()"
   ]
  },
  {
   "cell_type": "code",
   "execution_count": 11,
   "metadata": {
    "execution": {
     "iopub.execute_input": "2020-11-06T22:16:08.732358Z",
     "iopub.status.busy": "2020-11-06T22:16:08.731279Z",
     "iopub.status.idle": "2020-11-06T22:16:08.737323Z",
     "shell.execute_reply": "2020-11-06T22:16:08.735546Z"
    },
    "papermill": {
     "duration": 0.040458,
     "end_time": "2020-11-06T22:16:08.737500",
     "exception": false,
     "start_time": "2020-11-06T22:16:08.697042",
     "status": "completed"
    },
    "tags": []
   },
   "outputs": [
    {
     "name": "stdout",
     "output_type": "stream",
     "text": [
      "\n",
      "------------------------------\n",
      "\n",
      "Notebook Rumtime : 2.53 minutes\n",
      "\n",
      "------------------------------\n",
      "\n"
     ]
    }
   ],
   "source": [
    "breaker()\n",
    "print(\"Notebook Rumtime : {:.2f} minutes\".format((time() - nb_start_time)/60))\n",
    "breaker()"
   ]
  }
 ],
 "metadata": {
  "kernelspec": {
   "display_name": "Python 3",
   "language": "python",
   "name": "python3"
  },
  "language_info": {
   "codemirror_mode": {
    "name": "ipython",
    "version": 3
   },
   "file_extension": ".py",
   "mimetype": "text/x-python",
   "name": "python",
   "nbconvert_exporter": "python",
   "pygments_lexer": "ipython3",
   "version": "3.7.6"
  },
  "papermill": {
   "duration": 157.690604,
   "end_time": "2020-11-06T22:16:08.877180",
   "environment_variables": {},
   "exception": null,
   "input_path": "__notebook__.ipynb",
   "output_path": "__notebook__.ipynb",
   "parameters": {},
   "start_time": "2020-11-06T22:13:31.186576",
   "version": "2.1.0"
  }
 },
 "nbformat": 4,
 "nbformat_minor": 4
}
