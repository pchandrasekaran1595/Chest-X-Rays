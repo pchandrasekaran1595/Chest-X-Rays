{
 "cells": [
  {
   "cell_type": "markdown",
   "id": "04216f02",
   "metadata": {
    "_cell_guid": "b1076dfc-b9ad-4769-8c92-a6c4dae69d19",
    "_uuid": "8f2839f25d086af736a60e9eeb907d3b93b6e0e5",
    "papermill": {
     "duration": 0.004933,
     "end_time": "2022-09-29T07:37:46.180278",
     "exception": false,
     "start_time": "2022-09-29T07:37:46.175345",
     "status": "completed"
    },
    "tags": []
   },
   "source": [
    "### **Setup**"
   ]
  },
  {
   "cell_type": "code",
   "execution_count": 1,
   "id": "719d168d",
   "metadata": {
    "execution": {
     "iopub.execute_input": "2022-09-29T07:37:46.190365Z",
     "iopub.status.busy": "2022-09-29T07:37:46.189310Z",
     "iopub.status.idle": "2022-09-29T07:37:56.310028Z",
     "shell.execute_reply": "2022-09-29T07:37:56.308224Z"
    },
    "papermill": {
     "duration": 10.128112,
     "end_time": "2022-09-29T07:37:56.312421",
     "exception": false,
     "start_time": "2022-09-29T07:37:46.184309",
     "status": "completed"
    },
    "tags": []
   },
   "outputs": [
    {
     "name": "stderr",
     "output_type": "stream",
     "text": [
      "WARNING: Running pip as the 'root' user can result in broken permissions and conflicting behaviour with the system package manager. It is recommended to use a virtual environment instead: https://pip.pypa.io/warnings/venv\n"
     ]
    }
   ],
   "source": [
    "%%bash\n",
    "pip install timm -q"
   ]
  },
  {
   "cell_type": "markdown",
   "id": "875afc33",
   "metadata": {
    "papermill": {
     "duration": 0.003731,
     "end_time": "2022-09-29T07:37:56.320946",
     "exception": false,
     "start_time": "2022-09-29T07:37:56.317215",
     "status": "completed"
    },
    "tags": []
   },
   "source": [
    "### **Library Imports**"
   ]
  },
  {
   "cell_type": "code",
   "execution_count": 2,
   "id": "f1caaa7f",
   "metadata": {
    "execution": {
     "iopub.execute_input": "2022-09-29T07:37:56.330195Z",
     "iopub.status.busy": "2022-09-29T07:37:56.329870Z",
     "iopub.status.idle": "2022-09-29T07:38:00.396770Z",
     "shell.execute_reply": "2022-09-29T07:38:00.395599Z"
    },
    "papermill": {
     "duration": 4.074747,
     "end_time": "2022-09-29T07:38:00.399599",
     "exception": false,
     "start_time": "2022-09-29T07:37:56.324852",
     "status": "completed"
    },
    "tags": []
   },
   "outputs": [],
   "source": [
    "import os\n",
    "import re\n",
    "import cv2\n",
    "import timm\n",
    "import torch\n",
    "import numpy as np\n",
    "import pandas as pd\n",
    "import matplotlib.pyplot as plt\n",
    "\n",
    "from time import time\n",
    "from torch import nn, optim\n",
    "from torch.utils.data import Dataset\n",
    "from torch.utils.data import DataLoader as DL\n",
    "from torchvision import models, transforms\n",
    "\n",
    "from sklearn.model_selection import StratifiedKFold"
   ]
  },
  {
   "cell_type": "markdown",
   "id": "940873cf",
   "metadata": {
    "papermill": {
     "duration": 0.004016,
     "end_time": "2022-09-29T07:38:00.408259",
     "exception": false,
     "start_time": "2022-09-29T07:38:00.404243",
     "status": "completed"
    },
    "tags": []
   },
   "source": [
    "### **Utilities and Helpers**"
   ]
  },
  {
   "cell_type": "code",
   "execution_count": 3,
   "id": "562f78da",
   "metadata": {
    "execution": {
     "iopub.execute_input": "2022-09-29T07:38:00.418446Z",
     "iopub.status.busy": "2022-09-29T07:38:00.417707Z",
     "iopub.status.idle": "2022-09-29T07:38:00.432002Z",
     "shell.execute_reply": "2022-09-29T07:38:00.431163Z"
    },
    "papermill": {
     "duration": 0.021862,
     "end_time": "2022-09-29T07:38:00.434227",
     "exception": false,
     "start_time": "2022-09-29T07:38:00.412365",
     "status": "completed"
    },
    "tags": []
   },
   "outputs": [],
   "source": [
    "SEED = 42\n",
    "SIZE = 384\n",
    "\n",
    "\n",
    "def breaker(num: int=50, char: str=\"*\") -> None:\n",
    "    print(\"\\n\" + num*char + \"\\n\")\n",
    "\n",
    "    \n",
    "def get_image(path: str, size: int=224) -> np.ndarray:\n",
    "    image = cv2.imread(path, cv2.IMREAD_COLOR)\n",
    "    image = cv2.cvtColor(src=image, code=cv2.COLOR_BGR2RGB)\n",
    "    return cv2.resize(src=image, dsize=(size, size), interpolation=cv2.INTER_AREA)\n",
    "\n",
    "\n",
    "def show_loss_graphs(L: list) -> None:\n",
    "    TL, VL = [], []\n",
    "    for i in range(len(L)):\n",
    "        TL.append(L[i][\"train\"])\n",
    "        VL.append(L[i][\"valid\"])\n",
    "    x_Axis = np.arange(1, len(TL) + 1)\n",
    "    plt.figure()\n",
    "    plt.plot(x_Axis, TL, \"r\", label=\"Train\")\n",
    "    plt.plot(x_Axis, VL, \"b\", label=\"Valid\")\n",
    "    plt.legend()\n",
    "    plt.grid()\n",
    "    plt.title(\"Loss Graph\")\n",
    "    plt.show()\n",
    "\n",
    "    \n",
    "def show_accuracy_graphs(A: list) -> None:\n",
    "    TA, VA = [], []\n",
    "    for i in range(len(A)):\n",
    "        TA.append(A[i][\"train\"])\n",
    "        VA.append(A[i][\"valid\"])\n",
    "    x_Axis = np.arange(1, len(TA) + 1)\n",
    "    plt.figure()\n",
    "    plt.plot(x_Axis, TA, \"r\", label=\"Train\")\n",
    "    plt.plot(x_Axis, VA, \"b\", label=\"Valid\")\n",
    "    plt.legend()\n",
    "    plt.grid()\n",
    "    plt.title(\"Accuracy Graph\")\n",
    "    plt.show()\n",
    "    \n",
    "\n",
    "def show_lr_graph(LR: list) -> None:\n",
    "    x_Axis = [i+1 for i in range(len(LR))]\n",
    "    plt.figure(figsize=(8, 6))\n",
    "    plt.plot(x_Axis, LR, \"rx\")\n",
    "    plt.grid()\n",
    "    plt.show()"
   ]
  },
  {
   "cell_type": "markdown",
   "id": "5c69bbed",
   "metadata": {
    "papermill": {
     "duration": 0.003956,
     "end_time": "2022-09-29T07:38:00.442385",
     "exception": false,
     "start_time": "2022-09-29T07:38:00.438429",
     "status": "completed"
    },
    "tags": []
   },
   "source": [
    "### **Configuration**"
   ]
  },
  {
   "cell_type": "code",
   "execution_count": 4,
   "id": "7fc378eb",
   "metadata": {
    "execution": {
     "iopub.execute_input": "2022-09-29T07:38:00.452122Z",
     "iopub.status.busy": "2022-09-29T07:38:00.451625Z",
     "iopub.status.idle": "2022-09-29T07:38:00.526731Z",
     "shell.execute_reply": "2022-09-29T07:38:00.525798Z"
    },
    "papermill": {
     "duration": 0.082221,
     "end_time": "2022-09-29T07:38:00.528798",
     "exception": false,
     "start_time": "2022-09-29T07:38:00.446577",
     "status": "completed"
    },
    "tags": []
   },
   "outputs": [],
   "source": [
    "class CFG(object):\n",
    "    def __init__(self, \n",
    "                 seed: int = 42,\n",
    "                 size: int = 224,\n",
    "                 n_splits: int = 5,\n",
    "                 batch_size: int = 16,\n",
    "                 epochs: int = 25,\n",
    "                 early_stopping: int = 5,\n",
    "                 lr: float = 1e-4,\n",
    "                 wd: float = 0.0,\n",
    "                 max_lr: float = 1e-3,\n",
    "                 pct_start: float = 0.2,\n",
    "                 steps_per_epoch: int = 100,\n",
    "                 div_factor: int = 1e3, \n",
    "                 final_div_factor: float = 1e3,\n",
    "                 ):\n",
    "        self.seed = seed\n",
    "        self.size = size\n",
    "        self.n_splits = n_splits\n",
    "        self.batch_size = batch_size\n",
    "        self.epochs = epochs\n",
    "        self.early_stopping = early_stopping\n",
    "        self.lr = lr\n",
    "        self.wd = wd\n",
    "        self.max_lr = max_lr\n",
    "        self.pct_start = pct_start\n",
    "        self.steps_per_epoch = steps_per_epoch\n",
    "        self.div_factor = div_factor\n",
    "        self.final_div_factor = final_div_factor\n",
    "        self.device = torch.device(\"cuda\" if torch.cuda.is_available() else \"cpu\")\n",
    "        self.train_transform = transforms.Compose([\n",
    "            transforms.ToTensor(),\n",
    "            transforms.Normalize([0.48805, 0.46218, 0.38043], [0.21471, 0.21141, 0.21124]),\n",
    "            transforms.RandomAffine(degrees=(-45, 45), translate=(0.15, 0.15), scale=(0.5, 1.5)),\n",
    "            transforms.RandomHorizontalFlip(p=0.25),\n",
    "            transforms.RandomVerticalFlip(p=0.25),\n",
    "        ])\n",
    "        self.valid_transform = transforms.Compose([\n",
    "            transforms.ToTensor(),\n",
    "            transforms.Normalize([0.48805, 0.46218, 0.38043], [0.21471, 0.21141, 0.21124]),\n",
    "        ])\n",
    "                                \n",
    "        self.save_path = \"saves\"\n",
    "        if not os.path.exists(self.save_path): os.makedirs(self.save_path)\n",
    "    \n",
    "cfg = CFG(seed=SEED, size=SIZE)"
   ]
  },
  {
   "cell_type": "markdown",
   "id": "a3ab288c",
   "metadata": {
    "papermill": {
     "duration": 0.004049,
     "end_time": "2022-09-29T07:38:00.537239",
     "exception": false,
     "start_time": "2022-09-29T07:38:00.533190",
     "status": "completed"
    },
    "tags": []
   },
   "source": [
    "### **Dataset Template**"
   ]
  },
  {
   "cell_type": "code",
   "execution_count": 5,
   "id": "d0d5f924",
   "metadata": {
    "execution": {
     "iopub.execute_input": "2022-09-29T07:38:00.547251Z",
     "iopub.status.busy": "2022-09-29T07:38:00.546924Z",
     "iopub.status.idle": "2022-09-29T07:38:00.552824Z",
     "shell.execute_reply": "2022-09-29T07:38:00.551827Z"
    },
    "papermill": {
     "duration": 0.013333,
     "end_time": "2022-09-29T07:38:00.554898",
     "exception": false,
     "start_time": "2022-09-29T07:38:00.541565",
     "status": "completed"
    },
    "tags": []
   },
   "outputs": [],
   "source": [
    "class DS(Dataset):\n",
    "    def __init__(\n",
    "        self, \n",
    "        filepaths: np.ndarray, \n",
    "        labels: np.ndarray, \n",
    "        size: int,\n",
    "        transform=None\n",
    "    ):\n",
    "        \n",
    "        self.filepaths = filepaths\n",
    "        self.labels = labels\n",
    "        self.size = size\n",
    "        self.transform = transform\n",
    "    \n",
    "    def __len__(self):\n",
    "        return self.filepaths.shape[0]\n",
    "    \n",
    "    def __getitem__(self, idx):\n",
    "        image = get_image(self.filepaths[idx], self.size)\n",
    "        return self.transform(image), self.labels[idx]"
   ]
  },
  {
   "cell_type": "code",
   "execution_count": 6,
   "id": "50fcba6c",
   "metadata": {
    "execution": {
     "iopub.execute_input": "2022-09-29T07:38:00.564543Z",
     "iopub.status.busy": "2022-09-29T07:38:00.564286Z",
     "iopub.status.idle": "2022-09-29T07:38:00.568889Z",
     "shell.execute_reply": "2022-09-29T07:38:00.567720Z"
    },
    "papermill": {
     "duration": 0.012255,
     "end_time": "2022-09-29T07:38:00.571390",
     "exception": false,
     "start_time": "2022-09-29T07:38:00.559135",
     "status": "completed"
    },
    "tags": []
   },
   "outputs": [],
   "source": [
    "# class DS(Dataset):\n",
    "#     def __init__(\n",
    "#         self, \n",
    "#         base_path: str,\n",
    "#         filenames: np.ndarray, \n",
    "#         size: int,\n",
    "#         transform=None\n",
    "#     ):\n",
    "        \n",
    "#         self.base_path = base_path\n",
    "#         self.filenames = filenames\n",
    "#         self.size = size\n",
    "#         self.transform = transform\n",
    "    \n",
    "#     def __len__(self):\n",
    "#         return self.filenames.shape[0]\n",
    "    \n",
    "#     def __getitem__(self, idx):\n",
    "#         path = os.path.join(self.base_path, str(self.filenames[idx]) + \".jpg\")\n",
    "#         image = get_image(path, self.size)\n",
    "#         return self.transform(image)"
   ]
  },
  {
   "cell_type": "markdown",
   "id": "42eca3d9",
   "metadata": {
    "papermill": {
     "duration": 0.004072,
     "end_time": "2022-09-29T07:38:00.579674",
     "exception": false,
     "start_time": "2022-09-29T07:38:00.575602",
     "status": "completed"
    },
    "tags": []
   },
   "source": [
    "### **Model**"
   ]
  },
  {
   "cell_type": "code",
   "execution_count": 7,
   "id": "75592ba9",
   "metadata": {
    "execution": {
     "iopub.execute_input": "2022-09-29T07:38:00.589489Z",
     "iopub.status.busy": "2022-09-29T07:38:00.589059Z",
     "iopub.status.idle": "2022-09-29T07:38:00.595398Z",
     "shell.execute_reply": "2022-09-29T07:38:00.594409Z"
    },
    "papermill": {
     "duration": 0.014124,
     "end_time": "2022-09-29T07:38:00.598091",
     "exception": false,
     "start_time": "2022-09-29T07:38:00.583967",
     "status": "completed"
    },
    "tags": []
   },
   "outputs": [],
   "source": [
    "class Model(nn.Module):\n",
    "    def __init__(self):\n",
    "        super(Model, self).__init__()\n",
    "            \n",
    "        self.model = timm.create_model(model_name=\"efficientnet_b4\", pretrained=True)\n",
    "        self.model.classifier = nn.Linear(in_features=self.model.classifier.in_features, out_features=4)\n",
    "            \n",
    "    def freeze(self):\n",
    "        for params in self.parameters(): params.requires_grad = False\n",
    "\n",
    "    def forward(self, x):\n",
    "        return nn.LogSoftmax(dim=1)(self.model(x))"
   ]
  },
  {
   "cell_type": "markdown",
   "id": "1dd28e6d",
   "metadata": {
    "papermill": {
     "duration": 0.004099,
     "end_time": "2022-09-29T07:38:00.606487",
     "exception": false,
     "start_time": "2022-09-29T07:38:00.602388",
     "status": "completed"
    },
    "tags": []
   },
   "source": [
    "### **Fit and Predict**"
   ]
  },
  {
   "cell_type": "code",
   "execution_count": 8,
   "id": "fc2d8c8f",
   "metadata": {
    "execution": {
     "iopub.execute_input": "2022-09-29T07:38:00.616724Z",
     "iopub.status.busy": "2022-09-29T07:38:00.616466Z",
     "iopub.status.idle": "2022-09-29T07:38:00.638836Z",
     "shell.execute_reply": "2022-09-29T07:38:00.637778Z"
    },
    "papermill": {
     "duration": 0.030025,
     "end_time": "2022-09-29T07:38:00.640857",
     "exception": false,
     "start_time": "2022-09-29T07:38:00.610832",
     "status": "completed"
    },
    "tags": []
   },
   "outputs": [],
   "source": [
    "def fit(model=None,\n",
    "        optimizer=None, \n",
    "        scheduler_rlrop=None,\n",
    "        scheduler_oclr=None,\n",
    "        epochs=None, \n",
    "        early_stopping_patience=None, \n",
    "        dataloaders=None, \n",
    "        fold=None, \n",
    "        save_path=None,\n",
    "        device=None,\n",
    "        verbose=False) -> tuple:\n",
    "    \n",
    "    def get_accuracy(y_pred, y_true):\n",
    "        y_pred = torch.argmax(y_pred, dim=1)\n",
    "        return torch.count_nonzero(y_pred == y_true).item() / len(y_pred)\n",
    "    \n",
    "    if verbose:\n",
    "        breaker()\n",
    "        if fold: print(f\"Training Fold {fold}...\")\n",
    "        else: print(\"Training ...\")\n",
    "        breaker()\n",
    "        \n",
    "    bestLoss: dict = {\"train\" : np.inf, \"valid\" : np.inf} \n",
    "    bestAccs: dict = {\"train\" : 0.0, \"valid\" : 0.0}\n",
    "        \n",
    "    Losses: list = []\n",
    "    Accuracies: list = [] \n",
    "    LRs: list = []\n",
    "        \n",
    "    if fold: \n",
    "        ble_name = f\"ble_state_fold_{fold}.pt\"\n",
    "        bae_name = f\"bae_state_fold_{fold}.pt\"\n",
    "    else: \n",
    "        ble_name = f\"ble_state.pt\"\n",
    "        bae_name = f\"bae_state.pt\"\n",
    "    \n",
    "    start_time = time()\n",
    "    for e in range(epochs):\n",
    "        e_st = time()\n",
    "        epochLoss: dict = {\"train\" : 0.0, \"valid\" : 0.0} \n",
    "        epochAccs: dict = {\"train\" : 0.0, \"valid\" : 0.0}\n",
    "\n",
    "        for phase in [\"train\", \"valid\"]:\n",
    "            if phase == \"train\":\n",
    "                model.train()\n",
    "            else:\n",
    "                model.eval()\n",
    "            \n",
    "            lossPerPass: list = []\n",
    "            accsPerPass: list = []\n",
    "                \n",
    "            for X, y in dataloaders[phase]:\n",
    "                X, y = X.to(device), y.to(device).view(-1)\n",
    "\n",
    "                optimizer.zero_grad()\n",
    "                with torch.set_grad_enabled(phase == \"train\"):\n",
    "                    output = model(X)\n",
    "                    loss = torch.nn.NLLLoss()(output, y)\n",
    "                    if phase == \"train\":\n",
    "                        loss.backward()\n",
    "                        optimizer.step()\n",
    "                        if scheduler_oclr: scheduler_oclr.step()\n",
    "                lossPerPass.append(loss.item())\n",
    "                accsPerPass.append(get_accuracy(output, y))\n",
    "            epochLoss[phase] = np.mean(np.array(lossPerPass))\n",
    "            epochAccs[phase] = np.mean(np.array(accsPerPass))\n",
    "        if scheduler_oclr: LRs.append(scheduler_oclr.get_last_lr())\n",
    "        Losses.append(epochLoss)\n",
    "        Accuracies.append(epochAccs)\n",
    "    \n",
    "        if scheduler_oclr:\n",
    "            save_dict = {\"model_state_dict\"     : model.state_dict(),\n",
    "                         \"optim_state_dict\"     : optimizer.state_dict(),\n",
    "                         \"scheduler_state_dict\" : scheduler_oclr.state_dict()}\n",
    "        \n",
    "        elif scheduler_rlrop:\n",
    "            save_dict = {\"model_state_dict\"     : model.state_dict(),\n",
    "                         \"optim_state_dict\"     : optimizer.state_dict(),\n",
    "                         \"scheduler_state_dict\" : scheduler_rlrop.state_dict()}\n",
    "        \n",
    "        else:\n",
    "            save_dict = {\"model_state_dict\"     : model.state_dict(),\n",
    "                         \"optim_state_dict\"     : optimizer.state_dict()}\n",
    "        \n",
    "        \n",
    "        if early_stopping_patience:\n",
    "            if epochLoss[\"valid\"] < bestLoss[\"valid\"]:\n",
    "                bestLoss = epochLoss\n",
    "                BLE = e + 1\n",
    "                torch.save(save_dict, os.path.join(save_path, ble_name))\n",
    "                torch.save(save_dict, os.path.join(save_path, bae_name))\n",
    "                early_stopping_step = 0\n",
    "            else:\n",
    "                early_stopping_step += 1\n",
    "                if early_stopping_step > early_stopping_patience:\n",
    "                    print(\"\\nEarly Stopping at Epoch {}\".format(e + 1))\n",
    "                    break\n",
    "        \n",
    "        if epochLoss[\"valid\"] < bestLoss[\"valid\"]:\n",
    "            bestLoss = epochLoss\n",
    "            BLE = e + 1\n",
    "            torch.save(save_dict,os.path.join(save_path, ble_name))\n",
    "        \n",
    "        if epochAccs[\"valid\"] > bestAccs[\"valid\"]:\n",
    "            bestAccs = epochAccs\n",
    "            BAE = e + 1\n",
    "            torch.save(save_dict,os.path.join(save_path, bae_name))\n",
    "        \n",
    "        if scheduler_rlrop: scheduler_rlrop.step(epochLoss[\"valid\"])\n",
    "        \n",
    "        if verbose:\n",
    "            print(\"Epoch: {} | Train Loss: {:.5f} | Valid Loss: {:.5f} |\\\n",
    " Train Accs: {:.5f} | Valid Accs: {:.5f} | Time: {:.2f} seconds\".format(e+1, \n",
    "                                                                        epochLoss[\"train\"], epochLoss[\"valid\"], \n",
    "                                                                        epochAccs[\"train\"], epochAccs[\"valid\"], \n",
    "                                                                        time()-e_st))\n",
    "\n",
    "    if verbose:                                           \n",
    "        breaker()\n",
    "        print(f\"Best Validation Loss at Epoch {BLE}\")\n",
    "        breaker()\n",
    "        print(f\"Best Validation Accs at Epoch {BAE}\")\n",
    "        breaker()\n",
    "        print(\"Time Taken [{} Epochs] : {:.2f} minutes\".format(len(Losses), (time()-start_time)/60))\n",
    "    \n",
    "    return Losses, Accuracies, LRs, bestLoss, bestAccs, BLE, BAE, ble_name, bae_name\n",
    "\n",
    "\n",
    "# def predict_batch(model=None, dataloader=None, path=None, device=None) -> np.ndarray:\n",
    "#     model.load_state_dict(torch.load(path, map_location=device)[\"model_state_dict\"])\n",
    "#     model.to(device)    \n",
    "#     model.eval()\n",
    "    \n",
    "#     y_pred = torch.zeros(1, 1).to(device)\n",
    "    \n",
    "#     for X in dataloader:\n",
    "#         X = X.to(device)\n",
    "#         with torch.no_grad():\n",
    "#             output = torch.argmax(torch.exp(model(X)), dim=1)\n",
    "#         y_pred = torch.cat((y_pred, output.view(-1, 1)), dim=0)\n",
    "    \n",
    "#     return y_pred[1:].detach().cpu().numpy()"
   ]
  },
  {
   "cell_type": "markdown",
   "id": "e47ae5c6",
   "metadata": {
    "papermill": {
     "duration": 0.004108,
     "end_time": "2022-09-29T07:38:00.649285",
     "exception": false,
     "start_time": "2022-09-29T07:38:00.645177",
     "status": "completed"
    },
    "tags": []
   },
   "source": [
    "### **Train**"
   ]
  },
  {
   "cell_type": "code",
   "execution_count": 9,
   "id": "5093d125",
   "metadata": {
    "execution": {
     "iopub.execute_input": "2022-09-29T07:38:00.659383Z",
     "iopub.status.busy": "2022-09-29T07:38:00.659063Z",
     "iopub.status.idle": "2022-09-29T07:38:00.696505Z",
     "shell.execute_reply": "2022-09-29T07:38:00.695523Z"
    },
    "papermill": {
     "duration": 0.045064,
     "end_time": "2022-09-29T07:38:00.698668",
     "exception": false,
     "start_time": "2022-09-29T07:38:00.653604",
     "status": "completed"
    },
    "tags": []
   },
   "outputs": [],
   "source": [
    "df = pd.read_csv(\"../input/4ac-predlabel-dataframe/data.csv\")\n",
    "\n",
    "filepaths = df.filepaths.copy().values\n",
    "labels = df.classes.copy().values"
   ]
  },
  {
   "cell_type": "code",
   "execution_count": 10,
   "id": "f753ffc1",
   "metadata": {
    "execution": {
     "iopub.execute_input": "2022-09-29T07:38:00.709863Z",
     "iopub.status.busy": "2022-09-29T07:38:00.709336Z",
     "iopub.status.idle": "2022-09-29T12:55:32.179790Z",
     "shell.execute_reply": "2022-09-29T12:55:32.178607Z"
    },
    "papermill": {
     "duration": 19051.478775,
     "end_time": "2022-09-29T12:55:32.181893",
     "exception": false,
     "start_time": "2022-09-29T07:38:00.703118",
     "status": "completed"
    },
    "tags": []
   },
   "outputs": [
    {
     "name": "stderr",
     "output_type": "stream",
     "text": [
      "Downloading: \"https://github.com/rwightman/pytorch-image-models/releases/download/v0.1-weights/efficientnet_b4_ra2_320-7eb33cd5.pth\" to /root/.cache/torch/hub/checkpoints/efficientnet_b4_ra2_320-7eb33cd5.pth\n"
     ]
    },
    {
     "name": "stdout",
     "output_type": "stream",
     "text": [
      "\n",
      "**************************************************\n",
      "\n",
      "Training Fold 1...\n",
      "\n",
      "**************************************************\n",
      "\n",
      "Epoch: 1 | Train Loss: 1.34488 | Valid Loss: 1.28500 | Train Accs: 0.50192 | Valid Accs: 0.82778 | Time: 186.85 seconds\n",
      "Epoch: 2 | Train Loss: 1.23440 | Valid Loss: 1.11867 | Train Accs: 0.80957 | Valid Accs: 0.96528 | Time: 152.87 seconds\n",
      "Epoch: 3 | Train Loss: 1.03448 | Valid Loss: 0.81636 | Train Accs: 0.89644 | Valid Accs: 0.98333 | Time: 152.62 seconds\n",
      "Epoch: 4 | Train Loss: 0.74678 | Valid Loss: 0.46668 | Train Accs: 0.90960 | Valid Accs: 0.98750 | Time: 151.76 seconds\n",
      "Epoch: 5 | Train Loss: 0.47940 | Valid Loss: 0.22161 | Train Accs: 0.92585 | Valid Accs: 0.98889 | Time: 153.90 seconds\n",
      "Epoch: 6 | Train Loss: 0.29721 | Valid Loss: 0.10896 | Train Accs: 0.93821 | Valid Accs: 0.99028 | Time: 153.73 seconds\n",
      "Epoch: 7 | Train Loss: 0.21668 | Valid Loss: 0.06225 | Train Accs: 0.94350 | Valid Accs: 0.98889 | Time: 153.85 seconds\n",
      "Epoch: 8 | Train Loss: 0.18568 | Valid Loss: 0.04472 | Train Accs: 0.93987 | Valid Accs: 0.99444 | Time: 154.27 seconds\n",
      "Epoch: 9 | Train Loss: 0.16873 | Valid Loss: 0.03701 | Train Accs: 0.94809 | Valid Accs: 0.99444 | Time: 151.53 seconds\n",
      "Epoch: 10 | Train Loss: 0.16198 | Valid Loss: 0.03459 | Train Accs: 0.94703 | Valid Accs: 0.99444 | Time: 152.14 seconds\n",
      "Epoch: 11 | Train Loss: 0.14497 | Valid Loss: 0.03281 | Train Accs: 0.95374 | Valid Accs: 0.99028 | Time: 152.32 seconds\n",
      "Epoch: 12 | Train Loss: 0.13340 | Valid Loss: 0.02806 | Train Accs: 0.95516 | Valid Accs: 0.99444 | Time: 153.50 seconds\n",
      "Epoch: 13 | Train Loss: 0.12438 | Valid Loss: 0.02826 | Train Accs: 0.95576 | Valid Accs: 0.99444 | Time: 153.32 seconds\n",
      "Epoch: 14 | Train Loss: 0.12568 | Valid Loss: 0.02479 | Train Accs: 0.95798 | Valid Accs: 0.99444 | Time: 152.53 seconds\n",
      "Epoch: 15 | Train Loss: 0.12254 | Valid Loss: 0.02216 | Train Accs: 0.95692 | Valid Accs: 0.99444 | Time: 153.24 seconds\n",
      "Epoch: 16 | Train Loss: 0.11157 | Valid Loss: 0.02420 | Train Accs: 0.96363 | Valid Accs: 0.99167 | Time: 153.51 seconds\n",
      "Epoch: 17 | Train Loss: 0.10375 | Valid Loss: 0.02378 | Train Accs: 0.96363 | Valid Accs: 0.99444 | Time: 152.66 seconds\n",
      "Epoch: 18 | Train Loss: 0.10710 | Valid Loss: 0.02410 | Train Accs: 0.96060 | Valid Accs: 0.99444 | Time: 151.70 seconds\n",
      "Epoch: 19 | Train Loss: 0.10836 | Valid Loss: 0.01980 | Train Accs: 0.96388 | Valid Accs: 0.99722 | Time: 154.18 seconds\n",
      "Epoch: 20 | Train Loss: 0.10226 | Valid Loss: 0.02270 | Train Accs: 0.96186 | Valid Accs: 0.99306 | Time: 152.21 seconds\n",
      "Epoch: 21 | Train Loss: 0.08699 | Valid Loss: 0.02208 | Train Accs: 0.96787 | Valid Accs: 0.99583 | Time: 152.66 seconds\n",
      "Epoch: 22 | Train Loss: 0.09201 | Valid Loss: 0.02576 | Train Accs: 0.96988 | Valid Accs: 0.99028 | Time: 151.20 seconds\n",
      "Epoch: 23 | Train Loss: 0.08667 | Valid Loss: 0.02029 | Train Accs: 0.97316 | Valid Accs: 0.99306 | Time: 149.18 seconds\n",
      "Epoch: 24 | Train Loss: 0.07248 | Valid Loss: 0.02039 | Train Accs: 0.98013 | Valid Accs: 0.99444 | Time: 152.34 seconds\n",
      "\n",
      "Early Stopping at Epoch 25\n",
      "\n",
      "**************************************************\n",
      "\n",
      "Best Validation Loss at Epoch 19\n",
      "\n",
      "**************************************************\n",
      "\n",
      "Best Validation Accs at Epoch 19\n",
      "\n",
      "**************************************************\n",
      "\n",
      "Time Taken [25 Epochs] : 64.17 minutes\n",
      "\n",
      "**************************************************\n",
      "\n"
     ]
    },
    {
     "data": {
      "image/png": "[encoded data removed]",
      "text/plain": [
       "<Figure size 432x288 with 1 Axes>"
      ]
     },
     "metadata": {
      "needs_background": "light"
     },
     "output_type": "display_data"
    },
    {
     "name": "stdout",
     "output_type": "stream",
     "text": [
      "\n",
      "**************************************************\n",
      "\n"
     ]
    },
    {
     "data": {
      "image/png": "[encoded data removed]",
      "text/plain": [
       "<Figure size 432x288 with 1 Axes>"
      ]
     },
     "metadata": {
      "needs_background": "light"
     },
     "output_type": "display_data"
    },
    {
     "name": "stdout",
     "output_type": "stream",
     "text": [
      "\n",
      "**************************************************\n",
      "\n",
      "\n",
      "**************************************************\n",
      "\n",
      "Training Fold 2...\n",
      "\n",
      "**************************************************\n",
      "\n",
      "Epoch: 1 | Train Loss: 1.34273 | Valid Loss: 1.28933 | Train Accs: 0.51629 | Valid Accs: 0.81528 | Time: 151.25 seconds\n",
      "Epoch: 2 | Train Loss: 1.23144 | Valid Loss: 1.12801 | Train Accs: 0.82360 | Valid Accs: 0.95833 | Time: 152.05 seconds\n",
      "Epoch: 3 | Train Loss: 1.02935 | Valid Loss: 0.83379 | Train Accs: 0.89336 | Valid Accs: 0.97917 | Time: 151.51 seconds\n",
      "Epoch: 4 | Train Loss: 0.73934 | Valid Loss: 0.49530 | Train Accs: 0.90607 | Valid Accs: 0.98056 | Time: 152.37 seconds\n",
      "Epoch: 5 | Train Loss: 0.47500 | Valid Loss: 0.24680 | Train Accs: 0.92539 | Valid Accs: 0.98889 | Time: 151.56 seconds\n",
      "Epoch: 6 | Train Loss: 0.30840 | Valid Loss: 0.12094 | Train Accs: 0.93432 | Valid Accs: 0.98889 | Time: 150.95 seconds\n",
      "Epoch: 7 | Train Loss: 0.23210 | Valid Loss: 0.07586 | Train Accs: 0.93750 | Valid Accs: 0.99167 | Time: 154.36 seconds\n",
      "Epoch: 8 | Train Loss: 0.18397 | Valid Loss: 0.05056 | Train Accs: 0.94492 | Valid Accs: 0.99028 | Time: 151.52 seconds\n",
      "Epoch: 9 | Train Loss: 0.15226 | Valid Loss: 0.04236 | Train Accs: 0.95374 | Valid Accs: 0.99444 | Time: 152.18 seconds\n",
      "Epoch: 10 | Train Loss: 0.13929 | Valid Loss: 0.03562 | Train Accs: 0.96010 | Valid Accs: 0.99306 | Time: 150.83 seconds\n",
      "Epoch: 11 | Train Loss: 0.13665 | Valid Loss: 0.02995 | Train Accs: 0.95657 | Valid Accs: 0.99722 | Time: 152.90 seconds\n",
      "Epoch: 12 | Train Loss: 0.12769 | Valid Loss: 0.02849 | Train Accs: 0.95798 | Valid Accs: 0.99444 | Time: 152.71 seconds\n",
      "Epoch: 13 | Train Loss: 0.11279 | Valid Loss: 0.02760 | Train Accs: 0.96494 | Valid Accs: 0.99306 | Time: 152.78 seconds\n",
      "Epoch: 14 | Train Loss: 0.11330 | Valid Loss: 0.02478 | Train Accs: 0.96363 | Valid Accs: 0.99583 | Time: 151.66 seconds\n",
      "Epoch: 15 | Train Loss: 0.11247 | Valid Loss: 0.02023 | Train Accs: 0.96070 | Valid Accs: 0.99861 | Time: 151.15 seconds\n",
      "Epoch: 16 | Train Loss: 0.11624 | Valid Loss: 0.02324 | Train Accs: 0.95939 | Valid Accs: 0.99444 | Time: 149.08 seconds\n",
      "Epoch: 17 | Train Loss: 0.11782 | Valid Loss: 0.02025 | Train Accs: 0.95939 | Valid Accs: 0.99861 | Time: 149.96 seconds\n",
      "Epoch: 18 | Train Loss: 0.09716 | Valid Loss: 0.02087 | Train Accs: 0.96857 | Valid Accs: 0.99444 | Time: 148.59 seconds\n",
      "Epoch: 19 | Train Loss: 0.10826 | Valid Loss: 0.02058 | Train Accs: 0.96292 | Valid Accs: 0.99444 | Time: 148.78 seconds\n",
      "Epoch: 20 | Train Loss: 0.09130 | Valid Loss: 0.01823 | Train Accs: 0.96716 | Valid Accs: 0.99583 | Time: 150.16 seconds\n",
      "Epoch: 21 | Train Loss: 0.09411 | Valid Loss: 0.02045 | Train Accs: 0.96635 | Valid Accs: 0.99722 | Time: 150.39 seconds\n",
      "Epoch: 22 | Train Loss: 0.09565 | Valid Loss: 0.01969 | Train Accs: 0.96469 | Valid Accs: 0.99583 | Time: 149.37 seconds\n",
      "Epoch: 23 | Train Loss: 0.07903 | Valid Loss: 0.01637 | Train Accs: 0.97210 | Valid Accs: 0.99444 | Time: 152.16 seconds\n",
      "Epoch: 24 | Train Loss: 0.08331 | Valid Loss: 0.01433 | Train Accs: 0.97316 | Valid Accs: 0.99722 | Time: 151.65 seconds\n",
      "Epoch: 25 | Train Loss: 0.08522 | Valid Loss: 0.01515 | Train Accs: 0.96999 | Valid Accs: 0.99722 | Time: 151.25 seconds\n",
      "\n",
      "**************************************************\n",
      "\n",
      "Best Validation Loss at Epoch 24\n",
      "\n",
      "**************************************************\n",
      "\n",
      "Best Validation Accs at Epoch 15\n",
      "\n",
      "**************************************************\n",
      "\n",
      "Time Taken [25 Epochs] : 63.02 minutes\n",
      "\n",
      "**************************************************\n",
      "\n"
     ]
    },
    {
     "data": {
      "image/png": "[encoded data removed]",
      "text/plain": [
       "<Figure size 432x288 with 1 Axes>"
      ]
     },
     "metadata": {
      "needs_background": "light"
     },
     "output_type": "display_data"
    },
    {
     "name": "stdout",
     "output_type": "stream",
     "text": [
      "\n",
      "**************************************************\n",
      "\n"
     ]
    },
    {
     "data": {
      "image/png": "[encoded data removed]",
      "text/plain": [
       "<Figure size 432x288 with 1 Axes>"
      ]
     },
     "metadata": {
      "needs_background": "light"
     },
     "output_type": "display_data"
    },
    {
     "name": "stdout",
     "output_type": "stream",
     "text": [
      "\n",
      "**************************************************\n",
      "\n",
      "\n",
      "**************************************************\n",
      "\n",
      "Training Fold 3...\n",
      "\n",
      "**************************************************\n",
      "\n",
      "Epoch: 1 | Train Loss: 1.34370 | Valid Loss: 1.29109 | Train Accs: 0.50570 | Valid Accs: 0.80972 | Time: 151.27 seconds\n",
      "Epoch: 2 | Train Loss: 1.23140 | Valid Loss: 1.12847 | Train Accs: 0.82183 | Valid Accs: 0.95417 | Time: 151.76 seconds\n",
      "Epoch: 3 | Train Loss: 1.03142 | Valid Loss: 0.82717 | Train Accs: 0.88938 | Valid Accs: 0.97639 | Time: 152.16 seconds\n",
      "Epoch: 4 | Train Loss: 0.74384 | Valid Loss: 0.48556 | Train Accs: 0.90950 | Valid Accs: 0.98056 | Time: 153.16 seconds\n",
      "Epoch: 5 | Train Loss: 0.47237 | Valid Loss: 0.24620 | Train Accs: 0.92620 | Valid Accs: 0.98889 | Time: 152.50 seconds\n",
      "Epoch: 6 | Train Loss: 0.31354 | Valid Loss: 0.12198 | Train Accs: 0.93256 | Valid Accs: 0.98889 | Time: 151.22 seconds\n",
      "Epoch: 7 | Train Loss: 0.23742 | Valid Loss: 0.07808 | Train Accs: 0.93256 | Valid Accs: 0.99306 | Time: 151.59 seconds\n",
      "Epoch: 8 | Train Loss: 0.17709 | Valid Loss: 0.05571 | Train Accs: 0.94739 | Valid Accs: 0.98750 | Time: 151.42 seconds\n",
      "Epoch: 9 | Train Loss: 0.16401 | Valid Loss: 0.04871 | Train Accs: 0.94587 | Valid Accs: 0.98750 | Time: 151.79 seconds\n",
      "Epoch: 10 | Train Loss: 0.14523 | Valid Loss: 0.04484 | Train Accs: 0.95586 | Valid Accs: 0.98750 | Time: 151.48 seconds\n",
      "Epoch: 11 | Train Loss: 0.13583 | Valid Loss: 0.04079 | Train Accs: 0.95727 | Valid Accs: 0.98750 | Time: 150.89 seconds\n",
      "Epoch: 12 | Train Loss: 0.14395 | Valid Loss: 0.03364 | Train Accs: 0.95127 | Valid Accs: 0.99306 | Time: 151.02 seconds\n",
      "Epoch: 13 | Train Loss: 0.12465 | Valid Loss: 0.03442 | Train Accs: 0.95551 | Valid Accs: 0.99167 | Time: 149.37 seconds\n",
      "Epoch: 14 | Train Loss: 0.11945 | Valid Loss: 0.03373 | Train Accs: 0.96081 | Valid Accs: 0.99028 | Time: 150.47 seconds\n",
      "Epoch: 15 | Train Loss: 0.11246 | Valid Loss: 0.03317 | Train Accs: 0.96540 | Valid Accs: 0.99167 | Time: 152.25 seconds\n",
      "Epoch: 16 | Train Loss: 0.10900 | Valid Loss: 0.03255 | Train Accs: 0.96540 | Valid Accs: 0.99167 | Time: 151.84 seconds\n",
      "Epoch: 17 | Train Loss: 0.10289 | Valid Loss: 0.03365 | Train Accs: 0.96706 | Valid Accs: 0.98889 | Time: 150.54 seconds\n",
      "Epoch: 18 | Train Loss: 0.10547 | Valid Loss: 0.03366 | Train Accs: 0.96540 | Valid Accs: 0.99028 | Time: 151.37 seconds\n",
      "Epoch: 19 | Train Loss: 0.09396 | Valid Loss: 0.03069 | Train Accs: 0.96928 | Valid Accs: 0.99306 | Time: 151.89 seconds\n",
      "Epoch: 20 | Train Loss: 0.09376 | Valid Loss: 0.03227 | Train Accs: 0.97034 | Valid Accs: 0.99167 | Time: 150.84 seconds\n",
      "Epoch: 21 | Train Loss: 0.10891 | Valid Loss: 0.03223 | Train Accs: 0.96555 | Valid Accs: 0.99167 | Time: 149.94 seconds\n",
      "Epoch: 22 | Train Loss: 0.09456 | Valid Loss: 0.03383 | Train Accs: 0.96565 | Valid Accs: 0.99167 | Time: 149.34 seconds\n",
      "Epoch: 23 | Train Loss: 0.07748 | Valid Loss: 0.03112 | Train Accs: 0.97448 | Valid Accs: 0.99306 | Time: 151.20 seconds\n",
      "Epoch: 24 | Train Loss: 0.09132 | Valid Loss: 0.03042 | Train Accs: 0.96963 | Valid Accs: 0.99167 | Time: 152.95 seconds\n",
      "Epoch: 25 | Train Loss: 0.08466 | Valid Loss: 0.03171 | Train Accs: 0.97105 | Valid Accs: 0.99306 | Time: 152.11 seconds\n",
      "\n",
      "**************************************************\n",
      "\n",
      "Best Validation Loss at Epoch 24\n",
      "\n",
      "**************************************************\n",
      "\n",
      "Best Validation Accs at Epoch 7\n",
      "\n",
      "**************************************************\n",
      "\n",
      "Time Taken [25 Epochs] : 63.07 minutes\n",
      "\n",
      "**************************************************\n",
      "\n"
     ]
    },
    {
     "data": {
      "image/png": "[encoded data removed]",
      "text/plain": [
       "<Figure size 432x288 with 1 Axes>"
      ]
     },
     "metadata": {
      "needs_background": "light"
     },
     "output_type": "display_data"
    },
    {
     "name": "stdout",
     "output_type": "stream",
     "text": [
      "\n",
      "**************************************************\n",
      "\n"
     ]
    },
    {
     "data": {
      "image/png": "[encoded data removed]",
      "text/plain": [
       "<Figure size 432x288 with 1 Axes>"
      ]
     },
     "metadata": {
      "needs_background": "light"
     },
     "output_type": "display_data"
    },
    {
     "name": "stdout",
     "output_type": "stream",
     "text": [
      "\n",
      "**************************************************\n",
      "\n",
      "\n",
      "**************************************************\n",
      "\n",
      "Training Fold 4...\n",
      "\n",
      "**************************************************\n",
      "\n",
      "Epoch: 1 | Train Loss: 1.34316 | Valid Loss: 1.29231 | Train Accs: 0.51276 | Valid Accs: 0.80694 | Time: 152.97 seconds\n",
      "Epoch: 2 | Train Loss: 1.23141 | Valid Loss: 1.12949 | Train Accs: 0.83016 | Valid Accs: 0.96250 | Time: 153.54 seconds\n",
      "Epoch: 3 | Train Loss: 1.02706 | Valid Loss: 0.83260 | Train Accs: 0.89018 | Valid Accs: 0.97639 | Time: 153.72 seconds\n",
      "Epoch: 4 | Train Loss: 0.73484 | Valid Loss: 0.49492 | Train Accs: 0.91046 | Valid Accs: 0.98333 | Time: 153.39 seconds\n",
      "Epoch: 5 | Train Loss: 0.47619 | Valid Loss: 0.25001 | Train Accs: 0.92408 | Valid Accs: 0.98750 | Time: 153.54 seconds\n",
      "Epoch: 6 | Train Loss: 0.30648 | Valid Loss: 0.12667 | Train Accs: 0.93609 | Valid Accs: 0.98611 | Time: 155.06 seconds\n",
      "Epoch: 7 | Train Loss: 0.23268 | Valid Loss: 0.07585 | Train Accs: 0.93927 | Valid Accs: 0.99167 | Time: 156.65 seconds\n",
      "Epoch: 8 | Train Loss: 0.18657 | Valid Loss: 0.05568 | Train Accs: 0.94411 | Valid Accs: 0.99028 | Time: 154.20 seconds\n",
      "Epoch: 9 | Train Loss: 0.15789 | Valid Loss: 0.04168 | Train Accs: 0.94951 | Valid Accs: 0.99028 | Time: 153.18 seconds\n",
      "Epoch: 10 | Train Loss: 0.15775 | Valid Loss: 0.03539 | Train Accs: 0.94986 | Valid Accs: 0.99167 | Time: 153.51 seconds\n",
      "Epoch: 11 | Train Loss: 0.12750 | Valid Loss: 0.03244 | Train Accs: 0.96151 | Valid Accs: 0.99167 | Time: 152.45 seconds\n",
      "Epoch: 12 | Train Loss: 0.14557 | Valid Loss: 0.03153 | Train Accs: 0.94880 | Valid Accs: 0.99167 | Time: 153.56 seconds\n",
      "Epoch: 13 | Train Loss: 0.12178 | Valid Loss: 0.02824 | Train Accs: 0.95823 | Valid Accs: 0.99444 | Time: 154.54 seconds\n",
      "Epoch: 14 | Train Loss: 0.12359 | Valid Loss: 0.02606 | Train Accs: 0.96000 | Valid Accs: 0.99306 | Time: 153.94 seconds\n",
      "Epoch: 15 | Train Loss: 0.10041 | Valid Loss: 0.02368 | Train Accs: 0.96575 | Valid Accs: 0.99444 | Time: 152.34 seconds\n",
      "Epoch: 16 | Train Loss: 0.11474 | Valid Loss: 0.02350 | Train Accs: 0.96151 | Valid Accs: 0.99306 | Time: 152.22 seconds\n",
      "Epoch: 17 | Train Loss: 0.09795 | Valid Loss: 0.02309 | Train Accs: 0.96540 | Valid Accs: 0.99306 | Time: 151.64 seconds\n",
      "Epoch: 18 | Train Loss: 0.10162 | Valid Loss: 0.02352 | Train Accs: 0.96565 | Valid Accs: 0.99167 | Time: 151.56 seconds\n",
      "Epoch: 19 | Train Loss: 0.10633 | Valid Loss: 0.02221 | Train Accs: 0.96398 | Valid Accs: 0.99583 | Time: 153.62 seconds\n",
      "Epoch: 20 | Train Loss: 0.09063 | Valid Loss: 0.02264 | Train Accs: 0.96963 | Valid Accs: 0.99583 | Time: 151.86 seconds\n",
      "Epoch: 21 | Train Loss: 0.09138 | Valid Loss: 0.02047 | Train Accs: 0.96847 | Valid Accs: 0.99583 | Time: 152.05 seconds\n",
      "Epoch: 22 | Train Loss: 0.10472 | Valid Loss: 0.02210 | Train Accs: 0.96494 | Valid Accs: 0.99583 | Time: 150.45 seconds\n",
      "Epoch: 23 | Train Loss: 0.08569 | Valid Loss: 0.02044 | Train Accs: 0.97069 | Valid Accs: 0.99722 | Time: 152.88 seconds\n",
      "Epoch: 24 | Train Loss: 0.07406 | Valid Loss: 0.01873 | Train Accs: 0.97669 | Valid Accs: 0.99722 | Time: 152.44 seconds\n",
      "Epoch: 25 | Train Loss: 0.08872 | Valid Loss: 0.02050 | Train Accs: 0.97034 | Valid Accs: 0.99444 | Time: 150.71 seconds\n",
      "\n",
      "**************************************************\n",
      "\n",
      "Best Validation Loss at Epoch 24\n",
      "\n",
      "**************************************************\n",
      "\n",
      "Best Validation Accs at Epoch 23\n",
      "\n",
      "**************************************************\n",
      "\n",
      "Time Taken [25 Epochs] : 63.77 minutes\n",
      "\n",
      "**************************************************\n",
      "\n"
     ]
    },
    {
     "data": {
      "image/png": "[encoded data removed]",
      "text/plain": [
       "<Figure size 432x288 with 1 Axes>"
      ]
     },
     "metadata": {
      "needs_background": "light"
     },
     "output_type": "display_data"
    },
    {
     "name": "stdout",
     "output_type": "stream",
     "text": [
      "\n",
      "**************************************************\n",
      "\n"
     ]
    },
    {
     "data": {
      "image/png": "[encoded data removed]",
      "text/plain": [
       "<Figure size 432x288 with 1 Axes>"
      ]
     },
     "metadata": {
      "needs_background": "light"
     },
     "output_type": "display_data"
    },
    {
     "name": "stdout",
     "output_type": "stream",
     "text": [
      "\n",
      "**************************************************\n",
      "\n",
      "\n",
      "**************************************************\n",
      "\n",
      "Training Fold 5...\n",
      "\n",
      "**************************************************\n",
      "\n",
      "Epoch: 1 | Train Loss: 1.34452 | Valid Loss: 1.28864 | Train Accs: 0.49258 | Valid Accs: 0.80278 | Time: 151.62 seconds\n",
      "Epoch: 2 | Train Loss: 1.23240 | Valid Loss: 1.12514 | Train Accs: 0.81674 | Valid Accs: 0.97222 | Time: 151.28 seconds\n",
      "Epoch: 3 | Train Loss: 1.02565 | Valid Loss: 0.82306 | Train Accs: 0.90395 | Valid Accs: 0.98056 | Time: 151.59 seconds\n",
      "Epoch: 4 | Train Loss: 0.72884 | Valid Loss: 0.47396 | Train Accs: 0.91879 | Valid Accs: 0.98333 | Time: 152.05 seconds\n",
      "Epoch: 5 | Train Loss: 0.47151 | Valid Loss: 0.23620 | Train Accs: 0.92620 | Valid Accs: 0.98333 | Time: 150.93 seconds\n",
      "Epoch: 6 | Train Loss: 0.29127 | Valid Loss: 0.12285 | Train Accs: 0.93891 | Valid Accs: 0.98472 | Time: 152.06 seconds\n",
      "Epoch: 7 | Train Loss: 0.21348 | Valid Loss: 0.07439 | Train Accs: 0.94315 | Valid Accs: 0.99028 | Time: 153.48 seconds\n",
      "Epoch: 8 | Train Loss: 0.17900 | Valid Loss: 0.05841 | Train Accs: 0.94562 | Valid Accs: 0.98889 | Time: 151.86 seconds\n",
      "Epoch: 9 | Train Loss: 0.16395 | Valid Loss: 0.04726 | Train Accs: 0.94597 | Valid Accs: 0.99028 | Time: 153.24 seconds\n",
      "Epoch: 10 | Train Loss: 0.14248 | Valid Loss: 0.04331 | Train Accs: 0.95339 | Valid Accs: 0.99167 | Time: 153.29 seconds\n",
      "Epoch: 11 | Train Loss: 0.13360 | Valid Loss: 0.03794 | Train Accs: 0.95516 | Valid Accs: 0.99306 | Time: 153.29 seconds\n",
      "Epoch: 12 | Train Loss: 0.12053 | Valid Loss: 0.03720 | Train Accs: 0.95798 | Valid Accs: 0.99306 | Time: 152.02 seconds\n",
      "Epoch: 13 | Train Loss: 0.11542 | Valid Loss: 0.03397 | Train Accs: 0.96398 | Valid Accs: 0.99306 | Time: 153.78 seconds\n",
      "Epoch: 14 | Train Loss: 0.11443 | Valid Loss: 0.03200 | Train Accs: 0.96186 | Valid Accs: 0.99167 | Time: 154.33 seconds\n",
      "Epoch: 15 | Train Loss: 0.10855 | Valid Loss: 0.03371 | Train Accs: 0.96328 | Valid Accs: 0.99167 | Time: 155.03 seconds\n",
      "Epoch: 16 | Train Loss: 0.10807 | Valid Loss: 0.03606 | Train Accs: 0.96081 | Valid Accs: 0.99167 | Time: 151.47 seconds\n",
      "Epoch: 17 | Train Loss: 0.10280 | Valid Loss: 0.02932 | Train Accs: 0.96610 | Valid Accs: 0.99306 | Time: 151.87 seconds\n",
      "Epoch: 18 | Train Loss: 0.11850 | Valid Loss: 0.02949 | Train Accs: 0.95763 | Valid Accs: 0.99167 | Time: 151.59 seconds\n",
      "Epoch: 19 | Train Loss: 0.08648 | Valid Loss: 0.02824 | Train Accs: 0.97175 | Valid Accs: 0.99306 | Time: 151.72 seconds\n",
      "Epoch: 20 | Train Loss: 0.08571 | Valid Loss: 0.02679 | Train Accs: 0.97140 | Valid Accs: 0.99306 | Time: 151.76 seconds\n",
      "Epoch: 21 | Train Loss: 0.08595 | Valid Loss: 0.02836 | Train Accs: 0.96822 | Valid Accs: 0.99167 | Time: 149.68 seconds\n",
      "Epoch: 22 | Train Loss: 0.09222 | Valid Loss: 0.02869 | Train Accs: 0.96857 | Valid Accs: 0.99306 | Time: 150.19 seconds\n",
      "Epoch: 23 | Train Loss: 0.09681 | Valid Loss: 0.03104 | Train Accs: 0.96787 | Valid Accs: 0.99028 | Time: 150.45 seconds\n",
      "Epoch: 24 | Train Loss: 0.07985 | Valid Loss: 0.02918 | Train Accs: 0.97140 | Valid Accs: 0.99167 | Time: 149.95 seconds\n",
      "Epoch: 25 | Train Loss: 0.07348 | Valid Loss: 0.02487 | Train Accs: 0.97669 | Valid Accs: 0.99306 | Time: 152.15 seconds\n",
      "\n",
      "**************************************************\n",
      "\n",
      "Best Validation Loss at Epoch 25\n",
      "\n",
      "**************************************************\n",
      "\n",
      "Best Validation Accs at Epoch 11\n",
      "\n",
      "**************************************************\n",
      "\n",
      "Time Taken [25 Epochs] : 63.34 minutes\n",
      "\n",
      "**************************************************\n",
      "\n"
     ]
    },
    {
     "data": {
      "image/png": "[encoded data removed]",
      "text/plain": [
       "<Figure size 432x288 with 1 Axes>"
      ]
     },
     "metadata": {
      "needs_background": "light"
     },
     "output_type": "display_data"
    },
    {
     "name": "stdout",
     "output_type": "stream",
     "text": [
      "\n",
      "**************************************************\n",
      "\n"
     ]
    },
    {
     "data": {
      "image/png": "[encoded data removed]",
      "text/plain": [
       "<Figure size 432x288 with 1 Axes>"
      ]
     },
     "metadata": {
      "needs_background": "light"
     },
     "output_type": "display_data"
    },
    {
     "name": "stdout",
     "output_type": "stream",
     "text": [
      "\n",
      "**************************************************\n",
      "\n"
     ]
    }
   ],
   "source": [
    "fold: int = 1\n",
    "BLs: list = []\n",
    "BAs: list = []\n",
    "    \n",
    "for tr_idx, va_idx in StratifiedKFold(n_splits=cfg.n_splits, random_state=cfg.seed, shuffle=True).split(filepaths, labels):\n",
    "\n",
    "    tr_filepaths, va_filepaths = filepaths[tr_idx], filepaths[va_idx] \n",
    "    tr_labels, va_labels       = labels[tr_idx], labels[va_idx]\n",
    "    \n",
    "    tr_data_setup = DS(\n",
    "        filepaths=tr_filepaths, \n",
    "        labels=tr_labels.reshape(-1, 1),\n",
    "        size=cfg.size,\n",
    "        transform=cfg.train_transform\n",
    "    )\n",
    "    \n",
    "    va_data_setup = DS(\n",
    "        filepaths=va_filepaths, \n",
    "        labels=va_labels.reshape(-1, 1),\n",
    "        size=cfg.size,\n",
    "        transform=cfg.valid_transform\n",
    "    )\n",
    "\n",
    "    dataloaders = {\n",
    "        \"train\" : DL(tr_data_setup, batch_size=cfg.batch_size, shuffle=True, generator=torch.manual_seed(cfg.seed)),\n",
    "        \"valid\" : DL(va_data_setup, batch_size=cfg.batch_size, shuffle=False),\n",
    "    }\n",
    "\n",
    "    cfg = CFG(\n",
    "        size=SIZE,\n",
    "        lr=1e-5,\n",
    "        wd=1e-6,\n",
    "        epochs=25, \n",
    "        batch_size=16, \n",
    "        early_stopping=5,\n",
    "        steps_per_epoch=len(dataloaders[\"train\"])\n",
    "    )\n",
    "    \n",
    "    torch.manual_seed(cfg.seed)\n",
    "    model = Model().to(cfg.device)\n",
    "\n",
    "    optimizer = optim.Adam([p for p in model.parameters() if p.requires_grad], lr=cfg.lr, weight_decay=cfg.wd)\n",
    "    # optimizer = optim.AdamW([p for p in model.parameters() if p.requires_grad], lr=cfg.lr, weight_decay=cfg.wd)\n",
    "    # optimizer = optim.SGD([p for p in model.parameters() if p.requires_grad], lr=cfg.lr, weight_decay=cfg.wd, momentum=0.9)\n",
    "    \n",
    "    # scheduler_oclr = optim.lr_scheduler.OneCycleLR(\n",
    "    #     optimizer=optimizer, \n",
    "    #     max_lr=cfg.max_lr, \n",
    "    #     epochs=cfg.epochs, \n",
    "    #     steps_per_epoch=cfg.steps_per_epoch,\n",
    "    #     pct_start=cfg.pct_start, \n",
    "    #     div_factor=cfg.div_factor, \n",
    "    #     final_div_factor=cfg.final_div_factor\n",
    "    # )\n",
    "\n",
    "    # scheduler_rlrop = optim.lr_scheduler.ReduceLROnPlateau(\n",
    "    #     optimizer=optimizer,\n",
    "    #     patience=cfg.patience,\n",
    "    #     eps=cfg.eps,\n",
    "    #     verbose=True\n",
    "    # )\n",
    "\n",
    "    scheduler_oclr = None\n",
    "    scheduler_rlrop = None\n",
    "    \n",
    "    L, A, LR, BL, BA, _, _, _, _ = fit(\n",
    "        model=model, \n",
    "        optimizer=optimizer, \n",
    "        scheduler_oclr=scheduler_oclr,\n",
    "        scheduler_rlrop=scheduler_rlrop,\n",
    "        epochs=cfg.epochs, \n",
    "        early_stopping_patience=cfg.early_stopping, \n",
    "        dataloaders=dataloaders, \n",
    "        device=cfg.device,\n",
    "        save_path=cfg.save_path,\n",
    "        fold=fold,\n",
    "        verbose=True\n",
    "    )\n",
    "    \n",
    "    breaker()\n",
    "    show_loss_graphs(L)\n",
    "    breaker()\n",
    "    show_accuracy_graphs(A)\n",
    "    breaker()\n",
    "    if scheduler_oclr:\n",
    "        show_lr_graph(LR)\n",
    "        breaker()\n",
    "    \n",
    "    BLs.append(BL)\n",
    "    BAs.append(BA)\n",
    "    \n",
    "    fold += 1"
   ]
  },
  {
   "cell_type": "markdown",
   "id": "23081235",
   "metadata": {
    "papermill": {
     "duration": 0.014204,
     "end_time": "2022-09-29T12:55:32.210847",
     "exception": false,
     "start_time": "2022-09-29T12:55:32.196643",
     "status": "completed"
    },
    "tags": []
   },
   "source": [
    "### **Best Model**"
   ]
  },
  {
   "cell_type": "code",
   "execution_count": 11,
   "id": "00f82186",
   "metadata": {
    "execution": {
     "iopub.execute_input": "2022-09-29T12:55:32.300118Z",
     "iopub.status.busy": "2022-09-29T12:55:32.299775Z",
     "iopub.status.idle": "2022-09-29T12:55:32.307092Z",
     "shell.execute_reply": "2022-09-29T12:55:32.306167Z"
    },
    "papermill": {
     "duration": 0.024526,
     "end_time": "2022-09-29T12:55:32.309412",
     "exception": false,
     "start_time": "2022-09-29T12:55:32.284886",
     "status": "completed"
    },
    "tags": []
   },
   "outputs": [
    {
     "name": "stdout",
     "output_type": "stream",
     "text": [
      "\n",
      "**************************************************\n",
      "\n",
      "Best Loss Model Fold     : 2\n",
      "Best Accuracy Model Fold : 2\n",
      "\n",
      "**************************************************\n",
      "\n"
     ]
    }
   ],
   "source": [
    "BL = np.inf\n",
    "for i in range(len(BLs)):\n",
    "    if BLs[i][\"valid\"] < BL:\n",
    "        BL = BLs[i][\"valid\"]\n",
    "        best_loss_index = i\n",
    "\n",
    "        \n",
    "BA = 0.0\n",
    "for i in range(len(BAs)):\n",
    "    if BAs[i][\"valid\"] > BA:\n",
    "        BA = BAs[i][\"valid\"]\n",
    "        best_accs_index = i\n",
    "\n",
    "\n",
    "breaker()\n",
    "print(f\"Best Loss Model Fold     : {best_loss_index + 1}\")\n",
    "print(f\"Best Accuracy Model Fold : {best_accs_index + 1}\")\n",
    "breaker()"
   ]
  },
  {
   "cell_type": "markdown",
   "id": "6a0e434f",
   "metadata": {
    "papermill": {
     "duration": 0.013712,
     "end_time": "2022-09-29T12:55:32.336720",
     "exception": false,
     "start_time": "2022-09-29T12:55:32.323008",
     "status": "completed"
    },
    "tags": []
   },
   "source": [
    "### **Submit**"
   ]
  },
  {
   "cell_type": "code",
   "execution_count": 12,
   "id": "3ddc0255",
   "metadata": {
    "execution": {
     "iopub.execute_input": "2022-09-29T12:55:32.365803Z",
     "iopub.status.busy": "2022-09-29T12:55:32.365532Z",
     "iopub.status.idle": "2022-09-29T12:55:32.370050Z",
     "shell.execute_reply": "2022-09-29T12:55:32.369092Z"
    },
    "papermill": {
     "duration": 0.021353,
     "end_time": "2022-09-29T12:55:32.372084",
     "exception": false,
     "start_time": "2022-09-29T12:55:32.350731",
     "status": "completed"
    },
    "tags": []
   },
   "outputs": [],
   "source": [
    "# torch.manual_seed(cfg.seed)\n",
    "# model = Model().to(cfg.device)\n",
    "\n",
    "# ss_df = pd.read_csv(\"../input/4-animal-classification/Sample_submission.csv\")\n",
    "# ts_filenames = ss_df[\"ID\"]\n",
    "\n",
    "# ts_data_setup = DS(\n",
    "#     base_path=\"../input/4-animal-classification/test/test\", \n",
    "#     filenames=ts_filenames, \n",
    "#     size=cfg.size,\n",
    "#     transform=cfg.valid_transform,\n",
    "# )\n",
    "# ts_data = DL(ts_data_setup, batch_size=cfg.batch_size, shuffle=False)\n",
    "\n",
    "# y_pred = predict_batch(\n",
    "#     model=model,\n",
    "#     dataloader=ts_data,\n",
    "#     path=\"\",\n",
    "#     device=cfg.device\n",
    "# )\n",
    "\n",
    "# ss_df[\"Label\"] = y_pred.astype(\"uint8\")\n",
    "# ss_df.to_csv(\"submission.csv\", index=False)"
   ]
  }
 ],
 "metadata": {
  "kernelspec": {
   "display_name": "Python 3",
   "language": "python",
   "name": "python3"
  },
  "language_info": {
   "codemirror_mode": {
    "name": "ipython",
    "version": 3
   },
   "file_extension": ".py",
   "mimetype": "text/x-python",
   "name": "python",
   "nbconvert_exporter": "python",
   "pygments_lexer": "ipython3",
   "version": "3.7.12"
  },
  "papermill": {
   "default_parameters": {},
   "duration": 19075.988842,
   "end_time": "2022-09-29T12:55:34.140761",
   "environment_variables": {},
   "exception": null,
   "input_path": "__notebook__.ipynb",
   "output_path": "__notebook__.ipynb",
   "parameters": {},
   "start_time": "2022-09-29T07:37:38.151919",
   "version": "2.3.4"
  }
 },
 "nbformat": 4,
 "nbformat_minor": 5
}
